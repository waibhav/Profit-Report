{
 "cells": [
  {
   "cell_type": "markdown",
   "metadata": {
    "application/vnd.databricks.v1+cell": {
     "cellMetadata": {},
     "inputWidgets": {},
     "nuid": "620c306e-4be7-484b-9502-d3114bd7e596",
     "showTitle": false,
     "title": ""
    }
   },
   "source": [
    "Create Databases"
   ]
  },
  {
   "cell_type": "code",
   "execution_count": 0,
   "metadata": {
    "application/vnd.databricks.v1+cell": {
     "cellMetadata": {
      "byteLimit": 2048000,
      "implicitDf": true,
      "rowLimit": 10000
     },
     "inputWidgets": {},
     "nuid": "c506ce8d-14f3-41c1-8116-e3d4921effee",
     "showTitle": false,
     "title": ""
    }
   },
   "outputs": [
    {
     "output_type": "display_data",
     "data": {
      "text/html": [
       "<style scoped>\n",
       "  .table-result-container {\n",
       "    max-height: 300px;\n",
       "    overflow: auto;\n",
       "  }\n",
       "  table, th, td {\n",
       "    border: 1px solid black;\n",
       "    border-collapse: collapse;\n",
       "  }\n",
       "  th, td {\n",
       "    padding: 5px;\n",
       "  }\n",
       "  th {\n",
       "    text-align: left;\n",
       "  }\n",
       "</style><div class='table-result-container'><table class='table-result'><thead style='background-color: white'><tr></tr></thead><tbody></tbody></table></div>"
      ]
     },
     "metadata": {
      "application/vnd.databricks.v1+output": {
       "addedWidgets": {},
       "aggData": [],
       "aggError": "",
       "aggOverflow": false,
       "aggSchema": [],
       "aggSeriesLimitReached": false,
       "aggType": "",
       "arguments": {},
       "columnCustomDisplayInfos": {},
       "data": [],
       "datasetInfos": [],
       "dbfsResultPath": null,
       "isJsonSchema": true,
       "metadata": {},
       "overflow": false,
       "plotOptions": {
        "customPlotOptions": {},
        "displayType": "table",
        "pivotAggregation": null,
        "pivotColumns": null,
        "xColumns": null,
        "yColumns": null
       },
       "removedWidgets": [],
       "schema": [],
       "type": "table"
      }
     },
     "output_type": "display_data"
    }
   ],
   "source": [
    "%sql\n",
    "--- Create bronze, silver and gold layers\n",
    "CREATE DATABASE IF NOT EXISTS raw;\n",
    "CREATE DATABASE IF NOT EXISTS enriched;\n",
    "CREATE DATABASE IF NOT EXISTS presentation;"
   ]
  },
  {
   "cell_type": "markdown",
   "metadata": {
    "application/vnd.databricks.v1+cell": {
     "cellMetadata": {},
     "inputWidgets": {},
     "nuid": "a859a3ec-6d06-452a-9fe6-6482d1c51671",
     "showTitle": false,
     "title": ""
    }
   },
   "source": [
    "Define required functions"
   ]
  },
  {
   "cell_type": "code",
   "execution_count": 0,
   "metadata": {
    "application/vnd.databricks.v1+cell": {
     "cellMetadata": {},
     "inputWidgets": {},
     "nuid": "95d4bc75-ebd7-4b1d-b736-b2b9c374d652",
     "showTitle": false,
     "title": ""
    }
   },
   "outputs": [],
   "source": [
    "### Rename Columns\n",
    "def renameColumns(df, columnMapping):\n",
    "    for oldName, newName in columnMapping.items():\n",
    "        df = df.withColumnRenamed(oldName, newName)\n",
    "        \n",
    "    return df"
   ]
  },
  {
   "cell_type": "code",
   "execution_count": 0,
   "metadata": {
    "application/vnd.databricks.v1+cell": {
     "cellMetadata": {},
     "inputWidgets": {},
     "nuid": "98979e89-8e96-461f-8a88-729cd6111e71",
     "showTitle": false,
     "title": ""
    }
   },
   "outputs": [],
   "source": [
    "### Add Columns\n",
    "def addColumns(df, columnsWithValues):\n",
    "    for columnName, columnValue in columnsWithValues.items():\n",
    "        df = df.withColumn(columnName, columnValue)\n",
    "    return df"
   ]
  },
  {
   "cell_type": "code",
   "execution_count": 0,
   "metadata": {
    "application/vnd.databricks.v1+cell": {
     "cellMetadata": {},
     "inputWidgets": {},
     "nuid": "15ed88eb-0cea-4bb5-9247-3455d5624f74",
     "showTitle": false,
     "title": ""
    }
   },
   "outputs": [],
   "source": [
    "### Remove Columns\n",
    "def dropColumns(df, columnList):\n",
    "    for column in columnList:\n",
    "        df = df.drop(column)\n",
    "    return df"
   ]
  },
  {
   "cell_type": "code",
   "execution_count": 0,
   "metadata": {
    "application/vnd.databricks.v1+cell": {
     "cellMetadata": {
      "byteLimit": 2048000,
      "rowLimit": 10000
     },
     "inputWidgets": {},
     "nuid": "234b3e0d-96d8-40da-995d-fc123897a3f6",
     "showTitle": false,
     "title": ""
    }
   },
   "outputs": [],
   "source": [
    "### Save data in the table\n",
    "def saveDataInTable(df, path, schema, tableName):\n",
    "    df.write.format(\"delta\").mode(\"overwrite\").option(\"path\", path).saveAsTable(f\"{schema}.{tableName}\")"
   ]
  },
  {
   "cell_type": "code",
   "execution_count": 0,
   "metadata": {
    "application/vnd.databricks.v1+cell": {
     "cellMetadata": {},
     "inputWidgets": {},
     "nuid": "6c5fc5f9-9d70-4d2c-9604-2a6cabd02d80",
     "showTitle": false,
     "title": ""
    }
   },
   "outputs": [],
   "source": [
    "### Fetch data from table\n",
    "def fetchTableData(schemaName, tableName):\n",
    "    df = spark.read.table(f\"{schemaName}.{tableName}\")\n",
    "    return df"
   ]
  }
 ],
 "metadata": {
  "application/vnd.databricks.v1+notebook": {
   "dashboards": [],
   "environmentMetadata": null,
   "language": "python",
   "notebookMetadata": {
    "mostRecentlyExecutedCommandWithImplicitDF": {
     "commandId": 1783702652565895,
     "dataframes": [
      "_sqldf"
     ]
    },
    "pythonIndentUnit": 4
   },
   "notebookName": "Assignment - utilities",
   "widgets": {}
  }
 },
 "nbformat": 4,
 "nbformat_minor": 0
}
