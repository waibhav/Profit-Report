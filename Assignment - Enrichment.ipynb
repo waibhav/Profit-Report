{
 "cells": [
  {
   "cell_type": "code",
   "execution_count": 0,
   "metadata": {
    "application/vnd.databricks.v1+cell": {
     "cellMetadata": {
      "byteLimit": 2048000,
      "rowLimit": 10000
     },
     "inputWidgets": {},
     "nuid": "d2087ca5-1ccd-4c59-a289-833d6e912304",
     "showTitle": false,
     "title": ""
    }
   },
   "outputs": [],
   "source": [
    "%run \"./Assignment - utilities\""
   ]
  },
  {
   "cell_type": "markdown",
   "metadata": {
    "application/vnd.databricks.v1+cell": {
     "cellMetadata": {
      "byteLimit": 2048000,
      "rowLimit": 10000
     },
     "inputWidgets": {},
     "nuid": "eec9cabb-c0e3-41c0-a6ed-dced74e0fcab",
     "showTitle": false,
     "title": ""
    }
   },
   "source": [
    "### Import libraries"
   ]
  },
  {
   "cell_type": "code",
   "execution_count": 0,
   "metadata": {
    "application/vnd.databricks.v1+cell": {
     "cellMetadata": {
      "byteLimit": 2048000,
      "rowLimit": 10000
     },
     "inputWidgets": {},
     "nuid": "99fdaea8-7936-4c00-8dd2-9e2189f31266",
     "showTitle": false,
     "title": ""
    }
   },
   "outputs": [
    {
     "output_type": "display_data",
     "data": {
      "text/html": [
       "<style scoped>\n",
       "  .table-result-container {\n",
       "    max-height: 300px;\n",
       "    overflow: auto;\n",
       "  }\n",
       "  table, th, td {\n",
       "    border: 1px solid black;\n",
       "    border-collapse: collapse;\n",
       "  }\n",
       "  th, td {\n",
       "    padding: 5px;\n",
       "  }\n",
       "  th {\n",
       "    text-align: left;\n",
       "  }\n",
       "</style><div class='table-result-container'><table class='table-result'><thead style='background-color: white'><tr></tr></thead><tbody></tbody></table></div>"
      ]
     },
     "metadata": {
      "application/vnd.databricks.v1+output": {
       "addedWidgets": {},
       "aggData": [],
       "aggError": "",
       "aggOverflow": false,
       "aggSchema": [],
       "aggSeriesLimitReached": false,
       "aggType": "",
       "arguments": {},
       "columnCustomDisplayInfos": {},
       "data": [],
       "datasetInfos": [],
       "dbfsResultPath": null,
       "isJsonSchema": true,
       "metadata": {},
       "overflow": false,
       "plotOptions": {
        "customPlotOptions": {},
        "displayType": "table",
        "pivotAggregation": null,
        "pivotColumns": null,
        "xColumns": null,
        "yColumns": null
       },
       "removedWidgets": [],
       "schema": [],
       "type": "table"
      }
     },
     "output_type": "display_data"
    }
   ],
   "source": [
    "import pyspark.sql.functions as F"
   ]
  },
  {
   "cell_type": "markdown",
   "metadata": {
    "application/vnd.databricks.v1+cell": {
     "cellMetadata": {
      "byteLimit": 2048000,
      "rowLimit": 10000
     },
     "inputWidgets": {},
     "nuid": "fc72fd13-53c7-4698-9013-f0bb6c43fa5a",
     "showTitle": false,
     "title": ""
    }
   },
   "source": [
    "Pull data from raw tables"
   ]
  },
  {
   "cell_type": "code",
   "execution_count": 0,
   "metadata": {
    "application/vnd.databricks.v1+cell": {
     "cellMetadata": {
      "byteLimit": 2048000,
      "rowLimit": 10000
     },
     "inputWidgets": {},
     "nuid": "018d0327-7d38-4adc-9e5f-7362a9bb2c69",
     "showTitle": false,
     "title": ""
    }
   },
   "outputs": [],
   "source": [
    "schemaName = \"raw\"\n",
    "product_raw_df = fetchTableData(schemaName, \"raw_product\")\n",
    "customer_raw_df = fetchTableData(schemaName, \"raw_customer\")\n",
    "orders_raw_df = fetchTableData(schemaName, \"raw_orders\")"
   ]
  },
  {
   "cell_type": "markdown",
   "metadata": {
    "application/vnd.databricks.v1+cell": {
     "cellMetadata": {
      "byteLimit": 2048000,
      "rowLimit": 10000
     },
     "inputWidgets": {},
     "nuid": "1f4dcbec-2e2b-4ebe-80e6-a38fd0ab6f3d",
     "showTitle": false,
     "title": ""
    }
   },
   "source": [
    "### Process Product Data"
   ]
  },
  {
   "cell_type": "code",
   "execution_count": 0,
   "metadata": {
    "application/vnd.databricks.v1+cell": {
     "cellMetadata": {
      "byteLimit": 2048000,
      "rowLimit": 10000
     },
     "inputWidgets": {},
     "nuid": "1de7420b-969a-4733-9df6-baa34271a755",
     "showTitle": false,
     "title": ""
    }
   },
   "outputs": [],
   "source": [
    "productColumnsTobeBeAdded = {\"price\": F.round(F.col(\"price_per_product\"), 3)}\n",
    "product_columns_added_df = addColumns(product_raw_df, productColumnsTobeBeAdded)\n",
    "\n",
    "### Drop columns not required\n",
    "\n",
    "productColumnsToBeRemoved = [\"price_per_product\"]\n",
    "product_columns_dropped_df = dropColumns(product_columns_added_df, productColumnsToBeRemoved)\n",
    "\n",
    "### Rename Columns\n",
    "\n",
    "productColumnsToBeRenamed = {\"price\": \"price_per_product\"}\n",
    "product_cleaned_df = renameColumns(product_columns_dropped_df, productColumnsToBeRenamed)\n",
    "\n",
    "### Enrich product table\n",
    "path = \"dbfs:/user/enriched/enriched_product\"\n",
    "schemaName = \"enriched\"\n",
    "tableName = \"enriched_product\"\n",
    "saveDataInTable(product_cleaned_df, path, schemaName, tableName)"
   ]
  },
  {
   "cell_type": "markdown",
   "metadata": {
    "application/vnd.databricks.v1+cell": {
     "cellMetadata": {
      "byteLimit": 2048000,
      "rowLimit": 10000
     },
     "inputWidgets": {},
     "nuid": "31183b40-ffbd-46ef-807d-eec1a1250e25",
     "showTitle": false,
     "title": ""
    }
   },
   "source": [
    "### Process Customer data"
   ]
  },
  {
   "cell_type": "code",
   "execution_count": 0,
   "metadata": {
    "application/vnd.databricks.v1+cell": {
     "cellMetadata": {
      "byteLimit": 2048000,
      "rowLimit": 10000
     },
     "inputWidgets": {},
     "nuid": "2888b8d6-487b-4ff2-bc33-0e2d82d260b9",
     "showTitle": false,
     "title": ""
    }
   },
   "outputs": [],
   "source": [
    "### Add necessary columns\n",
    "\n",
    "customerColumnsTobeBeAdded = {\"cleaned_customer_name\": F.trim(F.regexp_replace(F.regexp_replace(F.regexp_replace(\"customer_name\", \"[^a-zA-Z ]\", \"\"), \" +\", \" \"), r\" (\\p{Ll})\", \"$1\"))}\n",
    "customer_columns_added_df = addColumns(customer_raw_df, customerColumnsTobeBeAdded)\n",
    "\n",
    "### Drop columns not required\n",
    "\n",
    "customerColumnsToBeRemoved = [\"customer_name\"]\n",
    "customer_columns_dropped_df = dropColumns(customer_columns_added_df, customerColumnsToBeRemoved)\n",
    "\n",
    "### Handle Null customer_name\n",
    "\n",
    "replaceCustomerName = {\"customer_name\": F.coalesce(F.col(\"cleaned_customer_name\"), F.lit(\"Customer Name Unavailable\"))}\n",
    "customer_cleaned_final_df = addColumns(customer_columns_dropped_df, replaceCustomerName)\n",
    "\n",
    "### Enrich customer table\n",
    "\n",
    "path = \"dbfs:/user/enriched/enriched_customer\"\n",
    "schemaName = \"enriched\"\n",
    "tableName = \"enriched_customer\"\n",
    "saveDataInTable(customer_cleaned_final_df, path, schemaName, tableName)"
   ]
  },
  {
   "cell_type": "markdown",
   "metadata": {
    "application/vnd.databricks.v1+cell": {
     "cellMetadata": {
      "byteLimit": 2048000,
      "rowLimit": 10000
     },
     "inputWidgets": {},
     "nuid": "ede67496-540c-43b7-a849-cd7787ccd17d",
     "showTitle": false,
     "title": ""
    }
   },
   "source": [
    "Process Orders data"
   ]
  },
  {
   "cell_type": "code",
   "execution_count": 0,
   "metadata": {
    "application/vnd.databricks.v1+cell": {
     "cellMetadata": {
      "byteLimit": 2048000,
      "rowLimit": 10000
     },
     "inputWidgets": {},
     "nuid": "ddc0f33c-aee3-4c74-9e59-beb7c9d63406",
     "showTitle": false,
     "title": ""
    }
   },
   "outputs": [],
   "source": [
    "orders_cleaned_df = orders_raw_df.withColumn(\"profit_rounded\", F.round(F.col(\"profit\"), 2)).drop(\"profit\")\n",
    "orders_enriched_df = orders_cleaned_df.withColumnRenamed(\"profit_rounded\", \"profit\")\n",
    "customer_enriched_df = spark.read.table(\"enriched.enriched_customer\")\n",
    "customer_selected_df = customer_enriched_df.select(\"customer_id\", \"customer_name\", \"country\")\n",
    "product_enriched_df = spark.read.table(\"enriched.enriched_product\")\n",
    "\n",
    "\n",
    "\n",
    "### Round off profit column\n",
    "newProfitColumn = {\"profit_rounded\": F.round(F.col(\"profit\"), 2)}\n",
    "orders_rounded_df = addColumns(orders_raw_df, newProfitColumn)\n",
    "\n",
    "ordersColumnDropList = [\"profit\"]\n",
    "\n",
    "orders_cleaned_df = dropColumns(orders_rounded_df, ordersColumnDropList)\n",
    "\n",
    "ordersColumnsRename = {\"profit_rounded\": \"profit\"}\n",
    "orders_cleaned_final_df = renameColumns(orders_cleaned_df, ordersColumnsRename)\n",
    "\n",
    "### Prepare Customer and Product data to join with Orders\n",
    "schemaName = \"enriched\"\n",
    "customer_enriched_df = fetchTableData(schemaName, \"enriched_customer\")\n",
    "product_enriched_df = fetchTableData(schemaName, \"enriched_product\")\n",
    "\n",
    "\n",
    "customer_selected_df = customer_enriched_df.select(\"customer_id\", \"customer_name\", \"country\")\n",
    "product_selected_df = product_enriched_df.dropDuplicates([\"product_id\", \"category\", \"sub_category\"]).select(\"product_id\", \"category\", \"sub_category\")\n",
    "\n",
    "### Join Orders, Customer and Product data\n",
    "orders_joined_customer_df = orders_enriched_df \\\n",
    "                            .join(customer_selected_df, F.trim(customer_selected_df.customer_id) == F.trim(orders_enriched_df.customer_id)) \\\n",
    "                            .select(orders_enriched_df['*'], customer_selected_df['customer_name'], customer_selected_df['country'])\\\n",
    "                            .drop(\"ingestion_date\")\n",
    "\n",
    "orders_customer_product_joined_df = orders_joined_customer_df\\\n",
    "                                    .join(product_selected_df, orders_joined_customer_df.product_id == product_selected_df.product_id, \"left\") \\\n",
    "                                    .select(orders_joined_customer_df['*'],product_selected_df['category'], product_selected_df['sub_category']) \\\n",
    "                                    .drop(\"state\", \"price_per_unit\")\n",
    "\n",
    "### Enrich Orders Table\n",
    "path = \"dbfs:/user/enriched/enriched_orders\"\n",
    "schemaName = \"enriched\"\n",
    "tableName = \"enriched_orders\"\n",
    "saveDataInTable(orders_customer_product_joined_df, path, schemaName, tableName)\n"
   ]
  }
 ],
 "metadata": {
  "application/vnd.databricks.v1+notebook": {
   "dashboards": [],
   "environmentMetadata": null,
   "language": "python",
   "notebookMetadata": {
    "mostRecentlyExecutedCommandWithImplicitDF": {
     "commandId": 1783702652565926,
     "dataframes": [
      "_sqldf"
     ]
    },
    "pythonIndentUnit": 4
   },
   "notebookName": "Assignment - Enrichment",
   "widgets": {}
  }
 },
 "nbformat": 4,
 "nbformat_minor": 0
}
