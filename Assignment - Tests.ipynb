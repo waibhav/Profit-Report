{
 "cells": [
  {
   "cell_type": "markdown",
   "metadata": {
    "application/vnd.databricks.v1+cell": {
     "cellMetadata": {
      "byteLimit": 2048000,
      "rowLimit": 10000
     },
     "inputWidgets": {},
     "nuid": "b62b9500-f436-4bd2-9364-984ef3b8c973",
     "showTitle": false,
     "title": ""
    }
   },
   "source": [
    "### Import necessary libraries"
   ]
  },
  {
   "cell_type": "code",
   "execution_count": 0,
   "metadata": {
    "application/vnd.databricks.v1+cell": {
     "cellMetadata": {
      "byteLimit": 2048000,
      "rowLimit": 10000
     },
     "inputWidgets": {},
     "nuid": "43fc8f50-b0e2-4f43-946b-d0727cf27db0",
     "showTitle": false,
     "title": ""
    }
   },
   "outputs": [
    {
     "output_type": "display_data",
     "data": {
      "text/html": [
       "<style scoped>\n",
       "  .table-result-container {\n",
       "    max-height: 300px;\n",
       "    overflow: auto;\n",
       "  }\n",
       "  table, th, td {\n",
       "    border: 1px solid black;\n",
       "    border-collapse: collapse;\n",
       "  }\n",
       "  th, td {\n",
       "    padding: 5px;\n",
       "  }\n",
       "  th {\n",
       "    text-align: left;\n",
       "  }\n",
       "</style><div class='table-result-container'><table class='table-result'><thead style='background-color: white'><tr></tr></thead><tbody></tbody></table></div>"
      ]
     },
     "metadata": {
      "application/vnd.databricks.v1+output": {
       "addedWidgets": {},
       "aggData": [],
       "aggError": "",
       "aggOverflow": false,
       "aggSchema": [],
       "aggSeriesLimitReached": false,
       "aggType": "",
       "arguments": {},
       "columnCustomDisplayInfos": {},
       "data": [],
       "datasetInfos": [],
       "dbfsResultPath": null,
       "isJsonSchema": true,
       "metadata": {},
       "overflow": false,
       "plotOptions": {
        "customPlotOptions": {},
        "displayType": "table",
        "pivotAggregation": null,
        "pivotColumns": null,
        "xColumns": null,
        "yColumns": null
       },
       "removedWidgets": [],
       "schema": [],
       "type": "table"
      }
     },
     "output_type": "display_data"
    }
   ],
   "source": [
    "%run \"./Assignment - Ingestion\""
   ]
  },
  {
   "cell_type": "code",
   "execution_count": 0,
   "metadata": {
    "application/vnd.databricks.v1+cell": {
     "cellMetadata": {
      "byteLimit": 2048000,
      "rowLimit": 10000
     },
     "inputWidgets": {},
     "nuid": "9445a477-e70d-480a-a8dc-71db4cb11596",
     "showTitle": false,
     "title": ""
    }
   },
   "outputs": [],
   "source": [
    "from pyspark.sql import SparkSession"
   ]
  },
  {
   "cell_type": "code",
   "execution_count": 0,
   "metadata": {
    "application/vnd.databricks.v1+cell": {
     "cellMetadata": {
      "byteLimit": 2048000,
      "rowLimit": 10000
     },
     "inputWidgets": {},
     "nuid": "d916dcdd-580e-4c09-b400-69aa4e7c960a",
     "showTitle": false,
     "title": ""
    }
   },
   "outputs": [],
   "source": [
    "    spark = SparkSession.builder \\\n",
    "            .appName(\"pytest\") \\\n",
    "            .getOrCreate()"
   ]
  },
  {
   "cell_type": "code",
   "execution_count": 0,
   "metadata": {
    "application/vnd.databricks.v1+cell": {
     "cellMetadata": {
      "byteLimit": 2048000,
      "rowLimit": 10000
     },
     "inputWidgets": {},
     "nuid": "78b39973-db93-4b7f-ac41-77d836438da7",
     "showTitle": false,
     "title": ""
    }
   },
   "outputs": [],
   "source": [
    "### Validate Product Schema\n",
    "schema = StructType([\n",
    "    StructField(\"Product ID\", StringType(), True),\n",
    "    StructField(\"Category\", StringType(), True),\n",
    "    StructField(\"Sub-Category\", StringType(), True),\n",
    "    StructField(\"Product Name\", StringType(), True),\n",
    "    StructField(\"State\", StringType(), True),\n",
    "    StructField(\"Price per product\", DoubleType(), True),\n",
    "])\n",
    "\n",
    "productData = [(\"P001\", \"Electronics\", \"Mobile\", \"Samsung S23\", \"New York\", 299.99),\n",
    "            (\"P002\", \"Furniture\", \"Chair\", \"Featherlite\", \"California\", 99.99)]\n",
    "\n",
    "df = spark.createDataFrame(productData, schema)"
   ]
  },
  {
   "cell_type": "code",
   "execution_count": 0,
   "metadata": {
    "application/vnd.databricks.v1+cell": {
     "cellMetadata": {
      "byteLimit": 2048000,
      "rowLimit": 10000
     },
     "inputWidgets": {},
     "nuid": "b5ac551f-774b-4f07-89ae-e83bfff10791",
     "showTitle": false,
     "title": ""
    }
   },
   "outputs": [],
   "source": [
    "### Validate record count in Product bronze table\n",
    "\n",
    "schemaName = \"raw\"\n",
    "test_product_raw_df = fetchTableData(schemaName, \"raw_product\")\n",
    "\n",
    "assert test_product_raw_df.count() == product_df.count(), \"Not all records have been loaded in raw table for product file\""
   ]
  },
  {
   "cell_type": "code",
   "execution_count": 0,
   "metadata": {
    "application/vnd.databricks.v1+cell": {
     "cellMetadata": {
      "byteLimit": 2048000,
      "rowLimit": 10000
     },
     "inputWidgets": {},
     "nuid": "2088bee8-a237-4a0d-a288-ad9cce75a35a",
     "showTitle": false,
     "title": ""
    }
   },
   "outputs": [],
   "source": [
    "### Validate record count in Product bronze table\n",
    "\n",
    "schemaName = \"enriched\"\n",
    "test_product_enriched_df = fetchTableData(schemaName, \"enriched_product\")\n",
    "\n",
    "assert test_product_enriched_df.count() == product_df.count(), \"Not all records have been loaded in enriched table for product file\""
   ]
  },
  {
   "cell_type": "code",
   "execution_count": 0,
   "metadata": {
    "application/vnd.databricks.v1+cell": {
     "cellMetadata": {
      "byteLimit": 2048000,
      "rowLimit": 10000
     },
     "inputWidgets": {},
     "nuid": "81e4b49e-5234-4992-b9ce-95c1dcba3f7c",
     "showTitle": false,
     "title": ""
    }
   },
   "outputs": [],
   "source": [
    "### Validate Customer Schema\n",
    "\n",
    "expectedCustomerSchema = StructType([\n",
    "    StructField(\"Customer ID\", StringType(), True),\n",
    "    StructField(\"Customer Name\", StringType(), True),\n",
    "    StructField(\"email\", StringType(), True),\n",
    "    StructField(\"phone\", StringType(), True),\n",
    "    StructField(\"address\", StringType(), True),\n",
    "    StructField(\"Segment\", StringType(), True),\n",
    "    StructField(\"Country\", StringType(), True),\n",
    "    StructField(\"City\", StringType(), True),\n",
    "    StructField(\"State\", StringType(), True),\n",
    "   StructField(\"Postal Code\", DoubleType(), True),\n",
    "    StructField(\"Region\", StringType(), True)\n",
    "])\n",
    "\n",
    "data = [(\"C001\", \"Ross Specter\", \"abc@def.com\", \"+91 89876765\", \"5th Street\", \"Consumer\", \"India\",\"Mumbai\", \"Maharashtra\", 12345.0, \"West\"),\n",
    "            (\"C002\", \"Daniel Pinto\", \"ghi@jkl.com\", \"+91 6543567\", \"7th Main\", \"Home Office\", \"India\", \"Bengaluru\", \"Karnataka\", 10034.0, \"South\")]\n",
    "\n",
    "df = spark.createDataFrame(data, expectedCustomerSchema)\n",
    "\n",
    "assert df.schema == customer_df.schema, \"customer schema mismatch\""
   ]
  },
  {
   "cell_type": "code",
   "execution_count": 0,
   "metadata": {
    "application/vnd.databricks.v1+cell": {
     "cellMetadata": {
      "byteLimit": 2048000,
      "rowLimit": 10000
     },
     "inputWidgets": {},
     "nuid": "46435bb6-53e2-42da-843f-2fae959db70a",
     "showTitle": false,
     "title": ""
    }
   },
   "outputs": [],
   "source": [
    "### Validate record count in Customer Table\n",
    "schemaName = \"raw\"\n",
    "customer_raw_df = fetchTableData(schemaName, \"raw_customer\")\n",
    "\n",
    "assert customer_raw_df.count() == customer_df.count(), \"Not all records have been loaded in raw table for customer file\""
   ]
  },
  {
   "cell_type": "code",
   "execution_count": 0,
   "metadata": {
    "application/vnd.databricks.v1+cell": {
     "cellMetadata": {
      "byteLimit": 2048000,
      "rowLimit": 10000
     },
     "inputWidgets": {},
     "nuid": "5062e9a1-078a-4ab5-b8dd-b8763fa087ac",
     "showTitle": false,
     "title": ""
    }
   },
   "outputs": [],
   "source": [
    "### Validate Customer enriched table count\n",
    "\n",
    "schemaName = \"enriched\"\n",
    "test_customer_enriched_df = fetchTableData(schemaName, \"enriched_customer\")\n",
    "assert customer_df.count() == test_customer_enriched_df.count(), \"Not all records have been loaded in enriched table for customer file\""
   ]
  },
  {
   "cell_type": "code",
   "execution_count": 0,
   "metadata": {
    "application/vnd.databricks.v1+cell": {
     "cellMetadata": {
      "byteLimit": 2048000,
      "rowLimit": 10000
     },
     "inputWidgets": {},
     "nuid": "60251c2f-adeb-4571-a0eb-4124bcf3c908",
     "showTitle": false,
     "title": ""
    }
   },
   "outputs": [],
   "source": [
    "expectedOrderSchema = StructType([\n",
    "    StructField(\"Row ID\", IntegerType(), True),\n",
    "    StructField(\"Order ID\", StringType(), True),\n",
    "    StructField(\"Order Date\", StringType(), True),\n",
    "    StructField(\"Ship Date\", StringType(), True),\n",
    "    StructField(\"Ship Mode\", StringType(), True),\n",
    "    StructField(\"Customer ID\", StringType(), True),\n",
    "    StructField(\"Product ID\", StringType(), True),\n",
    "    StructField(\"Quantity\", IntegerType(), True),\n",
    "    StructField(\"Price\", StringType(), True),\n",
    "    StructField(\"Discount\", DoubleType(), True),\n",
    "    StructField(\"Profit\", DoubleType(), True)\n",
    "])\n",
    "\n",
    "data = [(9992,\"CA-2014-140662\",\"17/11/2014\",\"19/11/2014\",\"First Class\",\"TS-21205\",\"OFF-AP-10001242\",3,241.44,0.0,72.432)]\n",
    "\n",
    "df = spark.createDataFrame(data, expectedOrderSchema)\n",
    "\n",
    "assert df.schema == orders_df.schema, \"Orders Schema mismatch\""
   ]
  },
  {
   "cell_type": "code",
   "execution_count": 0,
   "metadata": {
    "application/vnd.databricks.v1+cell": {
     "cellMetadata": {
      "byteLimit": 2048000,
      "rowLimit": 10000
     },
     "inputWidgets": {},
     "nuid": "127577a6-8ea0-4d42-a3bf-a5142bf8ff9a",
     "showTitle": false,
     "title": ""
    }
   },
   "outputs": [],
   "source": [
    "### Validate orders table record count\n",
    "\n",
    "schemaName = \"raw\"\n",
    "orders_raw_df = fetchTableData(schemaName, \"raw_orders\")\n",
    "\n",
    "assert orders_raw_df.count() == orders_df.count(), \"Not all records have been loaded in raw table for orders file\""
   ]
  },
  {
   "cell_type": "code",
   "execution_count": 0,
   "metadata": {
    "application/vnd.databricks.v1+cell": {
     "cellMetadata": {
      "byteLimit": 2048000,
      "rowLimit": 10000
     },
     "inputWidgets": {},
     "nuid": "6db80577-c802-412e-aef5-d76921f850e6",
     "showTitle": false,
     "title": ""
    }
   },
   "outputs": [],
   "source": [
    "### Validate orders table record count in enriched table\n",
    "\n",
    "schemaName = \"enriched\"\n",
    "test_orders_enriched_table_df = fetchTableData(schemaName, \"enriched_orders\")\n",
    "\n",
    "assert orders_df.count() == test_orders_enriched_table_df.count(), \"Not all records have been loaded in enriched table for orders file\""
   ]
  },
  {
   "cell_type": "code",
   "execution_count": 0,
   "metadata": {
    "application/vnd.databricks.v1+cell": {
     "cellMetadata": {
      "byteLimit": 2048000,
      "rowLimit": 10000
     },
     "inputWidgets": {},
     "nuid": "9dad1f47-f35e-4d46-921b-159fefab4949",
     "showTitle": false,
     "title": ""
    }
   },
   "outputs": [],
   "source": [
    "### Validate Profit columns' precision\n",
    "schemaName = \"enriched\"\n",
    "test_orders_enriched_table_df = fetchTableData(schemaName, \"enriched_orders\")\n",
    "\n",
    "rounded_df = test_orders_enriched_table_df.withColumn(\"rounded_profit\", F.round(F.col(\"profit\"), 2))\n",
    "\n",
    "for row in rounded_df.collect():\n",
    "        assert row[\"profit\"] == row[\"rounded_profit\"], f\"Profit value {row['profit']} is not rounded to 2 decimal places.\"\n",
    "\n",
    "rounded_to_one_df = test_orders_enriched_table_df.withColumn(\"rounded_to_one_profit\", F.round(F.col(\"profit\"), 1))\n",
    "\n",
    "incorrectly_rounded = rounded_to_one_df.filter(F.col(\"profit\") != F.col(\"rounded_to_one_profit\"))\n",
    "\n",
    "assert incorrectly_rounded.count() > 0, \"All 'profit' values are rounded\""
   ]
  },
  {
   "cell_type": "code",
   "execution_count": 0,
   "metadata": {
    "application/vnd.databricks.v1+cell": {
     "cellMetadata": {
      "byteLimit": 2048000,
      "rowLimit": 10000
     },
     "inputWidgets": {},
     "nuid": "148bd109-62c3-4ad4-b8f4-6104d1418411",
     "showTitle": false,
     "title": ""
    }
   },
   "outputs": [],
   "source": [
    "### Validate if required customer and product columns exist in the orders enriched table\n",
    "\n",
    "schemaName = \"enriched\"\n",
    "test_orders_enriched_table_df = fetchTableData(schemaName, \"enriched_orders\")\n",
    "\n",
    "required_columns = {\"customer_name\", \"country\", \"category\", \"sub_category\"}\n",
    "\n",
    "assert required_columns.issubset(set(test_orders_enriched_table_df.columns)), f\"Some required columns are missing: {required_columns.difference(test_orders_enriched_table_df.columns)}\""
   ]
  },
  {
   "cell_type": "code",
   "execution_count": 0,
   "metadata": {
    "application/vnd.databricks.v1+cell": {
     "cellMetadata": {},
     "inputWidgets": {},
     "nuid": "5fb37bb2-9498-42da-b01c-b872183f3984",
     "showTitle": false,
     "title": ""
    }
   },
   "outputs": [],
   "source": [
    "\n",
    "test_profit_gold_table_df = fetchTableData(schemaName, \"gold_profit\")\n",
    "test_orders_enriched_table_df = fetchTableData(schemaName, \"enriched_orders\")\n",
    "\n",
    "assert \n",
    "\n"
   ]
  }
 ],
 "metadata": {
  "application/vnd.databricks.v1+notebook": {
   "dashboards": [],
   "environmentMetadata": null,
   "language": "python",
   "notebookMetadata": {
    "mostRecentlyExecutedCommandWithImplicitDF": {
     "commandId": 3050209999288988,
     "dataframes": [
      "_sqldf"
     ]
    },
    "pythonIndentUnit": 4
   },
   "notebookName": "Assignment - Tests",
   "widgets": {}
  }
 },
 "nbformat": 4,
 "nbformat_minor": 0
}
