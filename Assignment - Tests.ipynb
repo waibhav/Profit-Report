{
 "cells": [
  {
   "cell_type": "code",
   "execution_count": 0,
   "metadata": {
    "application/vnd.databricks.v1+cell": {
     "cellMetadata": {
      "byteLimit": 2048000,
      "rowLimit": 10000
     },
     "inputWidgets": {},
     "nuid": "43fc8f50-b0e2-4f43-946b-d0727cf27db0",
     "showTitle": false,
     "title": ""
    }
   },
   "outputs": [
    {
     "output_type": "stream",
     "name": "stdout",
     "output_type": "stream",
     "text": [
      "Out[96]: [FileInfo(path='s3://goldyyy-de-practice/Assignment_Files/Customer.xlsx', name='Customer.xlsx', size=89424, modificationTime=1727727077000)]"
     ]
    }
   ],
   "source": [
    "%run \"./Assignment - Ingestion\""
   ]
  },
  {
   "cell_type": "code",
   "execution_count": 0,
   "metadata": {
    "application/vnd.databricks.v1+cell": {
     "cellMetadata": {
      "byteLimit": 2048000,
      "rowLimit": 10000
     },
     "inputWidgets": {},
     "nuid": "81a5704d-c6c2-4e37-b884-72b0687f04ad",
     "showTitle": false,
     "title": ""
    }
   },
   "outputs": [],
   "source": [
    "%run \"./Assignment - Enrichment\""
   ]
  },
  {
   "cell_type": "code",
   "execution_count": 0,
   "metadata": {
    "application/vnd.databricks.v1+cell": {
     "cellMetadata": {
      "byteLimit": 2048000,
      "rowLimit": 10000
     },
     "inputWidgets": {},
     "nuid": "0e4f742c-c4a9-44ff-b6c2-061f2a524c4c",
     "showTitle": false,
     "title": ""
    }
   },
   "outputs": [],
   "source": [
    "%run \"./Assignment - Aggregation\""
   ]
  },
  {
   "cell_type": "code",
   "execution_count": 0,
   "metadata": {
    "application/vnd.databricks.v1+cell": {
     "cellMetadata": {
      "byteLimit": 2048000,
      "rowLimit": 10000
     },
     "inputWidgets": {},
     "nuid": "9445a477-e70d-480a-a8dc-71db4cb11596",
     "showTitle": false,
     "title": ""
    }
   },
   "outputs": [
    {
     "output_type": "display_data",
     "data": {
      "text/html": [
       "<style scoped>\n",
       "  .table-result-container {\n",
       "    max-height: 300px;\n",
       "    overflow: auto;\n",
       "  }\n",
       "  table, th, td {\n",
       "    border: 1px solid black;\n",
       "    border-collapse: collapse;\n",
       "  }\n",
       "  th, td {\n",
       "    padding: 5px;\n",
       "  }\n",
       "  th {\n",
       "    text-align: left;\n",
       "  }\n",
       "</style><div class='table-result-container'><table class='table-result'><thead style='background-color: white'><tr></tr></thead><tbody></tbody></table></div>"
      ]
     },
     "metadata": {
      "application/vnd.databricks.v1+output": {
       "addedWidgets": {},
       "aggData": [],
       "aggError": "",
       "aggOverflow": false,
       "aggSchema": [],
       "aggSeriesLimitReached": false,
       "aggType": "",
       "arguments": {},
       "columnCustomDisplayInfos": {},
       "data": [],
       "datasetInfos": [],
       "dbfsResultPath": null,
       "isJsonSchema": true,
       "metadata": {},
       "overflow": false,
       "plotOptions": {
        "customPlotOptions": {},
        "displayType": "table",
        "pivotAggregation": null,
        "pivotColumns": null,
        "xColumns": null,
        "yColumns": null
       },
       "removedWidgets": [],
       "schema": [],
       "type": "table"
      }
     },
     "output_type": "display_data"
    },
    {
     "output_type": "display_data",
     "data": {
      "text/html": [
       "<style scoped>\n",
       "  .table-result-container {\n",
       "    max-height: 300px;\n",
       "    overflow: auto;\n",
       "  }\n",
       "  table, th, td {\n",
       "    border: 1px solid black;\n",
       "    border-collapse: collapse;\n",
       "  }\n",
       "  th, td {\n",
       "    padding: 5px;\n",
       "  }\n",
       "  th {\n",
       "    text-align: left;\n",
       "  }\n",
       "</style><div class='table-result-container'><table class='table-result'><thead style='background-color: white'><tr></tr></thead><tbody></tbody></table></div>"
      ]
     },
     "metadata": {
      "application/vnd.databricks.v1+output": {
       "addedWidgets": {},
       "aggData": [],
       "aggError": "",
       "aggOverflow": false,
       "aggSchema": [],
       "aggSeriesLimitReached": false,
       "aggType": "",
       "arguments": {},
       "columnCustomDisplayInfos": {},
       "data": [],
       "datasetInfos": [],
       "dbfsResultPath": null,
       "isJsonSchema": true,
       "metadata": {},
       "overflow": false,
       "plotOptions": {
        "customPlotOptions": {},
        "displayType": "table",
        "pivotAggregation": null,
        "pivotColumns": null,
        "xColumns": null,
        "yColumns": null
       },
       "removedWidgets": [],
       "schema": [],
       "type": "table"
      }
     },
     "output_type": "display_data"
    },
    {
     "output_type": "display_data",
     "data": {
      "text/html": [
       "<style scoped>\n",
       "  .table-result-container {\n",
       "    max-height: 300px;\n",
       "    overflow: auto;\n",
       "  }\n",
       "  table, th, td {\n",
       "    border: 1px solid black;\n",
       "    border-collapse: collapse;\n",
       "  }\n",
       "  th, td {\n",
       "    padding: 5px;\n",
       "  }\n",
       "  th {\n",
       "    text-align: left;\n",
       "  }\n",
       "</style><div class='table-result-container'><table class='table-result'><thead style='background-color: white'><tr></tr></thead><tbody></tbody></table></div>"
      ]
     },
     "metadata": {
      "application/vnd.databricks.v1+output": {
       "addedWidgets": {},
       "aggData": [],
       "aggError": "",
       "aggOverflow": false,
       "aggSchema": [],
       "aggSeriesLimitReached": false,
       "aggType": "",
       "arguments": {},
       "columnCustomDisplayInfos": {},
       "data": [],
       "datasetInfos": [],
       "dbfsResultPath": null,
       "isJsonSchema": true,
       "metadata": {},
       "overflow": false,
       "plotOptions": {
        "customPlotOptions": {},
        "displayType": "table",
        "pivotAggregation": null,
        "pivotColumns": null,
        "xColumns": null,
        "yColumns": null
       },
       "removedWidgets": [],
       "schema": [],
       "type": "table"
      }
     },
     "output_type": "display_data"
    },
    {
     "output_type": "display_data",
     "data": {
      "text/html": [
       "<style scoped>\n",
       "  .table-result-container {\n",
       "    max-height: 300px;\n",
       "    overflow: auto;\n",
       "  }\n",
       "  table, th, td {\n",
       "    border: 1px solid black;\n",
       "    border-collapse: collapse;\n",
       "  }\n",
       "  th, td {\n",
       "    padding: 5px;\n",
       "  }\n",
       "  th {\n",
       "    text-align: left;\n",
       "  }\n",
       "</style><div class='table-result-container'><table class='table-result'><thead style='background-color: white'><tr><th>year</th><th>profit</th></tr></thead><tbody><tr><td>2017</td><td>111085.31</td></tr><tr><td>2016</td><td>65073.58</td></tr><tr><td>2015</td><td>63073.3</td></tr><tr><td>2014</td><td>39185.89</td></tr></tbody></table></div>"
      ]
     },
     "metadata": {
      "application/vnd.databricks.v1+output": {
       "addedWidgets": {},
       "aggData": [],
       "aggError": "",
       "aggOverflow": false,
       "aggSchema": [],
       "aggSeriesLimitReached": false,
       "aggType": "",
       "arguments": {},
       "columnCustomDisplayInfos": {},
       "data": [
        [
         2017,
         111085.31
        ],
        [
         2016,
         65073.58
        ],
        [
         2015,
         63073.3
        ],
        [
         2014,
         39185.89
        ]
       ],
       "datasetInfos": [],
       "dbfsResultPath": null,
       "isJsonSchema": true,
       "metadata": {},
       "overflow": false,
       "plotOptions": {
        "customPlotOptions": {},
        "displayType": "table",
        "pivotAggregation": null,
        "pivotColumns": null,
        "xColumns": null,
        "yColumns": null
       },
       "removedWidgets": [],
       "schema": [
        {
         "metadata": "{}",
         "name": "year",
         "type": "\"integer\""
        },
        {
         "metadata": "{}",
         "name": "profit",
         "type": "\"double\""
        }
       ],
       "type": "table"
      }
     },
     "output_type": "display_data"
    },
    {
     "output_type": "display_data",
     "data": {
      "text/html": [
       "<style scoped>\n",
       "  .table-result-container {\n",
       "    max-height: 300px;\n",
       "    overflow: auto;\n",
       "  }\n",
       "  table, th, td {\n",
       "    border: 1px solid black;\n",
       "    border-collapse: collapse;\n",
       "  }\n",
       "  th, td {\n",
       "    padding: 5px;\n",
       "  }\n",
       "  th {\n",
       "    text-align: left;\n",
       "  }\n",
       "</style><div class='table-result-container'><table class='table-result'><thead style='background-color: white'><tr><th>year</th><th>product_category</th><th>profit</th></tr></thead><tbody><tr><td>2017</td><td>UNKNOWN CATEGORY</td><td>488.51</td></tr><tr><td>2017</td><td>Furniture</td><td>3041.54</td></tr><tr><td>2017</td><td>Office Supplies</td><td>44273.35</td></tr><tr><td>2017</td><td>Technology</td><td>63281.91</td></tr><tr><td>2016</td><td>UNKNOWN CATEGORY</td><td>404.44</td></tr><tr><td>2016</td><td>Furniture</td><td>6889.56</td></tr><tr><td>2016</td><td>Office Supplies</td><td>34555.74</td></tr><tr><td>2016</td><td>Technology</td><td>23223.84</td></tr><tr><td>2015</td><td>UNKNOWN CATEGORY</td><td>583.16</td></tr><tr><td>2015</td><td>Furniture</td><td>3027.2</td></tr><tr><td>2015</td><td>Office Supplies</td><td>24519.51</td></tr><tr><td>2015</td><td>Technology</td><td>34943.43</td></tr><tr><td>2014</td><td>UNKNOWN CATEGORY</td><td>523.13</td></tr><tr><td>2014</td><td>Furniture</td><td>-5331.05</td></tr><tr><td>2014</td><td>Office Supplies</td><td>22500.43</td></tr><tr><td>2014</td><td>Technology</td><td>21493.38</td></tr></tbody></table></div>"
      ]
     },
     "metadata": {
      "application/vnd.databricks.v1+output": {
       "addedWidgets": {},
       "aggData": [],
       "aggError": "",
       "aggOverflow": false,
       "aggSchema": [],
       "aggSeriesLimitReached": false,
       "aggType": "",
       "arguments": {},
       "columnCustomDisplayInfos": {},
       "data": [
        [
         2017,
         "UNKNOWN CATEGORY",
         488.51
        ],
        [
         2017,
         "Furniture",
         3041.54
        ],
        [
         2017,
         "Office Supplies",
         44273.35
        ],
        [
         2017,
         "Technology",
         63281.91
        ],
        [
         2016,
         "UNKNOWN CATEGORY",
         404.44
        ],
        [
         2016,
         "Furniture",
         6889.56
        ],
        [
         2016,
         "Office Supplies",
         34555.74
        ],
        [
         2016,
         "Technology",
         23223.84
        ],
        [
         2015,
         "UNKNOWN CATEGORY",
         583.16
        ],
        [
         2015,
         "Furniture",
         3027.2
        ],
        [
         2015,
         "Office Supplies",
         24519.51
        ],
        [
         2015,
         "Technology",
         34943.43
        ],
        [
         2014,
         "UNKNOWN CATEGORY",
         523.13
        ],
        [
         2014,
         "Furniture",
         -5331.05
        ],
        [
         2014,
         "Office Supplies",
         22500.43
        ],
        [
         2014,
         "Technology",
         21493.38
        ]
       ],
       "datasetInfos": [],
       "dbfsResultPath": null,
       "isJsonSchema": true,
       "metadata": {},
       "overflow": false,
       "plotOptions": {
        "customPlotOptions": {},
        "displayType": "table",
        "pivotAggregation": null,
        "pivotColumns": null,
        "xColumns": null,
        "yColumns": null
       },
       "removedWidgets": [],
       "schema": [
        {
         "metadata": "{}",
         "name": "year",
         "type": "\"integer\""
        },
        {
         "metadata": "{}",
         "name": "product_category",
         "type": "\"string\""
        },
        {
         "metadata": "{}",
         "name": "profit",
         "type": "\"double\""
        }
       ],
       "type": "table"
      }
     },
     "output_type": "display_data"
    },
    {
     "output_type": "display_data",
     "data": {
      "text/html": [
       "<style scoped>\n",
       "  .table-result-container {\n",
       "    max-height: 300px;\n",
       "    overflow: auto;\n",
       "  }\n",
       "  table, th, td {\n",
       "    border: 1px solid black;\n",
       "    border-collapse: collapse;\n",
       "  }\n",
       "  th, td {\n",
       "    padding: 5px;\n",
       "  }\n",
       "  th {\n",
       "    text-align: left;\n",
       "  }\n",
       "</style><div class='table-result-container'><table class='table-result'><thead style='background-color: white'><tr><th>customer_name</th><th>profit</th></tr></thead><tbody><tr><td>Aaron Bergman</td><td>129.68</td></tr><tr><td>Aaron Hawkins</td><td>365.22</td></tr><tr><td>Aaron Smayling</td><td>-253.59</td></tr><tr><td>Adam Bellavance</td><td>2054.6</td></tr><tr><td>Adam Hart</td><td>280.8</td></tr><tr><td>Adam Shillingsburg</td><td>64.32</td></tr><tr><td>Adrian Barton</td><td>5444.97</td></tr><tr><td>Adrian Hane</td><td>-2.5</td></tr><tr><td>Adrian Shami</td><td>21.84</td></tr><tr><td>Aimee Bixby</td><td>313.66</td></tr><tr><td>Alan Barnes</td><td>220.61</td></tr><tr><td>Alan Dominguez</td><td>1869.92</td></tr><tr><td>Alan Haines</td><td>-378.04</td></tr><tr><td>Alan Hwang</td><td>1308.56</td></tr><tr><td>Alan Schoenberger</td><td>719.77</td></tr><tr><td>Alan Shonely</td><td>33.69</td></tr><tr><td>Alejandro Ballentine</td><td>264.57</td></tr><tr><td>Alejandro Grove</td><td>732.75</td></tr><tr><td>Alejandro Savely</td><td>354.63</td></tr><tr><td>Aleksandra Gannaway</td><td>59.3</td></tr><tr><td>Alex Avila</td><td>-362.9</td></tr><tr><td>Alex Grayson</td><td>-5.36</td></tr><tr><td>Alex Russell</td><td>-221.05</td></tr><tr><td>Alice McCarthy</td><td>194.99</td></tr><tr><td>Allen Armold</td><td>277.4</td></tr><tr><td>Allen Goldenen</td><td>69.27</td></tr><tr><td>Allen Rosenblatt</td><td>-98.52</td></tr><tr><td>Alyssa Crouse</td><td>-62.13</td></tr><tr><td>Alyssa Tate</td><td>100.87</td></tr><tr><td>Amy Cox</td><td>1366.5</td></tr><tr><td>Amy Hunt</td><td>-195.99</td></tr><tr><td>Andrew Allen</td><td>436.08</td></tr><tr><td>Andrew Gjertsen</td><td>295.84</td></tr><tr><td>Andrew Roberts</td><td>43.65</td></tr><tr><td>Andy Gerbode</td><td>-152.75</td></tr><tr><td>Andy Reiter</td><td>2884.61</td></tr><tr><td>Andy Yotov</td><td>103.34</td></tr><tr><td>Anemone Ratner</td><td>32.64</td></tr><tr><td>Angele Hood</td><td>83.97</td></tr><tr><td>Ann Blume</td><td>-275.28</td></tr><tr><td>Ann Chong</td><td>298.61</td></tr><tr><td>Ann Steele</td><td>136.6</td></tr><tr><td>Anna Andreadi</td><td>857.8</td></tr><tr><td>Anna Chung</td><td>-28.7</td></tr><tr><td>Anna Gayman</td><td>-246.4</td></tr><tr><td>Anna Hberlin</td><td>1296.89</td></tr><tr><td>Anne McFarland</td><td>969.06</td></tr><tr><td>Anne Pryor</td><td>285.8</td></tr><tr><td>Annie Thurman</td><td>974.57</td></tr><tr><td>Annie Zypern</td><td>154.77</td></tr><tr><td>Anthony Garverick</td><td>-8.42</td></tr><tr><td>Anthony Jacobs</td><td>150.72</td></tr><tr><td>Anthony Johnson</td><td>1158.71</td></tr><tr><td>Anthony ODonnell</td><td>12.1</td></tr><tr><td>Anthony Rawles</td><td>495.07</td></tr><tr><td>Anthony Witt</td><td>65.78</td></tr><tr><td>Arianne Irving</td><td>867.87</td></tr><tr><td>Art Ferguson</td><td>317.63</td></tr><tr><td>Art Foster</td><td>-163.13</td></tr><tr><td>Arthur Gainer</td><td>343.67</td></tr><tr><td>Arthur Prichep</td><td>579.7</td></tr><tr><td>Arthur Wiediger</td><td>-104.44</td></tr><tr><td>Ashley Jarboe</td><td>521.14</td></tr><tr><td>Astrea Jones</td><td>60.43</td></tr><tr><td>Barbara Fisher</td><td>227.3</td></tr><tr><td>Barry Blumstein</td><td>11.57</td></tr><tr><td>Barry Franz</td><td>-291.37</td></tr><tr><td>Barry Franzsisch</td><td>301.44</td></tr><tr><td>Barry Gonzalez</td><td>-710.8</td></tr><tr><td>Barry Pond</td><td>209.66</td></tr><tr><td>Barry Weirich</td><td>-58.29</td></tr><tr><td>Bart Folk</td><td>110.99</td></tr><tr><td>Bart Pistole</td><td>433.59</td></tr><tr><td>Bart Watters</td><td>921.38</td></tr><tr><td>Becky Castell</td><td>251.19</td></tr><tr><td>Becky Martin</td><td>-1659.97</td></tr><tr><td>Becky Pak</td><td>647.0</td></tr><tr><td>Ben Ferrer</td><td>1938.67</td></tr><tr><td>Ben Peterman</td><td>363.61</td></tr><tr><td>Ben Wallace</td><td>247.0</td></tr><tr><td>Benjamin Farhat</td><td>523.09</td></tr><tr><td>Benjamin Patterson</td><td>-197.39</td></tr><tr><td>Benjamin Venier</td><td>315.23</td></tr><tr><td>Berenike Kampe</td><td>-63.3</td></tr><tr><td>Beth Fritzler</td><td>25.88</td></tr><tr><td>Beth Paige</td><td>-318.85</td></tr><tr><td>Beth Thompson</td><td>417.58</td></tr><tr><td>Bil Donatelli</td><td>1094.51</td></tr><tr><td>Bil Eplett</td><td>1487.79</td></tr><tr><td>Bil Overfelt</td><td>278.43</td></tr><tr><td>Bil Shonely</td><td>2616.41</td></tr><tr><td>Bil Stewart</td><td>-17.53</td></tr><tr><td>Bil Tyler</td><td>257.9</td></tr><tr><td>Bobby Elias</td><td>755.91</td></tr><tr><td>Bobby Odegard</td><td>59.46</td></tr><tr><td>Bobby Trafton</td><td>-77.27</td></tr><tr><td>Brad Eason</td><td>139.21</td></tr><tr><td>Brad Norvell</td><td>36.61</td></tr><tr><td>Brad Thomas</td><td>126.87</td></tr><tr><td>Bradley Drucker</td><td>1142.12</td></tr><tr><td>Bradley Nguyen</td><td>340.72</td></tr><tr><td>Bradley Talbott</td><td>409.49</td></tr><tr><td>Brenda Bowman</td><td>1014.65</td></tr><tr><td>Brendan Dodson</td><td>116.71</td></tr><tr><td>Brendan Murry</td><td>95.58</td></tr><tr><td>Brendan Sweed</td><td>381.39</td></tr><tr><td>Brian Dahlen</td><td>634.83</td></tr><tr><td>Brian DeCherney</td><td>207.02</td></tr><tr><td>Brian Derr</td><td>141.43</td></tr><tr><td>Brian Moss</td><td>2198.83</td></tr><tr><td>Brian Stugart</td><td>238.73</td></tr><tr><td>Brian Thompson</td><td>447.81</td></tr><tr><td>Brooke Gillingham</td><td>107.59</td></tr><tr><td>Brosina Hoffman</td><td>789.63</td></tr><tr><td>Bruce Degenhardt</td><td>334.47</td></tr><tr><td>Bruce Geld</td><td>119.35</td></tr><tr><td>Bruce Stewart</td><td>-113.31</td></tr><tr><td>Bryan Davis</td><td>141.28</td></tr><tr><td>Bryan Mills</td><td>137.72</td></tr><tr><td>Bryan Spruell</td><td>194.05</td></tr><tr><td>Candace McMahon</td><td>214.85</td></tr><tr><td>Cari Sayre</td><td>185.55</td></tr><tr><td>Cari Schnelling</td><td>105.82</td></tr><tr><td>Carl Jackson</td><td>1.65</td></tr><tr><td>Carl Ludwig</td><td>328.08</td></tr><tr><td>Carl Weiss</td><td>370.84</td></tr><tr><td>Carlos Daly</td><td>426.21</td></tr><tr><td>Carlos Meador</td><td>-43.73</td></tr><tr><td>Carlos Soltero</td><td>-126.62</td></tr><tr><td>Carol Adams</td><td>1143.39</td></tr><tr><td>Carol Darley</td><td>-206.71</td></tr><tr><td>Carol Triggs</td><td>160.9</td></tr><tr><td>Caroline Jumper</td><td>858.75</td></tr><tr><td>Cassandra Brandow</td><td>150.51</td></tr><tr><td>Catherine Glotzbach</td><td>86.31</td></tr><tr><td>Cathy Hwang</td><td>184.29</td></tr><tr><td>Cathy Prescott</td><td>426.94</td></tr><tr><td>Chad Cunningham</td><td>208.6</td></tr><tr><td>Chad McGuire</td><td>408.58</td></tr><tr><td>Chad Sievert</td><td>143.83</td></tr><tr><td>Charles Crestani</td><td>392.29</td></tr><tr><td>Charles McCrossin</td><td>-394.37</td></tr><tr><td>Charles Sheldon</td><td>113.15</td></tr><tr><td>Charlotte Melton</td><td>91.21</td></tr><tr><td>Chloris Kastensmidt</td><td>141.59</td></tr><tr><td>Chris Cortes</td><td>393.97</td></tr><tr><td>Chris McAfee</td><td>365.03</td></tr><tr><td>Chris Selesnick</td><td>738.41</td></tr><tr><td>Christina Anderson</td><td>279.9</td></tr><tr><td>Christina DeMoss</td><td>233.48</td></tr><tr><td>Christina VanderZanden</td><td>493.09</td></tr><tr><td>Christine Abelman</td><td>246.86</td></tr><tr><td>Christine Kargatis</td><td>261.23</td></tr><tr><td>Christine Phan</td><td>-1850.31</td></tr><tr><td>Christine Sundaresam</td><td>831.94</td></tr><tr><td>Christopher Conant</td><td>2177.07</td></tr><tr><td>Christopher Martinez</td><td>3900.04</td></tr><tr><td>Christopher Schild</td><td>-342.8</td></tr><tr><td>Christy Brittain</td><td>272.4</td></tr><tr><td>Chuck Clark</td><td>424.68</td></tr><tr><td>Chuck Magee</td><td>63.97</td></tr><tr><td>Chuck Sachs</td><td>156.27</td></tr><tr><td>Cindy Chapman</td><td>154.85</td></tr><tr><td>Cindy Schnelling</td><td>-302.86</td></tr><tr><td>Cindy Stewart</td><td>-6626.24</td></tr><tr><td>Claire Gute</td><td>169.93</td></tr><tr><td>Claudia Bergmann</td><td>1049.28</td></tr><tr><td>Clay Cheatham</td><td>34.3</td></tr><tr><td>Clay Ludtke</td><td>1933.19</td></tr><tr><td>Clay Rozendal</td><td>74.4</td></tr><tr><td>Clytie Kelty</td><td>491.12</td></tr><tr><td>Corey Catlett</td><td>331.27</td></tr><tr><td>Corey Roper</td><td>144.85</td></tr><tr><td>CoreyLock</td><td>205.9</td></tr><tr><td>Corinna Mitchell</td><td>1572.44</td></tr><tr><td>Craig Carreira</td><td>187.88</td></tr><tr><td>Craig Carroll</td><td>850.03</td></tr><tr><td>Craig Leslie</td><td>229.0</td></tr><tr><td>Craig Molinari</td><td>176.32</td></tr><tr><td>Craig Reiter</td><td>306.92</td></tr><tr><td>Craig Yedwab</td><td>60.64</td></tr><tr><td>Cthy Armstrong</td><td>211.64</td></tr><tr><td>Customer Name Unavailable</td><td>3126.82</td></tr><tr><td>Cyma Kinney</td><td>-338.44</td></tr><tr><td>Cynthia Arntzen</td><td>203.73</td></tr><tr><td>Cynthia Delaney</td><td>389.45</td></tr><tr><td>Cynthia Voltz</td><td>98.7</td></tr><tr><td>Cyra Reiten</td><td>83.27</td></tr><tr><td>Damala Kotsonis</td><td>881.52</td></tr><tr><td>Dan Campbell</td><td>-1441.28</td></tr><tr><td>Dan Lawera</td><td>321.85</td></tr><tr><td>Dan Reichenbach</td><td>1641.54</td></tr><tr><td>Dana Kaydos</td><td>925.97</td></tr><tr><td>Daniel Byrd</td><td>431.38</td></tr><tr><td>Daniel Lacy</td><td>4.39</td></tr><tr><td>Daniel Raglin</td><td>2869.08</td></tr><tr><td>Dario Medina</td><td>108.76</td></tr><tr><td>Darren Budd</td><td>212.54</td></tr><tr><td>Darren Koutras</td><td>-107.45</td></tr><tr><td>Darren Powers</td><td>241.69</td></tr><tr><td>Darrin Martin</td><td>1677.98</td></tr><tr><td>Darrin Sayre</td><td>193.78</td></tr><tr><td>Darrin Van Huff</td><td>-427.63</td></tr><tr><td>Dave Brooks</td><td>472.63</td></tr><tr><td>Dave Hallsten</td><td>1193.75</td></tr><tr><td>Dave Kipp</td><td>536.39</td></tr><tr><td>Dave Poirier</td><td>562.95</td></tr><tr><td>David Bremer</td><td>-1421.78</td></tr><tr><td>David Flashing</td><td>-259.31</td></tr><tr><td>David Klendrick</td><td>250.27</td></tr><tr><td>David Philippe</td><td>-40.94</td></tr><tr><td>David Smith</td><td>163.66</td></tr><tr><td>David Wiener</td><td>-86.97</td></tr><tr><td>Dean Braden</td><td>169.71</td></tr><tr><td>Dean Katz</td><td>210.27</td></tr><tr><td>DeanperceR</td><td>333.37</td></tr><tr><td>Deborah Brumfield</td><td>841.84</td></tr><tr><td>Debra Catini</td><td>132.08</td></tr><tr><td>Deirdre Greer</td><td>562.77</td></tr><tr><td>Delfina Latchford</td><td>288.92</td></tr><tr><td>Denise Leinenbach</td><td>222.69</td></tr><tr><td>Denise Monton</td><td>1319.07</td></tr><tr><td>Dennis Bolton</td><td>291.01</td></tr><tr><td>Dennis Kane</td><td>377.43</td></tr><tr><td>Dennis Pardue</td><td>1571.83</td></tr><tr><td>Denny Blanton</td><td>438.92</td></tr><tr><td>Denny Joy</td><td>483.03</td></tr><tr><td>Denny Ordway</td><td>-38.33</td></tr><tr><td>Dianna Arnett</td><td>56.79</td></tr><tr><td>Dianna Vittorini</td><td>353.09</td></tr><tr><td>Dianna Wilson</td><td>1348.75</td></tr><tr><td>Dionis Lloyd</td><td>-52.39</td></tr><tr><td>Don Jones</td><td>345.26</td></tr><tr><td>Don Miller</td><td>200.2</td></tr><tr><td>Don Weiss</td><td>69.66</td></tr><tr><td>Dorothy Badders</td><td>109.64</td></tr><tr><td>Dorothy Dickinson</td><td>36.44</td></tr><tr><td>Dorothy Wardle</td><td>-266.9</td></tr><tr><td>Dorrisliebe</td><td>175.23</td></tr><tr><td>Doug Bickford</td><td>438.8</td></tr><tr><td>Doug Jacobs</td><td>731.57</td></tr><tr><td>Doug OConnell</td><td>293.85</td></tr><tr><td>Duane Benoit</td><td>177.94</td></tr><tr><td>Duane Huffman</td><td>116.68</td></tr><tr><td>Duane Noonan</td><td>540.53</td></tr><tr><td>Ed Braxton</td><td>13.56</td></tr><tr><td>Ed Jacobs</td><td>-6964.03</td></tr><tr><td>Ed Ludwig</td><td>27.11</td></tr><tr><td>Edward Becker</td><td>-80.29</td></tr><tr><td>Edward Hooks</td><td>1393.5</td></tr><tr><td>Edward Nazzal</td><td>496.22</td></tr><tr><td>Eileen Kiefer</td><td>97.1</td></tr><tr><td>Elizabeth Moffitt</td><td>682.56</td></tr><tr><td>Ellis Ballard</td><td>656.2</td></tr><tr><td>Elpida Rittenbach</td><td>-295.33</td></tr><tr><td>Emily Burns</td><td>261.95</td></tr><tr><td>Emily Grady</td><td>103.9</td></tr><tr><td>Emily Phan</td><td>145.14</td></tr><tr><td>Eric Barreto</td><td>0.43</td></tr><tr><td>Eric Hoffmann</td><td>53.79</td></tr><tr><td>Eric Murdock</td><td>102.3</td></tr><tr><td>Erica Bern</td><td>162.89</td></tr><tr><td>Erica Hackney</td><td>150.37</td></tr><tr><td>Erica Hernandez</td><td>-94.72</td></tr><tr><td>Erica Smith</td><td>1003.08</td></tr><tr><td>Erin Ashbrook</td><td>-52.56</td></tr><tr><td>Erin Creighton</td><td>96.44</td></tr><tr><td>Erin Mull</td><td>40.03</td></tr><tr><td>Erin Smith</td><td>246.94</td></tr><tr><td>Eudokia Martin</td><td>240.23</td></tr><tr><td>Eugene Barchas</td><td>184.76</td></tr><tr><td>Eugene Hildebrand</td><td>96.21</td></tr><tr><td>Eugene Moren</td><td>1318.95</td></tr><tr><td>Eva Jacobs</td><td>451.88</td></tr><tr><td>Evan Bailliet</td><td>282.41</td></tr><tr><td>Evan Henry</td><td>242.13</td></tr><tr><td>Evan Minnotte</td><td>21.83</td></tr><tr><td>Filia McAdams</td><td>249.95</td></tr><tr><td>Frank Atkinson</td><td>520.33</td></tr><tr><td>Frank Carlisle</td><td>1217.18</td></tr><tr><td>Frank Gastineau</td><td>394.95</td></tr><tr><td>Frank Hawley</td><td>13400.33</td></tr><tr><td>Frank Merwin</td><td>197.89</td></tr><tr><td>Frank Olsen</td><td>215.59</td></tr><tr><td>Frank Preis</td><td>406.46</td></tr><tr><td>Fred Chung</td><td>714.29</td></tr><tr><td>Fred Harton</td><td>706.05</td></tr><tr><td>Fred Hopkins</td><td>2051.01</td></tr><tr><td>Fred McMath</td><td>191.09</td></tr><tr><td>Fred Waerman</td><td>23.5</td></tr><tr><td>Gary Hansen</td><td>-577.01</td></tr><tr><td>Gary Hwang</td><td>1176.39</td></tr><tr><td>Gary McGarr</td><td>347.27</td></tr><tr><td>Gary Mitchum</td><td>793.29</td></tr><tr><td>Gary Zandusky</td><td>1088.16</td></tr><tr><td>Gene Hale</td><td>-95.49</td></tr><tr><td>Gene McClure</td><td>441.32</td></tr><tr><td>George Ashbrook</td><td>840.89</td></tr><tr><td>George Bell</td><td>7.85</td></tr><tr><td>George Zrebassa</td><td>828.17</td></tr><tr><td>Georgia Rosenberg</td><td>359.88</td></tr><tr><td>Giulietta Baptist</td><td>1135.84</td></tr><tr><td>Giulietta Dortch</td><td>230.6</td></tr><tr><td>Giulietta Weimer</td><td>-268.55</td></tr><tr><td>Grace Kelly</td><td>1448.59</td></tr><tr><td>Grant Thornton</td><td>-4108.66</td></tr><tr><td>Greg Guthrie</td><td>12.69</td></tr><tr><td>Greg Hansen</td><td>-5.81</td></tr><tr><td>Greg Matthias</td><td>35.47</td></tr><tr><td>Greg Maxwell</td><td>188.46</td></tr><tr><td>Greg Tran</td><td>2163.29</td></tr><tr><td>Guy Armstrong</td><td>136.49</td></tr><tr><td>Guy Phonely</td><td>31.84</td></tr><tr><td>Guy Thornton</td><td>-6.14</td></tr><tr><td>Hallie Redmond</td><td>185.4</td></tr><tr><td>Harold Dahlen</td><td>-136.33</td></tr><tr><td>Harold Engle</td><td>273.97</td></tr><tr><td>Harold Pawlan</td><td>373.87</td></tr><tr><td>Harold Ryan</td><td>1197.37</td></tr><tr><td>Harry Greene</td><td>147.01</td></tr><tr><td>Harry Marie</td><td>2438.07</td></tr><tr><td>Heather Jas</td><td>98.67</td></tr><tr><td>Heather Kirkland</td><td>956.97</td></tr><tr><td>Helen Abelman</td><td>270.86</td></tr><tr><td>Helen Andreada</td><td>98.47</td></tr><tr><td>Helen Waerman</td><td>2164.17</td></tr><tr><td>Henia Zydlo</td><td>-130.39</td></tr><tr><td>Henry Goldwyn</td><td>-2797.95</td></tr><tr><td>Henry MacAllister</td><td>116.78</td></tr><tr><td>Herbert Flentye</td><td>-14.35</td></tr><tr><td>Hilary Holden</td><td>86.73</td></tr><tr><td>Hunter Glantz</td><td>804.62</td></tr><tr><td>Hunter Lopez</td><td>5622.43</td></tr><tr><td>Ionia McGrath</td><td>975.78</td></tr><tr><td>Irene Maddox</td><td>514.2</td></tr><tr><td>Ivan Gibson</td><td>320.48</td></tr><tr><td>Ivan Liston</td><td>1121.83</td></tr><tr><td>Jack Garza</td><td>684.53</td></tr><tr><td>Jack Lebron</td><td>-207.31</td></tr><tr><td>Jack OBriant</td><td>581.44</td></tr><tr><td>James Galang</td><td>1415.36</td></tr><tr><td>James Lanier</td><td>209.11</td></tr><tr><td>Jamie Frazer</td><td>575.78</td></tr><tr><td>Jamie Kunitz</td><td>1221.56</td></tr><tr><td>Jane Waco</td><td>2174.05</td></tr><tr><td>Janet Lee</td><td>54.51</td></tr><tr><td>Janet Martin</td><td>19.58</td></tr><tr><td>Janet Molinari</td><td>502.99</td></tr><tr><td>Jas OCarroll</td><td>201.24</td></tr><tr><td>Jason Fortune</td><td>97.41</td></tr><tr><td>Jason Gross</td><td>3.59</td></tr><tr><td>Jason Klamczynski</td><td>55.58</td></tr><tr><td>Jasper Cacioppo</td><td>-0.35</td></tr><tr><td>Jay Fein</td><td>330.2</td></tr><tr><td>Jay Kimmel</td><td>329.85</td></tr><tr><td>Jenna Caffey</td><td>502.93</td></tr><tr><td>Jennifer Braxton</td><td>156.05</td></tr><tr><td>Jennifer Ferguson</td><td>635.64</td></tr><tr><td>Jennifer Halladay</td><td>-24.06</td></tr><tr><td>Jennifer Jackson</td><td>200.56</td></tr><tr><td>Jennifer Patt</td><td>429.74</td></tr><tr><td>Jeremy Ellison</td><td>276.45</td></tr><tr><td>Jeremy Farry</td><td>-18.05</td></tr><tr><td>Jeremy Lonsdale</td><td>592.04</td></tr><tr><td>Jeremy Pistek</td><td>757.19</td></tr><tr><td>Jessica Myrick</td><td>356.53</td></tr><tr><td>Jesus Ocampo</td><td>167.13</td></tr><tr><td>Ji Stevenson</td><td>-174.94</td></tr><tr><td>Jill Fjeld</td><td>1074.07</td></tr><tr><td>Jill Matthias</td><td>113.12</td></tr><tr><td>Jim Epp</td><td>1623.11</td></tr><tr><td>Jim Karlsson</td><td>750.73</td></tr><tr><td>Jim Kriz</td><td>1172.9</td></tr><tr><td>Jim Mitchum</td><td>117.2</td></tr><tr><td>Jim Radford</td><td>-785.16</td></tr><tr><td>Jim Sink</td><td>-54.86</td></tr><tr><td>Jocasta Rupert</td><td>107.99</td></tr><tr><td>Joe Elijah</td><td>1262.11</td></tr><tr><td>Joe Kamberova</td><td>55.0</td></tr><tr><td>Joel Eaton</td><td>222.23</td></tr><tr><td>Joel Jenkins</td><td>34.46</td></tr><tr><td>John Castell</td><td>279.57</td></tr><tr><td>John Dryer</td><td>-266.56</td></tr><tr><td>John Grady</td><td>206.1</td></tr><tr><td>John Huston</td><td>26.07</td></tr><tr><td>John Lee</td><td>228.53</td></tr><tr><td>John Lucas</td><td>779.9</td></tr><tr><td>John Murray</td><td>1575.07</td></tr><tr><td>John Stevenson</td><td>564.97</td></tr><tr><td>Jonathan Doherty</td><td>1050.44</td></tr><tr><td>Jonathan Howell</td><td>-13.55</td></tr><tr><td>Joni Blumstein</td><td>-286.98</td></tr><tr><td>Joni Sundaresam</td><td>-327.93</td></tr><tr><td>Joni Waerman</td><td>-29.58</td></tr><tr><td>Joseph Airdo</td><td>-819.88</td></tr><tr><td>Joseph Holt</td><td>-644.48</td></tr><tr><td>Joy Bell</td><td>127.06</td></tr><tr><td>Joy Daniels</td><td>26.72</td></tr><tr><td>Joy Smith</td><td>-311.25</td></tr><tr><td>Julia Barnett</td><td>201.4</td></tr><tr><td>Julia Dunbar</td><td>111.12</td></tr><tr><td>Julia West</td><td>153.89</td></tr><tr><td>Juliana Krohn</td><td>586.67</td></tr><tr><td>Julie Creighton</td><td>201.6</td></tr><tr><td>Julie Kriz</td><td>122.66</td></tr><tr><td>Julie Prescott</td><td>309.3</td></tr><tr><td>Justin Deggeller</td><td>1618.74</td></tr><tr><td>Justin Ellison</td><td>790.02</td></tr><tr><td>Justin Hirsh</td><td>-96.96</td></tr><tr><td>Justin MacKendrick</td><td>753.7</td></tr><tr><td>Justin Ritter</td><td>452.37</td></tr><tr><td>Kalyca Meade</td><td>635.43</td></tr><tr><td>Karen Bern</td><td>764.23</td></tr><tr><td>Karen Carlisle</td><td>846.14</td></tr><tr><td>Karen Danels</td><td>1107.6</td></tr><tr><td>Karen Ferguson</td><td>1660.41</td></tr><tr><td>Karen Seio</td><td>0.11</td></tr><tr><td>Karl Braun</td><td>49.22</td></tr><tr><td>Katharine Harms</td><td>455.69</td></tr><tr><td>Katherine Ducich</td><td>328.59</td></tr><tr><td>Katherine Hughes</td><td>528.29</td></tr><tr><td>Katherine Murray</td><td>973.37</td></tr><tr><td>Katherine Nockton</td><td>-151.15</td></tr><tr><td>Katrina Bavinger</td><td>273.86</td></tr><tr><td>Katrina Edelman</td><td>397.89</td></tr><tr><td>Katrina Willman</td><td>1756.14</td></tr><tr><td>Kean Nguyen</td><td>113.82</td></tr><tr><td>Kean Takahito</td><td>253.75</td></tr><tr><td>Kean Thornton</td><td>194.07</td></tr><tr><td>Keith Dawkins</td><td>3038.93</td></tr><tr><td>Keith Herrera</td><td>656.12</td></tr><tr><td>Kelly Andreada</td><td>234.36</td></tr><tr><td>Kelly Collister</td><td>709.43</td></tr><tr><td>Kelly Lampkin</td><td>-182.79</td></tr><tr><td>Kelly Williams</td><td>108.39</td></tr><tr><td>Ken Black</td><td>578.89</td></tr><tr><td>Ken Brennan</td><td>293.9</td></tr><tr><td>Ken Heidel</td><td>727.51</td></tr><tr><td>Ken Lonsdale</td><td>806.5</td></tr><tr><td>Khloe Miller</td><td>90.67</td></tr><tr><td>Kimberly Carter</td><td>157.24</td></tr><tr><td>Kristen Hastings</td><td>1227.13</td></tr><tr><td>Kristina Nunn</td><td>329.77</td></tr><tr><td>Kunst Miller</td><td>745.4</td></tr><tr><td>Larry Blacks</td><td>18.65</td></tr><tr><td>Larry Hughes</td><td>12.63</td></tr><tr><td>Larry Tron</td><td>59.04</td></tr><tr><td>Laura Armstrong</td><td>2025.19</td></tr><tr><td>Laurel Beltran</td><td>-51.99</td></tr><tr><td>Laurel Elliston</td><td>161.75</td></tr><tr><td>Laurel Workman</td><td>32.59</td></tr><tr><td>Lauren Leatherbury</td><td>560.51</td></tr><tr><td>Lela Donovan</td><td>0.46</td></tr><tr><td>Lena Creighton</td><td>1288.74</td></tr><tr><td>Lena Hernandez</td><td>525.12</td></tr><tr><td>Lena Radford</td><td>535.29</td></tr><tr><td>Linda Cazamias</td><td>288.29</td></tr><tr><td>Linda Southworth</td><td>-318.44</td></tr><tr><td>Lindsay Castell</td><td>299.47</td></tr><tr><td>Lindsay Shagiari</td><td>262.27</td></tr><tr><td>Lindsay Williams</td><td>662.83</td></tr><tr><td>Lisa DeCherney</td><td>556.77</td></tr><tr><td>Lisa Hazard</td><td>-242.75</td></tr><tr><td>Lisa Ryan</td><td>-383.19</td></tr><tr><td>Liz Carlisle</td><td>86.77</td></tr><tr><td>Liz MacKendrick</td><td>-44.88</td></tr><tr><td>Liz Pelletier</td><td>110.79</td></tr><tr><td>Liz Preis</td><td>338.45</td></tr><tr><td>Liz Thompson</td><td>320.98</td></tr><tr><td>Liz Willingham</td><td>192.63</td></tr><tr><td>Logan Currie</td><td>230.53</td></tr><tr><td>Logan Haushalter</td><td>316.53</td></tr><tr><td>Lori Olson</td><td>150.16</td></tr><tr><td>Luke Foster</td><td>-3583.61</td></tr><tr><td>Luke Schmidt</td><td>243.82</td></tr><tr><td>Luke Weiss</td><td>837.67</td></tr><tr><td>Lycoris Saunders</td><td>64.57</td></tr><tr><td>Lynn Smith</td><td>347.97</td></tr><tr><td>Magdelene Morse</td><td>178.41</td></tr><tr><td>Marc Crier</td><td>461.02</td></tr><tr><td>Marc Harrigan</td><td>28.98</td></tr><tr><td>Maria Bertelson</td><td>213.34</td></tr><tr><td>Maria Etezadi</td><td>1858.97</td></tr><tr><td>Maria Zettner</td><td>85.02</td></tr><tr><td>Maribeth Dona</td><td>-241.23</td></tr><tr><td>Maribeth Yedwab</td><td>319.14</td></tr><tr><td>Maribethchnelling</td><td>844.95</td></tr><tr><td>Marina Lichtenstein</td><td>684.93</td></tr><tr><td>Maris LaWare</td><td>-76.47</td></tr><tr><td>Mark Cousins</td><td>1802.4</td></tr><tr><td>Mark Haberlin</td><td>61.43</td></tr><tr><td>Mark Hamilton</td><td>485.28</td></tr><tr><td>Mark Packer</td><td>600.3</td></tr><tr><td>Mark Van Huff</td><td>189.01</td></tr><tr><td>Mary ORourke</td><td>59.36</td></tr><tr><td>Mary Zewe</td><td>787.15</td></tr><tr><td>MaryBeth Skach</td><td>84.02</td></tr><tr><td>Mathew Reese</td><td>162.46</td></tr><tr><td>Matt Abelman</td><td>1240.56</td></tr><tr><td>Matt Collins</td><td>210.92</td></tr><tr><td>Matt Collister</td><td>288.99</td></tr><tr><td>Matt Connell</td><td>195.45</td></tr><tr><td>Matt Hagelstein</td><td>122.35</td></tr><tr><td>Matthew Clasen</td><td>-247.72</td></tr><tr><td>Matthew Grinstein</td><td>341.91</td></tr><tr><td>Maureen Fritzler</td><td>-341.53</td></tr><tr><td>Maureen Gastineau</td><td>25.89</td></tr><tr><td>Maureen Gnade</td><td>-398.8</td></tr><tr><td>Maurice Satty</td><td>247.43</td></tr><tr><td>Max Engle</td><td>77.59</td></tr><tr><td>Max Jones</td><td>1054.54</td></tr><tr><td>Max Ludwig</td><td>409.99</td></tr><tr><td>Maxwell Schwartz</td><td>280.81</td></tr><tr><td>Maya Herman</td><td>239.02</td></tr><tr><td>Meg OConnel</td><td>168.98</td></tr><tr><td>Meg Tillman</td><td>509.02</td></tr><tr><td>Melanie Seite</td><td>19.43</td></tr><tr><td>Michael Chen</td><td>698.42</td></tr><tr><td>Michael Dominguez</td><td>-4.05</td></tr><tr><td>Michael Grace</td><td>-470.77</td></tr><tr><td>Michael Granlund</td><td>171.45</td></tr><tr><td>Michael Kennedy</td><td>-405.43</td></tr><tr><td>Michael Moore</td><td>81.46</td></tr><tr><td>Michael Nguyen</td><td>290.82</td></tr><tr><td>Michael Oakman</td><td>-82.01</td></tr><tr><td>Michael Paige</td><td>637.74</td></tr><tr><td>Michael Stewart</td><td>55.23</td></tr><tr><td>Michelle Arnett</td><td>280.51</td></tr><tr><td>Michelle Ellison</td><td>107.35</td></tr><tr><td>Michelle Huthwaite</td><td>476.74</td></tr><tr><td>Michelle Lonsdale</td><td>138.71</td></tr><tr><td>Michelle Moray</td><td>-520.45</td></tr><tr><td>Michelle Tran</td><td>-23.45</td></tr><tr><td>Mick Brown</td><td>118.05</td></tr><tr><td>Mick Crebagga</td><td>-64.4</td></tr><tr><td>Mick Hernandez</td><td>170.98</td></tr><tr><td>Mike Caudle</td><td>121.74</td></tr><tr><td>Mike Gockenbach</td><td>-93.49</td></tr><tr><td>Mike Kennedy</td><td>227.43</td></tr><tr><td>Mike Pelletier</td><td>225.49</td></tr><tr><td>Mike Vittorini</td><td>273.99</td></tr><tr><td>Mitch Gastineau</td><td>-1.24</td></tr><tr><td>Mitch Webber</td><td>1237.92</td></tr><tr><td>Mitch Willingham</td><td>1665.52</td></tr><tr><td>Monica Federle</td><td>456.86</td></tr><tr><td>Muhammed Lee</td><td>42.67</td></tr><tr><td>Muhammed MacIntyre</td><td>58.56</td></tr><tr><td>Muhammed YeDwab</td><td>-371.71</td></tr><tr><td>Nancy Lomonaco</td><td>343.8</td></tr><tr><td>Nat Carroll</td><td>580.31</td></tr><tr><td>Nat Gilpin</td><td>313.63</td></tr><tr><td>Natalie DeCherney</td><td>353.24</td></tr><tr><td>Natalie Fritzler</td><td>-1696.35</td></tr><tr><td>Natalie Webber</td><td>1022.63</td></tr><tr><td>Nathan Cano</td><td>-2204.81</td></tr><tr><td>Nathan Gelder</td><td>217.1</td></tr><tr><td>Nathan Mautz</td><td>2751.7</td></tr><tr><td>Neil Ducich</td><td>443.34</td></tr><tr><td>Neil Franzsisch</td><td>85.92</td></tr><tr><td>Neil Knudson</td><td>121.23</td></tr><tr><td>Neola Schneider</td><td>-12.31</td></tr><tr><td>Neoma Murray</td><td>788.95</td></tr><tr><td>Nick Crebassa</td><td>1314.02</td></tr><tr><td>Nick Radford</td><td>-25.13</td></tr><tr><td>Nick Zandusky</td><td>402.56</td></tr><tr><td>Nicole Brennan</td><td>24.79</td></tr><tr><td>Nicole Fjeld</td><td>388.31</td></tr><tr><td>Nicole Hansen</td><td>760.17</td></tr><tr><td>Noah Childs</td><td>-358.91</td></tr><tr><td>Noel Staavos</td><td>-234.89</td></tr><tr><td>Nona Balk</td><td>117.64</td></tr><tr><td>Nora Pelletier</td><td>514.5</td></tr><tr><td>Nora Preis</td><td>630.82</td></tr><tr><td>Nra Paige</td><td>513.15</td></tr><tr><td>Odella Nelson</td><td>-5.53</td></tr><tr><td>Olvera Toch</td><td>-925.56</td></tr><tr><td>Pamela Coakley</td><td>272.68</td></tr><tr><td>Pamela Stobb</td><td>-134.44</td></tr><tr><td>Parhena Norris</td><td>192.04</td></tr><tr><td>Patricia Hirasaki</td><td>47.89</td></tr><tr><td>Patrick Bzostek</td><td>228.77</td></tr><tr><td>Patrick Gardner</td><td>137.49</td></tr><tr><td>Patrick Jones</td><td>442.14</td></tr><tr><td>Patrick OBrill</td><td>37.64</td></tr><tr><td>Patrick ODonnell</td><td>437.94</td></tr><tr><td>Patrick Ryan</td><td>5596.2</td></tr><tr><td>Paul Gonzalez</td><td>334.97</td></tr><tr><td>Paul Knutson</td><td>-798.71</td></tr><tr><td>Paul Lucas</td><td>-0.76</td></tr><tr><td>Paul MacIntyre</td><td>157.88</td></tr><tr><td>Paul Prost</td><td>1495.47</td></tr><tr><td>Paul Stevenson</td><td>198.53</td></tr><tr><td>Paul Van Hugh</td><td>434.25</td></tr><tr><td>Pauline Chand</td><td>-184.34</td></tr><tr><td>Pauline Johnson</td><td>682.68</td></tr><tr><td>Pauline Webber</td><td>803.82</td></tr><tr><td>Penelope Sewall</td><td>3183.78</td></tr><tr><td>Pete Armstrong</td><td>225.86</td></tr><tr><td>Pete Kriz</td><td>2037.9</td></tr><tr><td>Pete Takahito</td><td>-20.05</td></tr><tr><td>Peter Bhler</td><td>218.16</td></tr><tr><td>Peter Fuller</td><td>-614.02</td></tr><tr><td>Peter McVee</td><td>526.76</td></tr><tr><td>Philip Brown</td><td>280.27</td></tr><tr><td>Philip Fox</td><td>196.88</td></tr><tr><td>Philisse Overcash</td><td>1155.24</td></tr><tr><td>Phillina Ober</td><td>-49.69</td></tr><tr><td>Phillip Breyer</td><td>21.9</td></tr><tr><td>Phillip Flathmann</td><td>591.29</td></tr><tr><td>Pierre Wener</td><td>1291.15</td></tr><tr><td>Quincy Jones</td><td>1203.69</td></tr><tr><td>Rachel Payne</td><td>59.52</td></tr><tr><td>Ralph Arnett</td><td>545.72</td></tr><tr><td>Ralph Kennedy</td><td>269.69</td></tr><tr><td>Ralph Ritter</td><td>-73.83</td></tr><tr><td>Randy Bradley</td><td>-164.41</td></tr><tr><td>Randy Ferguson</td><td>633.68</td></tr><tr><td>Raymond Buch</td><td>6976.36</td></tr><tr><td>Raymond Messe</td><td>392.6</td></tr><tr><td>Resi Plking</td><td>464.96</td></tr><tr><td>Ricardo Emerson</td><td>6.05</td></tr><tr><td>Ricardo Sperren</td><td>633.45</td></tr><tr><td>Richard Bierner</td><td>477.63</td></tr><tr><td>Richard Eichhorn</td><td>209.25</td></tr><tr><td>Rick Bensley</td><td>640.55</td></tr><tr><td>Rick Duston</td><td>480.59</td></tr><tr><td>Rick Hansen</td><td>563.78</td></tr><tr><td>Rick Huthwaite</td><td>1289.45</td></tr><tr><td>Rick Reed</td><td>721.69</td></tr><tr><td>Rick Wilson</td><td>1586.23</td></tr><tr><td>Ritsa Hightower</td><td>0.31</td></tr><tr><td>Rob Beeghly</td><td>76.9</td></tr><tr><td>Rob Dowd</td><td>734.52</td></tr><tr><td>Rob Haberlin</td><td>172.63</td></tr><tr><td>Rob Lucas</td><td>213.98</td></tr><tr><td>Rob Williams</td><td>699.06</td></tr><tr><td>Robert Barroso</td><td>72.68</td></tr><tr><td>Robert Dilbeck</td><td>835.77</td></tr><tr><td>Robert Marley</td><td>1902.55</td></tr><tr><td>Robert Waldorf</td><td>707.55</td></tr><tr><td>Roger Barcio</td><td>243.08</td></tr><tr><td>Roger Demir</td><td>207.72</td></tr><tr><td>Roland Fjeld</td><td>711.84</td></tr><tr><td>Roland Murray</td><td>28.68</td></tr><tr><td>Roland Schwarz</td><td>1206.39</td></tr><tr><td>Rose OBrian</td><td>-1262.8</td></tr><tr><td>Ross Baird</td><td>-461.74</td></tr><tr><td>Ross DeVincentis</td><td>318.45</td></tr><tr><td>Roy Collins</td><td>63.57</td></tr><tr><td>Roy Franzsisch</td><td>280.09</td></tr><tr><td>Roy Phan</td><td>594.78</td></tr><tr><td>Roy Skaria</td><td>9.58</td></tr><tr><td>Ruben Ausman</td><td>1292.81</td></tr><tr><td>Ruben Dartt</td><td>455.52</td></tr><tr><td>Russell Applegate</td><td>305.29</td></tr><tr><td>Russell DAscenzo</td><td>35.04</td></tr><tr><td>Ryan Akin</td><td>-445.69</td></tr><tr><td>Ryan Crowe</td><td>10.54</td></tr><tr><td>Sally Knutson</td><td>168.79</td></tr><tr><td>Sally Matthias</td><td>-26.59</td></tr><tr><td>Sam Craven</td><td>-317.51</td></tr><tr><td>Sam Zeldin</td><td>366.42</td></tr><tr><td>Sample Company A</td><td>1011.73</td></tr><tr><td>Sandra Flanagan</td><td>227.76</td></tr><tr><td>Sandra Glassco</td><td>570.45</td></tr><tr><td>Sanjit Chand</td><td>5757.3</td></tr><tr><td>Sanjit Engle</td><td>2650.67</td></tr><tr><td>Sanjit Jacobs</td><td>143.73</td></tr><tr><td>Saphhira Shifley</td><td>332.03</td></tr><tr><td>Sara Luxemburg</td><td>528.04</td></tr><tr><td>Sarah Bern</td><td>157.68</td></tr><tr><td>Sarah Brown</td><td>885.96</td></tr><tr><td>Sarah Foster</td><td>287.0</td></tr><tr><td>Sarah Jordon</td><td>-23.38</td></tr><tr><td>Scot Coram</td><td>439.83</td></tr><tr><td>Scot Wooten</td><td>-19.58</td></tr><tr><td>Scott Cohen</td><td>670.98</td></tr><tr><td>Scott Williamson</td><td>332.76</td></tr><tr><td>Sean Braxton</td><td>-2082.75</td></tr><tr><td>Sean Christensen</td><td>229.11</td></tr><tr><td>Sean Miller</td><td>-1980.98</td></tr><tr><td>Sean ODonnell</td><td>-81.42</td></tr><tr><td>Sean Wendt</td><td>95.84</td></tr><tr><td>Seth Vernon</td><td>1200.14</td></tr><tr><td>Shahi Collister</td><td>-3164.0</td></tr><tr><td>Shahi Hopkins</td><td>-144.52</td></tr><tr><td>Shahi Shariari</td><td>-1011.08</td></tr><tr><td>Sharelle Roach</td><td>-3334.17</td></tr><tr><td>Shaun Chance</td><td>379.57</td></tr><tr><td>Shaun Weien</td><td>793.64</td></tr><tr><td>Sheri Gordon</td><td>-119.01</td></tr><tr><td>Shirley Daniels</td><td>1985.19</td></tr><tr><td>Shirley Jackson</td><td>68.59</td></tr><tr><td>Shirley Schmidt</td><td>199.93</td></tr><tr><td>Shui Tom</td><td>85.12</td></tr><tr><td>Sibella Parks</td><td>-118.38</td></tr><tr><td>Skye Norling</td><td>-716.84</td></tr><tr><td>Sonia Cooley</td><td>100.23</td></tr><tr><td>Sonia Sunley</td><td>135.91</td></tr><tr><td>Speros Goranitis</td><td>463.27</td></tr><tr><td>Stefania Perrino</td><td>-270.19</td></tr><tr><td>Stefanie Holloman</td><td>260.63</td></tr><tr><td>Stephanie Phelps</td><td>268.47</td></tr><tr><td>Stephanie Ulpright</td><td>763.7</td></tr><tr><td>Steve Carroll</td><td>370.17</td></tr><tr><td>Steve Chapman</td><td>611.82</td></tr><tr><td>Steve Nguyen</td><td>481.75</td></tr><tr><td>Steven Cartwright</td><td>1276.42</td></tr><tr><td>Steven Roelle</td><td>1990.43</td></tr><tr><td>Steven Ward</td><td>68.24</td></tr><tr><td>Stewart Carmichael</td><td>-671.38</td></tr><tr><td>Stewart Visinsky</td><td>484.85</td></tr><tr><td>Stuart Calhoun</td><td>52.21</td></tr><tr><td>Stuart Van</td><td>199.64</td></tr><tr><td>Sue Ann Reed</td><td>610.14</td></tr><tr><td>Sung Chung</td><td>31.18</td></tr><tr><td>Sung Pak</td><td>567.12</td></tr><tr><td>Sung Shariari</td><td>-75.57</td></tr><tr><td>Susan Gilcrest</td><td>-3.7</td></tr><tr><td>Susan MacKendrick</td><td>-16510.34</td></tr><tr><td>Susan Pistek</td><td>14.37</td></tr><tr><td>Susan Vittorini</td><td>106.62</td></tr><tr><td>Suzanne McNair</td><td>581.57</td></tr><tr><td>Sylvia Foulston</td><td>539.94</td></tr><tr><td>Tamara Chand</td><td>8981.32</td></tr><tr><td>Tamara Dahlen</td><td>88.64</td></tr><tr><td>Tamara Manning</td><td>573.46</td></tr><tr><td>Tamara Willingham</td><td>737.39</td></tr><tr><td>Tanja Norvell</td><td>-692.05</td></tr><tr><td>Ted Butterfield</td><td>389.76</td></tr><tr><td>Ted Trevino</td><td>752.17</td></tr><tr><td>Thais Sissman</td><td>-3.32</td></tr><tr><td>Thea Hendricks</td><td>-135.22</td></tr><tr><td>Thea Hudgings</td><td>-252.55</td></tr><tr><td>Theone Pippenger</td><td>1128.65</td></tr><tr><td>Theresa Coyne</td><td>265.59</td></tr><tr><td>Theresa Swint</td><td>260.63</td></tr><tr><td>Thomas Boland</td><td>828.71</td></tr><tr><td>Thomas Brumley</td><td>179.01</td></tr><tr><td>Thomas Seio</td><td>862.94</td></tr><tr><td>Thomas Thornton</td><td>278.75</td></tr><tr><td>Tiffany House</td><td>92.55</td></tr><tr><td>Tim Brockman</td><td>260.3</td></tr><tr><td>Tim Taslimi</td><td>93.92</td></tr><tr><td>Toby Braunhardt</td><td>491.13</td></tr><tr><td>Toby Carlisle</td><td>606.37</td></tr><tr><td>Toby Gnade</td><td>682.17</td></tr><tr><td>Toby Ritter</td><td>220.36</td></tr><tr><td>Toby Swindell</td><td>-185.0</td></tr><tr><td>Todd Boyes</td><td>268.96</td></tr><tr><td>Todd Sumrall</td><td>2371.73</td></tr><tr><td>Tom Ashbrook</td><td>4703.73</td></tr><tr><td>Tom Boeckenhauer</td><td>2798.06</td></tr><tr><td>Tom Prescott</td><td>-1087.38</td></tr><tr><td>Tom Stivers</td><td>48.9</td></tr><tr><td>Tonja Turnell</td><td>1124.38</td></tr><tr><td>Tony Chapman</td><td>119.13</td></tr><tr><td>Tony Molinari</td><td>292.53</td></tr><tr><td>Tracy Blumstein</td><td>-1603.05</td></tr><tr><td>Tracy Collins</td><td>217.95</td></tr><tr><td>Tracy Hopkins</td><td>-571.98</td></tr><tr><td>Tracy Poddar</td><td>139.44</td></tr><tr><td>Tracy Zic</td><td>224.9</td></tr><tr><td>Troy Blackwell</td><td>-136.47</td></tr><tr><td>Troy Staebel</td><td>-294.89</td></tr><tr><td>Trudy Brown</td><td>379.81</td></tr><tr><td>Trudy Glocke</td><td>365.12</td></tr><tr><td>Trudy Schmidt</td><td>220.73</td></tr><tr><td>Valerie Dominguez</td><td>1617.61</td></tr><tr><td>Valerie Mitchum</td><td>513.63</td></tr><tr><td>Valerie Takahito</td><td>-224.93</td></tr><tr><td>Vicky Freymann</td><td>-96.28</td></tr><tr><td>Victor Preis</td><td>205.39</td></tr><tr><td>Victoria Brennan</td><td>371.25</td></tr><tr><td>Victoria Pisteka</td><td>-1018.91</td></tr><tr><td>Victoria Wilson</td><td>-874.66</td></tr><tr><td>Vivek Gonzalez</td><td>144.12</td></tr><tr><td>Vivek Grady</td><td>-52.33</td></tr><tr><td>Vivek Sundaresam</td><td>-263.08</td></tr><tr><td>Vivian Mathis</td><td>116.64</td></tr><tr><td>William Brown</td><td>714.52</td></tr><tr><td>Xylona Preis</td><td>621.37</td></tr><tr><td>Yana Sorensen</td><td>1778.31</td></tr><tr><td>Yoseph Carroll</td><td>1305.64</td></tr><tr><td>Zuschuss Carroll</td><td>-1032.36</td></tr><tr><td>Zuschuss Donatelli</td><td>248.75</td></tr></tbody></table></div>"
      ]
     },
     "metadata": {
      "application/vnd.databricks.v1+output": {
       "addedWidgets": {},
       "aggData": [],
       "aggError": "",
       "aggOverflow": false,
       "aggSchema": [],
       "aggSeriesLimitReached": false,
       "aggType": "",
       "arguments": {},
       "columnCustomDisplayInfos": {},
       "data": [
        [
         "Aaron Bergman",
         129.68
        ],
        [
         "Aaron Hawkins",
         365.22
        ],
        [
         "Aaron Smayling",
         -253.59
        ],
        [
         "Adam Bellavance",
         2054.6
        ],
        [
         "Adam Hart",
         280.8
        ],
        [
         "Adam Shillingsburg",
         64.32
        ],
        [
         "Adrian Barton",
         5444.97
        ],
        [
         "Adrian Hane",
         -2.5
        ],
        [
         "Adrian Shami",
         21.84
        ],
        [
         "Aimee Bixby",
         313.66
        ],
        [
         "Alan Barnes",
         220.61
        ],
        [
         "Alan Dominguez",
         1869.92
        ],
        [
         "Alan Haines",
         -378.04
        ],
        [
         "Alan Hwang",
         1308.56
        ],
        [
         "Alan Schoenberger",
         719.77
        ],
        [
         "Alan Shonely",
         33.69
        ],
        [
         "Alejandro Ballentine",
         264.57
        ],
        [
         "Alejandro Grove",
         732.75
        ],
        [
         "Alejandro Savely",
         354.63
        ],
        [
         "Aleksandra Gannaway",
         59.3
        ],
        [
         "Alex Avila",
         -362.9
        ],
        [
         "Alex Grayson",
         -5.36
        ],
        [
         "Alex Russell",
         -221.05
        ],
        [
         "Alice McCarthy",
         194.99
        ],
        [
         "Allen Armold",
         277.4
        ],
        [
         "Allen Goldenen",
         69.27
        ],
        [
         "Allen Rosenblatt",
         -98.52
        ],
        [
         "Alyssa Crouse",
         -62.13
        ],
        [
         "Alyssa Tate",
         100.87
        ],
        [
         "Amy Cox",
         1366.5
        ],
        [
         "Amy Hunt",
         -195.99
        ],
        [
         "Andrew Allen",
         436.08
        ],
        [
         "Andrew Gjertsen",
         295.84
        ],
        [
         "Andrew Roberts",
         43.65
        ],
        [
         "Andy Gerbode",
         -152.75
        ],
        [
         "Andy Reiter",
         2884.61
        ],
        [
         "Andy Yotov",
         103.34
        ],
        [
         "Anemone Ratner",
         32.64
        ],
        [
         "Angele Hood",
         83.97
        ],
        [
         "Ann Blume",
         -275.28
        ],
        [
         "Ann Chong",
         298.61
        ],
        [
         "Ann Steele",
         136.6
        ],
        [
         "Anna Andreadi",
         857.8
        ],
        [
         "Anna Chung",
         -28.7
        ],
        [
         "Anna Gayman",
         -246.4
        ],
        [
         "Anna Hberlin",
         1296.89
        ],
        [
         "Anne McFarland",
         969.06
        ],
        [
         "Anne Pryor",
         285.8
        ],
        [
         "Annie Thurman",
         974.57
        ],
        [
         "Annie Zypern",
         154.77
        ],
        [
         "Anthony Garverick",
         -8.42
        ],
        [
         "Anthony Jacobs",
         150.72
        ],
        [
         "Anthony Johnson",
         1158.71
        ],
        [
         "Anthony ODonnell",
         12.1
        ],
        [
         "Anthony Rawles",
         495.07
        ],
        [
         "Anthony Witt",
         65.78
        ],
        [
         "Arianne Irving",
         867.87
        ],
        [
         "Art Ferguson",
         317.63
        ],
        [
         "Art Foster",
         -163.13
        ],
        [
         "Arthur Gainer",
         343.67
        ],
        [
         "Arthur Prichep",
         579.7
        ],
        [
         "Arthur Wiediger",
         -104.44
        ],
        [
         "Ashley Jarboe",
         521.14
        ],
        [
         "Astrea Jones",
         60.43
        ],
        [
         "Barbara Fisher",
         227.3
        ],
        [
         "Barry Blumstein",
         11.57
        ],
        [
         "Barry Franz",
         -291.37
        ],
        [
         "Barry Franzsisch",
         301.44
        ],
        [
         "Barry Gonzalez",
         -710.8
        ],
        [
         "Barry Pond",
         209.66
        ],
        [
         "Barry Weirich",
         -58.29
        ],
        [
         "Bart Folk",
         110.99
        ],
        [
         "Bart Pistole",
         433.59
        ],
        [
         "Bart Watters",
         921.38
        ],
        [
         "Becky Castell",
         251.19
        ],
        [
         "Becky Martin",
         -1659.97
        ],
        [
         "Becky Pak",
         647.0
        ],
        [
         "Ben Ferrer",
         1938.67
        ],
        [
         "Ben Peterman",
         363.61
        ],
        [
         "Ben Wallace",
         247.0
        ],
        [
         "Benjamin Farhat",
         523.09
        ],
        [
         "Benjamin Patterson",
         -197.39
        ],
        [
         "Benjamin Venier",
         315.23
        ],
        [
         "Berenike Kampe",
         -63.3
        ],
        [
         "Beth Fritzler",
         25.88
        ],
        [
         "Beth Paige",
         -318.85
        ],
        [
         "Beth Thompson",
         417.58
        ],
        [
         "Bil Donatelli",
         1094.51
        ],
        [
         "Bil Eplett",
         1487.79
        ],
        [
         "Bil Overfelt",
         278.43
        ],
        [
         "Bil Shonely",
         2616.41
        ],
        [
         "Bil Stewart",
         -17.53
        ],
        [
         "Bil Tyler",
         257.9
        ],
        [
         "Bobby Elias",
         755.91
        ],
        [
         "Bobby Odegard",
         59.46
        ],
        [
         "Bobby Trafton",
         -77.27
        ],
        [
         "Brad Eason",
         139.21
        ],
        [
         "Brad Norvell",
         36.61
        ],
        [
         "Brad Thomas",
         126.87
        ],
        [
         "Bradley Drucker",
         1142.12
        ],
        [
         "Bradley Nguyen",
         340.72
        ],
        [
         "Bradley Talbott",
         409.49
        ],
        [
         "Brenda Bowman",
         1014.65
        ],
        [
         "Brendan Dodson",
         116.71
        ],
        [
         "Brendan Murry",
         95.58
        ],
        [
         "Brendan Sweed",
         381.39
        ],
        [
         "Brian Dahlen",
         634.83
        ],
        [
         "Brian DeCherney",
         207.02
        ],
        [
         "Brian Derr",
         141.43
        ],
        [
         "Brian Moss",
         2198.83
        ],
        [
         "Brian Stugart",
         238.73
        ],
        [
         "Brian Thompson",
         447.81
        ],
        [
         "Brooke Gillingham",
         107.59
        ],
        [
         "Brosina Hoffman",
         789.63
        ],
        [
         "Bruce Degenhardt",
         334.47
        ],
        [
         "Bruce Geld",
         119.35
        ],
        [
         "Bruce Stewart",
         -113.31
        ],
        [
         "Bryan Davis",
         141.28
        ],
        [
         "Bryan Mills",
         137.72
        ],
        [
         "Bryan Spruell",
         194.05
        ],
        [
         "Candace McMahon",
         214.85
        ],
        [
         "Cari Sayre",
         185.55
        ],
        [
         "Cari Schnelling",
         105.82
        ],
        [
         "Carl Jackson",
         1.65
        ],
        [
         "Carl Ludwig",
         328.08
        ],
        [
         "Carl Weiss",
         370.84
        ],
        [
         "Carlos Daly",
         426.21
        ],
        [
         "Carlos Meador",
         -43.73
        ],
        [
         "Carlos Soltero",
         -126.62
        ],
        [
         "Carol Adams",
         1143.39
        ],
        [
         "Carol Darley",
         -206.71
        ],
        [
         "Carol Triggs",
         160.9
        ],
        [
         "Caroline Jumper",
         858.75
        ],
        [
         "Cassandra Brandow",
         150.51
        ],
        [
         "Catherine Glotzbach",
         86.31
        ],
        [
         "Cathy Hwang",
         184.29
        ],
        [
         "Cathy Prescott",
         426.94
        ],
        [
         "Chad Cunningham",
         208.6
        ],
        [
         "Chad McGuire",
         408.58
        ],
        [
         "Chad Sievert",
         143.83
        ],
        [
         "Charles Crestani",
         392.29
        ],
        [
         "Charles McCrossin",
         -394.37
        ],
        [
         "Charles Sheldon",
         113.15
        ],
        [
         "Charlotte Melton",
         91.21
        ],
        [
         "Chloris Kastensmidt",
         141.59
        ],
        [
         "Chris Cortes",
         393.97
        ],
        [
         "Chris McAfee",
         365.03
        ],
        [
         "Chris Selesnick",
         738.41
        ],
        [
         "Christina Anderson",
         279.9
        ],
        [
         "Christina DeMoss",
         233.48
        ],
        [
         "Christina VanderZanden",
         493.09
        ],
        [
         "Christine Abelman",
         246.86
        ],
        [
         "Christine Kargatis",
         261.23
        ],
        [
         "Christine Phan",
         -1850.31
        ],
        [
         "Christine Sundaresam",
         831.94
        ],
        [
         "Christopher Conant",
         2177.07
        ],
        [
         "Christopher Martinez",
         3900.04
        ],
        [
         "Christopher Schild",
         -342.8
        ],
        [
         "Christy Brittain",
         272.4
        ],
        [
         "Chuck Clark",
         424.68
        ],
        [
         "Chuck Magee",
         63.97
        ],
        [
         "Chuck Sachs",
         156.27
        ],
        [
         "Cindy Chapman",
         154.85
        ],
        [
         "Cindy Schnelling",
         -302.86
        ],
        [
         "Cindy Stewart",
         -6626.24
        ],
        [
         "Claire Gute",
         169.93
        ],
        [
         "Claudia Bergmann",
         1049.28
        ],
        [
         "Clay Cheatham",
         34.3
        ],
        [
         "Clay Ludtke",
         1933.19
        ],
        [
         "Clay Rozendal",
         74.4
        ],
        [
         "Clytie Kelty",
         491.12
        ],
        [
         "Corey Catlett",
         331.27
        ],
        [
         "Corey Roper",
         144.85
        ],
        [
         "CoreyLock",
         205.9
        ],
        [
         "Corinna Mitchell",
         1572.44
        ],
        [
         "Craig Carreira",
         187.88
        ],
        [
         "Craig Carroll",
         850.03
        ],
        [
         "Craig Leslie",
         229.0
        ],
        [
         "Craig Molinari",
         176.32
        ],
        [
         "Craig Reiter",
         306.92
        ],
        [
         "Craig Yedwab",
         60.64
        ],
        [
         "Cthy Armstrong",
         211.64
        ],
        [
         "Customer Name Unavailable",
         3126.82
        ],
        [
         "Cyma Kinney",
         -338.44
        ],
        [
         "Cynthia Arntzen",
         203.73
        ],
        [
         "Cynthia Delaney",
         389.45
        ],
        [
         "Cynthia Voltz",
         98.7
        ],
        [
         "Cyra Reiten",
         83.27
        ],
        [
         "Damala Kotsonis",
         881.52
        ],
        [
         "Dan Campbell",
         -1441.28
        ],
        [
         "Dan Lawera",
         321.85
        ],
        [
         "Dan Reichenbach",
         1641.54
        ],
        [
         "Dana Kaydos",
         925.97
        ],
        [
         "Daniel Byrd",
         431.38
        ],
        [
         "Daniel Lacy",
         4.39
        ],
        [
         "Daniel Raglin",
         2869.08
        ],
        [
         "Dario Medina",
         108.76
        ],
        [
         "Darren Budd",
         212.54
        ],
        [
         "Darren Koutras",
         -107.45
        ],
        [
         "Darren Powers",
         241.69
        ],
        [
         "Darrin Martin",
         1677.98
        ],
        [
         "Darrin Sayre",
         193.78
        ],
        [
         "Darrin Van Huff",
         -427.63
        ],
        [
         "Dave Brooks",
         472.63
        ],
        [
         "Dave Hallsten",
         1193.75
        ],
        [
         "Dave Kipp",
         536.39
        ],
        [
         "Dave Poirier",
         562.95
        ],
        [
         "David Bremer",
         -1421.78
        ],
        [
         "David Flashing",
         -259.31
        ],
        [
         "David Klendrick",
         250.27
        ],
        [
         "David Philippe",
         -40.94
        ],
        [
         "David Smith",
         163.66
        ],
        [
         "David Wiener",
         -86.97
        ],
        [
         "Dean Braden",
         169.71
        ],
        [
         "Dean Katz",
         210.27
        ],
        [
         "DeanperceR",
         333.37
        ],
        [
         "Deborah Brumfield",
         841.84
        ],
        [
         "Debra Catini",
         132.08
        ],
        [
         "Deirdre Greer",
         562.77
        ],
        [
         "Delfina Latchford",
         288.92
        ],
        [
         "Denise Leinenbach",
         222.69
        ],
        [
         "Denise Monton",
         1319.07
        ],
        [
         "Dennis Bolton",
         291.01
        ],
        [
         "Dennis Kane",
         377.43
        ],
        [
         "Dennis Pardue",
         1571.83
        ],
        [
         "Denny Blanton",
         438.92
        ],
        [
         "Denny Joy",
         483.03
        ],
        [
         "Denny Ordway",
         -38.33
        ],
        [
         "Dianna Arnett",
         56.79
        ],
        [
         "Dianna Vittorini",
         353.09
        ],
        [
         "Dianna Wilson",
         1348.75
        ],
        [
         "Dionis Lloyd",
         -52.39
        ],
        [
         "Don Jones",
         345.26
        ],
        [
         "Don Miller",
         200.2
        ],
        [
         "Don Weiss",
         69.66
        ],
        [
         "Dorothy Badders",
         109.64
        ],
        [
         "Dorothy Dickinson",
         36.44
        ],
        [
         "Dorothy Wardle",
         -266.9
        ],
        [
         "Dorrisliebe",
         175.23
        ],
        [
         "Doug Bickford",
         438.8
        ],
        [
         "Doug Jacobs",
         731.57
        ],
        [
         "Doug OConnell",
         293.85
        ],
        [
         "Duane Benoit",
         177.94
        ],
        [
         "Duane Huffman",
         116.68
        ],
        [
         "Duane Noonan",
         540.53
        ],
        [
         "Ed Braxton",
         13.56
        ],
        [
         "Ed Jacobs",
         -6964.03
        ],
        [
         "Ed Ludwig",
         27.11
        ],
        [
         "Edward Becker",
         -80.29
        ],
        [
         "Edward Hooks",
         1393.5
        ],
        [
         "Edward Nazzal",
         496.22
        ],
        [
         "Eileen Kiefer",
         97.1
        ],
        [
         "Elizabeth Moffitt",
         682.56
        ],
        [
         "Ellis Ballard",
         656.2
        ],
        [
         "Elpida Rittenbach",
         -295.33
        ],
        [
         "Emily Burns",
         261.95
        ],
        [
         "Emily Grady",
         103.9
        ],
        [
         "Emily Phan",
         145.14
        ],
        [
         "Eric Barreto",
         0.43
        ],
        [
         "Eric Hoffmann",
         53.79
        ],
        [
         "Eric Murdock",
         102.3
        ],
        [
         "Erica Bern",
         162.89
        ],
        [
         "Erica Hackney",
         150.37
        ],
        [
         "Erica Hernandez",
         -94.72
        ],
        [
         "Erica Smith",
         1003.08
        ],
        [
         "Erin Ashbrook",
         -52.56
        ],
        [
         "Erin Creighton",
         96.44
        ],
        [
         "Erin Mull",
         40.03
        ],
        [
         "Erin Smith",
         246.94
        ],
        [
         "Eudokia Martin",
         240.23
        ],
        [
         "Eugene Barchas",
         184.76
        ],
        [
         "Eugene Hildebrand",
         96.21
        ],
        [
         "Eugene Moren",
         1318.95
        ],
        [
         "Eva Jacobs",
         451.88
        ],
        [
         "Evan Bailliet",
         282.41
        ],
        [
         "Evan Henry",
         242.13
        ],
        [
         "Evan Minnotte",
         21.83
        ],
        [
         "Filia McAdams",
         249.95
        ],
        [
         "Frank Atkinson",
         520.33
        ],
        [
         "Frank Carlisle",
         1217.18
        ],
        [
         "Frank Gastineau",
         394.95
        ],
        [
         "Frank Hawley",
         13400.33
        ],
        [
         "Frank Merwin",
         197.89
        ],
        [
         "Frank Olsen",
         215.59
        ],
        [
         "Frank Preis",
         406.46
        ],
        [
         "Fred Chung",
         714.29
        ],
        [
         "Fred Harton",
         706.05
        ],
        [
         "Fred Hopkins",
         2051.01
        ],
        [
         "Fred McMath",
         191.09
        ],
        [
         "Fred Waerman",
         23.5
        ],
        [
         "Gary Hansen",
         -577.01
        ],
        [
         "Gary Hwang",
         1176.39
        ],
        [
         "Gary McGarr",
         347.27
        ],
        [
         "Gary Mitchum",
         793.29
        ],
        [
         "Gary Zandusky",
         1088.16
        ],
        [
         "Gene Hale",
         -95.49
        ],
        [
         "Gene McClure",
         441.32
        ],
        [
         "George Ashbrook",
         840.89
        ],
        [
         "George Bell",
         7.85
        ],
        [
         "George Zrebassa",
         828.17
        ],
        [
         "Georgia Rosenberg",
         359.88
        ],
        [
         "Giulietta Baptist",
         1135.84
        ],
        [
         "Giulietta Dortch",
         230.6
        ],
        [
         "Giulietta Weimer",
         -268.55
        ],
        [
         "Grace Kelly",
         1448.59
        ],
        [
         "Grant Thornton",
         -4108.66
        ],
        [
         "Greg Guthrie",
         12.69
        ],
        [
         "Greg Hansen",
         -5.81
        ],
        [
         "Greg Matthias",
         35.47
        ],
        [
         "Greg Maxwell",
         188.46
        ],
        [
         "Greg Tran",
         2163.29
        ],
        [
         "Guy Armstrong",
         136.49
        ],
        [
         "Guy Phonely",
         31.84
        ],
        [
         "Guy Thornton",
         -6.14
        ],
        [
         "Hallie Redmond",
         185.4
        ],
        [
         "Harold Dahlen",
         -136.33
        ],
        [
         "Harold Engle",
         273.97
        ],
        [
         "Harold Pawlan",
         373.87
        ],
        [
         "Harold Ryan",
         1197.37
        ],
        [
         "Harry Greene",
         147.01
        ],
        [
         "Harry Marie",
         2438.07
        ],
        [
         "Heather Jas",
         98.67
        ],
        [
         "Heather Kirkland",
         956.97
        ],
        [
         "Helen Abelman",
         270.86
        ],
        [
         "Helen Andreada",
         98.47
        ],
        [
         "Helen Waerman",
         2164.17
        ],
        [
         "Henia Zydlo",
         -130.39
        ],
        [
         "Henry Goldwyn",
         -2797.95
        ],
        [
         "Henry MacAllister",
         116.78
        ],
        [
         "Herbert Flentye",
         -14.35
        ],
        [
         "Hilary Holden",
         86.73
        ],
        [
         "Hunter Glantz",
         804.62
        ],
        [
         "Hunter Lopez",
         5622.43
        ],
        [
         "Ionia McGrath",
         975.78
        ],
        [
         "Irene Maddox",
         514.2
        ],
        [
         "Ivan Gibson",
         320.48
        ],
        [
         "Ivan Liston",
         1121.83
        ],
        [
         "Jack Garza",
         684.53
        ],
        [
         "Jack Lebron",
         -207.31
        ],
        [
         "Jack OBriant",
         581.44
        ],
        [
         "James Galang",
         1415.36
        ],
        [
         "James Lanier",
         209.11
        ],
        [
         "Jamie Frazer",
         575.78
        ],
        [
         "Jamie Kunitz",
         1221.56
        ],
        [
         "Jane Waco",
         2174.05
        ],
        [
         "Janet Lee",
         54.51
        ],
        [
         "Janet Martin",
         19.58
        ],
        [
         "Janet Molinari",
         502.99
        ],
        [
         "Jas OCarroll",
         201.24
        ],
        [
         "Jason Fortune",
         97.41
        ],
        [
         "Jason Gross",
         3.59
        ],
        [
         "Jason Klamczynski",
         55.58
        ],
        [
         "Jasper Cacioppo",
         -0.35
        ],
        [
         "Jay Fein",
         330.2
        ],
        [
         "Jay Kimmel",
         329.85
        ],
        [
         "Jenna Caffey",
         502.93
        ],
        [
         "Jennifer Braxton",
         156.05
        ],
        [
         "Jennifer Ferguson",
         635.64
        ],
        [
         "Jennifer Halladay",
         -24.06
        ],
        [
         "Jennifer Jackson",
         200.56
        ],
        [
         "Jennifer Patt",
         429.74
        ],
        [
         "Jeremy Ellison",
         276.45
        ],
        [
         "Jeremy Farry",
         -18.05
        ],
        [
         "Jeremy Lonsdale",
         592.04
        ],
        [
         "Jeremy Pistek",
         757.19
        ],
        [
         "Jessica Myrick",
         356.53
        ],
        [
         "Jesus Ocampo",
         167.13
        ],
        [
         "Ji Stevenson",
         -174.94
        ],
        [
         "Jill Fjeld",
         1074.07
        ],
        [
         "Jill Matthias",
         113.12
        ],
        [
         "Jim Epp",
         1623.11
        ],
        [
         "Jim Karlsson",
         750.73
        ],
        [
         "Jim Kriz",
         1172.9
        ],
        [
         "Jim Mitchum",
         117.2
        ],
        [
         "Jim Radford",
         -785.16
        ],
        [
         "Jim Sink",
         -54.86
        ],
        [
         "Jocasta Rupert",
         107.99
        ],
        [
         "Joe Elijah",
         1262.11
        ],
        [
         "Joe Kamberova",
         55.0
        ],
        [
         "Joel Eaton",
         222.23
        ],
        [
         "Joel Jenkins",
         34.46
        ],
        [
         "John Castell",
         279.57
        ],
        [
         "John Dryer",
         -266.56
        ],
        [
         "John Grady",
         206.1
        ],
        [
         "John Huston",
         26.07
        ],
        [
         "John Lee",
         228.53
        ],
        [
         "John Lucas",
         779.9
        ],
        [
         "John Murray",
         1575.07
        ],
        [
         "John Stevenson",
         564.97
        ],
        [
         "Jonathan Doherty",
         1050.44
        ],
        [
         "Jonathan Howell",
         -13.55
        ],
        [
         "Joni Blumstein",
         -286.98
        ],
        [
         "Joni Sundaresam",
         -327.93
        ],
        [
         "Joni Waerman",
         -29.58
        ],
        [
         "Joseph Airdo",
         -819.88
        ],
        [
         "Joseph Holt",
         -644.48
        ],
        [
         "Joy Bell",
         127.06
        ],
        [
         "Joy Daniels",
         26.72
        ],
        [
         "Joy Smith",
         -311.25
        ],
        [
         "Julia Barnett",
         201.4
        ],
        [
         "Julia Dunbar",
         111.12
        ],
        [
         "Julia West",
         153.89
        ],
        [
         "Juliana Krohn",
         586.67
        ],
        [
         "Julie Creighton",
         201.6
        ],
        [
         "Julie Kriz",
         122.66
        ],
        [
         "Julie Prescott",
         309.3
        ],
        [
         "Justin Deggeller",
         1618.74
        ],
        [
         "Justin Ellison",
         790.02
        ],
        [
         "Justin Hirsh",
         -96.96
        ],
        [
         "Justin MacKendrick",
         753.7
        ],
        [
         "Justin Ritter",
         452.37
        ],
        [
         "Kalyca Meade",
         635.43
        ],
        [
         "Karen Bern",
         764.23
        ],
        [
         "Karen Carlisle",
         846.14
        ],
        [
         "Karen Danels",
         1107.6
        ],
        [
         "Karen Ferguson",
         1660.41
        ],
        [
         "Karen Seio",
         0.11
        ],
        [
         "Karl Braun",
         49.22
        ],
        [
         "Katharine Harms",
         455.69
        ],
        [
         "Katherine Ducich",
         328.59
        ],
        [
         "Katherine Hughes",
         528.29
        ],
        [
         "Katherine Murray",
         973.37
        ],
        [
         "Katherine Nockton",
         -151.15
        ],
        [
         "Katrina Bavinger",
         273.86
        ],
        [
         "Katrina Edelman",
         397.89
        ],
        [
         "Katrina Willman",
         1756.14
        ],
        [
         "Kean Nguyen",
         113.82
        ],
        [
         "Kean Takahito",
         253.75
        ],
        [
         "Kean Thornton",
         194.07
        ],
        [
         "Keith Dawkins",
         3038.93
        ],
        [
         "Keith Herrera",
         656.12
        ],
        [
         "Kelly Andreada",
         234.36
        ],
        [
         "Kelly Collister",
         709.43
        ],
        [
         "Kelly Lampkin",
         -182.79
        ],
        [
         "Kelly Williams",
         108.39
        ],
        [
         "Ken Black",
         578.89
        ],
        [
         "Ken Brennan",
         293.9
        ],
        [
         "Ken Heidel",
         727.51
        ],
        [
         "Ken Lonsdale",
         806.5
        ],
        [
         "Khloe Miller",
         90.67
        ],
        [
         "Kimberly Carter",
         157.24
        ],
        [
         "Kristen Hastings",
         1227.13
        ],
        [
         "Kristina Nunn",
         329.77
        ],
        [
         "Kunst Miller",
         745.4
        ],
        [
         "Larry Blacks",
         18.65
        ],
        [
         "Larry Hughes",
         12.63
        ],
        [
         "Larry Tron",
         59.04
        ],
        [
         "Laura Armstrong",
         2025.19
        ],
        [
         "Laurel Beltran",
         -51.99
        ],
        [
         "Laurel Elliston",
         161.75
        ],
        [
         "Laurel Workman",
         32.59
        ],
        [
         "Lauren Leatherbury",
         560.51
        ],
        [
         "Lela Donovan",
         0.46
        ],
        [
         "Lena Creighton",
         1288.74
        ],
        [
         "Lena Hernandez",
         525.12
        ],
        [
         "Lena Radford",
         535.29
        ],
        [
         "Linda Cazamias",
         288.29
        ],
        [
         "Linda Southworth",
         -318.44
        ],
        [
         "Lindsay Castell",
         299.47
        ],
        [
         "Lindsay Shagiari",
         262.27
        ],
        [
         "Lindsay Williams",
         662.83
        ],
        [
         "Lisa DeCherney",
         556.77
        ],
        [
         "Lisa Hazard",
         -242.75
        ],
        [
         "Lisa Ryan",
         -383.19
        ],
        [
         "Liz Carlisle",
         86.77
        ],
        [
         "Liz MacKendrick",
         -44.88
        ],
        [
         "Liz Pelletier",
         110.79
        ],
        [
         "Liz Preis",
         338.45
        ],
        [
         "Liz Thompson",
         320.98
        ],
        [
         "Liz Willingham",
         192.63
        ],
        [
         "Logan Currie",
         230.53
        ],
        [
         "Logan Haushalter",
         316.53
        ],
        [
         "Lori Olson",
         150.16
        ],
        [
         "Luke Foster",
         -3583.61
        ],
        [
         "Luke Schmidt",
         243.82
        ],
        [
         "Luke Weiss",
         837.67
        ],
        [
         "Lycoris Saunders",
         64.57
        ],
        [
         "Lynn Smith",
         347.97
        ],
        [
         "Magdelene Morse",
         178.41
        ],
        [
         "Marc Crier",
         461.02
        ],
        [
         "Marc Harrigan",
         28.98
        ],
        [
         "Maria Bertelson",
         213.34
        ],
        [
         "Maria Etezadi",
         1858.97
        ],
        [
         "Maria Zettner",
         85.02
        ],
        [
         "Maribeth Dona",
         -241.23
        ],
        [
         "Maribeth Yedwab",
         319.14
        ],
        [
         "Maribethchnelling",
         844.95
        ],
        [
         "Marina Lichtenstein",
         684.93
        ],
        [
         "Maris LaWare",
         -76.47
        ],
        [
         "Mark Cousins",
         1802.4
        ],
        [
         "Mark Haberlin",
         61.43
        ],
        [
         "Mark Hamilton",
         485.28
        ],
        [
         "Mark Packer",
         600.3
        ],
        [
         "Mark Van Huff",
         189.01
        ],
        [
         "Mary ORourke",
         59.36
        ],
        [
         "Mary Zewe",
         787.15
        ],
        [
         "MaryBeth Skach",
         84.02
        ],
        [
         "Mathew Reese",
         162.46
        ],
        [
         "Matt Abelman",
         1240.56
        ],
        [
         "Matt Collins",
         210.92
        ],
        [
         "Matt Collister",
         288.99
        ],
        [
         "Matt Connell",
         195.45
        ],
        [
         "Matt Hagelstein",
         122.35
        ],
        [
         "Matthew Clasen",
         -247.72
        ],
        [
         "Matthew Grinstein",
         341.91
        ],
        [
         "Maureen Fritzler",
         -341.53
        ],
        [
         "Maureen Gastineau",
         25.89
        ],
        [
         "Maureen Gnade",
         -398.8
        ],
        [
         "Maurice Satty",
         247.43
        ],
        [
         "Max Engle",
         77.59
        ],
        [
         "Max Jones",
         1054.54
        ],
        [
         "Max Ludwig",
         409.99
        ],
        [
         "Maxwell Schwartz",
         280.81
        ],
        [
         "Maya Herman",
         239.02
        ],
        [
         "Meg OConnel",
         168.98
        ],
        [
         "Meg Tillman",
         509.02
        ],
        [
         "Melanie Seite",
         19.43
        ],
        [
         "Michael Chen",
         698.42
        ],
        [
         "Michael Dominguez",
         -4.05
        ],
        [
         "Michael Grace",
         -470.77
        ],
        [
         "Michael Granlund",
         171.45
        ],
        [
         "Michael Kennedy",
         -405.43
        ],
        [
         "Michael Moore",
         81.46
        ],
        [
         "Michael Nguyen",
         290.82
        ],
        [
         "Michael Oakman",
         -82.01
        ],
        [
         "Michael Paige",
         637.74
        ],
        [
         "Michael Stewart",
         55.23
        ],
        [
         "Michelle Arnett",
         280.51
        ],
        [
         "Michelle Ellison",
         107.35
        ],
        [
         "Michelle Huthwaite",
         476.74
        ],
        [
         "Michelle Lonsdale",
         138.71
        ],
        [
         "Michelle Moray",
         -520.45
        ],
        [
         "Michelle Tran",
         -23.45
        ],
        [
         "Mick Brown",
         118.05
        ],
        [
         "Mick Crebagga",
         -64.4
        ],
        [
         "Mick Hernandez",
         170.98
        ],
        [
         "Mike Caudle",
         121.74
        ],
        [
         "Mike Gockenbach",
         -93.49
        ],
        [
         "Mike Kennedy",
         227.43
        ],
        [
         "Mike Pelletier",
         225.49
        ],
        [
         "Mike Vittorini",
         273.99
        ],
        [
         "Mitch Gastineau",
         -1.24
        ],
        [
         "Mitch Webber",
         1237.92
        ],
        [
         "Mitch Willingham",
         1665.52
        ],
        [
         "Monica Federle",
         456.86
        ],
        [
         "Muhammed Lee",
         42.67
        ],
        [
         "Muhammed MacIntyre",
         58.56
        ],
        [
         "Muhammed YeDwab",
         -371.71
        ],
        [
         "Nancy Lomonaco",
         343.8
        ],
        [
         "Nat Carroll",
         580.31
        ],
        [
         "Nat Gilpin",
         313.63
        ],
        [
         "Natalie DeCherney",
         353.24
        ],
        [
         "Natalie Fritzler",
         -1696.35
        ],
        [
         "Natalie Webber",
         1022.63
        ],
        [
         "Nathan Cano",
         -2204.81
        ],
        [
         "Nathan Gelder",
         217.1
        ],
        [
         "Nathan Mautz",
         2751.7
        ],
        [
         "Neil Ducich",
         443.34
        ],
        [
         "Neil Franzsisch",
         85.92
        ],
        [
         "Neil Knudson",
         121.23
        ],
        [
         "Neola Schneider",
         -12.31
        ],
        [
         "Neoma Murray",
         788.95
        ],
        [
         "Nick Crebassa",
         1314.02
        ],
        [
         "Nick Radford",
         -25.13
        ],
        [
         "Nick Zandusky",
         402.56
        ],
        [
         "Nicole Brennan",
         24.79
        ],
        [
         "Nicole Fjeld",
         388.31
        ],
        [
         "Nicole Hansen",
         760.17
        ],
        [
         "Noah Childs",
         -358.91
        ],
        [
         "Noel Staavos",
         -234.89
        ],
        [
         "Nona Balk",
         117.64
        ],
        [
         "Nora Pelletier",
         514.5
        ],
        [
         "Nora Preis",
         630.82
        ],
        [
         "Nra Paige",
         513.15
        ],
        [
         "Odella Nelson",
         -5.53
        ],
        [
         "Olvera Toch",
         -925.56
        ],
        [
         "Pamela Coakley",
         272.68
        ],
        [
         "Pamela Stobb",
         -134.44
        ],
        [
         "Parhena Norris",
         192.04
        ],
        [
         "Patricia Hirasaki",
         47.89
        ],
        [
         "Patrick Bzostek",
         228.77
        ],
        [
         "Patrick Gardner",
         137.49
        ],
        [
         "Patrick Jones",
         442.14
        ],
        [
         "Patrick OBrill",
         37.64
        ],
        [
         "Patrick ODonnell",
         437.94
        ],
        [
         "Patrick Ryan",
         5596.2
        ],
        [
         "Paul Gonzalez",
         334.97
        ],
        [
         "Paul Knutson",
         -798.71
        ],
        [
         "Paul Lucas",
         -0.76
        ],
        [
         "Paul MacIntyre",
         157.88
        ],
        [
         "Paul Prost",
         1495.47
        ],
        [
         "Paul Stevenson",
         198.53
        ],
        [
         "Paul Van Hugh",
         434.25
        ],
        [
         "Pauline Chand",
         -184.34
        ],
        [
         "Pauline Johnson",
         682.68
        ],
        [
         "Pauline Webber",
         803.82
        ],
        [
         "Penelope Sewall",
         3183.78
        ],
        [
         "Pete Armstrong",
         225.86
        ],
        [
         "Pete Kriz",
         2037.9
        ],
        [
         "Pete Takahito",
         -20.05
        ],
        [
         "Peter Bhler",
         218.16
        ],
        [
         "Peter Fuller",
         -614.02
        ],
        [
         "Peter McVee",
         526.76
        ],
        [
         "Philip Brown",
         280.27
        ],
        [
         "Philip Fox",
         196.88
        ],
        [
         "Philisse Overcash",
         1155.24
        ],
        [
         "Phillina Ober",
         -49.69
        ],
        [
         "Phillip Breyer",
         21.9
        ],
        [
         "Phillip Flathmann",
         591.29
        ],
        [
         "Pierre Wener",
         1291.15
        ],
        [
         "Quincy Jones",
         1203.69
        ],
        [
         "Rachel Payne",
         59.52
        ],
        [
         "Ralph Arnett",
         545.72
        ],
        [
         "Ralph Kennedy",
         269.69
        ],
        [
         "Ralph Ritter",
         -73.83
        ],
        [
         "Randy Bradley",
         -164.41
        ],
        [
         "Randy Ferguson",
         633.68
        ],
        [
         "Raymond Buch",
         6976.36
        ],
        [
         "Raymond Messe",
         392.6
        ],
        [
         "Resi Plking",
         464.96
        ],
        [
         "Ricardo Emerson",
         6.05
        ],
        [
         "Ricardo Sperren",
         633.45
        ],
        [
         "Richard Bierner",
         477.63
        ],
        [
         "Richard Eichhorn",
         209.25
        ],
        [
         "Rick Bensley",
         640.55
        ],
        [
         "Rick Duston",
         480.59
        ],
        [
         "Rick Hansen",
         563.78
        ],
        [
         "Rick Huthwaite",
         1289.45
        ],
        [
         "Rick Reed",
         721.69
        ],
        [
         "Rick Wilson",
         1586.23
        ],
        [
         "Ritsa Hightower",
         0.31
        ],
        [
         "Rob Beeghly",
         76.9
        ],
        [
         "Rob Dowd",
         734.52
        ],
        [
         "Rob Haberlin",
         172.63
        ],
        [
         "Rob Lucas",
         213.98
        ],
        [
         "Rob Williams",
         699.06
        ],
        [
         "Robert Barroso",
         72.68
        ],
        [
         "Robert Dilbeck",
         835.77
        ],
        [
         "Robert Marley",
         1902.55
        ],
        [
         "Robert Waldorf",
         707.55
        ],
        [
         "Roger Barcio",
         243.08
        ],
        [
         "Roger Demir",
         207.72
        ],
        [
         "Roland Fjeld",
         711.84
        ],
        [
         "Roland Murray",
         28.68
        ],
        [
         "Roland Schwarz",
         1206.39
        ],
        [
         "Rose OBrian",
         -1262.8
        ],
        [
         "Ross Baird",
         -461.74
        ],
        [
         "Ross DeVincentis",
         318.45
        ],
        [
         "Roy Collins",
         63.57
        ],
        [
         "Roy Franzsisch",
         280.09
        ],
        [
         "Roy Phan",
         594.78
        ],
        [
         "Roy Skaria",
         9.58
        ],
        [
         "Ruben Ausman",
         1292.81
        ],
        [
         "Ruben Dartt",
         455.52
        ],
        [
         "Russell Applegate",
         305.29
        ],
        [
         "Russell DAscenzo",
         35.04
        ],
        [
         "Ryan Akin",
         -445.69
        ],
        [
         "Ryan Crowe",
         10.54
        ],
        [
         "Sally Knutson",
         168.79
        ],
        [
         "Sally Matthias",
         -26.59
        ],
        [
         "Sam Craven",
         -317.51
        ],
        [
         "Sam Zeldin",
         366.42
        ],
        [
         "Sample Company A",
         1011.73
        ],
        [
         "Sandra Flanagan",
         227.76
        ],
        [
         "Sandra Glassco",
         570.45
        ],
        [
         "Sanjit Chand",
         5757.3
        ],
        [
         "Sanjit Engle",
         2650.67
        ],
        [
         "Sanjit Jacobs",
         143.73
        ],
        [
         "Saphhira Shifley",
         332.03
        ],
        [
         "Sara Luxemburg",
         528.04
        ],
        [
         "Sarah Bern",
         157.68
        ],
        [
         "Sarah Brown",
         885.96
        ],
        [
         "Sarah Foster",
         287.0
        ],
        [
         "Sarah Jordon",
         -23.38
        ],
        [
         "Scot Coram",
         439.83
        ],
        [
         "Scot Wooten",
         -19.58
        ],
        [
         "Scott Cohen",
         670.98
        ],
        [
         "Scott Williamson",
         332.76
        ],
        [
         "Sean Braxton",
         -2082.75
        ],
        [
         "Sean Christensen",
         229.11
        ],
        [
         "Sean Miller",
         -1980.98
        ],
        [
         "Sean ODonnell",
         -81.42
        ],
        [
         "Sean Wendt",
         95.84
        ],
        [
         "Seth Vernon",
         1200.14
        ],
        [
         "Shahi Collister",
         -3164.0
        ],
        [
         "Shahi Hopkins",
         -144.52
        ],
        [
         "Shahi Shariari",
         -1011.08
        ],
        [
         "Sharelle Roach",
         -3334.17
        ],
        [
         "Shaun Chance",
         379.57
        ],
        [
         "Shaun Weien",
         793.64
        ],
        [
         "Sheri Gordon",
         -119.01
        ],
        [
         "Shirley Daniels",
         1985.19
        ],
        [
         "Shirley Jackson",
         68.59
        ],
        [
         "Shirley Schmidt",
         199.93
        ],
        [
         "Shui Tom",
         85.12
        ],
        [
         "Sibella Parks",
         -118.38
        ],
        [
         "Skye Norling",
         -716.84
        ],
        [
         "Sonia Cooley",
         100.23
        ],
        [
         "Sonia Sunley",
         135.91
        ],
        [
         "Speros Goranitis",
         463.27
        ],
        [
         "Stefania Perrino",
         -270.19
        ],
        [
         "Stefanie Holloman",
         260.63
        ],
        [
         "Stephanie Phelps",
         268.47
        ],
        [
         "Stephanie Ulpright",
         763.7
        ],
        [
         "Steve Carroll",
         370.17
        ],
        [
         "Steve Chapman",
         611.82
        ],
        [
         "Steve Nguyen",
         481.75
        ],
        [
         "Steven Cartwright",
         1276.42
        ],
        [
         "Steven Roelle",
         1990.43
        ],
        [
         "Steven Ward",
         68.24
        ],
        [
         "Stewart Carmichael",
         -671.38
        ],
        [
         "Stewart Visinsky",
         484.85
        ],
        [
         "Stuart Calhoun",
         52.21
        ],
        [
         "Stuart Van",
         199.64
        ],
        [
         "Sue Ann Reed",
         610.14
        ],
        [
         "Sung Chung",
         31.18
        ],
        [
         "Sung Pak",
         567.12
        ],
        [
         "Sung Shariari",
         -75.57
        ],
        [
         "Susan Gilcrest",
         -3.7
        ],
        [
         "Susan MacKendrick",
         -16510.34
        ],
        [
         "Susan Pistek",
         14.37
        ],
        [
         "Susan Vittorini",
         106.62
        ],
        [
         "Suzanne McNair",
         581.57
        ],
        [
         "Sylvia Foulston",
         539.94
        ],
        [
         "Tamara Chand",
         8981.32
        ],
        [
         "Tamara Dahlen",
         88.64
        ],
        [
         "Tamara Manning",
         573.46
        ],
        [
         "Tamara Willingham",
         737.39
        ],
        [
         "Tanja Norvell",
         -692.05
        ],
        [
         "Ted Butterfield",
         389.76
        ],
        [
         "Ted Trevino",
         752.17
        ],
        [
         "Thais Sissman",
         -3.32
        ],
        [
         "Thea Hendricks",
         -135.22
        ],
        [
         "Thea Hudgings",
         -252.55
        ],
        [
         "Theone Pippenger",
         1128.65
        ],
        [
         "Theresa Coyne",
         265.59
        ],
        [
         "Theresa Swint",
         260.63
        ],
        [
         "Thomas Boland",
         828.71
        ],
        [
         "Thomas Brumley",
         179.01
        ],
        [
         "Thomas Seio",
         862.94
        ],
        [
         "Thomas Thornton",
         278.75
        ],
        [
         "Tiffany House",
         92.55
        ],
        [
         "Tim Brockman",
         260.3
        ],
        [
         "Tim Taslimi",
         93.92
        ],
        [
         "Toby Braunhardt",
         491.13
        ],
        [
         "Toby Carlisle",
         606.37
        ],
        [
         "Toby Gnade",
         682.17
        ],
        [
         "Toby Ritter",
         220.36
        ],
        [
         "Toby Swindell",
         -185.0
        ],
        [
         "Todd Boyes",
         268.96
        ],
        [
         "Todd Sumrall",
         2371.73
        ],
        [
         "Tom Ashbrook",
         4703.73
        ],
        [
         "Tom Boeckenhauer",
         2798.06
        ],
        [
         "Tom Prescott",
         -1087.38
        ],
        [
         "Tom Stivers",
         48.9
        ],
        [
         "Tonja Turnell",
         1124.38
        ],
        [
         "Tony Chapman",
         119.13
        ],
        [
         "Tony Molinari",
         292.53
        ],
        [
         "Tracy Blumstein",
         -1603.05
        ],
        [
         "Tracy Collins",
         217.95
        ],
        [
         "Tracy Hopkins",
         -571.98
        ],
        [
         "Tracy Poddar",
         139.44
        ],
        [
         "Tracy Zic",
         224.9
        ],
        [
         "Troy Blackwell",
         -136.47
        ],
        [
         "Troy Staebel",
         -294.89
        ],
        [
         "Trudy Brown",
         379.81
        ],
        [
         "Trudy Glocke",
         365.12
        ],
        [
         "Trudy Schmidt",
         220.73
        ],
        [
         "Valerie Dominguez",
         1617.61
        ],
        [
         "Valerie Mitchum",
         513.63
        ],
        [
         "Valerie Takahito",
         -224.93
        ],
        [
         "Vicky Freymann",
         -96.28
        ],
        [
         "Victor Preis",
         205.39
        ],
        [
         "Victoria Brennan",
         371.25
        ],
        [
         "Victoria Pisteka",
         -1018.91
        ],
        [
         "Victoria Wilson",
         -874.66
        ],
        [
         "Vivek Gonzalez",
         144.12
        ],
        [
         "Vivek Grady",
         -52.33
        ],
        [
         "Vivek Sundaresam",
         -263.08
        ],
        [
         "Vivian Mathis",
         116.64
        ],
        [
         "William Brown",
         714.52
        ],
        [
         "Xylona Preis",
         621.37
        ],
        [
         "Yana Sorensen",
         1778.31
        ],
        [
         "Yoseph Carroll",
         1305.64
        ],
        [
         "Zuschuss Carroll",
         -1032.36
        ],
        [
         "Zuschuss Donatelli",
         248.75
        ]
       ],
       "datasetInfos": [],
       "dbfsResultPath": null,
       "isJsonSchema": true,
       "metadata": {},
       "overflow": false,
       "plotOptions": {
        "customPlotOptions": {},
        "displayType": "table",
        "pivotAggregation": null,
        "pivotColumns": null,
        "xColumns": null,
        "yColumns": null
       },
       "removedWidgets": [],
       "schema": [
        {
         "metadata": "{}",
         "name": "customer_name",
         "type": "\"string\""
        },
        {
         "metadata": "{}",
         "name": "profit",
         "type": "\"double\""
        }
       ],
       "type": "table"
      }
     },
     "output_type": "display_data"
    },
    {
     "output_type": "display_data",
     "data": {
      "text/html": [
       "<style scoped>\n",
       "  .table-result-container {\n",
       "    max-height: 300px;\n",
       "    overflow: auto;\n",
       "  }\n",
       "  table, th, td {\n",
       "    border: 1px solid black;\n",
       "    border-collapse: collapse;\n",
       "  }\n",
       "  th, td {\n",
       "    padding: 5px;\n",
       "  }\n",
       "  th {\n",
       "    text-align: left;\n",
       "  }\n",
       "</style><div class='table-result-container'><table class='table-result'><thead style='background-color: white'><tr><th>customer_name</th><th>year</th><th>profit</th></tr></thead><tbody><tr><td>Aaron Bergman</td><td>2014</td><td>12.82</td></tr><tr><td>Aaron Bergman</td><td>2016</td><td>116.86</td></tr><tr><td>Aaron Hawkins</td><td>2014</td><td>188.28</td></tr><tr><td>Aaron Hawkins</td><td>2015</td><td>136.56</td></tr><tr><td>Aaron Hawkins</td><td>2016</td><td>38.04</td></tr><tr><td>Aaron Hawkins</td><td>2017</td><td>2.34</td></tr><tr><td>Aaron Smayling</td><td>2014</td><td>32.23</td></tr><tr><td>Aaron Smayling</td><td>2016</td><td>92.14</td></tr><tr><td>Aaron Smayling</td><td>2017</td><td>-377.96</td></tr><tr><td>Adam Bellavance</td><td>2015</td><td>8.71</td></tr><tr><td>Adam Bellavance</td><td>2016</td><td>1568.05</td></tr><tr><td>Adam Bellavance</td><td>2017</td><td>477.84</td></tr><tr><td>Adam Hart</td><td>2014</td><td>2.4</td></tr><tr><td>Adam Hart</td><td>2015</td><td>0.34</td></tr><tr><td>Adam Hart</td><td>2016</td><td>332.64</td></tr><tr><td>Adam Hart</td><td>2017</td><td>-54.58</td></tr><tr><td>Adam Shillingsburg</td><td>2014</td><td>129.55</td></tr><tr><td>Adam Shillingsburg</td><td>2015</td><td>243.86</td></tr><tr><td>Adam Shillingsburg</td><td>2016</td><td>22.55</td></tr><tr><td>Adam Shillingsburg</td><td>2017</td><td>-331.64</td></tr><tr><td>Adrian Barton</td><td>2014</td><td>498.73</td></tr><tr><td>Adrian Barton</td><td>2015</td><td>-142.67</td></tr><tr><td>Adrian Barton</td><td>2016</td><td>4748.27</td></tr><tr><td>Adrian Barton</td><td>2017</td><td>340.64</td></tr><tr><td>Adrian Hane</td><td>2014</td><td>-25.91</td></tr><tr><td>Adrian Hane</td><td>2016</td><td>-299.15</td></tr><tr><td>Adrian Hane</td><td>2017</td><td>322.56</td></tr><tr><td>Adrian Shami</td><td>2016</td><td>1.5</td></tr><tr><td>Adrian Shami</td><td>2017</td><td>20.34</td></tr><tr><td>Aimee Bixby</td><td>2014</td><td>261.2</td></tr><tr><td>Aimee Bixby</td><td>2015</td><td>7.02</td></tr><tr><td>Aimee Bixby</td><td>2016</td><td>5.44</td></tr><tr><td>Aimee Bixby</td><td>2017</td><td>40.0</td></tr><tr><td>Alan Barnes</td><td>2014</td><td>-1.07</td></tr><tr><td>Alan Barnes</td><td>2015</td><td>79.95</td></tr><tr><td>Alan Barnes</td><td>2017</td><td>141.73</td></tr><tr><td>Alan Dominguez</td><td>2014</td><td>-6.6</td></tr><tr><td>Alan Dominguez</td><td>2015</td><td>9.6</td></tr><tr><td>Alan Dominguez</td><td>2017</td><td>1866.92</td></tr><tr><td>Alan Haines</td><td>2015</td><td>-12.1</td></tr><tr><td>Alan Haines</td><td>2016</td><td>-349.36</td></tr><tr><td>Alan Haines</td><td>2017</td><td>-16.58</td></tr><tr><td>Alan Hwang</td><td>2014</td><td>87.19</td></tr><tr><td>Alan Hwang</td><td>2015</td><td>269.15</td></tr><tr><td>Alan Hwang</td><td>2016</td><td>5.57</td></tr><tr><td>Alan Hwang</td><td>2017</td><td>946.65</td></tr><tr><td>Alan Schoenberger</td><td>2014</td><td>444.69</td></tr><tr><td>Alan Schoenberger</td><td>2015</td><td>12.86</td></tr><tr><td>Alan Schoenberger</td><td>2016</td><td>-6.21</td></tr><tr><td>Alan Schoenberger</td><td>2017</td><td>268.43</td></tr><tr><td>Alan Shonely</td><td>2014</td><td>37.35</td></tr><tr><td>Alan Shonely</td><td>2015</td><td>5.08</td></tr><tr><td>Alan Shonely</td><td>2016</td><td>23.18</td></tr><tr><td>Alan Shonely</td><td>2017</td><td>-31.92</td></tr><tr><td>Alejandro Ballentine</td><td>2014</td><td>6.49</td></tr><tr><td>Alejandro Ballentine</td><td>2015</td><td>34.34</td></tr><tr><td>Alejandro Ballentine</td><td>2016</td><td>26.07</td></tr><tr><td>Alejandro Ballentine</td><td>2017</td><td>197.67</td></tr><tr><td>Alejandro Grove</td><td>2014</td><td>17.99</td></tr><tr><td>Alejandro Grove</td><td>2015</td><td>16.96</td></tr><tr><td>Alejandro Grove</td><td>2016</td><td>696.3</td></tr><tr><td>Alejandro Grove</td><td>2017</td><td>1.5</td></tr><tr><td>Alejandro Savely</td><td>2016</td><td>331.37</td></tr><tr><td>Alejandro Savely</td><td>2017</td><td>23.26</td></tr><tr><td>Aleksandra Gannaway</td><td>2014</td><td>28.75</td></tr><tr><td>Aleksandra Gannaway</td><td>2015</td><td>8.39</td></tr><tr><td>Aleksandra Gannaway</td><td>2016</td><td>20.49</td></tr><tr><td>Aleksandra Gannaway</td><td>2017</td><td>1.67</td></tr><tr><td>Alex Avila</td><td>2014</td><td>280.68</td></tr><tr><td>Alex Avila</td><td>2015</td><td>7.0</td></tr><tr><td>Alex Avila</td><td>2016</td><td>-747.09</td></tr><tr><td>Alex Avila</td><td>2017</td><td>96.51</td></tr><tr><td>Alex Grayson</td><td>2016</td><td>61.74</td></tr><tr><td>Alex Grayson</td><td>2017</td><td>-67.1</td></tr><tr><td>Alex Russell</td><td>2014</td><td>-242.44</td></tr><tr><td>Alex Russell</td><td>2015</td><td>-2.57</td></tr><tr><td>Alex Russell</td><td>2017</td><td>23.96</td></tr><tr><td>Alice McCarthy</td><td>2014</td><td>7.68</td></tr><tr><td>Alice McCarthy</td><td>2015</td><td>178.9</td></tr><tr><td>Alice McCarthy</td><td>2016</td><td>9.98</td></tr><tr><td>Alice McCarthy</td><td>2017</td><td>-1.57</td></tr><tr><td>Allen Armold</td><td>2014</td><td>16.72</td></tr><tr><td>Allen Armold</td><td>2015</td><td>69.03</td></tr><tr><td>Allen Armold</td><td>2016</td><td>122.73</td></tr><tr><td>Allen Armold</td><td>2017</td><td>68.92</td></tr><tr><td>Allen Goldenen</td><td>2014</td><td>67.97</td></tr><tr><td>Allen Goldenen</td><td>2016</td><td>-7.0</td></tr><tr><td>Allen Goldenen</td><td>2017</td><td>8.3</td></tr><tr><td>Allen Rosenblatt</td><td>2014</td><td>17.59</td></tr><tr><td>Allen Rosenblatt</td><td>2015</td><td>105.47</td></tr><tr><td>Allen Rosenblatt</td><td>2017</td><td>-221.58</td></tr><tr><td>Alyssa Crouse</td><td>2014</td><td>-14.66</td></tr><tr><td>Alyssa Crouse</td><td>2016</td><td>21.59</td></tr><tr><td>Alyssa Crouse</td><td>2017</td><td>-69.06</td></tr><tr><td>Alyssa Tate</td><td>2014</td><td>0.84</td></tr><tr><td>Alyssa Tate</td><td>2015</td><td>-2.53</td></tr><tr><td>Alyssa Tate</td><td>2016</td><td>6.43</td></tr><tr><td>Alyssa Tate</td><td>2017</td><td>96.13</td></tr><tr><td>Amy Cox</td><td>2014</td><td>84.0</td></tr><tr><td>Amy Cox</td><td>2015</td><td>24.98</td></tr><tr><td>Amy Cox</td><td>2016</td><td>381.04</td></tr><tr><td>Amy Cox</td><td>2017</td><td>876.48</td></tr><tr><td>Amy Hunt</td><td>2015</td><td>-342.08</td></tr><tr><td>Amy Hunt</td><td>2016</td><td>-1.78</td></tr><tr><td>Amy Hunt</td><td>2017</td><td>147.87</td></tr><tr><td>Andrew Allen</td><td>2014</td><td>9.89</td></tr><tr><td>Andrew Allen</td><td>2016</td><td>420.75</td></tr><tr><td>Andrew Allen</td><td>2017</td><td>5.44</td></tr><tr><td>Andrew Gjertsen</td><td>2015</td><td>264.76</td></tr><tr><td>Andrew Gjertsen</td><td>2016</td><td>6.03</td></tr><tr><td>Andrew Gjertsen</td><td>2017</td><td>25.05</td></tr><tr><td>Andrew Roberts</td><td>2014</td><td>-8.41</td></tr><tr><td>Andrew Roberts</td><td>2015</td><td>27.99</td></tr><tr><td>Andrew Roberts</td><td>2016</td><td>18.89</td></tr><tr><td>Andrew Roberts</td><td>2017</td><td>5.18</td></tr><tr><td>Andy Gerbode</td><td>2014</td><td>-93.53</td></tr><tr><td>Andy Gerbode</td><td>2015</td><td>-59.22</td></tr><tr><td>Andy Reiter</td><td>2014</td><td>20.12</td></tr><tr><td>Andy Reiter</td><td>2015</td><td>247.28</td></tr><tr><td>Andy Reiter</td><td>2016</td><td>9.53</td></tr><tr><td>Andy Reiter</td><td>2017</td><td>2607.68</td></tr><tr><td>Andy Yotov</td><td>2014</td><td>65.6</td></tr><tr><td>Andy Yotov</td><td>2016</td><td>6.7</td></tr><tr><td>Andy Yotov</td><td>2017</td><td>31.04</td></tr><tr><td>Anemone Ratner</td><td>2016</td><td>32.64</td></tr><tr><td>Angele Hood</td><td>2014</td><td>41.6</td></tr><tr><td>Angele Hood</td><td>2016</td><td>13.45</td></tr><tr><td>Angele Hood</td><td>2017</td><td>28.92</td></tr><tr><td>Ann Blume</td><td>2014</td><td>-23.89</td></tr><tr><td>Ann Blume</td><td>2015</td><td>5.07</td></tr><tr><td>Ann Blume</td><td>2017</td><td>-256.46</td></tr><tr><td>Ann Chong</td><td>2015</td><td>-32.3</td></tr><tr><td>Ann Chong</td><td>2017</td><td>330.91</td></tr><tr><td>Ann Steele</td><td>2014</td><td>71.95</td></tr><tr><td>Ann Steele</td><td>2015</td><td>-10.81</td></tr><tr><td>Ann Steele</td><td>2016</td><td>6.37</td></tr><tr><td>Ann Steele</td><td>2017</td><td>69.09</td></tr><tr><td>Anna Andreadi</td><td>2014</td><td>77.64</td></tr><tr><td>Anna Andreadi</td><td>2015</td><td>439.31</td></tr><tr><td>Anna Andreadi</td><td>2016</td><td>334.63</td></tr><tr><td>Anna Andreadi</td><td>2017</td><td>6.22</td></tr><tr><td>Anna Chung</td><td>2014</td><td>-4.97</td></tr><tr><td>Anna Chung</td><td>2016</td><td>8.61</td></tr><tr><td>Anna Chung</td><td>2017</td><td>-32.34</td></tr><tr><td>Anna Gayman</td><td>2015</td><td>-25.99</td></tr><tr><td>Anna Gayman</td><td>2016</td><td>-281.56</td></tr><tr><td>Anna Gayman</td><td>2017</td><td>61.15</td></tr><tr><td>Anna Hberlin</td><td>2014</td><td>46.2</td></tr><tr><td>Anna Hberlin</td><td>2015</td><td>106.62</td></tr><tr><td>Anna Hberlin</td><td>2016</td><td>1144.07</td></tr><tr><td>Anne McFarland</td><td>2014</td><td>472.09</td></tr><tr><td>Anne McFarland</td><td>2015</td><td>14.7</td></tr><tr><td>Anne McFarland</td><td>2016</td><td>90.26</td></tr><tr><td>Anne McFarland</td><td>2017</td><td>392.01</td></tr><tr><td>Anne Pryor</td><td>2014</td><td>54.65</td></tr><tr><td>Anne Pryor</td><td>2015</td><td>-1.36</td></tr><tr><td>Anne Pryor</td><td>2016</td><td>243.58</td></tr><tr><td>Anne Pryor</td><td>2017</td><td>-11.07</td></tr><tr><td>Annie Thurman</td><td>2014</td><td>71.66</td></tr><tr><td>Annie Thurman</td><td>2015</td><td>739.52</td></tr><tr><td>Annie Thurman</td><td>2016</td><td>51.67</td></tr><tr><td>Annie Thurman</td><td>2017</td><td>111.72</td></tr><tr><td>Annie Zypern</td><td>2014</td><td>72.86</td></tr><tr><td>Annie Zypern</td><td>2015</td><td>34.34</td></tr><tr><td>Annie Zypern</td><td>2016</td><td>32.57</td></tr><tr><td>Annie Zypern</td><td>2017</td><td>15.0</td></tr><tr><td>Anthony Garverick</td><td>2014</td><td>-4.12</td></tr><tr><td>Anthony Garverick</td><td>2015</td><td>61.71</td></tr><tr><td>Anthony Garverick</td><td>2017</td><td>-66.01</td></tr><tr><td>Anthony Jacobs</td><td>2014</td><td>-56.95</td></tr><tr><td>Anthony Jacobs</td><td>2015</td><td>5.32</td></tr><tr><td>Anthony Jacobs</td><td>2016</td><td>-5.7</td></tr><tr><td>Anthony Jacobs</td><td>2017</td><td>208.05</td></tr><tr><td>Anthony Johnson</td><td>2014</td><td>503.26</td></tr><tr><td>Anthony Johnson</td><td>2016</td><td>400.21</td></tr><tr><td>Anthony Johnson</td><td>2017</td><td>255.24</td></tr><tr><td>Anthony ODonnell</td><td>2016</td><td>12.1</td></tr><tr><td>Anthony Rawles</td><td>2014</td><td>10.37</td></tr><tr><td>Anthony Rawles</td><td>2015</td><td>9.33</td></tr><tr><td>Anthony Rawles</td><td>2016</td><td>370.3</td></tr><tr><td>Anthony Rawles</td><td>2017</td><td>105.07</td></tr><tr><td>Anthony Witt</td><td>2015</td><td>-13.5</td></tr><tr><td>Anthony Witt</td><td>2017</td><td>79.28</td></tr><tr><td>Arianne Irving</td><td>2014</td><td>288.24</td></tr><tr><td>Arianne Irving</td><td>2015</td><td>17.03</td></tr><tr><td>Arianne Irving</td><td>2016</td><td>485.32</td></tr><tr><td>Arianne Irving</td><td>2017</td><td>77.28</td></tr><tr><td>Art Ferguson</td><td>2015</td><td>2.02</td></tr><tr><td>Art Ferguson</td><td>2016</td><td>390.8</td></tr><tr><td>Art Ferguson</td><td>2017</td><td>-75.19</td></tr><tr><td>Art Foster</td><td>2014</td><td>-258.56</td></tr><tr><td>Art Foster</td><td>2015</td><td>101.18</td></tr><tr><td>Art Foster</td><td>2016</td><td>-5.75</td></tr><tr><td>Arthur Gainer</td><td>2014</td><td>144.46</td></tr><tr><td>Arthur Gainer</td><td>2015</td><td>18.82</td></tr><tr><td>Arthur Gainer</td><td>2016</td><td>252.36</td></tr><tr><td>Arthur Gainer</td><td>2017</td><td>-71.97</td></tr><tr><td>Arthur Prichep</td><td>2014</td><td>420.7</td></tr><tr><td>Arthur Prichep</td><td>2016</td><td>338.86</td></tr><tr><td>Arthur Prichep</td><td>2017</td><td>-179.86</td></tr><tr><td>Arthur Wiediger</td><td>2014</td><td>-42.56</td></tr><tr><td>Arthur Wiediger</td><td>2015</td><td>64.25</td></tr><tr><td>Arthur Wiediger</td><td>2016</td><td>-213.35</td></tr><tr><td>Arthur Wiediger</td><td>2017</td><td>87.22</td></tr><tr><td>Ashley Jarboe</td><td>2014</td><td>3.4</td></tr><tr><td>Ashley Jarboe</td><td>2015</td><td>316.58</td></tr><tr><td>Ashley Jarboe</td><td>2016</td><td>33.22</td></tr><tr><td>Ashley Jarboe</td><td>2017</td><td>167.94</td></tr><tr><td>Astrea Jones</td><td>2014</td><td>57.66</td></tr><tr><td>Astrea Jones</td><td>2017</td><td>2.77</td></tr><tr><td>Barbara Fisher</td><td>2014</td><td>61.99</td></tr><tr><td>Barbara Fisher</td><td>2015</td><td>0.96</td></tr><tr><td>Barbara Fisher</td><td>2016</td><td>157.38</td></tr><tr><td>Barbara Fisher</td><td>2017</td><td>6.97</td></tr><tr><td>Barry Blumstein</td><td>2014</td><td>0.0</td></tr><tr><td>Barry Blumstein</td><td>2015</td><td>-8.22</td></tr><tr><td>Barry Blumstein</td><td>2016</td><td>12.87</td></tr><tr><td>Barry Blumstein</td><td>2017</td><td>6.92</td></tr><tr><td>Barry Franz</td><td>2014</td><td>2.37</td></tr><tr><td>Barry Franz</td><td>2016</td><td>-365.72</td></tr><tr><td>Barry Franz</td><td>2017</td><td>71.98</td></tr><tr><td>Barry Franzsisch</td><td>2014</td><td>7.21</td></tr><tr><td>Barry Franzsisch</td><td>2015</td><td>269.31</td></tr><tr><td>Barry Franzsisch</td><td>2016</td><td>20.32</td></tr><tr><td>Barry Franzsisch</td><td>2017</td><td>4.6</td></tr><tr><td>Barry Gonzalez</td><td>2014</td><td>54.19</td></tr><tr><td>Barry Gonzalez</td><td>2015</td><td>-998.91</td></tr><tr><td>Barry Gonzalez</td><td>2016</td><td>12.24</td></tr><tr><td>Barry Gonzalez</td><td>2017</td><td>221.68</td></tr><tr><td>Barry Pond</td><td>2014</td><td>2.5</td></tr><tr><td>Barry Pond</td><td>2016</td><td>182.98</td></tr><tr><td>Barry Pond</td><td>2017</td><td>24.18</td></tr><tr><td>Barry Weirich</td><td>2014</td><td>6.73</td></tr><tr><td>Barry Weirich</td><td>2015</td><td>12.11</td></tr><tr><td>Barry Weirich</td><td>2017</td><td>-77.13</td></tr><tr><td>Bart Folk</td><td>2014</td><td>3.96</td></tr><tr><td>Bart Folk</td><td>2017</td><td>107.03</td></tr><tr><td>Bart Pistole</td><td>2014</td><td>131.71</td></tr><tr><td>Bart Pistole</td><td>2015</td><td>53.56</td></tr><tr><td>Bart Pistole</td><td>2016</td><td>19.68</td></tr><tr><td>Bart Pistole</td><td>2017</td><td>228.64</td></tr><tr><td>Bart Watters</td><td>2015</td><td>103.49</td></tr><tr><td>Bart Watters</td><td>2016</td><td>97.06</td></tr><tr><td>Bart Watters</td><td>2017</td><td>720.83</td></tr><tr><td>Becky Castell</td><td>2014</td><td>38.13</td></tr><tr><td>Becky Castell</td><td>2015</td><td>92.0</td></tr><tr><td>Becky Castell</td><td>2016</td><td>62.26</td></tr><tr><td>Becky Castell</td><td>2017</td><td>58.8</td></tr><tr><td>Becky Martin</td><td>2014</td><td>-1878.79</td></tr><tr><td>Becky Martin</td><td>2016</td><td>118.92</td></tr><tr><td>Becky Martin</td><td>2017</td><td>99.9</td></tr><tr><td>Becky Pak</td><td>2015</td><td>431.98</td></tr><tr><td>Becky Pak</td><td>2016</td><td>188.78</td></tr><tr><td>Becky Pak</td><td>2017</td><td>26.24</td></tr><tr><td>Ben Ferrer</td><td>2014</td><td>666.39</td></tr><tr><td>Ben Ferrer</td><td>2015</td><td>137.03</td></tr><tr><td>Ben Ferrer</td><td>2016</td><td>697.47</td></tr><tr><td>Ben Ferrer</td><td>2017</td><td>437.78</td></tr><tr><td>Ben Peterman</td><td>2015</td><td>66.76</td></tr><tr><td>Ben Peterman</td><td>2016</td><td>-33.89</td></tr><tr><td>Ben Peterman</td><td>2017</td><td>330.74</td></tr><tr><td>Ben Wallace</td><td>2014</td><td>87.45</td></tr><tr><td>Ben Wallace</td><td>2016</td><td>173.66</td></tr><tr><td>Ben Wallace</td><td>2017</td><td>-14.11</td></tr><tr><td>Benjamin Farhat</td><td>2014</td><td>21.48</td></tr><tr><td>Benjamin Farhat</td><td>2016</td><td>173.24</td></tr><tr><td>Benjamin Farhat</td><td>2017</td><td>328.37</td></tr><tr><td>Benjamin Patterson</td><td>2014</td><td>27.56</td></tr><tr><td>Benjamin Patterson</td><td>2015</td><td>-255.74</td></tr><tr><td>Benjamin Patterson</td><td>2016</td><td>10.21</td></tr><tr><td>Benjamin Patterson</td><td>2017</td><td>20.58</td></tr><tr><td>Benjamin Venier</td><td>2015</td><td>82.28</td></tr><tr><td>Benjamin Venier</td><td>2016</td><td>127.01</td></tr><tr><td>Benjamin Venier</td><td>2017</td><td>105.94</td></tr><tr><td>Berenike Kampe</td><td>2014</td><td>-129.02</td></tr><tr><td>Berenike Kampe</td><td>2015</td><td>42.04</td></tr><tr><td>Berenike Kampe</td><td>2016</td><td>2.23</td></tr><tr><td>Berenike Kampe</td><td>2017</td><td>21.45</td></tr><tr><td>Beth Fritzler</td><td>2014</td><td>-12.12</td></tr><tr><td>Beth Fritzler</td><td>2017</td><td>38.0</td></tr><tr><td>Beth Paige</td><td>2014</td><td>-70.1</td></tr><tr><td>Beth Paige</td><td>2016</td><td>-65.75</td></tr><tr><td>Beth Paige</td><td>2017</td><td>-183.0</td></tr><tr><td>Beth Thompson</td><td>2014</td><td>290.89</td></tr><tr><td>Beth Thompson</td><td>2015</td><td>87.46</td></tr><tr><td>Beth Thompson</td><td>2017</td><td>39.23</td></tr><tr><td>Bil Donatelli</td><td>2015</td><td>799.49</td></tr><tr><td>Bil Donatelli</td><td>2016</td><td>97.23</td></tr><tr><td>Bil Donatelli</td><td>2017</td><td>197.79</td></tr><tr><td>Bil Eplett</td><td>2016</td><td>47.24</td></tr><tr><td>Bil Eplett</td><td>2017</td><td>1440.55</td></tr><tr><td>Bil Overfelt</td><td>2016</td><td>358.03</td></tr><tr><td>Bil Overfelt</td><td>2017</td><td>-79.6</td></tr><tr><td>Bil Shonely</td><td>2014</td><td>210.7</td></tr><tr><td>Bil Shonely</td><td>2016</td><td>2405.71</td></tr><tr><td>Bil Stewart</td><td>2014</td><td>3.95</td></tr><tr><td>Bil Stewart</td><td>2015</td><td>206.62</td></tr><tr><td>Bil Stewart</td><td>2017</td><td>-228.1</td></tr><tr><td>Bil Tyler</td><td>2014</td><td>74.81</td></tr><tr><td>Bil Tyler</td><td>2015</td><td>194.73</td></tr><tr><td>Bil Tyler</td><td>2016</td><td>3.35</td></tr><tr><td>Bil Tyler</td><td>2017</td><td>-14.99</td></tr><tr><td>Bobby Elias</td><td>2016</td><td>577.2</td></tr><tr><td>Bobby Elias</td><td>2017</td><td>178.71</td></tr><tr><td>Bobby Odegard</td><td>2015</td><td>2.07</td></tr><tr><td>Bobby Odegard</td><td>2017</td><td>57.39</td></tr><tr><td>Bobby Trafton</td><td>2014</td><td>-5.37</td></tr><tr><td>Bobby Trafton</td><td>2016</td><td>-71.9</td></tr><tr><td>Brad Eason</td><td>2015</td><td>120.21</td></tr><tr><td>Brad Eason</td><td>2016</td><td>71.07</td></tr><tr><td>Brad Eason</td><td>2017</td><td>-52.07</td></tr><tr><td>Brad Norvell</td><td>2014</td><td>24.68</td></tr><tr><td>Brad Norvell</td><td>2015</td><td>4.09</td></tr><tr><td>Brad Norvell</td><td>2017</td><td>7.84</td></tr><tr><td>Brad Thomas</td><td>2015</td><td>117.39</td></tr><tr><td>Brad Thomas</td><td>2016</td><td>9.48</td></tr><tr><td>Bradley Drucker</td><td>2014</td><td>309.08</td></tr><tr><td>Bradley Drucker</td><td>2015</td><td>70.98</td></tr><tr><td>Bradley Drucker</td><td>2017</td><td>762.06</td></tr><tr><td>Bradley Nguyen</td><td>2014</td><td>185.37</td></tr><tr><td>Bradley Nguyen</td><td>2016</td><td>112.78</td></tr><tr><td>Bradley Nguyen</td><td>2017</td><td>42.57</td></tr><tr><td>Bradley Talbott</td><td>2014</td><td>66.77</td></tr><tr><td>Bradley Talbott</td><td>2016</td><td>-4.38</td></tr><tr><td>Bradley Talbott</td><td>2017</td><td>347.1</td></tr><tr><td>Brenda Bowman</td><td>2015</td><td>-77.85</td></tr><tr><td>Brenda Bowman</td><td>2016</td><td>431.81</td></tr><tr><td>Brenda Bowman</td><td>2017</td><td>660.69</td></tr><tr><td>Brendan Dodson</td><td>2015</td><td>36.47</td></tr><tr><td>Brendan Dodson</td><td>2017</td><td>80.24</td></tr><tr><td>Brendan Murry</td><td>2015</td><td>37.33</td></tr><tr><td>Brendan Murry</td><td>2016</td><td>109.44</td></tr><tr><td>Brendan Murry</td><td>2017</td><td>-51.19</td></tr><tr><td>Brendan Sweed</td><td>2014</td><td>97.46</td></tr><tr><td>Brendan Sweed</td><td>2015</td><td>103.1</td></tr><tr><td>Brendan Sweed</td><td>2016</td><td>12.36</td></tr><tr><td>Brendan Sweed</td><td>2017</td><td>168.47</td></tr><tr><td>Brian Dahlen</td><td>2014</td><td>342.92</td></tr><tr><td>Brian Dahlen</td><td>2015</td><td>79.41</td></tr><tr><td>Brian Dahlen</td><td>2016</td><td>124.51</td></tr><tr><td>Brian Dahlen</td><td>2017</td><td>87.99</td></tr><tr><td>Brian DeCherney</td><td>2014</td><td>108.74</td></tr><tr><td>Brian DeCherney</td><td>2016</td><td>20.18</td></tr><tr><td>Brian DeCherney</td><td>2017</td><td>78.1</td></tr><tr><td>Brian Derr</td><td>2014</td><td>11.49</td></tr><tr><td>Brian Derr</td><td>2015</td><td>102.25</td></tr><tr><td>Brian Derr</td><td>2017</td><td>27.69</td></tr><tr><td>Brian Moss</td><td>2014</td><td>81.65</td></tr><tr><td>Brian Moss</td><td>2015</td><td>181.48</td></tr><tr><td>Brian Moss</td><td>2016</td><td>-2.03</td></tr><tr><td>Brian Moss</td><td>2017</td><td>1937.73</td></tr><tr><td>Brian Stugart</td><td>2014</td><td>1.08</td></tr><tr><td>Brian Stugart</td><td>2015</td><td>175.39</td></tr><tr><td>Brian Stugart</td><td>2016</td><td>62.26</td></tr><tr><td>Brian Thompson</td><td>2014</td><td>-199.77</td></tr><tr><td>Brian Thompson</td><td>2015</td><td>435.64</td></tr><tr><td>Brian Thompson</td><td>2016</td><td>176.51</td></tr><tr><td>Brian Thompson</td><td>2017</td><td>35.43</td></tr><tr><td>Brooke Gillingham</td><td>2014</td><td>9.7</td></tr><tr><td>Brooke Gillingham</td><td>2015</td><td>28.31</td></tr><tr><td>Brooke Gillingham</td><td>2016</td><td>57.92</td></tr><tr><td>Brooke Gillingham</td><td>2017</td><td>11.66</td></tr><tr><td>Brosina Hoffman</td><td>2014</td><td>235.35</td></tr><tr><td>Brosina Hoffman</td><td>2015</td><td>5.84</td></tr><tr><td>Brosina Hoffman</td><td>2016</td><td>428.93</td></tr><tr><td>Brosina Hoffman</td><td>2017</td><td>119.51</td></tr><tr><td>Bruce Degenhardt</td><td>2015</td><td>149.49</td></tr><tr><td>Bruce Degenhardt</td><td>2016</td><td>18.0</td></tr><tr><td>Bruce Degenhardt</td><td>2017</td><td>166.98</td></tr><tr><td>Bruce Geld</td><td>2014</td><td>3.22</td></tr><tr><td>Bruce Geld</td><td>2015</td><td>15.07</td></tr><tr><td>Bruce Geld</td><td>2016</td><td>59.3</td></tr><tr><td>Bruce Geld</td><td>2017</td><td>41.76</td></tr><tr><td>Bruce Stewart</td><td>2014</td><td>-330.55</td></tr><tr><td>Bruce Stewart</td><td>2015</td><td>18.45</td></tr><tr><td>Bruce Stewart</td><td>2016</td><td>82.95</td></tr><tr><td>Bruce Stewart</td><td>2017</td><td>115.84</td></tr><tr><td>Bryan Davis</td><td>2016</td><td>110.7</td></tr><tr><td>Bryan Davis</td><td>2017</td><td>30.58</td></tr><tr><td>Bryan Mills</td><td>2014</td><td>114.1</td></tr><tr><td>Bryan Mills</td><td>2015</td><td>-39.67</td></tr><tr><td>Bryan Mills</td><td>2016</td><td>56.37</td></tr><tr><td>Bryan Mills</td><td>2017</td><td>6.92</td></tr><tr><td>Bryan Spruell</td><td>2015</td><td>77.11</td></tr><tr><td>Bryan Spruell</td><td>2017</td><td>116.94</td></tr><tr><td>Candace McMahon</td><td>2014</td><td>25.23</td></tr><tr><td>Candace McMahon</td><td>2016</td><td>3.69</td></tr><tr><td>Candace McMahon</td><td>2017</td><td>185.93</td></tr><tr><td>Cari Sayre</td><td>2014</td><td>-13.9</td></tr><tr><td>Cari Sayre</td><td>2015</td><td>-5.73</td></tr><tr><td>Cari Sayre</td><td>2017</td><td>205.18</td></tr><tr><td>Cari Schnelling</td><td>2014</td><td>93.74</td></tr><tr><td>Cari Schnelling</td><td>2015</td><td>-2.84</td></tr><tr><td>Cari Schnelling</td><td>2017</td><td>14.92</td></tr><tr><td>Carl Jackson</td><td>2016</td><td>1.65</td></tr><tr><td>Carl Ludwig</td><td>2014</td><td>-29.34</td></tr><tr><td>Carl Ludwig</td><td>2016</td><td>4.35</td></tr><tr><td>Carl Ludwig</td><td>2017</td><td>353.07</td></tr><tr><td>Carl Weiss</td><td>2014</td><td>17.16</td></tr><tr><td>Carl Weiss</td><td>2015</td><td>21.11</td></tr><tr><td>Carl Weiss</td><td>2016</td><td>22.77</td></tr><tr><td>Carl Weiss</td><td>2017</td><td>309.8</td></tr><tr><td>Carlos Daly</td><td>2014</td><td>11.7</td></tr><tr><td>Carlos Daly</td><td>2015</td><td>17.75</td></tr><tr><td>Carlos Daly</td><td>2016</td><td>46.94</td></tr><tr><td>Carlos Daly</td><td>2017</td><td>349.82</td></tr><tr><td>Carlos Meador</td><td>2015</td><td>13.17</td></tr><tr><td>Carlos Meador</td><td>2016</td><td>-56.9</td></tr><tr><td>Carlos Soltero</td><td>2014</td><td>-88.07</td></tr><tr><td>Carlos Soltero</td><td>2015</td><td>16.46</td></tr><tr><td>Carlos Soltero</td><td>2016</td><td>-131.21</td></tr><tr><td>Carlos Soltero</td><td>2017</td><td>76.2</td></tr><tr><td>Carol Adams</td><td>2014</td><td>44.77</td></tr><tr><td>Carol Adams</td><td>2015</td><td>182.16</td></tr><tr><td>Carol Adams</td><td>2016</td><td>899.98</td></tr><tr><td>Carol Adams</td><td>2017</td><td>16.48</td></tr><tr><td>Carol Darley</td><td>2016</td><td>7.75</td></tr><tr><td>Carol Darley</td><td>2017</td><td>-214.46</td></tr><tr><td>Carol Triggs</td><td>2014</td><td>285.45</td></tr><tr><td>Carol Triggs</td><td>2015</td><td>19.45</td></tr><tr><td>Carol Triggs</td><td>2016</td><td>-303.26</td></tr><tr><td>Carol Triggs</td><td>2017</td><td>159.26</td></tr><tr><td>Caroline Jumper</td><td>2016</td><td>1382.97</td></tr><tr><td>Caroline Jumper</td><td>2017</td><td>-524.22</td></tr><tr><td>Cassandra Brandow</td><td>2014</td><td>5.27</td></tr><tr><td>Cassandra Brandow</td><td>2015</td><td>223.45</td></tr><tr><td>Cassandra Brandow</td><td>2016</td><td>161.25</td></tr><tr><td>Cassandra Brandow</td><td>2017</td><td>-239.46</td></tr><tr><td>Catherine Glotzbach</td><td>2015</td><td>5.76</td></tr><tr><td>Catherine Glotzbach</td><td>2016</td><td>58.68</td></tr><tr><td>Catherine Glotzbach</td><td>2017</td><td>21.87</td></tr><tr><td>Cathy Hwang</td><td>2015</td><td>57.39</td></tr><tr><td>Cathy Hwang</td><td>2016</td><td>126.9</td></tr><tr><td>Cathy Prescott</td><td>2014</td><td>62.39</td></tr><tr><td>Cathy Prescott</td><td>2015</td><td>102.44</td></tr><tr><td>Cathy Prescott</td><td>2016</td><td>31.54</td></tr><tr><td>Cathy Prescott</td><td>2017</td><td>230.57</td></tr><tr><td>Chad Cunningham</td><td>2014</td><td>142.85</td></tr><tr><td>Chad Cunningham</td><td>2015</td><td>77.45</td></tr><tr><td>Chad Cunningham</td><td>2016</td><td>-11.7</td></tr><tr><td>Chad McGuire</td><td>2015</td><td>8.11</td></tr><tr><td>Chad McGuire</td><td>2017</td><td>400.47</td></tr><tr><td>Chad Sievert</td><td>2014</td><td>84.36</td></tr><tr><td>Chad Sievert</td><td>2015</td><td>45.72</td></tr><tr><td>Chad Sievert</td><td>2016</td><td>13.75</td></tr><tr><td>Charles Crestani</td><td>2014</td><td>78.74</td></tr><tr><td>Charles Crestani</td><td>2015</td><td>297.36</td></tr><tr><td>Charles Crestani</td><td>2016</td><td>7.86</td></tr><tr><td>Charles Crestani</td><td>2017</td><td>8.33</td></tr><tr><td>Charles McCrossin</td><td>2016</td><td>-315.75</td></tr><tr><td>Charles McCrossin</td><td>2017</td><td>-78.62</td></tr><tr><td>Charles Sheldon</td><td>2014</td><td>98.11</td></tr><tr><td>Charles Sheldon</td><td>2016</td><td>18.35</td></tr><tr><td>Charles Sheldon</td><td>2017</td><td>-3.31</td></tr><tr><td>Charlotte Melton</td><td>2015</td><td>16.89</td></tr><tr><td>Charlotte Melton</td><td>2017</td><td>74.32</td></tr><tr><td>Chloris Kastensmidt</td><td>2014</td><td>82.99</td></tr><tr><td>Chloris Kastensmidt</td><td>2015</td><td>5.53</td></tr><tr><td>Chloris Kastensmidt</td><td>2016</td><td>-128.01</td></tr><tr><td>Chloris Kastensmidt</td><td>2017</td><td>181.08</td></tr><tr><td>Chris Cortes</td><td>2014</td><td>12.41</td></tr><tr><td>Chris Cortes</td><td>2015</td><td>21.01</td></tr><tr><td>Chris Cortes</td><td>2016</td><td>-33.05</td></tr><tr><td>Chris Cortes</td><td>2017</td><td>393.6</td></tr><tr><td>Chris McAfee</td><td>2016</td><td>365.03</td></tr><tr><td>Chris Selesnick</td><td>2014</td><td>446.75</td></tr><tr><td>Chris Selesnick</td><td>2015</td><td>95.26</td></tr><tr><td>Chris Selesnick</td><td>2016</td><td>22.14</td></tr><tr><td>Chris Selesnick</td><td>2017</td><td>174.26</td></tr><tr><td>Christina Anderson</td><td>2014</td><td>16.97</td></tr><tr><td>Christina Anderson</td><td>2015</td><td>118.66</td></tr><tr><td>Christina Anderson</td><td>2016</td><td>24.6</td></tr><tr><td>Christina Anderson</td><td>2017</td><td>119.67</td></tr><tr><td>Christina DeMoss</td><td>2017</td><td>233.48</td></tr><tr><td>Christina VanderZanden</td><td>2014</td><td>163.49</td></tr><tr><td>Christina VanderZanden</td><td>2016</td><td>51.98</td></tr><tr><td>Christina VanderZanden</td><td>2017</td><td>277.62</td></tr><tr><td>Christine Abelman</td><td>2014</td><td>101.4</td></tr><tr><td>Christine Abelman</td><td>2016</td><td>2.1</td></tr><tr><td>Christine Abelman</td><td>2017</td><td>143.36</td></tr><tr><td>Christine Kargatis</td><td>2014</td><td>326.42</td></tr><tr><td>Christine Kargatis</td><td>2016</td><td>59.08</td></tr><tr><td>Christine Kargatis</td><td>2017</td><td>-124.27</td></tr><tr><td>Christine Phan</td><td>2014</td><td>-1031.67</td></tr><tr><td>Christine Phan</td><td>2015</td><td>-1044.46</td></tr><tr><td>Christine Phan</td><td>2016</td><td>242.84</td></tr><tr><td>Christine Phan</td><td>2017</td><td>-17.02</td></tr><tr><td>Christine Sundaresam</td><td>2014</td><td>77.03</td></tr><tr><td>Christine Sundaresam</td><td>2015</td><td>288.11</td></tr><tr><td>Christine Sundaresam</td><td>2016</td><td>10.32</td></tr><tr><td>Christine Sundaresam</td><td>2017</td><td>456.48</td></tr><tr><td>Christopher Conant</td><td>2016</td><td>2083.34</td></tr><tr><td>Christopher Conant</td><td>2017</td><td>93.73</td></tr><tr><td>Christopher Martinez</td><td>2015</td><td>3197.78</td></tr><tr><td>Christopher Martinez</td><td>2017</td><td>702.26</td></tr><tr><td>Christopher Schild</td><td>2014</td><td>80.63</td></tr><tr><td>Christopher Schild</td><td>2015</td><td>75.7</td></tr><tr><td>Christopher Schild</td><td>2016</td><td>-114.17</td></tr><tr><td>Christopher Schild</td><td>2017</td><td>-384.96</td></tr><tr><td>Christy Brittain</td><td>2015</td><td>-3.49</td></tr><tr><td>Christy Brittain</td><td>2016</td><td>201.66</td></tr><tr><td>Christy Brittain</td><td>2017</td><td>74.23</td></tr><tr><td>Chuck Clark</td><td>2015</td><td>60.39</td></tr><tr><td>Chuck Clark</td><td>2016</td><td>255.32</td></tr><tr><td>Chuck Clark</td><td>2017</td><td>108.97</td></tr><tr><td>Chuck Magee</td><td>2014</td><td>10.78</td></tr><tr><td>Chuck Magee</td><td>2016</td><td>53.19</td></tr><tr><td>Chuck Sachs</td><td>2017</td><td>156.27</td></tr><tr><td>Cindy Chapman</td><td>2014</td><td>3.38</td></tr><tr><td>Cindy Chapman</td><td>2016</td><td>111.12</td></tr><tr><td>Cindy Chapman</td><td>2017</td><td>40.35</td></tr><tr><td>Cindy Schnelling</td><td>2015</td><td>-58.13</td></tr><tr><td>Cindy Schnelling</td><td>2016</td><td>-244.73</td></tr><tr><td>Cindy Stewart</td><td>2014</td><td>9.0</td></tr><tr><td>Cindy Stewart</td><td>2015</td><td>17.34</td></tr><tr><td>Cindy Stewart</td><td>2016</td><td>-6696.29</td></tr><tr><td>Cindy Stewart</td><td>2017</td><td>43.71</td></tr><tr><td>Claire Gute</td><td>2015</td><td>-93.38</td></tr><tr><td>Claire Gute</td><td>2016</td><td>261.49</td></tr><tr><td>Claire Gute</td><td>2017</td><td>1.82</td></tr><tr><td>Claudia Bergmann</td><td>2015</td><td>249.13</td></tr><tr><td>Claudia Bergmann</td><td>2016</td><td>458.64</td></tr><tr><td>Claudia Bergmann</td><td>2017</td><td>341.51</td></tr><tr><td>Clay Cheatham</td><td>2017</td><td>34.3</td></tr><tr><td>Clay Ludtke</td><td>2014</td><td>199.77</td></tr><tr><td>Clay Ludtke</td><td>2015</td><td>490.37</td></tr><tr><td>Clay Ludtke</td><td>2016</td><td>713.45</td></tr><tr><td>Clay Ludtke</td><td>2017</td><td>529.6</td></tr><tr><td>Clay Rozendal</td><td>2016</td><td>-34.4</td></tr><tr><td>Clay Rozendal</td><td>2017</td><td>108.8</td></tr><tr><td>Clytie Kelty</td><td>2014</td><td>1.23</td></tr><tr><td>Clytie Kelty</td><td>2015</td><td>-36.93</td></tr><tr><td>Clytie Kelty</td><td>2016</td><td>315.73</td></tr><tr><td>Clytie Kelty</td><td>2017</td><td>211.09</td></tr><tr><td>Corey Catlett</td><td>2014</td><td>481.45</td></tr><tr><td>Corey Catlett</td><td>2015</td><td>18.31</td></tr><tr><td>Corey Catlett</td><td>2016</td><td>-202.27</td></tr><tr><td>Corey Catlett</td><td>2017</td><td>33.78</td></tr><tr><td>Corey Roper</td><td>2014</td><td>114.4</td></tr><tr><td>Corey Roper</td><td>2016</td><td>30.45</td></tr><tr><td>CoreyLock</td><td>2014</td><td>142.68</td></tr><tr><td>CoreyLock</td><td>2015</td><td>44.03</td></tr><tr><td>CoreyLock</td><td>2016</td><td>19.19</td></tr><tr><td>Corinna Mitchell</td><td>2015</td><td>116.62</td></tr><tr><td>Corinna Mitchell</td><td>2016</td><td>599.89</td></tr><tr><td>Corinna Mitchell</td><td>2017</td><td>855.93</td></tr><tr><td>Craig Carreira</td><td>2014</td><td>11.3</td></tr><tr><td>Craig Carreira</td><td>2015</td><td>8.57</td></tr><tr><td>Craig Carreira</td><td>2016</td><td>53.66</td></tr><tr><td>Craig Carreira</td><td>2017</td><td>114.35</td></tr><tr><td>Craig Carroll</td><td>2014</td><td>-45.32</td></tr><tr><td>Craig Carroll</td><td>2015</td><td>895.35</td></tr><tr><td>Craig Leslie</td><td>2016</td><td>64.09</td></tr><tr><td>Craig Leslie</td><td>2017</td><td>164.91</td></tr><tr><td>Craig Molinari</td><td>2014</td><td>206.22</td></tr><tr><td>Craig Molinari</td><td>2015</td><td>-29.9</td></tr><tr><td>Craig Reiter</td><td>2014</td><td>-6.02</td></tr><tr><td>Craig Reiter</td><td>2016</td><td>59.57</td></tr><tr><td>Craig Reiter</td><td>2017</td><td>253.37</td></tr><tr><td>Craig Yedwab</td><td>2014</td><td>-336.63</td></tr><tr><td>Craig Yedwab</td><td>2015</td><td>107.0</td></tr><tr><td>Craig Yedwab</td><td>2016</td><td>49.73</td></tr><tr><td>Craig Yedwab</td><td>2017</td><td>240.54</td></tr><tr><td>Cthy Armstrong</td><td>2015</td><td>-47.73</td></tr><tr><td>Cthy Armstrong</td><td>2016</td><td>259.37</td></tr><tr><td>Customer Name Unavailable</td><td>2014</td><td>484.65</td></tr><tr><td>Customer Name Unavailable</td><td>2015</td><td>2096.23</td></tr><tr><td>Customer Name Unavailable</td><td>2016</td><td>282.98</td></tr><tr><td>Customer Name Unavailable</td><td>2017</td><td>262.96</td></tr><tr><td>Cyma Kinney</td><td>2014</td><td>66.59</td></tr><tr><td>Cyma Kinney</td><td>2015</td><td>14.5</td></tr><tr><td>Cyma Kinney</td><td>2016</td><td>101.86</td></tr><tr><td>Cyma Kinney</td><td>2017</td><td>-521.39</td></tr><tr><td>Cynthia Arntzen</td><td>2014</td><td>111.79</td></tr><tr><td>Cynthia Arntzen</td><td>2015</td><td>-101.6</td></tr><tr><td>Cynthia Arntzen</td><td>2016</td><td>1.67</td></tr><tr><td>Cynthia Arntzen</td><td>2017</td><td>191.87</td></tr><tr><td>Cynthia Delaney</td><td>2014</td><td>40.21</td></tr><tr><td>Cynthia Delaney</td><td>2015</td><td>2.53</td></tr><tr><td>Cynthia Delaney</td><td>2016</td><td>346.71</td></tr><tr><td>Cynthia Voltz</td><td>2016</td><td>-35.39</td></tr><tr><td>Cynthia Voltz</td><td>2017</td><td>134.09</td></tr><tr><td>Cyra Reiten</td><td>2015</td><td>2.13</td></tr><tr><td>Cyra Reiten</td><td>2017</td><td>81.14</td></tr><tr><td>Damala Kotsonis</td><td>2014</td><td>-22.36</td></tr><tr><td>Damala Kotsonis</td><td>2015</td><td>369.26</td></tr><tr><td>Damala Kotsonis</td><td>2016</td><td>185.34</td></tr><tr><td>Damala Kotsonis</td><td>2017</td><td>349.28</td></tr><tr><td>Dan Campbell</td><td>2014</td><td>-77.87</td></tr><tr><td>Dan Campbell</td><td>2015</td><td>4.89</td></tr><tr><td>Dan Campbell</td><td>2016</td><td>-239.55</td></tr><tr><td>Dan Campbell</td><td>2017</td><td>-1128.75</td></tr><tr><td>Dan Lawera</td><td>2014</td><td>7.73</td></tr><tr><td>Dan Lawera</td><td>2015</td><td>9.04</td></tr><tr><td>Dan Lawera</td><td>2016</td><td>311.98</td></tr><tr><td>Dan Lawera</td><td>2017</td><td>-6.9</td></tr><tr><td>Dan Reichenbach</td><td>2015</td><td>428.64</td></tr><tr><td>Dan Reichenbach</td><td>2016</td><td>126.06</td></tr><tr><td>Dan Reichenbach</td><td>2017</td><td>1086.84</td></tr><tr><td>Dana Kaydos</td><td>2015</td><td>609.59</td></tr><tr><td>Dana Kaydos</td><td>2017</td><td>316.38</td></tr><tr><td>Daniel Byrd</td><td>2014</td><td>3.63</td></tr><tr><td>Daniel Byrd</td><td>2016</td><td>146.83</td></tr><tr><td>Daniel Byrd</td><td>2017</td><td>280.92</td></tr><tr><td>Daniel Lacy</td><td>2014</td><td>-324.87</td></tr><tr><td>Daniel Lacy</td><td>2015</td><td>304.39</td></tr><tr><td>Daniel Lacy</td><td>2017</td><td>24.87</td></tr><tr><td>Daniel Raglin</td><td>2014</td><td>22.68</td></tr><tr><td>Daniel Raglin</td><td>2015</td><td>296.67</td></tr><tr><td>Daniel Raglin</td><td>2016</td><td>2337.76</td></tr><tr><td>Daniel Raglin</td><td>2017</td><td>211.97</td></tr><tr><td>Dario Medina</td><td>2014</td><td>58.4</td></tr><tr><td>Dario Medina</td><td>2015</td><td>42.96</td></tr><tr><td>Dario Medina</td><td>2016</td><td>0.26</td></tr><tr><td>Dario Medina</td><td>2017</td><td>7.14</td></tr><tr><td>Darren Budd</td><td>2014</td><td>17.78</td></tr><tr><td>Darren Budd</td><td>2015</td><td>45.65</td></tr><tr><td>Darren Budd</td><td>2016</td><td>84.3</td></tr><tr><td>Darren Budd</td><td>2017</td><td>64.81</td></tr><tr><td>Darren Koutras</td><td>2014</td><td>-8.08</td></tr><tr><td>Darren Koutras</td><td>2015</td><td>-76.43</td></tr><tr><td>Darren Koutras</td><td>2017</td><td>-22.94</td></tr><tr><td>Darren Powers</td><td>2014</td><td>24.24</td></tr><tr><td>Darren Powers</td><td>2015</td><td>260.74</td></tr><tr><td>Darren Powers</td><td>2016</td><td>4.88</td></tr><tr><td>Darren Powers</td><td>2017</td><td>-48.17</td></tr><tr><td>Darrin Martin</td><td>2014</td><td>1600.06</td></tr><tr><td>Darrin Martin</td><td>2015</td><td>6.6</td></tr><tr><td>Darrin Martin</td><td>2016</td><td>-35.45</td></tr><tr><td>Darrin Martin</td><td>2017</td><td>106.77</td></tr><tr><td>Darrin Sayre</td><td>2014</td><td>29.47</td></tr><tr><td>Darrin Sayre</td><td>2017</td><td>164.31</td></tr><tr><td>Darrin Van Huff</td><td>2016</td><td>17.48</td></tr><tr><td>Darrin Van Huff</td><td>2017</td><td>-445.11</td></tr><tr><td>Dave Brooks</td><td>2014</td><td>409.76</td></tr><tr><td>Dave Brooks</td><td>2016</td><td>294.18</td></tr><tr><td>Dave Brooks</td><td>2017</td><td>-231.31</td></tr><tr><td>Dave Hallsten</td><td>2014</td><td>323.13</td></tr><tr><td>Dave Hallsten</td><td>2015</td><td>783.24</td></tr><tr><td>Dave Hallsten</td><td>2016</td><td>-19.6</td></tr><tr><td>Dave Hallsten</td><td>2017</td><td>106.98</td></tr><tr><td>Dave Kipp</td><td>2015</td><td>173.71</td></tr><tr><td>Dave Kipp</td><td>2016</td><td>-38.31</td></tr><tr><td>Dave Kipp</td><td>2017</td><td>400.99</td></tr><tr><td>Dave Poirier</td><td>2015</td><td>16.29</td></tr><tr><td>Dave Poirier</td><td>2016</td><td>486.12</td></tr><tr><td>Dave Poirier</td><td>2017</td><td>60.54</td></tr><tr><td>David Bremer</td><td>2015</td><td>-285.06</td></tr><tr><td>David Bremer</td><td>2017</td><td>-1136.72</td></tr><tr><td>David Flashing</td><td>2014</td><td>37.88</td></tr><tr><td>David Flashing</td><td>2015</td><td>99.94</td></tr><tr><td>David Flashing</td><td>2016</td><td>-397.13</td></tr><tr><td>David Klendrick</td><td>2014</td><td>78.5</td></tr><tr><td>David Klendrick</td><td>2017</td><td>171.77</td></tr><tr><td>David Philippe</td><td>2014</td><td>-41.94</td></tr><tr><td>David Philippe</td><td>2015</td><td>1.0</td></tr><tr><td>David Smith</td><td>2014</td><td>57.59</td></tr><tr><td>David Smith</td><td>2015</td><td>182.58</td></tr><tr><td>David Smith</td><td>2016</td><td>-46.95</td></tr><tr><td>David Smith</td><td>2017</td><td>-29.56</td></tr><tr><td>David Wiener</td><td>2014</td><td>55.47</td></tr><tr><td>David Wiener</td><td>2016</td><td>-34.16</td></tr><tr><td>David Wiener</td><td>2017</td><td>-108.28</td></tr><tr><td>Dean Braden</td><td>2015</td><td>-41.79</td></tr><tr><td>Dean Braden</td><td>2016</td><td>-66.47</td></tr><tr><td>Dean Braden</td><td>2017</td><td>277.97</td></tr><tr><td>Dean Katz</td><td>2014</td><td>6.0</td></tr><tr><td>Dean Katz</td><td>2015</td><td>-339.65</td></tr><tr><td>Dean Katz</td><td>2016</td><td>227.45</td></tr><tr><td>Dean Katz</td><td>2017</td><td>316.47</td></tr><tr><td>DeanperceR</td><td>2014</td><td>100.92</td></tr><tr><td>DeanperceR</td><td>2015</td><td>1145.83</td></tr><tr><td>DeanperceR</td><td>2016</td><td>117.74</td></tr><tr><td>DeanperceR</td><td>2017</td><td>-1031.12</td></tr><tr><td>Deborah Brumfield</td><td>2014</td><td>45.1</td></tr><tr><td>Deborah Brumfield</td><td>2015</td><td>1.72</td></tr><tr><td>Deborah Brumfield</td><td>2016</td><td>810.57</td></tr><tr><td>Deborah Brumfield</td><td>2017</td><td>-15.55</td></tr><tr><td>Debra Catini</td><td>2014</td><td>54.8</td></tr><tr><td>Debra Catini</td><td>2015</td><td>55.75</td></tr><tr><td>Debra Catini</td><td>2016</td><td>10.47</td></tr><tr><td>Debra Catini</td><td>2017</td><td>11.06</td></tr><tr><td>Deirdre Greer</td><td>2014</td><td>22.07</td></tr><tr><td>Deirdre Greer</td><td>2015</td><td>0.42</td></tr><tr><td>Deirdre Greer</td><td>2016</td><td>9.33</td></tr><tr><td>Deirdre Greer</td><td>2017</td><td>530.95</td></tr><tr><td>Delfina Latchford</td><td>2014</td><td>-11.89</td></tr><tr><td>Delfina Latchford</td><td>2016</td><td>206.58</td></tr><tr><td>Delfina Latchford</td><td>2017</td><td>94.23</td></tr><tr><td>Denise Leinenbach</td><td>2014</td><td>2.1</td></tr><tr><td>Denise Leinenbach</td><td>2015</td><td>197.99</td></tr><tr><td>Denise Leinenbach</td><td>2016</td><td>5.22</td></tr><tr><td>Denise Leinenbach</td><td>2017</td><td>17.38</td></tr><tr><td>Denise Monton</td><td>2014</td><td>3.71</td></tr><tr><td>Denise Monton</td><td>2015</td><td>2.84</td></tr><tr><td>Denise Monton</td><td>2016</td><td>-61.9</td></tr><tr><td>Denise Monton</td><td>2017</td><td>1374.42</td></tr><tr><td>Dennis Bolton</td><td>2014</td><td>79.89</td></tr><tr><td>Dennis Bolton</td><td>2015</td><td>15.61</td></tr><tr><td>Dennis Bolton</td><td>2016</td><td>81.97</td></tr><tr><td>Dennis Bolton</td><td>2017</td><td>113.54</td></tr><tr><td>Dennis Kane</td><td>2014</td><td>109.61</td></tr><tr><td>Dennis Kane</td><td>2015</td><td>-95.8</td></tr><tr><td>Dennis Kane</td><td>2016</td><td>360.97</td></tr><tr><td>Dennis Kane</td><td>2017</td><td>2.65</td></tr><tr><td>Dennis Pardue</td><td>2014</td><td>83.79</td></tr><tr><td>Dennis Pardue</td><td>2015</td><td>-223.85</td></tr><tr><td>Dennis Pardue</td><td>2016</td><td>1694.64</td></tr><tr><td>Dennis Pardue</td><td>2017</td><td>17.25</td></tr><tr><td>Denny Blanton</td><td>2015</td><td>266.33</td></tr><tr><td>Denny Blanton</td><td>2017</td><td>172.59</td></tr><tr><td>Denny Joy</td><td>2014</td><td>39.77</td></tr><tr><td>Denny Joy</td><td>2015</td><td>64.99</td></tr><tr><td>Denny Joy</td><td>2016</td><td>378.27</td></tr><tr><td>Denny Ordway</td><td>2014</td><td>6.09</td></tr><tr><td>Denny Ordway</td><td>2015</td><td>-136.09</td></tr><tr><td>Denny Ordway</td><td>2016</td><td>8.5</td></tr><tr><td>Denny Ordway</td><td>2017</td><td>83.17</td></tr><tr><td>Dianna Arnett</td><td>2014</td><td>21.72</td></tr><tr><td>Dianna Arnett</td><td>2017</td><td>35.07</td></tr><tr><td>Dianna Vittorini</td><td>2014</td><td>9.72</td></tr><tr><td>Dianna Vittorini</td><td>2015</td><td>101.77</td></tr><tr><td>Dianna Vittorini</td><td>2016</td><td>89.95</td></tr><tr><td>Dianna Vittorini</td><td>2017</td><td>151.65</td></tr><tr><td>Dianna Wilson</td><td>2014</td><td>1154.67</td></tr><tr><td>Dianna Wilson</td><td>2016</td><td>31.09</td></tr><tr><td>Dianna Wilson</td><td>2017</td><td>162.99</td></tr><tr><td>Dionis Lloyd</td><td>2015</td><td>50.35</td></tr><tr><td>Dionis Lloyd</td><td>2016</td><td>97.84</td></tr><tr><td>Dionis Lloyd</td><td>2017</td><td>-200.58</td></tr><tr><td>Don Jones</td><td>2014</td><td>187.74</td></tr><tr><td>Don Jones</td><td>2016</td><td>100.2</td></tr><tr><td>Don Jones</td><td>2017</td><td>57.32</td></tr><tr><td>Don Miller</td><td>2014</td><td>14.49</td></tr><tr><td>Don Miller</td><td>2015</td><td>167.54</td></tr><tr><td>Don Miller</td><td>2016</td><td>18.17</td></tr><tr><td>Don Weiss</td><td>2016</td><td>16.01</td></tr><tr><td>Don Weiss</td><td>2017</td><td>53.65</td></tr><tr><td>Dorothy Badders</td><td>2014</td><td>8.35</td></tr><tr><td>Dorothy Badders</td><td>2017</td><td>101.29</td></tr><tr><td>Dorothy Dickinson</td><td>2014</td><td>-8.63</td></tr><tr><td>Dorothy Dickinson</td><td>2016</td><td>-6.9</td></tr><tr><td>Dorothy Dickinson</td><td>2017</td><td>51.97</td></tr><tr><td>Dorothy Wardle</td><td>2014</td><td>6.63</td></tr><tr><td>Dorothy Wardle</td><td>2015</td><td>-371.25</td></tr><tr><td>Dorothy Wardle</td><td>2016</td><td>92.61</td></tr><tr><td>Dorothy Wardle</td><td>2017</td><td>5.11</td></tr><tr><td>Dorrisliebe</td><td>2014</td><td>29.17</td></tr><tr><td>Dorrisliebe</td><td>2016</td><td>146.39</td></tr><tr><td>Dorrisliebe</td><td>2017</td><td>-0.33</td></tr><tr><td>Doug Bickford</td><td>2014</td><td>13.49</td></tr><tr><td>Doug Bickford</td><td>2015</td><td>342.08</td></tr><tr><td>Doug Bickford</td><td>2016</td><td>22.73</td></tr><tr><td>Doug Bickford</td><td>2017</td><td>60.5</td></tr><tr><td>Doug Jacobs</td><td>2015</td><td>36.0</td></tr><tr><td>Doug Jacobs</td><td>2016</td><td>25.78</td></tr><tr><td>Doug Jacobs</td><td>2017</td><td>669.79</td></tr><tr><td>Doug OConnell</td><td>2015</td><td>26.82</td></tr><tr><td>Doug OConnell</td><td>2017</td><td>267.03</td></tr><tr><td>Duane Benoit</td><td>2014</td><td>31.01</td></tr><tr><td>Duane Benoit</td><td>2015</td><td>-17.29</td></tr><tr><td>Duane Benoit</td><td>2016</td><td>-35.22</td></tr><tr><td>Duane Benoit</td><td>2017</td><td>199.44</td></tr><tr><td>Duane Huffman</td><td>2014</td><td>87.79</td></tr><tr><td>Duane Huffman</td><td>2015</td><td>28.89</td></tr><tr><td>Duane Noonan</td><td>2014</td><td>179.72</td></tr><tr><td>Duane Noonan</td><td>2016</td><td>222.39</td></tr><tr><td>Duane Noonan</td><td>2017</td><td>138.42</td></tr><tr><td>Ed Braxton</td><td>2014</td><td>-127.42</td></tr><tr><td>Ed Braxton</td><td>2015</td><td>47.96</td></tr><tr><td>Ed Braxton</td><td>2016</td><td>82.42</td></tr><tr><td>Ed Braxton</td><td>2017</td><td>10.6</td></tr><tr><td>Ed Jacobs</td><td>2014</td><td>-7403.61</td></tr><tr><td>Ed Jacobs</td><td>2015</td><td>15.86</td></tr><tr><td>Ed Jacobs</td><td>2017</td><td>423.72</td></tr><tr><td>Ed Ludwig</td><td>2016</td><td>8.66</td></tr><tr><td>Ed Ludwig</td><td>2017</td><td>18.45</td></tr><tr><td>Edward Becker</td><td>2015</td><td>177.41</td></tr><tr><td>Edward Becker</td><td>2016</td><td>139.81</td></tr><tr><td>Edward Becker</td><td>2017</td><td>-397.51</td></tr><tr><td>Edward Hooks</td><td>2014</td><td>4.05</td></tr><tr><td>Edward Hooks</td><td>2015</td><td>224.83</td></tr><tr><td>Edward Hooks</td><td>2016</td><td>758.8</td></tr><tr><td>Edward Hooks</td><td>2017</td><td>405.82</td></tr><tr><td>Edward Nazzal</td><td>2015</td><td>51.27</td></tr><tr><td>Edward Nazzal</td><td>2016</td><td>438.4</td></tr><tr><td>Edward Nazzal</td><td>2017</td><td>6.55</td></tr><tr><td>Eileen Kiefer</td><td>2014</td><td>70.49</td></tr><tr><td>Eileen Kiefer</td><td>2015</td><td>20.54</td></tr><tr><td>Eileen Kiefer</td><td>2017</td><td>6.07</td></tr><tr><td>Elizabeth Moffitt</td><td>2014</td><td>7.99</td></tr><tr><td>Elizabeth Moffitt</td><td>2015</td><td>238.47</td></tr><tr><td>Elizabeth Moffitt</td><td>2016</td><td>-8.32</td></tr><tr><td>Elizabeth Moffitt</td><td>2017</td><td>444.42</td></tr><tr><td>Ellis Ballard</td><td>2014</td><td>-36.36</td></tr><tr><td>Ellis Ballard</td><td>2015</td><td>610.86</td></tr><tr><td>Ellis Ballard</td><td>2016</td><td>0.0</td></tr><tr><td>Ellis Ballard</td><td>2017</td><td>81.7</td></tr><tr><td>Elpida Rittenbach</td><td>2015</td><td>4.57</td></tr><tr><td>Elpida Rittenbach</td><td>2016</td><td>-299.9</td></tr><tr><td>Emily Burns</td><td>2014</td><td>16.02</td></tr><tr><td>Emily Burns</td><td>2015</td><td>242.3</td></tr><tr><td>Emily Burns</td><td>2016</td><td>84.07</td></tr><tr><td>Emily Burns</td><td>2017</td><td>-80.44</td></tr><tr><td>Emily Grady</td><td>2015</td><td>55.0</td></tr><tr><td>Emily Grady</td><td>2016</td><td>46.31</td></tr><tr><td>Emily Grady</td><td>2017</td><td>2.59</td></tr><tr><td>Emily Phan</td><td>2014</td><td>175.0</td></tr><tr><td>Emily Phan</td><td>2015</td><td>361.2</td></tr><tr><td>Emily Phan</td><td>2016</td><td>-393.66</td></tr><tr><td>Emily Phan</td><td>2017</td><td>2.6</td></tr><tr><td>Eric Barreto</td><td>2014</td><td>1.35</td></tr><tr><td>Eric Barreto</td><td>2016</td><td>74.27</td></tr><tr><td>Eric Barreto</td><td>2017</td><td>-75.19</td></tr><tr><td>Eric Hoffmann</td><td>2014</td><td>22.15</td></tr><tr><td>Eric Hoffmann</td><td>2015</td><td>10.62</td></tr><tr><td>Eric Hoffmann</td><td>2016</td><td>-13.38</td></tr><tr><td>Eric Hoffmann</td><td>2017</td><td>34.4</td></tr><tr><td>Eric Murdock</td><td>2015</td><td>51.93</td></tr><tr><td>Eric Murdock</td><td>2017</td><td>50.37</td></tr><tr><td>Erica Bern</td><td>2016</td><td>151.89</td></tr><tr><td>Erica Bern</td><td>2017</td><td>11.0</td></tr><tr><td>Erica Hackney</td><td>2014</td><td>54.09</td></tr><tr><td>Erica Hackney</td><td>2015</td><td>28.38</td></tr><tr><td>Erica Hackney</td><td>2016</td><td>67.9</td></tr><tr><td>Erica Hernandez</td><td>2014</td><td>-248.96</td></tr><tr><td>Erica Hernandez</td><td>2016</td><td>9.95</td></tr><tr><td>Erica Hernandez</td><td>2017</td><td>144.29</td></tr><tr><td>Erica Smith</td><td>2014</td><td>15.22</td></tr><tr><td>Erica Smith</td><td>2015</td><td>44.05</td></tr><tr><td>Erica Smith</td><td>2016</td><td>71.99</td></tr><tr><td>Erica Smith</td><td>2017</td><td>871.82</td></tr><tr><td>Erin Ashbrook</td><td>2014</td><td>-53.44</td></tr><tr><td>Erin Ashbrook</td><td>2015</td><td>321.74</td></tr><tr><td>Erin Ashbrook</td><td>2016</td><td>-342.69</td></tr><tr><td>Erin Ashbrook</td><td>2017</td><td>21.83</td></tr><tr><td>Erin Creighton</td><td>2014</td><td>-4.02</td></tr><tr><td>Erin Creighton</td><td>2016</td><td>43.09</td></tr><tr><td>Erin Creighton</td><td>2017</td><td>57.37</td></tr><tr><td>Erin Mull</td><td>2014</td><td>59.26</td></tr><tr><td>Erin Mull</td><td>2016</td><td>-4.79</td></tr><tr><td>Erin Mull</td><td>2017</td><td>-14.44</td></tr><tr><td>Erin Smith</td><td>2014</td><td>134.03</td></tr><tr><td>Erin Smith</td><td>2015</td><td>-27.16</td></tr><tr><td>Erin Smith</td><td>2016</td><td>-99.22</td></tr><tr><td>Erin Smith</td><td>2017</td><td>239.29</td></tr><tr><td>Eudokia Martin</td><td>2015</td><td>192.67</td></tr><tr><td>Eudokia Martin</td><td>2016</td><td>30.63</td></tr><tr><td>Eudokia Martin</td><td>2017</td><td>16.93</td></tr><tr><td>Eugene Barchas</td><td>2015</td><td>44.54</td></tr><tr><td>Eugene Barchas</td><td>2016</td><td>187.62</td></tr><tr><td>Eugene Barchas</td><td>2017</td><td>-47.4</td></tr><tr><td>Eugene Hildebrand</td><td>2014</td><td>20.1</td></tr><tr><td>Eugene Hildebrand</td><td>2015</td><td>-117.87</td></tr><tr><td>Eugene Hildebrand</td><td>2016</td><td>-71.64</td></tr><tr><td>Eugene Hildebrand</td><td>2017</td><td>265.62</td></tr><tr><td>Eugene Moren</td><td>2014</td><td>2.21</td></tr><tr><td>Eugene Moren</td><td>2015</td><td>271.41</td></tr><tr><td>Eugene Moren</td><td>2016</td><td>968.57</td></tr><tr><td>Eugene Moren</td><td>2017</td><td>76.76</td></tr><tr><td>Eva Jacobs</td><td>2014</td><td>-23.49</td></tr><tr><td>Eva Jacobs</td><td>2016</td><td>335.35</td></tr><tr><td>Eva Jacobs</td><td>2017</td><td>140.02</td></tr><tr><td>Evan Bailliet</td><td>2014</td><td>155.02</td></tr><tr><td>Evan Bailliet</td><td>2015</td><td>119.43</td></tr><tr><td>Evan Bailliet</td><td>2016</td><td>4.44</td></tr><tr><td>Evan Bailliet</td><td>2017</td><td>3.52</td></tr><tr><td>Evan Henry</td><td>2014</td><td>26.43</td></tr><tr><td>Evan Henry</td><td>2016</td><td>209.28</td></tr><tr><td>Evan Henry</td><td>2017</td><td>6.42</td></tr><tr><td>Evan Minnotte</td><td>2015</td><td>4.0</td></tr><tr><td>Evan Minnotte</td><td>2017</td><td>17.83</td></tr><tr><td>Filia McAdams</td><td>2014</td><td>228.77</td></tr><tr><td>Filia McAdams</td><td>2016</td><td>45.93</td></tr><tr><td>Filia McAdams</td><td>2017</td><td>-24.75</td></tr><tr><td>Frank Atkinson</td><td>2014</td><td>3.58</td></tr><tr><td>Frank Atkinson</td><td>2015</td><td>224.56</td></tr><tr><td>Frank Atkinson</td><td>2016</td><td>39.81</td></tr><tr><td>Frank Atkinson</td><td>2017</td><td>252.38</td></tr><tr><td>Frank Carlisle</td><td>2015</td><td>35.53</td></tr><tr><td>Frank Carlisle</td><td>2016</td><td>972.25</td></tr><tr><td>Frank Carlisle</td><td>2017</td><td>209.4</td></tr><tr><td>Frank Gastineau</td><td>2014</td><td>314.52</td></tr><tr><td>Frank Gastineau</td><td>2017</td><td>80.43</td></tr><tr><td>Frank Hawley</td><td>2014</td><td>297.18</td></tr><tr><td>Frank Hawley</td><td>2016</td><td>166.29</td></tr><tr><td>Frank Hawley</td><td>2017</td><td>12936.86</td></tr><tr><td>Frank Merwin</td><td>2014</td><td>22.98</td></tr><tr><td>Frank Merwin</td><td>2015</td><td>1.03</td></tr><tr><td>Frank Merwin</td><td>2016</td><td>-356.98</td></tr><tr><td>Frank Merwin</td><td>2017</td><td>530.86</td></tr><tr><td>Frank Olsen</td><td>2014</td><td>245.02</td></tr><tr><td>Frank Olsen</td><td>2015</td><td>18.99</td></tr><tr><td>Frank Olsen</td><td>2016</td><td>22.56</td></tr><tr><td>Frank Olsen</td><td>2017</td><td>-70.98</td></tr><tr><td>Frank Preis</td><td>2014</td><td>138.01</td></tr><tr><td>Frank Preis</td><td>2015</td><td>-140.57</td></tr><tr><td>Frank Preis</td><td>2016</td><td>359.7</td></tr><tr><td>Frank Preis</td><td>2017</td><td>49.32</td></tr><tr><td>Fred Chung</td><td>2014</td><td>112.57</td></tr><tr><td>Fred Chung</td><td>2015</td><td>12.6</td></tr><tr><td>Fred Chung</td><td>2016</td><td>86.15</td></tr><tr><td>Fred Chung</td><td>2017</td><td>502.97</td></tr><tr><td>Fred Harton</td><td>2015</td><td>365.68</td></tr><tr><td>Fred Harton</td><td>2017</td><td>340.37</td></tr><tr><td>Fred Hopkins</td><td>2014</td><td>-172.46</td></tr><tr><td>Fred Hopkins</td><td>2015</td><td>2139.74</td></tr><tr><td>Fred Hopkins</td><td>2016</td><td>6.91</td></tr><tr><td>Fred Hopkins</td><td>2017</td><td>76.82</td></tr><tr><td>Fred McMath</td><td>2015</td><td>17.48</td></tr><tr><td>Fred McMath</td><td>2016</td><td>134.91</td></tr><tr><td>Fred McMath</td><td>2017</td><td>38.7</td></tr><tr><td>Fred Waerman</td><td>2015</td><td>5.48</td></tr><tr><td>Fred Waerman</td><td>2016</td><td>12.21</td></tr><tr><td>Fred Waerman</td><td>2017</td><td>5.81</td></tr><tr><td>Gary Hansen</td><td>2014</td><td>53.34</td></tr><tr><td>Gary Hansen</td><td>2015</td><td>38.97</td></tr><tr><td>Gary Hansen</td><td>2016</td><td>-173.08</td></tr><tr><td>Gary Hansen</td><td>2017</td><td>-496.24</td></tr><tr><td>Gary Hwang</td><td>2014</td><td>1073.14</td></tr><tr><td>Gary Hwang</td><td>2015</td><td>59.65</td></tr><tr><td>Gary Hwang</td><td>2017</td><td>43.6</td></tr><tr><td>Gary McGarr</td><td>2014</td><td>202.78</td></tr><tr><td>Gary McGarr</td><td>2016</td><td>108.18</td></tr><tr><td>Gary McGarr</td><td>2017</td><td>36.31</td></tr><tr><td>Gary Mitchum</td><td>2014</td><td>316.15</td></tr><tr><td>Gary Mitchum</td><td>2016</td><td>102.52</td></tr><tr><td>Gary Mitchum</td><td>2017</td><td>374.62</td></tr><tr><td>Gary Zandusky</td><td>2014</td><td>50.43</td></tr><tr><td>Gary Zandusky</td><td>2015</td><td>126.31</td></tr><tr><td>Gary Zandusky</td><td>2016</td><td>652.32</td></tr><tr><td>Gary Zandusky</td><td>2017</td><td>259.1</td></tr><tr><td>Gene Hale</td><td>2015</td><td>-71.0</td></tr><tr><td>Gene Hale</td><td>2016</td><td>-24.49</td></tr><tr><td>Gene McClure</td><td>2014</td><td>2.69</td></tr><tr><td>Gene McClure</td><td>2015</td><td>359.46</td></tr><tr><td>Gene McClure</td><td>2016</td><td>17.57</td></tr><tr><td>Gene McClure</td><td>2017</td><td>61.6</td></tr><tr><td>George Ashbrook</td><td>2014</td><td>22.41</td></tr><tr><td>George Ashbrook</td><td>2015</td><td>625.85</td></tr><tr><td>George Ashbrook</td><td>2016</td><td>53.56</td></tr><tr><td>George Ashbrook</td><td>2017</td><td>139.07</td></tr><tr><td>George Bell</td><td>2014</td><td>-33.19</td></tr><tr><td>George Bell</td><td>2015</td><td>74.29</td></tr><tr><td>George Bell</td><td>2016</td><td>-77.54</td></tr><tr><td>George Bell</td><td>2017</td><td>44.29</td></tr><tr><td>George Zrebassa</td><td>2014</td><td>12.0</td></tr><tr><td>George Zrebassa</td><td>2017</td><td>816.17</td></tr><tr><td>Georgia Rosenberg</td><td>2014</td><td>359.88</td></tr><tr><td>Giulietta Baptist</td><td>2015</td><td>767.6</td></tr><tr><td>Giulietta Baptist</td><td>2016</td><td>73.22</td></tr><tr><td>Giulietta Baptist</td><td>2017</td><td>295.02</td></tr><tr><td>Giulietta Dortch</td><td>2014</td><td>21.66</td></tr><tr><td>Giulietta Dortch</td><td>2016</td><td>-155.3</td></tr><tr><td>Giulietta Dortch</td><td>2017</td><td>364.24</td></tr><tr><td>Giulietta Weimer</td><td>2014</td><td>3.63</td></tr><tr><td>Giulietta Weimer</td><td>2015</td><td>134.33</td></tr><tr><td>Giulietta Weimer</td><td>2016</td><td>44.58</td></tr><tr><td>Giulietta Weimer</td><td>2017</td><td>-451.09</td></tr><tr><td>Grace Kelly</td><td>2014</td><td>42.92</td></tr><tr><td>Grace Kelly</td><td>2015</td><td>86.65</td></tr><tr><td>Grace Kelly</td><td>2016</td><td>1315.57</td></tr><tr><td>Grace Kelly</td><td>2017</td><td>3.45</td></tr><tr><td>Grant Thornton</td><td>2014</td><td>-292.19</td></tr><tr><td>Grant Thornton</td><td>2015</td><td>8.87</td></tr><tr><td>Grant Thornton</td><td>2017</td><td>-3825.34</td></tr><tr><td>Greg Guthrie</td><td>2014</td><td>122.55</td></tr><tr><td>Greg Guthrie</td><td>2015</td><td>-115.72</td></tr><tr><td>Greg Guthrie</td><td>2016</td><td>15.93</td></tr><tr><td>Greg Guthrie</td><td>2017</td><td>-10.07</td></tr><tr><td>Greg Hansen</td><td>2015</td><td>3.07</td></tr><tr><td>Greg Hansen</td><td>2017</td><td>-8.88</td></tr><tr><td>Greg Matthias</td><td>2014</td><td>214.53</td></tr><tr><td>Greg Matthias</td><td>2016</td><td>-121.94</td></tr><tr><td>Greg Matthias</td><td>2017</td><td>-57.12</td></tr><tr><td>Greg Maxwell</td><td>2014</td><td>112.28</td></tr><tr><td>Greg Maxwell</td><td>2016</td><td>175.36</td></tr><tr><td>Greg Maxwell</td><td>2017</td><td>-99.18</td></tr><tr><td>Greg Tran</td><td>2014</td><td>738.65</td></tr><tr><td>Greg Tran</td><td>2015</td><td>974.31</td></tr><tr><td>Greg Tran</td><td>2016</td><td>366.71</td></tr><tr><td>Greg Tran</td><td>2017</td><td>83.62</td></tr><tr><td>Guy Armstrong</td><td>2014</td><td>101.45</td></tr><tr><td>Guy Armstrong</td><td>2015</td><td>11.54</td></tr><tr><td>Guy Armstrong</td><td>2017</td><td>23.5</td></tr><tr><td>Guy Phonely</td><td>2014</td><td>-35.93</td></tr><tr><td>Guy Phonely</td><td>2015</td><td>67.77</td></tr><tr><td>Guy Thornton</td><td>2015</td><td>27.2</td></tr><tr><td>Guy Thornton</td><td>2016</td><td>6.3</td></tr><tr><td>Guy Thornton</td><td>2017</td><td>-39.64</td></tr><tr><td>Hallie Redmond</td><td>2014</td><td>1.6</td></tr><tr><td>Hallie Redmond</td><td>2015</td><td>48.12</td></tr><tr><td>Hallie Redmond</td><td>2017</td><td>135.68</td></tr><tr><td>Harold Dahlen</td><td>2014</td><td>-167.32</td></tr><tr><td>Harold Dahlen</td><td>2015</td><td>30.99</td></tr><tr><td>Harold Engle</td><td>2016</td><td>112.71</td></tr><tr><td>Harold Engle</td><td>2017</td><td>161.26</td></tr><tr><td>Harold Pawlan</td><td>2014</td><td>101.69</td></tr><tr><td>Harold Pawlan</td><td>2015</td><td>-21.7</td></tr><tr><td>Harold Pawlan</td><td>2017</td><td>293.88</td></tr><tr><td>Harold Ryan</td><td>2014</td><td>79.74</td></tr><tr><td>Harold Ryan</td><td>2015</td><td>116.94</td></tr><tr><td>Harold Ryan</td><td>2017</td><td>1000.69</td></tr><tr><td>Harry Greene</td><td>2014</td><td>21.6</td></tr><tr><td>Harry Greene</td><td>2015</td><td>-2.01</td></tr><tr><td>Harry Greene</td><td>2017</td><td>127.42</td></tr><tr><td>Harry Marie</td><td>2014</td><td>-79.13</td></tr><tr><td>Harry Marie</td><td>2015</td><td>2451.01</td></tr><tr><td>Harry Marie</td><td>2016</td><td>82.75</td></tr><tr><td>Harry Marie</td><td>2017</td><td>-16.56</td></tr><tr><td>Heather Jas</td><td>2015</td><td>28.71</td></tr><tr><td>Heather Jas</td><td>2016</td><td>55.99</td></tr><tr><td>Heather Jas</td><td>2017</td><td>13.97</td></tr><tr><td>Heather Kirkland</td><td>2014</td><td>240.86</td></tr><tr><td>Heather Kirkland</td><td>2015</td><td>300.07</td></tr><tr><td>Heather Kirkland</td><td>2016</td><td>17.03</td></tr><tr><td>Heather Kirkland</td><td>2017</td><td>399.01</td></tr><tr><td>Helen Abelman</td><td>2014</td><td>108.8</td></tr><tr><td>Helen Abelman</td><td>2015</td><td>111.29</td></tr><tr><td>Helen Abelman</td><td>2016</td><td>129.77</td></tr><tr><td>Helen Abelman</td><td>2017</td><td>-79.0</td></tr><tr><td>Helen Andreada</td><td>2014</td><td>-57.04</td></tr><tr><td>Helen Andreada</td><td>2015</td><td>197.84</td></tr><tr><td>Helen Andreada</td><td>2016</td><td>-55.04</td></tr><tr><td>Helen Andreada</td><td>2017</td><td>12.71</td></tr><tr><td>Helen Waerman</td><td>2015</td><td>17.2</td></tr><tr><td>Helen Waerman</td><td>2016</td><td>200.27</td></tr><tr><td>Helen Waerman</td><td>2017</td><td>1946.7</td></tr><tr><td>Henia Zydlo</td><td>2016</td><td>6.29</td></tr><tr><td>Henia Zydlo</td><td>2017</td><td>-136.68</td></tr><tr><td>Henry Goldwyn</td><td>2014</td><td>2.45</td></tr><tr><td>Henry Goldwyn</td><td>2015</td><td>34.84</td></tr><tr><td>Henry Goldwyn</td><td>2016</td><td>136.14</td></tr><tr><td>Henry Goldwyn</td><td>2017</td><td>-2971.38</td></tr><tr><td>Henry MacAllister</td><td>2015</td><td>73.82</td></tr><tr><td>Henry MacAllister</td><td>2016</td><td>1.73</td></tr><tr><td>Henry MacAllister</td><td>2017</td><td>41.23</td></tr><tr><td>Herbert Flentye</td><td>2014</td><td>132.47</td></tr><tr><td>Herbert Flentye</td><td>2016</td><td>-167.31</td></tr><tr><td>Herbert Flentye</td><td>2017</td><td>20.49</td></tr><tr><td>Hilary Holden</td><td>2014</td><td>60.27</td></tr><tr><td>Hilary Holden</td><td>2017</td><td>26.46</td></tr><tr><td>Hunter Glantz</td><td>2014</td><td>616.46</td></tr><tr><td>Hunter Glantz</td><td>2015</td><td>55.9</td></tr><tr><td>Hunter Glantz</td><td>2016</td><td>50.24</td></tr><tr><td>Hunter Glantz</td><td>2017</td><td>82.02</td></tr><tr><td>Hunter Lopez</td><td>2014</td><td>448.03</td></tr><tr><td>Hunter Lopez</td><td>2016</td><td>128.54</td></tr><tr><td>Hunter Lopez</td><td>2017</td><td>5045.86</td></tr><tr><td>Ionia McGrath</td><td>2014</td><td>19.24</td></tr><tr><td>Ionia McGrath</td><td>2016</td><td>956.54</td></tr><tr><td>Irene Maddox</td><td>2014</td><td>240.6</td></tr><tr><td>Irene Maddox</td><td>2015</td><td>-55.7</td></tr><tr><td>Irene Maddox</td><td>2016</td><td>329.3</td></tr><tr><td>Ivan Gibson</td><td>2014</td><td>28.35</td></tr><tr><td>Ivan Gibson</td><td>2015</td><td>144.35</td></tr><tr><td>Ivan Gibson</td><td>2016</td><td>54.86</td></tr><tr><td>Ivan Gibson</td><td>2017</td><td>92.92</td></tr><tr><td>Ivan Liston</td><td>2014</td><td>6.91</td></tr><tr><td>Ivan Liston</td><td>2015</td><td>656.68</td></tr><tr><td>Ivan Liston</td><td>2016</td><td>19.56</td></tr><tr><td>Ivan Liston</td><td>2017</td><td>438.68</td></tr><tr><td>Jack Garza</td><td>2014</td><td>734.7</td></tr><tr><td>Jack Garza</td><td>2015</td><td>-50.17</td></tr><tr><td>Jack Lebron</td><td>2014</td><td>9.87</td></tr><tr><td>Jack Lebron</td><td>2016</td><td>1.39</td></tr><tr><td>Jack Lebron</td><td>2017</td><td>-218.57</td></tr><tr><td>Jack OBriant</td><td>2014</td><td>101.03</td></tr><tr><td>Jack OBriant</td><td>2016</td><td>440.01</td></tr><tr><td>Jack OBriant</td><td>2017</td><td>40.4</td></tr><tr><td>James Galang</td><td>2014</td><td>378.39</td></tr><tr><td>James Galang</td><td>2015</td><td>736.76</td></tr><tr><td>James Galang</td><td>2016</td><td>230.36</td></tr><tr><td>James Galang</td><td>2017</td><td>69.85</td></tr><tr><td>James Lanier</td><td>2014</td><td>59.49</td></tr><tr><td>James Lanier</td><td>2015</td><td>41.14</td></tr><tr><td>James Lanier</td><td>2016</td><td>-2.0</td></tr><tr><td>James Lanier</td><td>2017</td><td>110.48</td></tr><tr><td>Jamie Frazer</td><td>2014</td><td>37.4</td></tr><tr><td>Jamie Frazer</td><td>2015</td><td>17.99</td></tr><tr><td>Jamie Frazer</td><td>2016</td><td>173.31</td></tr><tr><td>Jamie Frazer</td><td>2017</td><td>347.08</td></tr><tr><td>Jamie Kunitz</td><td>2014</td><td>47.81</td></tr><tr><td>Jamie Kunitz</td><td>2015</td><td>615.03</td></tr><tr><td>Jamie Kunitz</td><td>2016</td><td>1.03</td></tr><tr><td>Jamie Kunitz</td><td>2017</td><td>557.69</td></tr><tr><td>Jane Waco</td><td>2015</td><td>89.2</td></tr><tr><td>Jane Waco</td><td>2016</td><td>131.25</td></tr><tr><td>Jane Waco</td><td>2017</td><td>1953.6</td></tr><tr><td>Janet Lee</td><td>2014</td><td>-190.51</td></tr><tr><td>Janet Lee</td><td>2015</td><td>53.47</td></tr><tr><td>Janet Lee</td><td>2016</td><td>103.36</td></tr><tr><td>Janet Lee</td><td>2017</td><td>88.19</td></tr><tr><td>Janet Martin</td><td>2016</td><td>155.23</td></tr><tr><td>Janet Martin</td><td>2017</td><td>-135.65</td></tr><tr><td>Janet Molinari</td><td>2014</td><td>59.06</td></tr><tr><td>Janet Molinari</td><td>2015</td><td>-11.9</td></tr><tr><td>Janet Molinari</td><td>2016</td><td>306.55</td></tr><tr><td>Janet Molinari</td><td>2017</td><td>149.28</td></tr><tr><td>Jas OCarroll</td><td>2014</td><td>0.97</td></tr><tr><td>Jas OCarroll</td><td>2015</td><td>203.94</td></tr><tr><td>Jas OCarroll</td><td>2016</td><td>51.21</td></tr><tr><td>Jas OCarroll</td><td>2017</td><td>-54.88</td></tr><tr><td>Jason Fortune</td><td>2014</td><td>47.35</td></tr><tr><td>Jason Fortune</td><td>2016</td><td>-9.88</td></tr><tr><td>Jason Fortune</td><td>2017</td><td>59.94</td></tr><tr><td>Jason Gross</td><td>2016</td><td>-22.93</td></tr><tr><td>Jason Gross</td><td>2017</td><td>26.52</td></tr><tr><td>Jason Klamczynski</td><td>2014</td><td>17.55</td></tr><tr><td>Jason Klamczynski</td><td>2016</td><td>11.68</td></tr><tr><td>Jason Klamczynski</td><td>2017</td><td>26.35</td></tr><tr><td>Jasper Cacioppo</td><td>2014</td><td>1.33</td></tr><tr><td>Jasper Cacioppo</td><td>2016</td><td>-4.08</td></tr><tr><td>Jasper Cacioppo</td><td>2017</td><td>2.4</td></tr><tr><td>Jay Fein</td><td>2015</td><td>161.11</td></tr><tr><td>Jay Fein</td><td>2016</td><td>40.75</td></tr><tr><td>Jay Fein</td><td>2017</td><td>128.34</td></tr><tr><td>Jay Kimmel</td><td>2014</td><td>129.54</td></tr><tr><td>Jay Kimmel</td><td>2015</td><td>37.34</td></tr><tr><td>Jay Kimmel</td><td>2016</td><td>83.5</td></tr><tr><td>Jay Kimmel</td><td>2017</td><td>79.47</td></tr><tr><td>Jenna Caffey</td><td>2017</td><td>502.93</td></tr><tr><td>Jennifer Braxton</td><td>2014</td><td>-124.57</td></tr><tr><td>Jennifer Braxton</td><td>2015</td><td>128.05</td></tr><tr><td>Jennifer Braxton</td><td>2016</td><td>-98.62</td></tr><tr><td>Jennifer Braxton</td><td>2017</td><td>251.19</td></tr><tr><td>Jennifer Ferguson</td><td>2014</td><td>28.14</td></tr><tr><td>Jennifer Ferguson</td><td>2015</td><td>56.64</td></tr><tr><td>Jennifer Ferguson</td><td>2017</td><td>550.86</td></tr><tr><td>Jennifer Halladay</td><td>2014</td><td>18.79</td></tr><tr><td>Jennifer Halladay</td><td>2017</td><td>-42.85</td></tr><tr><td>Jennifer Jackson</td><td>2015</td><td>181.85</td></tr><tr><td>Jennifer Jackson</td><td>2016</td><td>18.71</td></tr><tr><td>Jennifer Patt</td><td>2014</td><td>10.81</td></tr><tr><td>Jennifer Patt</td><td>2015</td><td>100.93</td></tr><tr><td>Jennifer Patt</td><td>2016</td><td>307.34</td></tr><tr><td>Jennifer Patt</td><td>2017</td><td>10.66</td></tr><tr><td>Jeremy Ellison</td><td>2015</td><td>57.22</td></tr><tr><td>Jeremy Ellison</td><td>2016</td><td>185.63</td></tr><tr><td>Jeremy Ellison</td><td>2017</td><td>33.6</td></tr><tr><td>Jeremy Farry</td><td>2014</td><td>35.4</td></tr><tr><td>Jeremy Farry</td><td>2015</td><td>-103.54</td></tr><tr><td>Jeremy Farry</td><td>2016</td><td>13.11</td></tr><tr><td>Jeremy Farry</td><td>2017</td><td>36.98</td></tr><tr><td>Jeremy Lonsdale</td><td>2014</td><td>41.27</td></tr><tr><td>Jeremy Lonsdale</td><td>2016</td><td>21.75</td></tr><tr><td>Jeremy Lonsdale</td><td>2017</td><td>529.02</td></tr><tr><td>Jeremy Pistek</td><td>2014</td><td>199.41</td></tr><tr><td>Jeremy Pistek</td><td>2015</td><td>5.01</td></tr><tr><td>Jeremy Pistek</td><td>2016</td><td>130.51</td></tr><tr><td>Jeremy Pistek</td><td>2017</td><td>422.26</td></tr><tr><td>Jessica Myrick</td><td>2014</td><td>58.99</td></tr><tr><td>Jessica Myrick</td><td>2015</td><td>46.85</td></tr><tr><td>Jessica Myrick</td><td>2016</td><td>232.13</td></tr><tr><td>Jessica Myrick</td><td>2017</td><td>18.56</td></tr><tr><td>Jesus Ocampo</td><td>2015</td><td>153.91</td></tr><tr><td>Jesus Ocampo</td><td>2017</td><td>13.22</td></tr><tr><td>Ji Stevenson</td><td>2014</td><td>-204.14</td></tr><tr><td>Ji Stevenson</td><td>2015</td><td>4.53</td></tr><tr><td>Ji Stevenson</td><td>2016</td><td>78.4</td></tr><tr><td>Ji Stevenson</td><td>2017</td><td>-53.73</td></tr><tr><td>Jill Fjeld</td><td>2014</td><td>78.55</td></tr><tr><td>Jill Fjeld</td><td>2015</td><td>147.35</td></tr><tr><td>Jill Fjeld</td><td>2016</td><td>849.66</td></tr><tr><td>Jill Fjeld</td><td>2017</td><td>-1.49</td></tr><tr><td>Jill Matthias</td><td>2016</td><td>113.72</td></tr><tr><td>Jill Matthias</td><td>2017</td><td>-0.6</td></tr><tr><td>Jim Epp</td><td>2014</td><td>27.19</td></tr><tr><td>Jim Epp</td><td>2015</td><td>-129.89</td></tr><tr><td>Jim Epp</td><td>2016</td><td>22.24</td></tr><tr><td>Jim Epp</td><td>2017</td><td>1703.57</td></tr><tr><td>Jim Karlsson</td><td>2014</td><td>303.87</td></tr><tr><td>Jim Karlsson</td><td>2015</td><td>438.0</td></tr><tr><td>Jim Karlsson</td><td>2017</td><td>8.86</td></tr><tr><td>Jim Kriz</td><td>2014</td><td>10.19</td></tr><tr><td>Jim Kriz</td><td>2015</td><td>181.04</td></tr><tr><td>Jim Kriz</td><td>2017</td><td>981.67</td></tr><tr><td>Jim Mitchum</td><td>2014</td><td>7.72</td></tr><tr><td>Jim Mitchum</td><td>2016</td><td>65.9</td></tr><tr><td>Jim Mitchum</td><td>2017</td><td>43.58</td></tr><tr><td>Jim Radford</td><td>2015</td><td>-785.16</td></tr><tr><td>Jim Radford</td><td>2016</td><td>0.0</td></tr><tr><td>Jim Sink</td><td>2016</td><td>-99.99</td></tr><tr><td>Jim Sink</td><td>2017</td><td>45.13</td></tr><tr><td>Jocasta Rupert</td><td>2017</td><td>107.99</td></tr><tr><td>Joe Elijah</td><td>2014</td><td>-59.8</td></tr><tr><td>Joe Elijah</td><td>2015</td><td>50.83</td></tr><tr><td>Joe Elijah</td><td>2016</td><td>1210.66</td></tr><tr><td>Joe Elijah</td><td>2017</td><td>60.42</td></tr><tr><td>Joe Kamberova</td><td>2014</td><td>-212.61</td></tr><tr><td>Joe Kamberova</td><td>2015</td><td>42.08</td></tr><tr><td>Joe Kamberova</td><td>2016</td><td>194.58</td></tr><tr><td>Joe Kamberova</td><td>2017</td><td>30.95</td></tr><tr><td>Joel Eaton</td><td>2014</td><td>42.09</td></tr><tr><td>Joel Eaton</td><td>2015</td><td>-507.06</td></tr><tr><td>Joel Eaton</td><td>2016</td><td>126.62</td></tr><tr><td>Joel Eaton</td><td>2017</td><td>560.58</td></tr><tr><td>Joel Jenkins</td><td>2015</td><td>34.46</td></tr><tr><td>John Castell</td><td>2014</td><td>64.08</td></tr><tr><td>John Castell</td><td>2015</td><td>27.63</td></tr><tr><td>John Castell</td><td>2016</td><td>70.55</td></tr><tr><td>John Castell</td><td>2017</td><td>117.31</td></tr><tr><td>John Dryer</td><td>2015</td><td>-313.52</td></tr><tr><td>John Dryer</td><td>2016</td><td>36.47</td></tr><tr><td>John Dryer</td><td>2017</td><td>10.49</td></tr><tr><td>John Grady</td><td>2014</td><td>28.26</td></tr><tr><td>John Grady</td><td>2015</td><td>8.69</td></tr><tr><td>John Grady</td><td>2016</td><td>91.13</td></tr><tr><td>John Grady</td><td>2017</td><td>78.02</td></tr><tr><td>John Huston</td><td>2014</td><td>26.41</td></tr><tr><td>John Huston</td><td>2015</td><td>19.6</td></tr><tr><td>John Huston</td><td>2017</td><td>-19.94</td></tr><tr><td>John Lee</td><td>2014</td><td>-863.93</td></tr><tr><td>John Lee</td><td>2015</td><td>252.43</td></tr><tr><td>John Lee</td><td>2016</td><td>2.8</td></tr><tr><td>John Lee</td><td>2017</td><td>837.23</td></tr><tr><td>John Lucas</td><td>2014</td><td>1.33</td></tr><tr><td>John Lucas</td><td>2015</td><td>816.52</td></tr><tr><td>John Lucas</td><td>2016</td><td>-37.95</td></tr><tr><td>John Murray</td><td>2014</td><td>1228.18</td></tr><tr><td>John Murray</td><td>2015</td><td>371.88</td></tr><tr><td>John Murray</td><td>2016</td><td>-49.62</td></tr><tr><td>John Murray</td><td>2017</td><td>24.63</td></tr><tr><td>John Stevenson</td><td>2014</td><td>-94.66</td></tr><tr><td>John Stevenson</td><td>2015</td><td>392.89</td></tr><tr><td>John Stevenson</td><td>2016</td><td>266.74</td></tr><tr><td>Jonathan Doherty</td><td>2014</td><td>-194.2</td></tr><tr><td>Jonathan Doherty</td><td>2015</td><td>64.82</td></tr><tr><td>Jonathan Doherty</td><td>2016</td><td>1179.82</td></tr><tr><td>Jonathan Howell</td><td>2015</td><td>48.66</td></tr><tr><td>Jonathan Howell</td><td>2016</td><td>63.17</td></tr><tr><td>Jonathan Howell</td><td>2017</td><td>-125.38</td></tr><tr><td>Joni Blumstein</td><td>2014</td><td>72.58</td></tr><tr><td>Joni Blumstein</td><td>2015</td><td>-359.56</td></tr><tr><td>Joni Sundaresam</td><td>2014</td><td>2.87</td></tr><tr><td>Joni Sundaresam</td><td>2015</td><td>-312.06</td></tr><tr><td>Joni Sundaresam</td><td>2016</td><td>-18.74</td></tr><tr><td>Joni Waerman</td><td>2015</td><td>-201.65</td></tr><tr><td>Joni Waerman</td><td>2016</td><td>1.2</td></tr><tr><td>Joni Waerman</td><td>2017</td><td>170.87</td></tr><tr><td>Joseph Airdo</td><td>2014</td><td>96.93</td></tr><tr><td>Joseph Airdo</td><td>2016</td><td>114.19</td></tr><tr><td>Joseph Airdo</td><td>2017</td><td>-1031.0</td></tr><tr><td>Joseph Holt</td><td>2014</td><td>644.0</td></tr><tr><td>Joseph Holt</td><td>2015</td><td>-1429.38</td></tr><tr><td>Joseph Holt</td><td>2016</td><td>72.03</td></tr><tr><td>Joseph Holt</td><td>2017</td><td>68.87</td></tr><tr><td>Joy Bell</td><td>2016</td><td>15.97</td></tr><tr><td>Joy Bell</td><td>2017</td><td>111.09</td></tr><tr><td>Joy Daniels</td><td>2014</td><td>-10.34</td></tr><tr><td>Joy Daniels</td><td>2017</td><td>37.06</td></tr><tr><td>Joy Smith</td><td>2014</td><td>3.4</td></tr><tr><td>Joy Smith</td><td>2016</td><td>451.92</td></tr><tr><td>Joy Smith</td><td>2017</td><td>-766.57</td></tr><tr><td>Julia Barnett</td><td>2015</td><td>106.54</td></tr><tr><td>Julia Barnett</td><td>2016</td><td>84.97</td></tr><tr><td>Julia Barnett</td><td>2017</td><td>9.89</td></tr><tr><td>Julia Dunbar</td><td>2014</td><td>8.48</td></tr><tr><td>Julia Dunbar</td><td>2015</td><td>-29.25</td></tr><tr><td>Julia Dunbar</td><td>2017</td><td>131.89</td></tr><tr><td>Julia West</td><td>2015</td><td>133.51</td></tr><tr><td>Julia West</td><td>2016</td><td>20.38</td></tr><tr><td>Juliana Krohn</td><td>2015</td><td>228.9</td></tr><tr><td>Juliana Krohn</td><td>2017</td><td>357.77</td></tr><tr><td>Julie Creighton</td><td>2014</td><td>76.49</td></tr><tr><td>Julie Creighton</td><td>2015</td><td>62.81</td></tr><tr><td>Julie Creighton</td><td>2017</td><td>62.3</td></tr><tr><td>Julie Kriz</td><td>2014</td><td>239.98</td></tr><tr><td>Julie Kriz</td><td>2015</td><td>47.93</td></tr><tr><td>Julie Kriz</td><td>2016</td><td>108.52</td></tr><tr><td>Julie Kriz</td><td>2017</td><td>-273.77</td></tr><tr><td>Julie Prescott</td><td>2014</td><td>6.92</td></tr><tr><td>Julie Prescott</td><td>2015</td><td>7.43</td></tr><tr><td>Julie Prescott</td><td>2016</td><td>275.44</td></tr><tr><td>Julie Prescott</td><td>2017</td><td>19.51</td></tr><tr><td>Justin Deggeller</td><td>2014</td><td>17.56</td></tr><tr><td>Justin Deggeller</td><td>2015</td><td>212.64</td></tr><tr><td>Justin Deggeller</td><td>2016</td><td>272.2</td></tr><tr><td>Justin Deggeller</td><td>2017</td><td>1116.34</td></tr><tr><td>Justin Ellison</td><td>2016</td><td>776.35</td></tr><tr><td>Justin Ellison</td><td>2017</td><td>13.67</td></tr><tr><td>Justin Hirsh</td><td>2015</td><td>106.41</td></tr><tr><td>Justin Hirsh</td><td>2016</td><td>-203.37</td></tr><tr><td>Justin MacKendrick</td><td>2014</td><td>273.4</td></tr><tr><td>Justin MacKendrick</td><td>2015</td><td>221.33</td></tr><tr><td>Justin MacKendrick</td><td>2016</td><td>23.86</td></tr><tr><td>Justin MacKendrick</td><td>2017</td><td>235.11</td></tr><tr><td>Justin Ritter</td><td>2015</td><td>152.39</td></tr><tr><td>Justin Ritter</td><td>2016</td><td>44.21</td></tr><tr><td>Justin Ritter</td><td>2017</td><td>255.77</td></tr><tr><td>Kalyca Meade</td><td>2015</td><td>450.16</td></tr><tr><td>Kalyca Meade</td><td>2016</td><td>56.34</td></tr><tr><td>Kalyca Meade</td><td>2017</td><td>128.93</td></tr><tr><td>Karen Bern</td><td>2014</td><td>-1.0</td></tr><tr><td>Karen Bern</td><td>2015</td><td>19.85</td></tr><tr><td>Karen Bern</td><td>2016</td><td>-18.18</td></tr><tr><td>Karen Bern</td><td>2017</td><td>763.56</td></tr><tr><td>Karen Carlisle</td><td>2014</td><td>43.06</td></tr><tr><td>Karen Carlisle</td><td>2015</td><td>279.99</td></tr><tr><td>Karen Carlisle</td><td>2016</td><td>523.09</td></tr><tr><td>Karen Danels</td><td>2014</td><td>-1340.6</td></tr><tr><td>Karen Danels</td><td>2015</td><td>129.49</td></tr><tr><td>Karen Danels</td><td>2016</td><td>2318.71</td></tr><tr><td>Karen Ferguson</td><td>2014</td><td>82.52</td></tr><tr><td>Karen Ferguson</td><td>2016</td><td>371.05</td></tr><tr><td>Karen Ferguson</td><td>2017</td><td>1206.84</td></tr><tr><td>Karen Seio</td><td>2015</td><td>6.49</td></tr><tr><td>Karen Seio</td><td>2017</td><td>-6.38</td></tr><tr><td>Karl Braun</td><td>2014</td><td>-29.74</td></tr><tr><td>Karl Braun</td><td>2015</td><td>-18.21</td></tr><tr><td>Karl Braun</td><td>2016</td><td>27.53</td></tr><tr><td>Karl Braun</td><td>2017</td><td>69.64</td></tr><tr><td>Katharine Harms</td><td>2014</td><td>261.33</td></tr><tr><td>Katharine Harms</td><td>2016</td><td>43.9</td></tr><tr><td>Katharine Harms</td><td>2017</td><td>150.46</td></tr><tr><td>Katherine Ducich</td><td>2014</td><td>64.7</td></tr><tr><td>Katherine Ducich</td><td>2015</td><td>243.53</td></tr><tr><td>Katherine Ducich</td><td>2017</td><td>20.36</td></tr><tr><td>Katherine Hughes</td><td>2014</td><td>-32.05</td></tr><tr><td>Katherine Hughes</td><td>2016</td><td>57.83</td></tr><tr><td>Katherine Hughes</td><td>2017</td><td>502.51</td></tr><tr><td>Katherine Murray</td><td>2014</td><td>955.86</td></tr><tr><td>Katherine Murray</td><td>2015</td><td>29.31</td></tr><tr><td>Katherine Murray</td><td>2016</td><td>128.9</td></tr><tr><td>Katherine Murray</td><td>2017</td><td>-140.7</td></tr><tr><td>Katherine Nockton</td><td>2014</td><td>29.95</td></tr><tr><td>Katherine Nockton</td><td>2015</td><td>-191.36</td></tr><tr><td>Katherine Nockton</td><td>2017</td><td>10.26</td></tr><tr><td>Katrina Bavinger</td><td>2015</td><td>42.96</td></tr><tr><td>Katrina Bavinger</td><td>2017</td><td>230.9</td></tr><tr><td>Katrina Edelman</td><td>2014</td><td>161.63</td></tr><tr><td>Katrina Edelman</td><td>2015</td><td>235.64</td></tr><tr><td>Katrina Edelman</td><td>2016</td><td>19.0</td></tr><tr><td>Katrina Edelman</td><td>2017</td><td>-18.38</td></tr><tr><td>Katrina Willman</td><td>2015</td><td>1600.85</td></tr><tr><td>Katrina Willman</td><td>2016</td><td>32.16</td></tr><tr><td>Katrina Willman</td><td>2017</td><td>123.13</td></tr><tr><td>Kean Nguyen</td><td>2014</td><td>119.98</td></tr><tr><td>Kean Nguyen</td><td>2015</td><td>-118.58</td></tr><tr><td>Kean Nguyen</td><td>2017</td><td>112.42</td></tr><tr><td>Kean Takahito</td><td>2014</td><td>68.8</td></tr><tr><td>Kean Takahito</td><td>2015</td><td>28.81</td></tr><tr><td>Kean Takahito</td><td>2016</td><td>156.14</td></tr><tr><td>Kean Thornton</td><td>2014</td><td>103.44</td></tr><tr><td>Kean Thornton</td><td>2015</td><td>36.7</td></tr><tr><td>Kean Thornton</td><td>2016</td><td>19.61</td></tr><tr><td>Kean Thornton</td><td>2017</td><td>34.32</td></tr><tr><td>Keith Dawkins</td><td>2014</td><td>35.02</td></tr><tr><td>Keith Dawkins</td><td>2015</td><td>2810.35</td></tr><tr><td>Keith Dawkins</td><td>2016</td><td>58.72</td></tr><tr><td>Keith Dawkins</td><td>2017</td><td>134.84</td></tr><tr><td>Keith Herrera</td><td>2014</td><td>-2.74</td></tr><tr><td>Keith Herrera</td><td>2015</td><td>227.57</td></tr><tr><td>Keith Herrera</td><td>2017</td><td>431.29</td></tr><tr><td>Kelly Andreada</td><td>2014</td><td>49.01</td></tr><tr><td>Kelly Andreada</td><td>2015</td><td>77.97</td></tr><tr><td>Kelly Andreada</td><td>2016</td><td>67.44</td></tr><tr><td>Kelly Andreada</td><td>2017</td><td>39.94</td></tr><tr><td>Kelly Collister</td><td>2015</td><td>49.27</td></tr><tr><td>Kelly Collister</td><td>2016</td><td>635.68</td></tr><tr><td>Kelly Collister</td><td>2017</td><td>24.48</td></tr><tr><td>Kelly Lampkin</td><td>2014</td><td>-69.25</td></tr><tr><td>Kelly Lampkin</td><td>2016</td><td>50.12</td></tr><tr><td>Kelly Lampkin</td><td>2017</td><td>-163.66</td></tr><tr><td>Kelly Williams</td><td>2014</td><td>11.25</td></tr><tr><td>Kelly Williams</td><td>2015</td><td>97.14</td></tr><tr><td>Ken Black</td><td>2014</td><td>175.16</td></tr><tr><td>Ken Black</td><td>2015</td><td>66.42</td></tr><tr><td>Ken Black</td><td>2016</td><td>96.32</td></tr><tr><td>Ken Black</td><td>2017</td><td>240.99</td></tr><tr><td>Ken Brennan</td><td>2014</td><td>2.85</td></tr><tr><td>Ken Brennan</td><td>2015</td><td>17.0</td></tr><tr><td>Ken Brennan</td><td>2016</td><td>14.62</td></tr><tr><td>Ken Brennan</td><td>2017</td><td>259.43</td></tr><tr><td>Ken Heidel</td><td>2014</td><td>128.43</td></tr><tr><td>Ken Heidel</td><td>2015</td><td>501.54</td></tr><tr><td>Ken Heidel</td><td>2016</td><td>30.61</td></tr><tr><td>Ken Heidel</td><td>2017</td><td>66.93</td></tr><tr><td>Ken Lonsdale</td><td>2014</td><td>395.6</td></tr><tr><td>Ken Lonsdale</td><td>2015</td><td>252.53</td></tr><tr><td>Ken Lonsdale</td><td>2016</td><td>-3.35</td></tr><tr><td>Ken Lonsdale</td><td>2017</td><td>161.72</td></tr><tr><td>Khloe Miller</td><td>2014</td><td>3.0</td></tr><tr><td>Khloe Miller</td><td>2015</td><td>34.35</td></tr><tr><td>Khloe Miller</td><td>2016</td><td>11.83</td></tr><tr><td>Khloe Miller</td><td>2017</td><td>41.49</td></tr><tr><td>Kimberly Carter</td><td>2014</td><td>5.82</td></tr><tr><td>Kimberly Carter</td><td>2016</td><td>-4.95</td></tr><tr><td>Kimberly Carter</td><td>2017</td><td>156.37</td></tr><tr><td>Kristen Hastings</td><td>2014</td><td>1038.59</td></tr><tr><td>Kristen Hastings</td><td>2015</td><td>-36.13</td></tr><tr><td>Kristen Hastings</td><td>2016</td><td>7.18</td></tr><tr><td>Kristen Hastings</td><td>2017</td><td>217.49</td></tr><tr><td>Kristina Nunn</td><td>2014</td><td>186.0</td></tr><tr><td>Kristina Nunn</td><td>2015</td><td>-183.11</td></tr><tr><td>Kristina Nunn</td><td>2016</td><td>25.0</td></tr><tr><td>Kristina Nunn</td><td>2017</td><td>301.88</td></tr><tr><td>Kunst Miller</td><td>2014</td><td>213.7</td></tr><tr><td>Kunst Miller</td><td>2015</td><td>112.1</td></tr><tr><td>Kunst Miller</td><td>2016</td><td>54.92</td></tr><tr><td>Kunst Miller</td><td>2017</td><td>364.68</td></tr><tr><td>Larry Blacks</td><td>2016</td><td>10.74</td></tr><tr><td>Larry Blacks</td><td>2017</td><td>7.91</td></tr><tr><td>Larry Hughes</td><td>2014</td><td>-5.04</td></tr><tr><td>Larry Hughes</td><td>2017</td><td>17.67</td></tr><tr><td>Larry Tron</td><td>2014</td><td>15.64</td></tr><tr><td>Larry Tron</td><td>2015</td><td>20.16</td></tr><tr><td>Larry Tron</td><td>2017</td><td>23.24</td></tr><tr><td>Laura Armstrong</td><td>2014</td><td>482.57</td></tr><tr><td>Laura Armstrong</td><td>2015</td><td>-0.12</td></tr><tr><td>Laura Armstrong</td><td>2016</td><td>1526.67</td></tr><tr><td>Laura Armstrong</td><td>2017</td><td>16.07</td></tr><tr><td>Laurel Beltran</td><td>2014</td><td>-21.36</td></tr><tr><td>Laurel Beltran</td><td>2016</td><td>-658.62</td></tr><tr><td>Laurel Beltran</td><td>2017</td><td>627.99</td></tr><tr><td>Laurel Elliston</td><td>2014</td><td>-12.84</td></tr><tr><td>Laurel Elliston</td><td>2015</td><td>5.08</td></tr><tr><td>Laurel Elliston</td><td>2016</td><td>179.75</td></tr><tr><td>Laurel Elliston</td><td>2017</td><td>-10.24</td></tr><tr><td>Laurel Workman</td><td>2014</td><td>423.61</td></tr><tr><td>Laurel Workman</td><td>2016</td><td>-393.34</td></tr><tr><td>Laurel Workman</td><td>2017</td><td>2.32</td></tr><tr><td>Lauren Leatherbury</td><td>2014</td><td>110.88</td></tr><tr><td>Lauren Leatherbury</td><td>2015</td><td>404.91</td></tr><tr><td>Lauren Leatherbury</td><td>2017</td><td>44.72</td></tr><tr><td>Lela Donovan</td><td>2016</td><td>0.46</td></tr><tr><td>Lena Creighton</td><td>2014</td><td>201.07</td></tr><tr><td>Lena Creighton</td><td>2015</td><td>1007.76</td></tr><tr><td>Lena Creighton</td><td>2016</td><td>147.88</td></tr><tr><td>Lena Creighton</td><td>2017</td><td>-67.97</td></tr><tr><td>Lena Hernandez</td><td>2014</td><td>282.09</td></tr><tr><td>Lena Hernandez</td><td>2015</td><td>121.11</td></tr><tr><td>Lena Hernandez</td><td>2016</td><td>56.7</td></tr><tr><td>Lena Hernandez</td><td>2017</td><td>65.22</td></tr><tr><td>Lena Radford</td><td>2014</td><td>604.58</td></tr><tr><td>Lena Radford</td><td>2015</td><td>30.79</td></tr><tr><td>Lena Radford</td><td>2016</td><td>172.5</td></tr><tr><td>Lena Radford</td><td>2017</td><td>-272.58</td></tr><tr><td>Linda Cazamias</td><td>2014</td><td>29.34</td></tr><tr><td>Linda Cazamias</td><td>2016</td><td>246.91</td></tr><tr><td>Linda Cazamias</td><td>2017</td><td>12.04</td></tr><tr><td>Linda Southworth</td><td>2015</td><td>9.82</td></tr><tr><td>Linda Southworth</td><td>2016</td><td>21.74</td></tr><tr><td>Linda Southworth</td><td>2017</td><td>-350.0</td></tr><tr><td>Lindsay Castell</td><td>2015</td><td>278.2</td></tr><tr><td>Lindsay Castell</td><td>2016</td><td>21.27</td></tr><tr><td>Lindsay Shagiari</td><td>2014</td><td>138.16</td></tr><tr><td>Lindsay Shagiari</td><td>2015</td><td>-108.2</td></tr><tr><td>Lindsay Shagiari</td><td>2016</td><td>2.94</td></tr><tr><td>Lindsay Shagiari</td><td>2017</td><td>229.37</td></tr><tr><td>Lindsay Williams</td><td>2016</td><td>322.32</td></tr><tr><td>Lindsay Williams</td><td>2017</td><td>340.51</td></tr><tr><td>Lisa DeCherney</td><td>2014</td><td>445.51</td></tr><tr><td>Lisa DeCherney</td><td>2016</td><td>111.26</td></tr><tr><td>Lisa Hazard</td><td>2014</td><td>-79.34</td></tr><tr><td>Lisa Hazard</td><td>2015</td><td>-27.0</td></tr><tr><td>Lisa Hazard</td><td>2016</td><td>16.46</td></tr><tr><td>Lisa Hazard</td><td>2017</td><td>-152.87</td></tr><tr><td>Lisa Ryan</td><td>2014</td><td>48.13</td></tr><tr><td>Lisa Ryan</td><td>2015</td><td>-142.91</td></tr><tr><td>Lisa Ryan</td><td>2016</td><td>-387.68</td></tr><tr><td>Lisa Ryan</td><td>2017</td><td>99.27</td></tr><tr><td>Liz Carlisle</td><td>2014</td><td>-128.09</td></tr><tr><td>Liz Carlisle</td><td>2016</td><td>225.26</td></tr><tr><td>Liz Carlisle</td><td>2017</td><td>-10.4</td></tr><tr><td>Liz MacKendrick</td><td>2014</td><td>76.1</td></tr><tr><td>Liz MacKendrick</td><td>2015</td><td>-142.52</td></tr><tr><td>Liz MacKendrick</td><td>2016</td><td>21.54</td></tr><tr><td>Liz Pelletier</td><td>2014</td><td>0.96</td></tr><tr><td>Liz Pelletier</td><td>2016</td><td>21.94</td></tr><tr><td>Liz Pelletier</td><td>2017</td><td>87.89</td></tr><tr><td>Liz Preis</td><td>2016</td><td>79.36</td></tr><tr><td>Liz Preis</td><td>2017</td><td>259.09</td></tr><tr><td>Liz Thompson</td><td>2014</td><td>238.4</td></tr><tr><td>Liz Thompson</td><td>2015</td><td>76.22</td></tr><tr><td>Liz Thompson</td><td>2016</td><td>28.38</td></tr><tr><td>Liz Thompson</td><td>2017</td><td>-22.02</td></tr><tr><td>Liz Willingham</td><td>2014</td><td>21.75</td></tr><tr><td>Liz Willingham</td><td>2016</td><td>165.8</td></tr><tr><td>Liz Willingham</td><td>2017</td><td>5.08</td></tr><tr><td>Logan Currie</td><td>2014</td><td>-26.6</td></tr><tr><td>Logan Currie</td><td>2015</td><td>19.4</td></tr><tr><td>Logan Currie</td><td>2016</td><td>235.33</td></tr><tr><td>Logan Currie</td><td>2017</td><td>2.4</td></tr><tr><td>Logan Haushalter</td><td>2014</td><td>9.58</td></tr><tr><td>Logan Haushalter</td><td>2015</td><td>94.85</td></tr><tr><td>Logan Haushalter</td><td>2016</td><td>212.1</td></tr><tr><td>Lori Olson</td><td>2015</td><td>34.45</td></tr><tr><td>Lori Olson</td><td>2017</td><td>115.71</td></tr><tr><td>Luke Foster</td><td>2014</td><td>-3802.08</td></tr><tr><td>Luke Foster</td><td>2015</td><td>146.21</td></tr><tr><td>Luke Foster</td><td>2016</td><td>0.72</td></tr><tr><td>Luke Foster</td><td>2017</td><td>71.54</td></tr><tr><td>Luke Schmidt</td><td>2014</td><td>167.72</td></tr><tr><td>Luke Schmidt</td><td>2016</td><td>18.28</td></tr><tr><td>Luke Schmidt</td><td>2017</td><td>57.82</td></tr><tr><td>Luke Weiss</td><td>2014</td><td>420.59</td></tr><tr><td>Luke Weiss</td><td>2016</td><td>350.01</td></tr><tr><td>Luke Weiss</td><td>2017</td><td>67.07</td></tr><tr><td>Lycoris Saunders</td><td>2014</td><td>9.33</td></tr><tr><td>Lycoris Saunders</td><td>2015</td><td>55.24</td></tr><tr><td>Lynn Smith</td><td>2014</td><td>230.21</td></tr><tr><td>Lynn Smith</td><td>2015</td><td>4.8</td></tr><tr><td>Lynn Smith</td><td>2016</td><td>60.37</td></tr><tr><td>Lynn Smith</td><td>2017</td><td>52.59</td></tr><tr><td>Magdelene Morse</td><td>2014</td><td>51.36</td></tr><tr><td>Magdelene Morse</td><td>2016</td><td>166.51</td></tr><tr><td>Magdelene Morse</td><td>2017</td><td>-39.46</td></tr><tr><td>Marc Crier</td><td>2014</td><td>235.23</td></tr><tr><td>Marc Crier</td><td>2015</td><td>197.66</td></tr><tr><td>Marc Crier</td><td>2016</td><td>20.91</td></tr><tr><td>Marc Crier</td><td>2017</td><td>7.22</td></tr><tr><td>Marc Harrigan</td><td>2014</td><td>12.21</td></tr><tr><td>Marc Harrigan</td><td>2015</td><td>2.18</td></tr><tr><td>Marc Harrigan</td><td>2016</td><td>57.21</td></tr><tr><td>Marc Harrigan</td><td>2017</td><td>-42.62</td></tr><tr><td>Maria Bertelson</td><td>2014</td><td>-13.83</td></tr><tr><td>Maria Bertelson</td><td>2015</td><td>77.99</td></tr><tr><td>Maria Bertelson</td><td>2016</td><td>83.51</td></tr><tr><td>Maria Bertelson</td><td>2017</td><td>65.67</td></tr><tr><td>Maria Etezadi</td><td>2014</td><td>1343.07</td></tr><tr><td>Maria Etezadi</td><td>2015</td><td>-9.56</td></tr><tr><td>Maria Etezadi</td><td>2016</td><td>451.46</td></tr><tr><td>Maria Etezadi</td><td>2017</td><td>74.0</td></tr><tr><td>Maria Zettner</td><td>2015</td><td>69.35</td></tr><tr><td>Maria Zettner</td><td>2016</td><td>0.16</td></tr><tr><td>Maria Zettner</td><td>2017</td><td>15.51</td></tr><tr><td>Maribeth Dona</td><td>2014</td><td>-84.11</td></tr><tr><td>Maribeth Dona</td><td>2015</td><td>51.66</td></tr><tr><td>Maribeth Dona</td><td>2016</td><td>-14.22</td></tr><tr><td>Maribeth Dona</td><td>2017</td><td>-194.56</td></tr><tr><td>Maribeth Yedwab</td><td>2015</td><td>2.65</td></tr><tr><td>Maribeth Yedwab</td><td>2016</td><td>33.05</td></tr><tr><td>Maribeth Yedwab</td><td>2017</td><td>283.44</td></tr><tr><td>Maribethchnelling</td><td>2014</td><td>143.9</td></tr><tr><td>Maribethchnelling</td><td>2015</td><td>145.51</td></tr><tr><td>Maribethchnelling</td><td>2016</td><td>514.79</td></tr><tr><td>Maribethchnelling</td><td>2017</td><td>40.75</td></tr><tr><td>Marina Lichtenstein</td><td>2014</td><td>486.58</td></tr><tr><td>Marina Lichtenstein</td><td>2015</td><td>-4.94</td></tr><tr><td>Marina Lichtenstein</td><td>2016</td><td>192.19</td></tr><tr><td>Marina Lichtenstein</td><td>2017</td><td>11.1</td></tr><tr><td>Maris LaWare</td><td>2014</td><td>254.24</td></tr><tr><td>Maris LaWare</td><td>2016</td><td>15.0</td></tr><tr><td>Maris LaWare</td><td>2017</td><td>-345.71</td></tr><tr><td>Mark Cousins</td><td>2014</td><td>135.0</td></tr><tr><td>Mark Cousins</td><td>2015</td><td>57.2</td></tr><tr><td>Mark Cousins</td><td>2016</td><td>1610.2</td></tr><tr><td>Mark Haberlin</td><td>2014</td><td>48.85</td></tr><tr><td>Mark Haberlin</td><td>2016</td><td>12.58</td></tr><tr><td>Mark Hamilton</td><td>2014</td><td>8.49</td></tr><tr><td>Mark Hamilton</td><td>2015</td><td>16.18</td></tr><tr><td>Mark Hamilton</td><td>2016</td><td>375.67</td></tr><tr><td>Mark Hamilton</td><td>2017</td><td>84.94</td></tr><tr><td>Mark Packer</td><td>2014</td><td>279.86</td></tr><tr><td>Mark Packer</td><td>2015</td><td>311.5</td></tr><tr><td>Mark Packer</td><td>2016</td><td>8.94</td></tr><tr><td>Mark Van Huff</td><td>2014</td><td>15.08</td></tr><tr><td>Mark Van Huff</td><td>2015</td><td>-1.28</td></tr><tr><td>Mark Van Huff</td><td>2016</td><td>106.42</td></tr><tr><td>Mark Van Huff</td><td>2017</td><td>68.79</td></tr><tr><td>Mary ORourke</td><td>2014</td><td>6.04</td></tr><tr><td>Mary ORourke</td><td>2016</td><td>120.86</td></tr><tr><td>Mary ORourke</td><td>2017</td><td>-67.54</td></tr><tr><td>Mary Zewe</td><td>2014</td><td>786.8</td></tr><tr><td>Mary Zewe</td><td>2015</td><td>8.21</td></tr><tr><td>Mary Zewe</td><td>2016</td><td>-25.24</td></tr><tr><td>Mary Zewe</td><td>2017</td><td>17.38</td></tr><tr><td>MaryBeth Skach</td><td>2014</td><td>2.69</td></tr><tr><td>MaryBeth Skach</td><td>2015</td><td>45.29</td></tr><tr><td>MaryBeth Skach</td><td>2016</td><td>36.04</td></tr><tr><td>Mathew Reese</td><td>2014</td><td>9.11</td></tr><tr><td>Mathew Reese</td><td>2017</td><td>153.35</td></tr><tr><td>Matt Abelman</td><td>2014</td><td>562.98</td></tr><tr><td>Matt Abelman</td><td>2015</td><td>619.07</td></tr><tr><td>Matt Abelman</td><td>2016</td><td>28.38</td></tr><tr><td>Matt Abelman</td><td>2017</td><td>30.13</td></tr><tr><td>Matt Collins</td><td>2014</td><td>-6.34</td></tr><tr><td>Matt Collins</td><td>2015</td><td>62.77</td></tr><tr><td>Matt Collins</td><td>2016</td><td>15.59</td></tr><tr><td>Matt Collins</td><td>2017</td><td>138.9</td></tr><tr><td>Matt Collister</td><td>2014</td><td>-137.2</td></tr><tr><td>Matt Collister</td><td>2016</td><td>379.01</td></tr><tr><td>Matt Collister</td><td>2017</td><td>47.18</td></tr><tr><td>Matt Connell</td><td>2014</td><td>49.37</td></tr><tr><td>Matt Connell</td><td>2015</td><td>13.08</td></tr><tr><td>Matt Connell</td><td>2016</td><td>11.31</td></tr><tr><td>Matt Connell</td><td>2017</td><td>121.69</td></tr><tr><td>Matt Hagelstein</td><td>2015</td><td>14.67</td></tr><tr><td>Matt Hagelstein</td><td>2016</td><td>-0.37</td></tr><tr><td>Matt Hagelstein</td><td>2017</td><td>108.05</td></tr><tr><td>Matthew Clasen</td><td>2014</td><td>41.89</td></tr><tr><td>Matthew Clasen</td><td>2016</td><td>27.42</td></tr><tr><td>Matthew Clasen</td><td>2017</td><td>-317.03</td></tr><tr><td>Matthew Grinstein</td><td>2014</td><td>24.37</td></tr><tr><td>Matthew Grinstein</td><td>2016</td><td>204.85</td></tr><tr><td>Matthew Grinstein</td><td>2017</td><td>112.69</td></tr><tr><td>Maureen Fritzler</td><td>2014</td><td>-459.99</td></tr><tr><td>Maureen Fritzler</td><td>2016</td><td>118.46</td></tr><tr><td>Maureen Gastineau</td><td>2014</td><td>12.91</td></tr><tr><td>Maureen Gastineau</td><td>2015</td><td>-1.2</td></tr><tr><td>Maureen Gastineau</td><td>2017</td><td>14.18</td></tr><tr><td>Maureen Gnade</td><td>2014</td><td>-22.64</td></tr><tr><td>Maureen Gnade</td><td>2015</td><td>-392.86</td></tr><tr><td>Maureen Gnade</td><td>2016</td><td>16.7</td></tr><tr><td>Maurice Satty</td><td>2014</td><td>40.73</td></tr><tr><td>Maurice Satty</td><td>2015</td><td>299.8</td></tr><tr><td>Maurice Satty</td><td>2016</td><td>-93.1</td></tr><tr><td>Max Engle</td><td>2014</td><td>16.28</td></tr><tr><td>Max Engle</td><td>2015</td><td>39.77</td></tr><tr><td>Max Engle</td><td>2016</td><td>-1.62</td></tr><tr><td>Max Engle</td><td>2017</td><td>23.16</td></tr><tr><td>Max Jones</td><td>2015</td><td>-77.93</td></tr><tr><td>Max Jones</td><td>2016</td><td>728.75</td></tr><tr><td>Max Jones</td><td>2017</td><td>403.72</td></tr><tr><td>Max Ludwig</td><td>2016</td><td>63.83</td></tr><tr><td>Max Ludwig</td><td>2017</td><td>346.16</td></tr><tr><td>Maxwell Schwartz</td><td>2014</td><td>-102.26</td></tr><tr><td>Maxwell Schwartz</td><td>2015</td><td>209.33</td></tr><tr><td>Maxwell Schwartz</td><td>2016</td><td>164.04</td></tr><tr><td>Maxwell Schwartz</td><td>2017</td><td>9.7</td></tr><tr><td>Maya Herman</td><td>2014</td><td>133.96</td></tr><tr><td>Maya Herman</td><td>2015</td><td>94.71</td></tr><tr><td>Maya Herman</td><td>2016</td><td>7.0</td></tr><tr><td>Maya Herman</td><td>2017</td><td>3.35</td></tr><tr><td>Meg OConnel</td><td>2015</td><td>-16.97</td></tr><tr><td>Meg OConnel</td><td>2016</td><td>5.5</td></tr><tr><td>Meg OConnel</td><td>2017</td><td>180.45</td></tr><tr><td>Meg Tillman</td><td>2015</td><td>1.78</td></tr><tr><td>Meg Tillman</td><td>2016</td><td>432.26</td></tr><tr><td>Meg Tillman</td><td>2017</td><td>74.98</td></tr><tr><td>Melanie Seite</td><td>2014</td><td>10.92</td></tr><tr><td>Melanie Seite</td><td>2015</td><td>32.45</td></tr><tr><td>Melanie Seite</td><td>2016</td><td>-23.94</td></tr><tr><td>Michael Chen</td><td>2014</td><td>395.76</td></tr><tr><td>Michael Chen</td><td>2016</td><td>60.54</td></tr><tr><td>Michael Chen</td><td>2017</td><td>242.12</td></tr><tr><td>Michael Dominguez</td><td>2014</td><td>-47.36</td></tr><tr><td>Michael Dominguez</td><td>2017</td><td>43.31</td></tr><tr><td>Michael Grace</td><td>2014</td><td>-4.52</td></tr><tr><td>Michael Grace</td><td>2015</td><td>-499.05</td></tr><tr><td>Michael Grace</td><td>2016</td><td>62.24</td></tr><tr><td>Michael Grace</td><td>2017</td><td>-29.44</td></tr><tr><td>Michael Granlund</td><td>2014</td><td>-4.8</td></tr><tr><td>Michael Granlund</td><td>2015</td><td>112.33</td></tr><tr><td>Michael Granlund</td><td>2016</td><td>25.93</td></tr><tr><td>Michael Granlund</td><td>2017</td><td>37.99</td></tr><tr><td>Michael Kennedy</td><td>2014</td><td>43.22</td></tr><tr><td>Michael Kennedy</td><td>2015</td><td>0.6</td></tr><tr><td>Michael Kennedy</td><td>2016</td><td>-456.26</td></tr><tr><td>Michael Kennedy</td><td>2017</td><td>7.01</td></tr><tr><td>Michael Moore</td><td>2014</td><td>55.03</td></tr><tr><td>Michael Moore</td><td>2015</td><td>-373.3</td></tr><tr><td>Michael Moore</td><td>2016</td><td>447.84</td></tr><tr><td>Michael Moore</td><td>2017</td><td>-48.11</td></tr><tr><td>Michael Nguyen</td><td>2014</td><td>31.17</td></tr><tr><td>Michael Nguyen</td><td>2016</td><td>5.52</td></tr><tr><td>Michael Nguyen</td><td>2017</td><td>254.13</td></tr><tr><td>Michael Oakman</td><td>2015</td><td>-79.31</td></tr><tr><td>Michael Oakman</td><td>2017</td><td>-2.7</td></tr><tr><td>Michael Paige</td><td>2015</td><td>255.75</td></tr><tr><td>Michael Paige</td><td>2016</td><td>265.54</td></tr><tr><td>Michael Paige</td><td>2017</td><td>116.45</td></tr><tr><td>Michael Stewart</td><td>2014</td><td>16.26</td></tr><tr><td>Michael Stewart</td><td>2015</td><td>59.35</td></tr><tr><td>Michael Stewart</td><td>2017</td><td>-20.38</td></tr><tr><td>Michelle Arnett</td><td>2014</td><td>53.7</td></tr><tr><td>Michelle Arnett</td><td>2015</td><td>3.48</td></tr><tr><td>Michelle Arnett</td><td>2016</td><td>191.39</td></tr><tr><td>Michelle Arnett</td><td>2017</td><td>31.94</td></tr><tr><td>Michelle Ellison</td><td>2014</td><td>104.98</td></tr><tr><td>Michelle Ellison</td><td>2015</td><td>8.77</td></tr><tr><td>Michelle Ellison</td><td>2017</td><td>-6.4</td></tr><tr><td>Michelle Huthwaite</td><td>2014</td><td>10.65</td></tr><tr><td>Michelle Huthwaite</td><td>2015</td><td>91.16</td></tr><tr><td>Michelle Huthwaite</td><td>2017</td><td>374.93</td></tr><tr><td>Michelle Lonsdale</td><td>2017</td><td>138.71</td></tr><tr><td>Michelle Moray</td><td>2014</td><td>130.68</td></tr><tr><td>Michelle Moray</td><td>2015</td><td>-247.37</td></tr><tr><td>Michelle Moray</td><td>2017</td><td>-403.76</td></tr><tr><td>Michelle Tran</td><td>2014</td><td>-89.7</td></tr><tr><td>Michelle Tran</td><td>2015</td><td>-6.29</td></tr><tr><td>Michelle Tran</td><td>2016</td><td>70.49</td></tr><tr><td>Michelle Tran</td><td>2017</td><td>2.05</td></tr><tr><td>Mick Brown</td><td>2014</td><td>4.88</td></tr><tr><td>Mick Brown</td><td>2016</td><td>45.32</td></tr><tr><td>Mick Brown</td><td>2017</td><td>67.85</td></tr><tr><td>Mick Crebagga</td><td>2014</td><td>-18.73</td></tr><tr><td>Mick Crebagga</td><td>2015</td><td>-73.3</td></tr><tr><td>Mick Crebagga</td><td>2016</td><td>0.93</td></tr><tr><td>Mick Crebagga</td><td>2017</td><td>26.7</td></tr><tr><td>Mick Hernandez</td><td>2016</td><td>-216.22</td></tr><tr><td>Mick Hernandez</td><td>2017</td><td>387.2</td></tr><tr><td>Mike Caudle</td><td>2014</td><td>24.98</td></tr><tr><td>Mike Caudle</td><td>2015</td><td>9.81</td></tr><tr><td>Mike Caudle</td><td>2016</td><td>86.95</td></tr><tr><td>Mike Gockenbach</td><td>2014</td><td>-152.72</td></tr><tr><td>Mike Gockenbach</td><td>2015</td><td>-137.49</td></tr><tr><td>Mike Gockenbach</td><td>2017</td><td>196.72</td></tr><tr><td>Mike Kennedy</td><td>2014</td><td>-22.69</td></tr><tr><td>Mike Kennedy</td><td>2016</td><td>41.08</td></tr><tr><td>Mike Kennedy</td><td>2017</td><td>209.04</td></tr><tr><td>Mike Pelletier</td><td>2014</td><td>-125.29</td></tr><tr><td>Mike Pelletier</td><td>2015</td><td>526.73</td></tr><tr><td>Mike Pelletier</td><td>2016</td><td>-295.64</td></tr><tr><td>Mike Pelletier</td><td>2017</td><td>119.69</td></tr><tr><td>Mike Vittorini</td><td>2014</td><td>11.9</td></tr><tr><td>Mike Vittorini</td><td>2015</td><td>15.36</td></tr><tr><td>Mike Vittorini</td><td>2016</td><td>225.26</td></tr><tr><td>Mike Vittorini</td><td>2017</td><td>21.47</td></tr><tr><td>Mitch Gastineau</td><td>2017</td><td>-1.24</td></tr><tr><td>Mitch Webber</td><td>2014</td><td>1204.43</td></tr><tr><td>Mitch Webber</td><td>2015</td><td>24.5</td></tr><tr><td>Mitch Webber</td><td>2016</td><td>0.5</td></tr><tr><td>Mitch Webber</td><td>2017</td><td>8.49</td></tr><tr><td>Mitch Willingham</td><td>2014</td><td>1449.52</td></tr><tr><td>Mitch Willingham</td><td>2017</td><td>216.0</td></tr><tr><td>Monica Federle</td><td>2014</td><td>16.89</td></tr><tr><td>Monica Federle</td><td>2015</td><td>152.73</td></tr><tr><td>Monica Federle</td><td>2017</td><td>287.24</td></tr><tr><td>Muhammed Lee</td><td>2015</td><td>1.16</td></tr><tr><td>Muhammed Lee</td><td>2017</td><td>41.51</td></tr><tr><td>Muhammed MacIntyre</td><td>2014</td><td>-51.52</td></tr><tr><td>Muhammed MacIntyre</td><td>2015</td><td>68.2</td></tr><tr><td>Muhammed MacIntyre</td><td>2016</td><td>8.84</td></tr><tr><td>Muhammed MacIntyre</td><td>2017</td><td>33.04</td></tr><tr><td>Muhammed YeDwab</td><td>2014</td><td>-103.13</td></tr><tr><td>Muhammed YeDwab</td><td>2016</td><td>-290.17</td></tr><tr><td>Muhammed YeDwab</td><td>2017</td><td>21.59</td></tr><tr><td>Nancy Lomonaco</td><td>2014</td><td>8.28</td></tr><tr><td>Nancy Lomonaco</td><td>2015</td><td>34.59</td></tr><tr><td>Nancy Lomonaco</td><td>2016</td><td>18.66</td></tr><tr><td>Nancy Lomonaco</td><td>2017</td><td>282.27</td></tr><tr><td>Nat Carroll</td><td>2014</td><td>11.16</td></tr><tr><td>Nat Carroll</td><td>2015</td><td>326.28</td></tr><tr><td>Nat Carroll</td><td>2016</td><td>26.29</td></tr><tr><td>Nat Carroll</td><td>2017</td><td>216.58</td></tr><tr><td>Nat Gilpin</td><td>2014</td><td>219.08</td></tr><tr><td>Nat Gilpin</td><td>2015</td><td>8.05</td></tr><tr><td>Nat Gilpin</td><td>2017</td><td>86.5</td></tr><tr><td>Natalie DeCherney</td><td>2014</td><td>47.61</td></tr><tr><td>Natalie DeCherney</td><td>2015</td><td>330.8</td></tr><tr><td>Natalie DeCherney</td><td>2016</td><td>58.86</td></tr><tr><td>Natalie DeCherney</td><td>2017</td><td>-84.03</td></tr><tr><td>Natalie Fritzler</td><td>2014</td><td>186.74</td></tr><tr><td>Natalie Fritzler</td><td>2015</td><td>-1980.38</td></tr><tr><td>Natalie Fritzler</td><td>2016</td><td>-66.17</td></tr><tr><td>Natalie Fritzler</td><td>2017</td><td>163.46</td></tr><tr><td>Natalie Webber</td><td>2014</td><td>-387.79</td></tr><tr><td>Natalie Webber</td><td>2015</td><td>1654.06</td></tr><tr><td>Natalie Webber</td><td>2016</td><td>-255.46</td></tr><tr><td>Natalie Webber</td><td>2017</td><td>11.82</td></tr><tr><td>Nathan Cano</td><td>2014</td><td>10.04</td></tr><tr><td>Nathan Cano</td><td>2015</td><td>36.23</td></tr><tr><td>Nathan Cano</td><td>2016</td><td>79.19</td></tr><tr><td>Nathan Cano</td><td>2017</td><td>-2330.27</td></tr><tr><td>Nathan Gelder</td><td>2014</td><td>134.82</td></tr><tr><td>Nathan Gelder</td><td>2015</td><td>54.0</td></tr><tr><td>Nathan Gelder</td><td>2017</td><td>28.28</td></tr><tr><td>Nathan Mautz</td><td>2014</td><td>2413.85</td></tr><tr><td>Nathan Mautz</td><td>2015</td><td>333.5</td></tr><tr><td>Nathan Mautz</td><td>2017</td><td>4.35</td></tr><tr><td>Neil Ducich</td><td>2014</td><td>45.43</td></tr><tr><td>Neil Ducich</td><td>2015</td><td>18.66</td></tr><tr><td>Neil Ducich</td><td>2017</td><td>379.25</td></tr><tr><td>Neil Franzsisch</td><td>2014</td><td>31.87</td></tr><tr><td>Neil Franzsisch</td><td>2015</td><td>72.89</td></tr><tr><td>Neil Franzsisch</td><td>2016</td><td>-18.84</td></tr><tr><td>Neil Knudson</td><td>2015</td><td>1.79</td></tr><tr><td>Neil Knudson</td><td>2016</td><td>39.41</td></tr><tr><td>Neil Knudson</td><td>2017</td><td>80.03</td></tr><tr><td>Neola Schneider</td><td>2016</td><td>19.55</td></tr><tr><td>Neola Schneider</td><td>2017</td><td>-31.86</td></tr><tr><td>Neoma Murray</td><td>2015</td><td>-26.66</td></tr><tr><td>Neoma Murray</td><td>2016</td><td>812.79</td></tr><tr><td>Neoma Murray</td><td>2017</td><td>2.82</td></tr><tr><td>Nick Crebassa</td><td>2014</td><td>690.2</td></tr><tr><td>Nick Crebassa</td><td>2016</td><td>16.79</td></tr><tr><td>Nick Crebassa</td><td>2017</td><td>607.03</td></tr><tr><td>Nick Radford</td><td>2014</td><td>-123.79</td></tr><tr><td>Nick Radford</td><td>2016</td><td>50.59</td></tr><tr><td>Nick Radford</td><td>2017</td><td>48.07</td></tr><tr><td>Nick Zandusky</td><td>2014</td><td>248.03</td></tr><tr><td>Nick Zandusky</td><td>2015</td><td>82.82</td></tr><tr><td>Nick Zandusky</td><td>2016</td><td>-30.61</td></tr><tr><td>Nick Zandusky</td><td>2017</td><td>102.32</td></tr><tr><td>Nicole Brennan</td><td>2014</td><td>24.79</td></tr><tr><td>Nicole Fjeld</td><td>2014</td><td>42.35</td></tr><tr><td>Nicole Fjeld</td><td>2015</td><td>258.1</td></tr><tr><td>Nicole Fjeld</td><td>2017</td><td>87.86</td></tr><tr><td>Nicole Hansen</td><td>2014</td><td>33.2</td></tr><tr><td>Nicole Hansen</td><td>2015</td><td>85.83</td></tr><tr><td>Nicole Hansen</td><td>2016</td><td>5.18</td></tr><tr><td>Nicole Hansen</td><td>2017</td><td>635.96</td></tr><tr><td>Noah Childs</td><td>2014</td><td>36.66</td></tr><tr><td>Noah Childs</td><td>2015</td><td>16.85</td></tr><tr><td>Noah Childs</td><td>2016</td><td>-461.2</td></tr><tr><td>Noah Childs</td><td>2017</td><td>48.78</td></tr><tr><td>Noel Staavos</td><td>2014</td><td>11.2</td></tr><tr><td>Noel Staavos</td><td>2015</td><td>151.68</td></tr><tr><td>Noel Staavos</td><td>2016</td><td>-298.25</td></tr><tr><td>Noel Staavos</td><td>2017</td><td>-99.52</td></tr><tr><td>Nona Balk</td><td>2014</td><td>87.38</td></tr><tr><td>Nona Balk</td><td>2015</td><td>127.06</td></tr><tr><td>Nona Balk</td><td>2016</td><td>-157.96</td></tr><tr><td>Nona Balk</td><td>2017</td><td>61.16</td></tr><tr><td>Nora Pelletier</td><td>2014</td><td>33.64</td></tr><tr><td>Nora Pelletier</td><td>2015</td><td>449.44</td></tr><tr><td>Nora Pelletier</td><td>2016</td><td>31.42</td></tr><tr><td>Nora Preis</td><td>2014</td><td>285.95</td></tr><tr><td>Nora Preis</td><td>2016</td><td>272.92</td></tr><tr><td>Nora Preis</td><td>2017</td><td>71.95</td></tr><tr><td>Nra Paige</td><td>2015</td><td>80.84</td></tr><tr><td>Nra Paige</td><td>2016</td><td>246.1</td></tr><tr><td>Nra Paige</td><td>2017</td><td>186.21</td></tr><tr><td>Odella Nelson</td><td>2014</td><td>183.11</td></tr><tr><td>Odella Nelson</td><td>2015</td><td>-31.11</td></tr><tr><td>Odella Nelson</td><td>2016</td><td>-157.53</td></tr><tr><td>Olvera Toch</td><td>2015</td><td>81.0</td></tr><tr><td>Olvera Toch</td><td>2016</td><td>-1182.11</td></tr><tr><td>Olvera Toch</td><td>2017</td><td>175.55</td></tr><tr><td>Pamela Coakley</td><td>2014</td><td>196.69</td></tr><tr><td>Pamela Coakley</td><td>2016</td><td>76.98</td></tr><tr><td>Pamela Coakley</td><td>2017</td><td>-0.99</td></tr><tr><td>Pamela Stobb</td><td>2014</td><td>11.88</td></tr><tr><td>Pamela Stobb</td><td>2015</td><td>-113.1</td></tr><tr><td>Pamela Stobb</td><td>2016</td><td>133.3</td></tr><tr><td>Pamela Stobb</td><td>2017</td><td>-166.52</td></tr><tr><td>Parhena Norris</td><td>2015</td><td>6.46</td></tr><tr><td>Parhena Norris</td><td>2016</td><td>137.23</td></tr><tr><td>Parhena Norris</td><td>2017</td><td>48.35</td></tr><tr><td>Patricia Hirasaki</td><td>2017</td><td>47.89</td></tr><tr><td>Patrick Bzostek</td><td>2015</td><td>7.56</td></tr><tr><td>Patrick Bzostek</td><td>2016</td><td>95.85</td></tr><tr><td>Patrick Bzostek</td><td>2017</td><td>125.36</td></tr><tr><td>Patrick Gardner</td><td>2014</td><td>54.45</td></tr><tr><td>Patrick Gardner</td><td>2015</td><td>-564.68</td></tr><tr><td>Patrick Gardner</td><td>2016</td><td>551.3</td></tr><tr><td>Patrick Gardner</td><td>2017</td><td>96.42</td></tr><tr><td>Patrick Jones</td><td>2014</td><td>7.95</td></tr><tr><td>Patrick Jones</td><td>2015</td><td>382.38</td></tr><tr><td>Patrick Jones</td><td>2016</td><td>8.2</td></tr><tr><td>Patrick Jones</td><td>2017</td><td>43.61</td></tr><tr><td>Patrick OBrill</td><td>2014</td><td>56.31</td></tr><tr><td>Patrick OBrill</td><td>2015</td><td>7.32</td></tr><tr><td>Patrick OBrill</td><td>2016</td><td>-316.63</td></tr><tr><td>Patrick OBrill</td><td>2017</td><td>290.64</td></tr><tr><td>Patrick ODonnell</td><td>2014</td><td>132.18</td></tr><tr><td>Patrick ODonnell</td><td>2016</td><td>67.6</td></tr><tr><td>Patrick ODonnell</td><td>2017</td><td>238.16</td></tr><tr><td>Patrick Ryan</td><td>2014</td><td>2.0</td></tr><tr><td>Patrick Ryan</td><td>2015</td><td>38.27</td></tr><tr><td>Patrick Ryan</td><td>2017</td><td>5555.93</td></tr><tr><td>Paul Gonzalez</td><td>2014</td><td>-70.73</td></tr><tr><td>Paul Gonzalez</td><td>2015</td><td>174.73</td></tr><tr><td>Paul Gonzalez</td><td>2016</td><td>10.71</td></tr><tr><td>Paul Gonzalez</td><td>2017</td><td>220.26</td></tr><tr><td>Paul Knutson</td><td>2014</td><td>9.07</td></tr><tr><td>Paul Knutson</td><td>2016</td><td>-807.78</td></tr><tr><td>Paul Lucas</td><td>2014</td><td>31.83</td></tr><tr><td>Paul Lucas</td><td>2016</td><td>-13.65</td></tr><tr><td>Paul Lucas</td><td>2017</td><td>-18.94</td></tr><tr><td>Paul MacIntyre</td><td>2014</td><td>21.06</td></tr><tr><td>Paul MacIntyre</td><td>2015</td><td>-21.71</td></tr><tr><td>Paul MacIntyre</td><td>2016</td><td>158.53</td></tr><tr><td>Paul Prost</td><td>2014</td><td>472.39</td></tr><tr><td>Paul Prost</td><td>2015</td><td>67.56</td></tr><tr><td>Paul Prost</td><td>2016</td><td>707.59</td></tr><tr><td>Paul Prost</td><td>2017</td><td>247.93</td></tr><tr><td>Paul Stevenson</td><td>2014</td><td>108.0</td></tr><tr><td>Paul Stevenson</td><td>2015</td><td>42.15</td></tr><tr><td>Paul Stevenson</td><td>2016</td><td>3.44</td></tr><tr><td>Paul Stevenson</td><td>2017</td><td>44.94</td></tr><tr><td>Paul Van Hugh</td><td>2014</td><td>-4.56</td></tr><tr><td>Paul Van Hugh</td><td>2016</td><td>155.32</td></tr><tr><td>Paul Van Hugh</td><td>2017</td><td>283.49</td></tr><tr><td>Pauline Chand</td><td>2014</td><td>-11.83</td></tr><tr><td>Pauline Chand</td><td>2015</td><td>-172.51</td></tr><tr><td>Pauline Johnson</td><td>2014</td><td>2.78</td></tr><tr><td>Pauline Johnson</td><td>2015</td><td>40.07</td></tr><tr><td>Pauline Johnson</td><td>2016</td><td>30.4</td></tr><tr><td>Pauline Johnson</td><td>2017</td><td>609.43</td></tr><tr><td>Pauline Webber</td><td>2014</td><td>17.47</td></tr><tr><td>Pauline Webber</td><td>2015</td><td>15.15</td></tr><tr><td>Pauline Webber</td><td>2016</td><td>437.4</td></tr><tr><td>Pauline Webber</td><td>2017</td><td>333.8</td></tr><tr><td>Penelope Sewall</td><td>2014</td><td>623.2</td></tr><tr><td>Penelope Sewall</td><td>2015</td><td>1493.94</td></tr><tr><td>Penelope Sewall</td><td>2016</td><td>6.32</td></tr><tr><td>Penelope Sewall</td><td>2017</td><td>1060.32</td></tr><tr><td>Pete Armstrong</td><td>2014</td><td>45.84</td></tr><tr><td>Pete Armstrong</td><td>2015</td><td>121.57</td></tr><tr><td>Pete Armstrong</td><td>2016</td><td>22.56</td></tr><tr><td>Pete Armstrong</td><td>2017</td><td>35.89</td></tr><tr><td>Pete Kriz</td><td>2014</td><td>13.32</td></tr><tr><td>Pete Kriz</td><td>2016</td><td>407.41</td></tr><tr><td>Pete Kriz</td><td>2017</td><td>1617.17</td></tr><tr><td>Pete Takahito</td><td>2014</td><td>-8.03</td></tr><tr><td>Pete Takahito</td><td>2016</td><td>-17.52</td></tr><tr><td>Pete Takahito</td><td>2017</td><td>5.5</td></tr><tr><td>Peter Bhler</td><td>2014</td><td>204.07</td></tr><tr><td>Peter Bhler</td><td>2016</td><td>0.9</td></tr><tr><td>Peter Bhler</td><td>2017</td><td>13.19</td></tr><tr><td>Peter Fuller</td><td>2014</td><td>17.68</td></tr><tr><td>Peter Fuller</td><td>2015</td><td>-631.7</td></tr><tr><td>Peter McVee</td><td>2015</td><td>426.81</td></tr><tr><td>Peter McVee</td><td>2016</td><td>30.35</td></tr><tr><td>Peter McVee</td><td>2017</td><td>69.6</td></tr><tr><td>Philip Brown</td><td>2014</td><td>12.3</td></tr><tr><td>Philip Brown</td><td>2015</td><td>157.66</td></tr><tr><td>Philip Brown</td><td>2016</td><td>38.38</td></tr><tr><td>Philip Brown</td><td>2017</td><td>71.93</td></tr><tr><td>Philip Fox</td><td>2014</td><td>-407.68</td></tr><tr><td>Philip Fox</td><td>2015</td><td>75.23</td></tr><tr><td>Philip Fox</td><td>2016</td><td>478.68</td></tr><tr><td>Philip Fox</td><td>2017</td><td>50.65</td></tr><tr><td>Philisse Overcash</td><td>2015</td><td>823.24</td></tr><tr><td>Philisse Overcash</td><td>2016</td><td>178.45</td></tr><tr><td>Philisse Overcash</td><td>2017</td><td>153.55</td></tr><tr><td>Phillina Ober</td><td>2014</td><td>-65.99</td></tr><tr><td>Phillina Ober</td><td>2015</td><td>-12.5</td></tr><tr><td>Phillina Ober</td><td>2017</td><td>28.8</td></tr><tr><td>Phillip Breyer</td><td>2014</td><td>21.2</td></tr><tr><td>Phillip Breyer</td><td>2016</td><td>0.7</td></tr><tr><td>Phillip Flathmann</td><td>2016</td><td>513.27</td></tr><tr><td>Phillip Flathmann</td><td>2017</td><td>78.02</td></tr><tr><td>Pierre Wener</td><td>2014</td><td>-86.27</td></tr><tr><td>Pierre Wener</td><td>2015</td><td>1378.01</td></tr><tr><td>Pierre Wener</td><td>2016</td><td>-0.59</td></tr><tr><td>Quincy Jones</td><td>2014</td><td>120.04</td></tr><tr><td>Quincy Jones</td><td>2015</td><td>1014.47</td></tr><tr><td>Quincy Jones</td><td>2016</td><td>168.88</td></tr><tr><td>Quincy Jones</td><td>2017</td><td>-99.7</td></tr><tr><td>Rachel Payne</td><td>2014</td><td>97.86</td></tr><tr><td>Rachel Payne</td><td>2015</td><td>-50.04</td></tr><tr><td>Rachel Payne</td><td>2016</td><td>11.7</td></tr><tr><td>Ralph Arnett</td><td>2014</td><td>0.0</td></tr><tr><td>Ralph Arnett</td><td>2015</td><td>234.81</td></tr><tr><td>Ralph Arnett</td><td>2016</td><td>-6.57</td></tr><tr><td>Ralph Arnett</td><td>2017</td><td>317.48</td></tr><tr><td>Ralph Kennedy</td><td>2015</td><td>265.58</td></tr><tr><td>Ralph Kennedy</td><td>2017</td><td>4.11</td></tr><tr><td>Ralph Ritter</td><td>2016</td><td>3.47</td></tr><tr><td>Ralph Ritter</td><td>2017</td><td>-77.3</td></tr><tr><td>Randy Bradley</td><td>2014</td><td>-90.1</td></tr><tr><td>Randy Bradley</td><td>2017</td><td>-74.31</td></tr><tr><td>Randy Ferguson</td><td>2014</td><td>92.94</td></tr><tr><td>Randy Ferguson</td><td>2015</td><td>102.01</td></tr><tr><td>Randy Ferguson</td><td>2016</td><td>438.73</td></tr><tr><td>Raymond Buch</td><td>2016</td><td>195.46</td></tr><tr><td>Raymond Buch</td><td>2017</td><td>6780.9</td></tr><tr><td>Raymond Messe</td><td>2014</td><td>13.83</td></tr><tr><td>Raymond Messe</td><td>2015</td><td>19.97</td></tr><tr><td>Raymond Messe</td><td>2016</td><td>162.05</td></tr><tr><td>Raymond Messe</td><td>2017</td><td>196.75</td></tr><tr><td>Resi Plking</td><td>2014</td><td>262.81</td></tr><tr><td>Resi Plking</td><td>2015</td><td>19.71</td></tr><tr><td>Resi Plking</td><td>2016</td><td>154.14</td></tr><tr><td>Resi Plking</td><td>2017</td><td>28.3</td></tr><tr><td>Ricardo Emerson</td><td>2014</td><td>6.05</td></tr><tr><td>Ricardo Sperren</td><td>2014</td><td>318.93</td></tr><tr><td>Ricardo Sperren</td><td>2016</td><td>14.42</td></tr><tr><td>Ricardo Sperren</td><td>2017</td><td>300.1</td></tr><tr><td>Richard Bierner</td><td>2014</td><td>65.12</td></tr><tr><td>Richard Bierner</td><td>2015</td><td>49.57</td></tr><tr><td>Richard Bierner</td><td>2017</td><td>362.94</td></tr><tr><td>Richard Eichhorn</td><td>2014</td><td>-24.87</td></tr><tr><td>Richard Eichhorn</td><td>2015</td><td>211.06</td></tr><tr><td>Richard Eichhorn</td><td>2016</td><td>13.32</td></tr><tr><td>Richard Eichhorn</td><td>2017</td><td>9.74</td></tr><tr><td>Rick Bensley</td><td>2014</td><td>336.96</td></tr><tr><td>Rick Bensley</td><td>2016</td><td>123.81</td></tr><tr><td>Rick Bensley</td><td>2017</td><td>179.78</td></tr><tr><td>Rick Duston</td><td>2014</td><td>109.52</td></tr><tr><td>Rick Duston</td><td>2015</td><td>25.41</td></tr><tr><td>Rick Duston</td><td>2016</td><td>69.39</td></tr><tr><td>Rick Duston</td><td>2017</td><td>276.27</td></tr><tr><td>Rick Hansen</td><td>2014</td><td>34.94</td></tr><tr><td>Rick Hansen</td><td>2015</td><td>480.63</td></tr><tr><td>Rick Hansen</td><td>2017</td><td>48.21</td></tr><tr><td>Rick Huthwaite</td><td>2014</td><td>10.96</td></tr><tr><td>Rick Huthwaite</td><td>2015</td><td>125.67</td></tr><tr><td>Rick Huthwaite</td><td>2016</td><td>1152.82</td></tr><tr><td>Rick Reed</td><td>2014</td><td>543.57</td></tr><tr><td>Rick Reed</td><td>2015</td><td>32.5</td></tr><tr><td>Rick Reed</td><td>2016</td><td>45.68</td></tr><tr><td>Rick Reed</td><td>2017</td><td>99.94</td></tr><tr><td>Rick Wilson</td><td>2015</td><td>-74.62</td></tr><tr><td>Rick Wilson</td><td>2017</td><td>1660.85</td></tr><tr><td>Ritsa Hightower</td><td>2015</td><td>-6.03</td></tr><tr><td>Ritsa Hightower</td><td>2016</td><td>6.34</td></tr><tr><td>Rob Beeghly</td><td>2016</td><td>-5.98</td></tr><tr><td>Rob Beeghly</td><td>2017</td><td>82.88</td></tr><tr><td>Rob Dowd</td><td>2014</td><td>341.38</td></tr><tr><td>Rob Dowd</td><td>2015</td><td>302.64</td></tr><tr><td>Rob Dowd</td><td>2016</td><td>24.23</td></tr><tr><td>Rob Dowd</td><td>2017</td><td>66.27</td></tr><tr><td>Rob Haberlin</td><td>2015</td><td>165.38</td></tr><tr><td>Rob Haberlin</td><td>2016</td><td>7.25</td></tr><tr><td>Rob Lucas</td><td>2014</td><td>42.29</td></tr><tr><td>Rob Lucas</td><td>2015</td><td>110.11</td></tr><tr><td>Rob Lucas</td><td>2016</td><td>-6.57</td></tr><tr><td>Rob Lucas</td><td>2017</td><td>68.15</td></tr><tr><td>Rob Williams</td><td>2014</td><td>30.78</td></tr><tr><td>Rob Williams</td><td>2016</td><td>346.37</td></tr><tr><td>Rob Williams</td><td>2017</td><td>321.91</td></tr><tr><td>Robert Barroso</td><td>2014</td><td>24.92</td></tr><tr><td>Robert Barroso</td><td>2015</td><td>28.43</td></tr><tr><td>Robert Barroso</td><td>2016</td><td>19.33</td></tr><tr><td>Robert Dilbeck</td><td>2015</td><td>-73.41</td></tr><tr><td>Robert Dilbeck</td><td>2016</td><td>151.77</td></tr><tr><td>Robert Dilbeck</td><td>2017</td><td>757.41</td></tr><tr><td>Robert Marley</td><td>2014</td><td>200.12</td></tr><tr><td>Robert Marley</td><td>2015</td><td>660.52</td></tr><tr><td>Robert Marley</td><td>2017</td><td>1041.91</td></tr><tr><td>Robert Waldorf</td><td>2016</td><td>-2.63</td></tr><tr><td>Robert Waldorf</td><td>2017</td><td>710.18</td></tr><tr><td>Roger Barcio</td><td>2015</td><td>-82.78</td></tr><tr><td>Roger Barcio</td><td>2017</td><td>325.86</td></tr><tr><td>Roger Demir</td><td>2014</td><td>73.68</td></tr><tr><td>Roger Demir</td><td>2015</td><td>23.85</td></tr><tr><td>Roger Demir</td><td>2016</td><td>31.2</td></tr><tr><td>Roger Demir</td><td>2017</td><td>78.99</td></tr><tr><td>Roland Fjeld</td><td>2014</td><td>22.65</td></tr><tr><td>Roland Fjeld</td><td>2015</td><td>187.1</td></tr><tr><td>Roland Fjeld</td><td>2016</td><td>110.62</td></tr><tr><td>Roland Fjeld</td><td>2017</td><td>391.47</td></tr><tr><td>Roland Murray</td><td>2017</td><td>28.68</td></tr><tr><td>Roland Schwarz</td><td>2014</td><td>552.0</td></tr><tr><td>Roland Schwarz</td><td>2015</td><td>5.01</td></tr><tr><td>Roland Schwarz</td><td>2017</td><td>649.38</td></tr><tr><td>Rose OBrian</td><td>2015</td><td>-998.0</td></tr><tr><td>Rose OBrian</td><td>2016</td><td>-90.48</td></tr><tr><td>Rose OBrian</td><td>2017</td><td>-174.32</td></tr><tr><td>Ross Baird</td><td>2014</td><td>7.49</td></tr><tr><td>Ross Baird</td><td>2015</td><td>-18.46</td></tr><tr><td>Ross Baird</td><td>2016</td><td>51.79</td></tr><tr><td>Ross Baird</td><td>2017</td><td>-502.56</td></tr><tr><td>Ross DeVincentis</td><td>2014</td><td>7.66</td></tr><tr><td>Ross DeVincentis</td><td>2016</td><td>115.76</td></tr><tr><td>Ross DeVincentis</td><td>2017</td><td>195.03</td></tr><tr><td>Roy Collins</td><td>2014</td><td>6.88</td></tr><tr><td>Roy Collins</td><td>2016</td><td>56.69</td></tr><tr><td>Roy Franzsisch</td><td>2014</td><td>16.17</td></tr><tr><td>Roy Franzsisch</td><td>2015</td><td>0.06</td></tr><tr><td>Roy Franzsisch</td><td>2016</td><td>264.16</td></tr><tr><td>Roy Franzsisch</td><td>2017</td><td>-0.3</td></tr><tr><td>Roy Phan</td><td>2014</td><td>56.53</td></tr><tr><td>Roy Phan</td><td>2015</td><td>375.38</td></tr><tr><td>Roy Phan</td><td>2016</td><td>143.06</td></tr><tr><td>Roy Phan</td><td>2017</td><td>19.81</td></tr><tr><td>Roy Skaria</td><td>2016</td><td>3.5</td></tr><tr><td>Roy Skaria</td><td>2017</td><td>6.08</td></tr><tr><td>Ruben Ausman</td><td>2014</td><td>776.48</td></tr><tr><td>Ruben Ausman</td><td>2015</td><td>1.67</td></tr><tr><td>Ruben Ausman</td><td>2016</td><td>3.89</td></tr><tr><td>Ruben Ausman</td><td>2017</td><td>510.77</td></tr><tr><td>Ruben Dartt</td><td>2014</td><td>186.49</td></tr><tr><td>Ruben Dartt</td><td>2015</td><td>9.09</td></tr><tr><td>Ruben Dartt</td><td>2016</td><td>177.1</td></tr><tr><td>Ruben Dartt</td><td>2017</td><td>82.84</td></tr><tr><td>Russell Applegate</td><td>2014</td><td>278.43</td></tr><tr><td>Russell Applegate</td><td>2015</td><td>-118.15</td></tr><tr><td>Russell Applegate</td><td>2016</td><td>115.46</td></tr><tr><td>Russell Applegate</td><td>2017</td><td>29.55</td></tr><tr><td>Russell DAscenzo</td><td>2014</td><td>-23.29</td></tr><tr><td>Russell DAscenzo</td><td>2015</td><td>39.0</td></tr><tr><td>Russell DAscenzo</td><td>2017</td><td>19.33</td></tr><tr><td>Ryan Akin</td><td>2014</td><td>-436.73</td></tr><tr><td>Ryan Akin</td><td>2015</td><td>96.54</td></tr><tr><td>Ryan Akin</td><td>2017</td><td>-105.5</td></tr><tr><td>Ryan Crowe</td><td>2014</td><td>-98.43</td></tr><tr><td>Ryan Crowe</td><td>2016</td><td>102.93</td></tr><tr><td>Ryan Crowe</td><td>2017</td><td>6.04</td></tr><tr><td>Sally Knutson</td><td>2016</td><td>3.44</td></tr><tr><td>Sally Knutson</td><td>2017</td><td>165.35</td></tr><tr><td>Sally Matthias</td><td>2014</td><td>51.25</td></tr><tr><td>Sally Matthias</td><td>2016</td><td>-77.84</td></tr><tr><td>Sam Craven</td><td>2014</td><td>-360.83</td></tr><tr><td>Sam Craven</td><td>2015</td><td>43.32</td></tr><tr><td>Sam Zeldin</td><td>2014</td><td>6.49</td></tr><tr><td>Sam Zeldin</td><td>2015</td><td>260.19</td></tr><tr><td>Sam Zeldin</td><td>2016</td><td>49.32</td></tr><tr><td>Sam Zeldin</td><td>2017</td><td>50.42</td></tr><tr><td>Sample Company A</td><td>2014</td><td>764.53</td></tr><tr><td>Sample Company A</td><td>2015</td><td>9.1</td></tr><tr><td>Sample Company A</td><td>2016</td><td>146.65</td></tr><tr><td>Sample Company A</td><td>2017</td><td>91.45</td></tr><tr><td>Sandra Flanagan</td><td>2014</td><td>98.59</td></tr><tr><td>Sandra Flanagan</td><td>2015</td><td>15.98</td></tr><tr><td>Sandra Flanagan</td><td>2016</td><td>3.06</td></tr><tr><td>Sandra Flanagan</td><td>2017</td><td>110.13</td></tr><tr><td>Sandra Glassco</td><td>2015</td><td>352.2</td></tr><tr><td>Sandra Glassco</td><td>2017</td><td>218.25</td></tr><tr><td>Sanjit Chand</td><td>2014</td><td>5462.59</td></tr><tr><td>Sanjit Chand</td><td>2015</td><td>92.68</td></tr><tr><td>Sanjit Chand</td><td>2016</td><td>196.19</td></tr><tr><td>Sanjit Chand</td><td>2017</td><td>5.84</td></tr><tr><td>Sanjit Engle</td><td>2014</td><td>54.41</td></tr><tr><td>Sanjit Engle</td><td>2015</td><td>159.32</td></tr><tr><td>Sanjit Engle</td><td>2016</td><td>2673.77</td></tr><tr><td>Sanjit Engle</td><td>2017</td><td>-236.83</td></tr><tr><td>Sanjit Jacobs</td><td>2015</td><td>-65.82</td></tr><tr><td>Sanjit Jacobs</td><td>2016</td><td>266.13</td></tr><tr><td>Sanjit Jacobs</td><td>2017</td><td>-56.58</td></tr><tr><td>Saphhira Shifley</td><td>2014</td><td>-88.04</td></tr><tr><td>Saphhira Shifley</td><td>2015</td><td>25.79</td></tr><tr><td>Saphhira Shifley</td><td>2016</td><td>6.55</td></tr><tr><td>Saphhira Shifley</td><td>2017</td><td>387.73</td></tr><tr><td>Sara Luxemburg</td><td>2014</td><td>22.25</td></tr><tr><td>Sara Luxemburg</td><td>2015</td><td>64.77</td></tr><tr><td>Sara Luxemburg</td><td>2016</td><td>3.11</td></tr><tr><td>Sara Luxemburg</td><td>2017</td><td>437.91</td></tr><tr><td>Sarah Bern</td><td>2014</td><td>-33.39</td></tr><tr><td>Sarah Bern</td><td>2017</td><td>191.07</td></tr><tr><td>Sarah Brown</td><td>2014</td><td>-66.52</td></tr><tr><td>Sarah Brown</td><td>2015</td><td>939.16</td></tr><tr><td>Sarah Brown</td><td>2017</td><td>13.32</td></tr><tr><td>Sarah Foster</td><td>2014</td><td>58.03</td></tr><tr><td>Sarah Foster</td><td>2015</td><td>-87.01</td></tr><tr><td>Sarah Foster</td><td>2016</td><td>21.14</td></tr><tr><td>Sarah Foster</td><td>2017</td><td>294.84</td></tr><tr><td>Sarah Jordon</td><td>2015</td><td>5.9</td></tr><tr><td>Sarah Jordon</td><td>2016</td><td>-3.24</td></tr><tr><td>Sarah Jordon</td><td>2017</td><td>-26.04</td></tr><tr><td>Scot Coram</td><td>2016</td><td>435.65</td></tr><tr><td>Scot Coram</td><td>2017</td><td>4.18</td></tr><tr><td>Scot Wooten</td><td>2014</td><td>-27.2</td></tr><tr><td>Scot Wooten</td><td>2015</td><td>-10.84</td></tr><tr><td>Scot Wooten</td><td>2016</td><td>82.53</td></tr><tr><td>Scot Wooten</td><td>2017</td><td>-64.07</td></tr><tr><td>Scott Cohen</td><td>2014</td><td>96.77</td></tr><tr><td>Scott Cohen</td><td>2015</td><td>373.95</td></tr><tr><td>Scott Cohen</td><td>2017</td><td>200.26</td></tr><tr><td>Scott Williamson</td><td>2014</td><td>11.0</td></tr><tr><td>Scott Williamson</td><td>2016</td><td>221.48</td></tr><tr><td>Scott Williamson</td><td>2017</td><td>100.28</td></tr><tr><td>Sean Braxton</td><td>2014</td><td>-1272.35</td></tr><tr><td>Sean Braxton</td><td>2015</td><td>79.76</td></tr><tr><td>Sean Braxton</td><td>2016</td><td>16.89</td></tr><tr><td>Sean Braxton</td><td>2017</td><td>-907.05</td></tr><tr><td>Sean Christensen</td><td>2014</td><td>93.4</td></tr><tr><td>Sean Christensen</td><td>2015</td><td>0.0</td></tr><tr><td>Sean Christensen</td><td>2016</td><td>37.46</td></tr><tr><td>Sean Christensen</td><td>2017</td><td>98.25</td></tr><tr><td>Sean Miller</td><td>2014</td><td>-1789.74</td></tr><tr><td>Sean Miller</td><td>2015</td><td>-225.52</td></tr><tr><td>Sean Miller</td><td>2017</td><td>34.28</td></tr><tr><td>Sean ODonnell</td><td>2015</td><td>-282.31</td></tr><tr><td>Sean ODonnell</td><td>2017</td><td>200.89</td></tr><tr><td>Sean Wendt</td><td>2016</td><td>146.09</td></tr><tr><td>Sean Wendt</td><td>2017</td><td>-50.25</td></tr><tr><td>Seth Vernon</td><td>2014</td><td>-218.93</td></tr><tr><td>Seth Vernon</td><td>2015</td><td>-191.64</td></tr><tr><td>Seth Vernon</td><td>2016</td><td>39.77</td></tr><tr><td>Seth Vernon</td><td>2017</td><td>1570.94</td></tr><tr><td>Shahi Collister</td><td>2014</td><td>-3462.2</td></tr><tr><td>Shahi Collister</td><td>2015</td><td>52.91</td></tr><tr><td>Shahi Collister</td><td>2016</td><td>-25.0</td></tr><tr><td>Shahi Collister</td><td>2017</td><td>270.29</td></tr><tr><td>Shahi Hopkins</td><td>2014</td><td>-252.19</td></tr><tr><td>Shahi Hopkins</td><td>2015</td><td>2.24</td></tr><tr><td>Shahi Hopkins</td><td>2016</td><td>-1.48</td></tr><tr><td>Shahi Hopkins</td><td>2017</td><td>106.91</td></tr><tr><td>Shahi Shariari</td><td>2014</td><td>-565.75</td></tr><tr><td>Shahi Shariari</td><td>2015</td><td>-504.24</td></tr><tr><td>Shahi Shariari</td><td>2017</td><td>58.91</td></tr><tr><td>Sharelle Roach</td><td>2014</td><td>57.49</td></tr><tr><td>Sharelle Roach</td><td>2017</td><td>-3391.66</td></tr><tr><td>Shaun Chance</td><td>2015</td><td>375.28</td></tr><tr><td>Shaun Chance</td><td>2017</td><td>4.29</td></tr><tr><td>Shaun Weien</td><td>2015</td><td>618.44</td></tr><tr><td>Shaun Weien</td><td>2016</td><td>125.2</td></tr><tr><td>Shaun Weien</td><td>2017</td><td>50.0</td></tr><tr><td>Sheri Gordon</td><td>2014</td><td>150.92</td></tr><tr><td>Sheri Gordon</td><td>2015</td><td>44.5</td></tr><tr><td>Sheri Gordon</td><td>2016</td><td>-18.45</td></tr><tr><td>Sheri Gordon</td><td>2017</td><td>-295.98</td></tr><tr><td>Shirley Daniels</td><td>2014</td><td>122.77</td></tr><tr><td>Shirley Daniels</td><td>2015</td><td>1954.8</td></tr><tr><td>Shirley Daniels</td><td>2016</td><td>20.82</td></tr><tr><td>Shirley Daniels</td><td>2017</td><td>-113.2</td></tr><tr><td>Shirley Jackson</td><td>2014</td><td>57.93</td></tr><tr><td>Shirley Jackson</td><td>2016</td><td>253.82</td></tr><tr><td>Shirley Jackson</td><td>2017</td><td>-243.16</td></tr><tr><td>Shirley Schmidt</td><td>2014</td><td>11.05</td></tr><tr><td>Shirley Schmidt</td><td>2015</td><td>174.01</td></tr><tr><td>Shirley Schmidt</td><td>2016</td><td>14.87</td></tr><tr><td>Shui Tom</td><td>2014</td><td>45.32</td></tr><tr><td>Shui Tom</td><td>2015</td><td>27.01</td></tr><tr><td>Shui Tom</td><td>2017</td><td>12.79</td></tr><tr><td>Sibella Parks</td><td>2014</td><td>2.81</td></tr><tr><td>Sibella Parks</td><td>2016</td><td>-203.15</td></tr><tr><td>Sibella Parks</td><td>2017</td><td>81.96</td></tr><tr><td>Skye Norling</td><td>2015</td><td>184.58</td></tr><tr><td>Skye Norling</td><td>2016</td><td>229.01</td></tr><tr><td>Skye Norling</td><td>2017</td><td>-1130.43</td></tr><tr><td>Sonia Cooley</td><td>2014</td><td>32.39</td></tr><tr><td>Sonia Cooley</td><td>2015</td><td>-2.43</td></tr><tr><td>Sonia Cooley</td><td>2017</td><td>70.27</td></tr><tr><td>Sonia Sunley</td><td>2014</td><td>15.51</td></tr><tr><td>Sonia Sunley</td><td>2015</td><td>8.02</td></tr><tr><td>Sonia Sunley</td><td>2016</td><td>112.38</td></tr><tr><td>Speros Goranitis</td><td>2014</td><td>274.85</td></tr><tr><td>Speros Goranitis</td><td>2015</td><td>162.96</td></tr><tr><td>Speros Goranitis</td><td>2017</td><td>25.46</td></tr><tr><td>Stefania Perrino</td><td>2014</td><td>67.46</td></tr><tr><td>Stefania Perrino</td><td>2015</td><td>-0.62</td></tr><tr><td>Stefania Perrino</td><td>2016</td><td>-171.23</td></tr><tr><td>Stefania Perrino</td><td>2017</td><td>-165.8</td></tr><tr><td>Stefanie Holloman</td><td>2014</td><td>70.2</td></tr><tr><td>Stefanie Holloman</td><td>2015</td><td>190.43</td></tr><tr><td>Stephanie Phelps</td><td>2014</td><td>72.4</td></tr><tr><td>Stephanie Phelps</td><td>2015</td><td>95.84</td></tr><tr><td>Stephanie Phelps</td><td>2016</td><td>100.23</td></tr><tr><td>Stephanie Ulpright</td><td>2015</td><td>76.4</td></tr><tr><td>Stephanie Ulpright</td><td>2016</td><td>64.19</td></tr><tr><td>Stephanie Ulpright</td><td>2017</td><td>623.11</td></tr><tr><td>Steve Carroll</td><td>2014</td><td>31.53</td></tr><tr><td>Steve Carroll</td><td>2015</td><td>213.7</td></tr><tr><td>Steve Carroll</td><td>2016</td><td>109.82</td></tr><tr><td>Steve Carroll</td><td>2017</td><td>15.12</td></tr><tr><td>Steve Chapman</td><td>2014</td><td>52.53</td></tr><tr><td>Steve Chapman</td><td>2015</td><td>222.93</td></tr><tr><td>Steve Chapman</td><td>2016</td><td>347.96</td></tr><tr><td>Steve Chapman</td><td>2017</td><td>-11.6</td></tr><tr><td>Steve Nguyen</td><td>2014</td><td>32.94</td></tr><tr><td>Steve Nguyen</td><td>2015</td><td>91.22</td></tr><tr><td>Steve Nguyen</td><td>2016</td><td>375.78</td></tr><tr><td>Steve Nguyen</td><td>2017</td><td>-18.19</td></tr><tr><td>Steven Cartwright</td><td>2014</td><td>114.84</td></tr><tr><td>Steven Cartwright</td><td>2015</td><td>404.63</td></tr><tr><td>Steven Cartwright</td><td>2016</td><td>273.18</td></tr><tr><td>Steven Cartwright</td><td>2017</td><td>483.77</td></tr><tr><td>Steven Roelle</td><td>2014</td><td>130.18</td></tr><tr><td>Steven Roelle</td><td>2015</td><td>2.4</td></tr><tr><td>Steven Roelle</td><td>2016</td><td>181.53</td></tr><tr><td>Steven Roelle</td><td>2017</td><td>1676.32</td></tr><tr><td>Steven Ward</td><td>2014</td><td>19.72</td></tr><tr><td>Steven Ward</td><td>2016</td><td>48.52</td></tr><tr><td>Stewart Carmichael</td><td>2015</td><td>147.72</td></tr><tr><td>Stewart Carmichael</td><td>2016</td><td>-734.27</td></tr><tr><td>Stewart Carmichael</td><td>2017</td><td>-84.83</td></tr><tr><td>Stewart Visinsky</td><td>2014</td><td>189.13</td></tr><tr><td>Stewart Visinsky</td><td>2015</td><td>209.66</td></tr><tr><td>Stewart Visinsky</td><td>2016</td><td>76.77</td></tr><tr><td>Stewart Visinsky</td><td>2017</td><td>9.29</td></tr><tr><td>Stuart Calhoun</td><td>2015</td><td>40.63</td></tr><tr><td>Stuart Calhoun</td><td>2016</td><td>9.0</td></tr><tr><td>Stuart Calhoun</td><td>2017</td><td>2.58</td></tr><tr><td>Stuart Van</td><td>2015</td><td>184.2</td></tr><tr><td>Stuart Van</td><td>2016</td><td>11.24</td></tr><tr><td>Stuart Van</td><td>2017</td><td>4.2</td></tr><tr><td>Sue Ann Reed</td><td>2014</td><td>351.32</td></tr><tr><td>Sue Ann Reed</td><td>2015</td><td>98.08</td></tr><tr><td>Sue Ann Reed</td><td>2016</td><td>-17.11</td></tr><tr><td>Sue Ann Reed</td><td>2017</td><td>177.85</td></tr><tr><td>Sung Chung</td><td>2016</td><td>1.23</td></tr><tr><td>Sung Chung</td><td>2017</td><td>29.95</td></tr><tr><td>Sung Pak</td><td>2014</td><td>1.19</td></tr><tr><td>Sung Pak</td><td>2015</td><td>-65.06</td></tr><tr><td>Sung Pak</td><td>2016</td><td>619.14</td></tr><tr><td>Sung Pak</td><td>2017</td><td>11.85</td></tr><tr><td>Sung Shariari</td><td>2014</td><td>-9.15</td></tr><tr><td>Sung Shariari</td><td>2015</td><td>-79.33</td></tr><tr><td>Sung Shariari</td><td>2016</td><td>-1.91</td></tr><tr><td>Sung Shariari</td><td>2017</td><td>14.82</td></tr><tr><td>Susan Gilcrest</td><td>2014</td><td>2.94</td></tr><tr><td>Susan Gilcrest</td><td>2016</td><td>6.63</td></tr><tr><td>Susan Gilcrest</td><td>2017</td><td>-13.27</td></tr><tr><td>Susan MacKendrick</td><td>2016</td><td>-16510.34</td></tr><tr><td>Susan Pistek</td><td>2014</td><td>24.22</td></tr><tr><td>Susan Pistek</td><td>2016</td><td>8.7</td></tr><tr><td>Susan Pistek</td><td>2017</td><td>-18.55</td></tr><tr><td>Susan Vittorini</td><td>2016</td><td>-30.2</td></tr><tr><td>Susan Vittorini</td><td>2017</td><td>136.82</td></tr><tr><td>Suzanne McNair</td><td>2014</td><td>-372.11</td></tr><tr><td>Suzanne McNair</td><td>2015</td><td>468.4</td></tr><tr><td>Suzanne McNair</td><td>2016</td><td>43.0</td></tr><tr><td>Suzanne McNair</td><td>2017</td><td>442.28</td></tr><tr><td>Sylvia Foulston</td><td>2014</td><td>12.27</td></tr><tr><td>Sylvia Foulston</td><td>2015</td><td>448.98</td></tr><tr><td>Sylvia Foulston</td><td>2016</td><td>70.2</td></tr><tr><td>Sylvia Foulston</td><td>2017</td><td>8.49</td></tr><tr><td>Tamara Chand</td><td>2014</td><td>178.65</td></tr><tr><td>Tamara Chand</td><td>2015</td><td>37.72</td></tr><tr><td>Tamara Chand</td><td>2016</td><td>8764.95</td></tr><tr><td>Tamara Dahlen</td><td>2014</td><td>9.23</td></tr><tr><td>Tamara Dahlen</td><td>2015</td><td>-4.52</td></tr><tr><td>Tamara Dahlen</td><td>2016</td><td>70.25</td></tr><tr><td>Tamara Dahlen</td><td>2017</td><td>13.68</td></tr><tr><td>Tamara Manning</td><td>2014</td><td>112.58</td></tr><tr><td>Tamara Manning</td><td>2015</td><td>255.04</td></tr><tr><td>Tamara Manning</td><td>2017</td><td>205.84</td></tr><tr><td>Tamara Willingham</td><td>2014</td><td>100.14</td></tr><tr><td>Tamara Willingham</td><td>2015</td><td>610.3</td></tr><tr><td>Tamara Willingham</td><td>2016</td><td>33.01</td></tr><tr><td>Tamara Willingham</td><td>2017</td><td>-6.06</td></tr><tr><td>Tanja Norvell</td><td>2014</td><td>21.25</td></tr><tr><td>Tanja Norvell</td><td>2015</td><td>167.98</td></tr><tr><td>Tanja Norvell</td><td>2016</td><td>-903.28</td></tr><tr><td>Tanja Norvell</td><td>2017</td><td>22.0</td></tr><tr><td>Ted Butterfield</td><td>2016</td><td>267.71</td></tr><tr><td>Ted Butterfield</td><td>2017</td><td>122.05</td></tr><tr><td>Ted Trevino</td><td>2014</td><td>121.4</td></tr><tr><td>Ted Trevino</td><td>2015</td><td>205.15</td></tr><tr><td>Ted Trevino</td><td>2016</td><td>2.69</td></tr><tr><td>Ted Trevino</td><td>2017</td><td>422.93</td></tr><tr><td>Thais Sissman</td><td>2015</td><td>-1.35</td></tr><tr><td>Thais Sissman</td><td>2017</td><td>-1.97</td></tr><tr><td>Thea Hendricks</td><td>2014</td><td>-155.27</td></tr><tr><td>Thea Hendricks</td><td>2015</td><td>0.81</td></tr><tr><td>Thea Hendricks</td><td>2016</td><td>9.19</td></tr><tr><td>Thea Hendricks</td><td>2017</td><td>10.05</td></tr><tr><td>Thea Hudgings</td><td>2014</td><td>5.45</td></tr><tr><td>Thea Hudgings</td><td>2016</td><td>-76.64</td></tr><tr><td>Thea Hudgings</td><td>2017</td><td>-181.36</td></tr><tr><td>Theone Pippenger</td><td>2015</td><td>-1.85</td></tr><tr><td>Theone Pippenger</td><td>2016</td><td>376.74</td></tr><tr><td>Theone Pippenger</td><td>2017</td><td>753.76</td></tr><tr><td>Theresa Coyne</td><td>2017</td><td>265.59</td></tr><tr><td>Theresa Swint</td><td>2014</td><td>-2.0</td></tr><tr><td>Theresa Swint</td><td>2015</td><td>311.54</td></tr><tr><td>Theresa Swint</td><td>2016</td><td>-48.91</td></tr><tr><td>Thomas Boland</td><td>2014</td><td>6.04</td></tr><tr><td>Thomas Boland</td><td>2016</td><td>-6.98</td></tr><tr><td>Thomas Boland</td><td>2017</td><td>829.65</td></tr><tr><td>Thomas Brumley</td><td>2014</td><td>161.97</td></tr><tr><td>Thomas Brumley</td><td>2015</td><td>3.06</td></tr><tr><td>Thomas Brumley</td><td>2017</td><td>13.98</td></tr><tr><td>Thomas Seio</td><td>2014</td><td>471.81</td></tr><tr><td>Thomas Seio</td><td>2016</td><td>104.77</td></tr><tr><td>Thomas Seio</td><td>2017</td><td>286.36</td></tr><tr><td>Thomas Thornton</td><td>2014</td><td>18.38</td></tr><tr><td>Thomas Thornton</td><td>2015</td><td>52.51</td></tr><tr><td>Thomas Thornton</td><td>2016</td><td>60.39</td></tr><tr><td>Thomas Thornton</td><td>2017</td><td>147.47</td></tr><tr><td>Tiffany House</td><td>2014</td><td>-2.93</td></tr><tr><td>Tiffany House</td><td>2016</td><td>70.78</td></tr><tr><td>Tiffany House</td><td>2017</td><td>24.7</td></tr><tr><td>Tim Brockman</td><td>2014</td><td>13.81</td></tr><tr><td>Tim Brockman</td><td>2015</td><td>318.53</td></tr><tr><td>Tim Brockman</td><td>2016</td><td>-40.36</td></tr><tr><td>Tim Brockman</td><td>2017</td><td>-31.68</td></tr><tr><td>Tim Taslimi</td><td>2015</td><td>61.39</td></tr><tr><td>Tim Taslimi</td><td>2016</td><td>32.53</td></tr><tr><td>Toby Braunhardt</td><td>2014</td><td>200.15</td></tr><tr><td>Toby Braunhardt</td><td>2016</td><td>290.98</td></tr><tr><td>Toby Carlisle</td><td>2014</td><td>402.54</td></tr><tr><td>Toby Carlisle</td><td>2016</td><td>-27.83</td></tr><tr><td>Toby Carlisle</td><td>2017</td><td>231.66</td></tr><tr><td>Toby Gnade</td><td>2015</td><td>-198.33</td></tr><tr><td>Toby Gnade</td><td>2016</td><td>844.64</td></tr><tr><td>Toby Gnade</td><td>2017</td><td>35.86</td></tr><tr><td>Toby Ritter</td><td>2014</td><td>28.52</td></tr><tr><td>Toby Ritter</td><td>2016</td><td>115.04</td></tr><tr><td>Toby Ritter</td><td>2017</td><td>76.8</td></tr><tr><td>Toby Swindell</td><td>2014</td><td>-285.0</td></tr><tr><td>Toby Swindell</td><td>2015</td><td>92.71</td></tr><tr><td>Toby Swindell</td><td>2017</td><td>7.29</td></tr><tr><td>Todd Boyes</td><td>2016</td><td>62.39</td></tr><tr><td>Todd Boyes</td><td>2017</td><td>206.57</td></tr><tr><td>Todd Sumrall</td><td>2014</td><td>18.62</td></tr><tr><td>Todd Sumrall</td><td>2015</td><td>1135.1</td></tr><tr><td>Todd Sumrall</td><td>2017</td><td>1218.01</td></tr><tr><td>Tom Ashbrook</td><td>2014</td><td>180.52</td></tr><tr><td>Tom Ashbrook</td><td>2016</td><td>-76.0</td></tr><tr><td>Tom Ashbrook</td><td>2017</td><td>4599.21</td></tr><tr><td>Tom Boeckenhauer</td><td>2014</td><td>2567.33</td></tr><tr><td>Tom Boeckenhauer</td><td>2016</td><td>12.18</td></tr><tr><td>Tom Boeckenhauer</td><td>2017</td><td>218.55</td></tr><tr><td>Tom Prescott</td><td>2015</td><td>64.52</td></tr><tr><td>Tom Prescott</td><td>2016</td><td>-91.11</td></tr><tr><td>Tom Prescott</td><td>2017</td><td>-1060.79</td></tr><tr><td>Tom Stivers</td><td>2014</td><td>17.14</td></tr><tr><td>Tom Stivers</td><td>2016</td><td>17.05</td></tr><tr><td>Tom Stivers</td><td>2017</td><td>14.71</td></tr><tr><td>Tonja Turnell</td><td>2015</td><td>281.0</td></tr><tr><td>Tonja Turnell</td><td>2016</td><td>2.4</td></tr><tr><td>Tonja Turnell</td><td>2017</td><td>840.98</td></tr><tr><td>Tony Chapman</td><td>2014</td><td>-16.47</td></tr><tr><td>Tony Chapman</td><td>2015</td><td>27.0</td></tr><tr><td>Tony Chapman</td><td>2016</td><td>32.39</td></tr><tr><td>Tony Chapman</td><td>2017</td><td>76.21</td></tr><tr><td>Tony Molinari</td><td>2017</td><td>292.53</td></tr><tr><td>Tracy Blumstein</td><td>2014</td><td>-125.24</td></tr><tr><td>Tracy Blumstein</td><td>2015</td><td>-1524.02</td></tr><tr><td>Tracy Blumstein</td><td>2016</td><td>3.95</td></tr><tr><td>Tracy Blumstein</td><td>2017</td><td>42.26</td></tr><tr><td>Tracy Collins</td><td>2014</td><td>3.36</td></tr><tr><td>Tracy Collins</td><td>2015</td><td>30.65</td></tr><tr><td>Tracy Collins</td><td>2016</td><td>161.53</td></tr><tr><td>Tracy Collins</td><td>2017</td><td>22.41</td></tr><tr><td>Tracy Hopkins</td><td>2014</td><td>26.63</td></tr><tr><td>Tracy Hopkins</td><td>2015</td><td>391.56</td></tr><tr><td>Tracy Hopkins</td><td>2017</td><td>-990.17</td></tr><tr><td>Tracy Poddar</td><td>2015</td><td>34.74</td></tr><tr><td>Tracy Poddar</td><td>2016</td><td>104.74</td></tr><tr><td>Tracy Poddar</td><td>2017</td><td>-0.04</td></tr><tr><td>Tracy Zic</td><td>2014</td><td>132.3</td></tr><tr><td>Tracy Zic</td><td>2015</td><td>15.28</td></tr><tr><td>Tracy Zic</td><td>2016</td><td>75.98</td></tr><tr><td>Tracy Zic</td><td>2017</td><td>1.34</td></tr><tr><td>Troy Blackwell</td><td>2014</td><td>6.75</td></tr><tr><td>Troy Blackwell</td><td>2016</td><td>-144.59</td></tr><tr><td>Troy Blackwell</td><td>2017</td><td>1.37</td></tr><tr><td>Troy Staebel</td><td>2014</td><td>-227.49</td></tr><tr><td>Troy Staebel</td><td>2016</td><td>-57.29</td></tr><tr><td>Troy Staebel</td><td>2017</td><td>-10.11</td></tr><tr><td>Trudy Brown</td><td>2014</td><td>83.99</td></tr><tr><td>Trudy Brown</td><td>2015</td><td>-8.47</td></tr><tr><td>Trudy Brown</td><td>2016</td><td>70.93</td></tr><tr><td>Trudy Brown</td><td>2017</td><td>233.36</td></tr><tr><td>Trudy Glocke</td><td>2014</td><td>89.42</td></tr><tr><td>Trudy Glocke</td><td>2015</td><td>191.28</td></tr><tr><td>Trudy Glocke</td><td>2017</td><td>84.42</td></tr><tr><td>Trudy Schmidt</td><td>2015</td><td>-34.09</td></tr><tr><td>Trudy Schmidt</td><td>2016</td><td>364.87</td></tr><tr><td>Trudy Schmidt</td><td>2017</td><td>-110.05</td></tr><tr><td>Valerie Dominguez</td><td>2014</td><td>576.56</td></tr><tr><td>Valerie Dominguez</td><td>2015</td><td>990.86</td></tr><tr><td>Valerie Dominguez</td><td>2016</td><td>50.19</td></tr><tr><td>Valerie Mitchum</td><td>2014</td><td>78.23</td></tr><tr><td>Valerie Mitchum</td><td>2015</td><td>-3.71</td></tr><tr><td>Valerie Mitchum</td><td>2016</td><td>371.7</td></tr><tr><td>Valerie Mitchum</td><td>2017</td><td>67.41</td></tr><tr><td>Valerie Takahito</td><td>2014</td><td>33.0</td></tr><tr><td>Valerie Takahito</td><td>2015</td><td>-257.93</td></tr><tr><td>Vicky Freymann</td><td>2014</td><td>-158.76</td></tr><tr><td>Vicky Freymann</td><td>2017</td><td>62.48</td></tr><tr><td>Victor Preis</td><td>2015</td><td>8.93</td></tr><tr><td>Victor Preis</td><td>2017</td><td>196.46</td></tr><tr><td>Victoria Brennan</td><td>2015</td><td>84.62</td></tr><tr><td>Victoria Brennan</td><td>2016</td><td>105.42</td></tr><tr><td>Victoria Brennan</td><td>2017</td><td>181.21</td></tr><tr><td>Victoria Pisteka</td><td>2014</td><td>118.07</td></tr><tr><td>Victoria Pisteka</td><td>2015</td><td>-204.15</td></tr><tr><td>Victoria Pisteka</td><td>2016</td><td>31.65</td></tr><tr><td>Victoria Pisteka</td><td>2017</td><td>-964.48</td></tr><tr><td>Victoria Wilson</td><td>2014</td><td>-65.32</td></tr><tr><td>Victoria Wilson</td><td>2015</td><td>-1186.41</td></tr><tr><td>Victoria Wilson</td><td>2016</td><td>-188.81</td></tr><tr><td>Victoria Wilson</td><td>2017</td><td>565.88</td></tr><tr><td>Vivek Gonzalez</td><td>2014</td><td>19.54</td></tr><tr><td>Vivek Gonzalez</td><td>2016</td><td>18.48</td></tr><tr><td>Vivek Gonzalez</td><td>2017</td><td>106.1</td></tr><tr><td>Vivek Grady</td><td>2014</td><td>-82.88</td></tr><tr><td>Vivek Grady</td><td>2016</td><td>28.14</td></tr><tr><td>Vivek Grady</td><td>2017</td><td>2.41</td></tr><tr><td>Vivek Sundaresam</td><td>2014</td><td>-72.25</td></tr><tr><td>Vivek Sundaresam</td><td>2015</td><td>-176.6</td></tr><tr><td>Vivek Sundaresam</td><td>2016</td><td>-7.81</td></tr><tr><td>Vivek Sundaresam</td><td>2017</td><td>-6.42</td></tr><tr><td>Vivian Mathis</td><td>2014</td><td>6.51</td></tr><tr><td>Vivian Mathis</td><td>2016</td><td>103.16</td></tr><tr><td>Vivian Mathis</td><td>2017</td><td>6.97</td></tr><tr><td>William Brown</td><td>2014</td><td>106.42</td></tr><tr><td>William Brown</td><td>2015</td><td>-87.06</td></tr><tr><td>William Brown</td><td>2016</td><td>293.65</td></tr><tr><td>William Brown</td><td>2017</td><td>401.51</td></tr><tr><td>Xylona Preis</td><td>2014</td><td>202.31</td></tr><tr><td>Xylona Preis</td><td>2015</td><td>24.85</td></tr><tr><td>Xylona Preis</td><td>2016</td><td>314.09</td></tr><tr><td>Xylona Preis</td><td>2017</td><td>80.12</td></tr><tr><td>Yana Sorensen</td><td>2015</td><td>254.18</td></tr><tr><td>Yana Sorensen</td><td>2017</td><td>1524.13</td></tr><tr><td>Yoseph Carroll</td><td>2014</td><td>833.77</td></tr><tr><td>Yoseph Carroll</td><td>2015</td><td>7.07</td></tr><tr><td>Yoseph Carroll</td><td>2016</td><td>427.27</td></tr><tr><td>Yoseph Carroll</td><td>2017</td><td>37.53</td></tr><tr><td>Zuschuss Carroll</td><td>2014</td><td>328.83</td></tr><tr><td>Zuschuss Carroll</td><td>2015</td><td>307.48</td></tr><tr><td>Zuschuss Carroll</td><td>2016</td><td>-1731.01</td></tr><tr><td>Zuschuss Carroll</td><td>2017</td><td>62.34</td></tr><tr><td>Zuschuss Donatelli</td><td>2014</td><td>25.49</td></tr><tr><td>Zuschuss Donatelli</td><td>2016</td><td>206.67</td></tr><tr><td>Zuschuss Donatelli</td><td>2017</td><td>16.59</td></tr></tbody></table></div>"
      ]
     },
     "metadata": {
      "application/vnd.databricks.v1+output": {
       "addedWidgets": {},
       "aggData": [],
       "aggError": "",
       "aggOverflow": false,
       "aggSchema": [],
       "aggSeriesLimitReached": false,
       "aggType": "",
       "arguments": {},
       "columnCustomDisplayInfos": {},
       "data": [
        [
         "Aaron Bergman",
         2014,
         12.82
        ],
        [
         "Aaron Bergman",
         2016,
         116.86
        ],
        [
         "Aaron Hawkins",
         2014,
         188.28
        ],
        [
         "Aaron Hawkins",
         2015,
         136.56
        ],
        [
         "Aaron Hawkins",
         2016,
         38.04
        ],
        [
         "Aaron Hawkins",
         2017,
         2.34
        ],
        [
         "Aaron Smayling",
         2014,
         32.23
        ],
        [
         "Aaron Smayling",
         2016,
         92.14
        ],
        [
         "Aaron Smayling",
         2017,
         -377.96
        ],
        [
         "Adam Bellavance",
         2015,
         8.71
        ],
        [
         "Adam Bellavance",
         2016,
         1568.05
        ],
        [
         "Adam Bellavance",
         2017,
         477.84
        ],
        [
         "Adam Hart",
         2014,
         2.4
        ],
        [
         "Adam Hart",
         2015,
         0.34
        ],
        [
         "Adam Hart",
         2016,
         332.64
        ],
        [
         "Adam Hart",
         2017,
         -54.58
        ],
        [
         "Adam Shillingsburg",
         2014,
         129.55
        ],
        [
         "Adam Shillingsburg",
         2015,
         243.86
        ],
        [
         "Adam Shillingsburg",
         2016,
         22.55
        ],
        [
         "Adam Shillingsburg",
         2017,
         -331.64
        ],
        [
         "Adrian Barton",
         2014,
         498.73
        ],
        [
         "Adrian Barton",
         2015,
         -142.67
        ],
        [
         "Adrian Barton",
         2016,
         4748.27
        ],
        [
         "Adrian Barton",
         2017,
         340.64
        ],
        [
         "Adrian Hane",
         2014,
         -25.91
        ],
        [
         "Adrian Hane",
         2016,
         -299.15
        ],
        [
         "Adrian Hane",
         2017,
         322.56
        ],
        [
         "Adrian Shami",
         2016,
         1.5
        ],
        [
         "Adrian Shami",
         2017,
         20.34
        ],
        [
         "Aimee Bixby",
         2014,
         261.2
        ],
        [
         "Aimee Bixby",
         2015,
         7.02
        ],
        [
         "Aimee Bixby",
         2016,
         5.44
        ],
        [
         "Aimee Bixby",
         2017,
         40.0
        ],
        [
         "Alan Barnes",
         2014,
         -1.07
        ],
        [
         "Alan Barnes",
         2015,
         79.95
        ],
        [
         "Alan Barnes",
         2017,
         141.73
        ],
        [
         "Alan Dominguez",
         2014,
         -6.6
        ],
        [
         "Alan Dominguez",
         2015,
         9.6
        ],
        [
         "Alan Dominguez",
         2017,
         1866.92
        ],
        [
         "Alan Haines",
         2015,
         -12.1
        ],
        [
         "Alan Haines",
         2016,
         -349.36
        ],
        [
         "Alan Haines",
         2017,
         -16.58
        ],
        [
         "Alan Hwang",
         2014,
         87.19
        ],
        [
         "Alan Hwang",
         2015,
         269.15
        ],
        [
         "Alan Hwang",
         2016,
         5.57
        ],
        [
         "Alan Hwang",
         2017,
         946.65
        ],
        [
         "Alan Schoenberger",
         2014,
         444.69
        ],
        [
         "Alan Schoenberger",
         2015,
         12.86
        ],
        [
         "Alan Schoenberger",
         2016,
         -6.21
        ],
        [
         "Alan Schoenberger",
         2017,
         268.43
        ],
        [
         "Alan Shonely",
         2014,
         37.35
        ],
        [
         "Alan Shonely",
         2015,
         5.08
        ],
        [
         "Alan Shonely",
         2016,
         23.18
        ],
        [
         "Alan Shonely",
         2017,
         -31.92
        ],
        [
         "Alejandro Ballentine",
         2014,
         6.49
        ],
        [
         "Alejandro Ballentine",
         2015,
         34.34
        ],
        [
         "Alejandro Ballentine",
         2016,
         26.07
        ],
        [
         "Alejandro Ballentine",
         2017,
         197.67
        ],
        [
         "Alejandro Grove",
         2014,
         17.99
        ],
        [
         "Alejandro Grove",
         2015,
         16.96
        ],
        [
         "Alejandro Grove",
         2016,
         696.3
        ],
        [
         "Alejandro Grove",
         2017,
         1.5
        ],
        [
         "Alejandro Savely",
         2016,
         331.37
        ],
        [
         "Alejandro Savely",
         2017,
         23.26
        ],
        [
         "Aleksandra Gannaway",
         2014,
         28.75
        ],
        [
         "Aleksandra Gannaway",
         2015,
         8.39
        ],
        [
         "Aleksandra Gannaway",
         2016,
         20.49
        ],
        [
         "Aleksandra Gannaway",
         2017,
         1.67
        ],
        [
         "Alex Avila",
         2014,
         280.68
        ],
        [
         "Alex Avila",
         2015,
         7.0
        ],
        [
         "Alex Avila",
         2016,
         -747.09
        ],
        [
         "Alex Avila",
         2017,
         96.51
        ],
        [
         "Alex Grayson",
         2016,
         61.74
        ],
        [
         "Alex Grayson",
         2017,
         -67.1
        ],
        [
         "Alex Russell",
         2014,
         -242.44
        ],
        [
         "Alex Russell",
         2015,
         -2.57
        ],
        [
         "Alex Russell",
         2017,
         23.96
        ],
        [
         "Alice McCarthy",
         2014,
         7.68
        ],
        [
         "Alice McCarthy",
         2015,
         178.9
        ],
        [
         "Alice McCarthy",
         2016,
         9.98
        ],
        [
         "Alice McCarthy",
         2017,
         -1.57
        ],
        [
         "Allen Armold",
         2014,
         16.72
        ],
        [
         "Allen Armold",
         2015,
         69.03
        ],
        [
         "Allen Armold",
         2016,
         122.73
        ],
        [
         "Allen Armold",
         2017,
         68.92
        ],
        [
         "Allen Goldenen",
         2014,
         67.97
        ],
        [
         "Allen Goldenen",
         2016,
         -7.0
        ],
        [
         "Allen Goldenen",
         2017,
         8.3
        ],
        [
         "Allen Rosenblatt",
         2014,
         17.59
        ],
        [
         "Allen Rosenblatt",
         2015,
         105.47
        ],
        [
         "Allen Rosenblatt",
         2017,
         -221.58
        ],
        [
         "Alyssa Crouse",
         2014,
         -14.66
        ],
        [
         "Alyssa Crouse",
         2016,
         21.59
        ],
        [
         "Alyssa Crouse",
         2017,
         -69.06
        ],
        [
         "Alyssa Tate",
         2014,
         0.84
        ],
        [
         "Alyssa Tate",
         2015,
         -2.53
        ],
        [
         "Alyssa Tate",
         2016,
         6.43
        ],
        [
         "Alyssa Tate",
         2017,
         96.13
        ],
        [
         "Amy Cox",
         2014,
         84.0
        ],
        [
         "Amy Cox",
         2015,
         24.98
        ],
        [
         "Amy Cox",
         2016,
         381.04
        ],
        [
         "Amy Cox",
         2017,
         876.48
        ],
        [
         "Amy Hunt",
         2015,
         -342.08
        ],
        [
         "Amy Hunt",
         2016,
         -1.78
        ],
        [
         "Amy Hunt",
         2017,
         147.87
        ],
        [
         "Andrew Allen",
         2014,
         9.89
        ],
        [
         "Andrew Allen",
         2016,
         420.75
        ],
        [
         "Andrew Allen",
         2017,
         5.44
        ],
        [
         "Andrew Gjertsen",
         2015,
         264.76
        ],
        [
         "Andrew Gjertsen",
         2016,
         6.03
        ],
        [
         "Andrew Gjertsen",
         2017,
         25.05
        ],
        [
         "Andrew Roberts",
         2014,
         -8.41
        ],
        [
         "Andrew Roberts",
         2015,
         27.99
        ],
        [
         "Andrew Roberts",
         2016,
         18.89
        ],
        [
         "Andrew Roberts",
         2017,
         5.18
        ],
        [
         "Andy Gerbode",
         2014,
         -93.53
        ],
        [
         "Andy Gerbode",
         2015,
         -59.22
        ],
        [
         "Andy Reiter",
         2014,
         20.12
        ],
        [
         "Andy Reiter",
         2015,
         247.28
        ],
        [
         "Andy Reiter",
         2016,
         9.53
        ],
        [
         "Andy Reiter",
         2017,
         2607.68
        ],
        [
         "Andy Yotov",
         2014,
         65.6
        ],
        [
         "Andy Yotov",
         2016,
         6.7
        ],
        [
         "Andy Yotov",
         2017,
         31.04
        ],
        [
         "Anemone Ratner",
         2016,
         32.64
        ],
        [
         "Angele Hood",
         2014,
         41.6
        ],
        [
         "Angele Hood",
         2016,
         13.45
        ],
        [
         "Angele Hood",
         2017,
         28.92
        ],
        [
         "Ann Blume",
         2014,
         -23.89
        ],
        [
         "Ann Blume",
         2015,
         5.07
        ],
        [
         "Ann Blume",
         2017,
         -256.46
        ],
        [
         "Ann Chong",
         2015,
         -32.3
        ],
        [
         "Ann Chong",
         2017,
         330.91
        ],
        [
         "Ann Steele",
         2014,
         71.95
        ],
        [
         "Ann Steele",
         2015,
         -10.81
        ],
        [
         "Ann Steele",
         2016,
         6.37
        ],
        [
         "Ann Steele",
         2017,
         69.09
        ],
        [
         "Anna Andreadi",
         2014,
         77.64
        ],
        [
         "Anna Andreadi",
         2015,
         439.31
        ],
        [
         "Anna Andreadi",
         2016,
         334.63
        ],
        [
         "Anna Andreadi",
         2017,
         6.22
        ],
        [
         "Anna Chung",
         2014,
         -4.97
        ],
        [
         "Anna Chung",
         2016,
         8.61
        ],
        [
         "Anna Chung",
         2017,
         -32.34
        ],
        [
         "Anna Gayman",
         2015,
         -25.99
        ],
        [
         "Anna Gayman",
         2016,
         -281.56
        ],
        [
         "Anna Gayman",
         2017,
         61.15
        ],
        [
         "Anna Hberlin",
         2014,
         46.2
        ],
        [
         "Anna Hberlin",
         2015,
         106.62
        ],
        [
         "Anna Hberlin",
         2016,
         1144.07
        ],
        [
         "Anne McFarland",
         2014,
         472.09
        ],
        [
         "Anne McFarland",
         2015,
         14.7
        ],
        [
         "Anne McFarland",
         2016,
         90.26
        ],
        [
         "Anne McFarland",
         2017,
         392.01
        ],
        [
         "Anne Pryor",
         2014,
         54.65
        ],
        [
         "Anne Pryor",
         2015,
         -1.36
        ],
        [
         "Anne Pryor",
         2016,
         243.58
        ],
        [
         "Anne Pryor",
         2017,
         -11.07
        ],
        [
         "Annie Thurman",
         2014,
         71.66
        ],
        [
         "Annie Thurman",
         2015,
         739.52
        ],
        [
         "Annie Thurman",
         2016,
         51.67
        ],
        [
         "Annie Thurman",
         2017,
         111.72
        ],
        [
         "Annie Zypern",
         2014,
         72.86
        ],
        [
         "Annie Zypern",
         2015,
         34.34
        ],
        [
         "Annie Zypern",
         2016,
         32.57
        ],
        [
         "Annie Zypern",
         2017,
         15.0
        ],
        [
         "Anthony Garverick",
         2014,
         -4.12
        ],
        [
         "Anthony Garverick",
         2015,
         61.71
        ],
        [
         "Anthony Garverick",
         2017,
         -66.01
        ],
        [
         "Anthony Jacobs",
         2014,
         -56.95
        ],
        [
         "Anthony Jacobs",
         2015,
         5.32
        ],
        [
         "Anthony Jacobs",
         2016,
         -5.7
        ],
        [
         "Anthony Jacobs",
         2017,
         208.05
        ],
        [
         "Anthony Johnson",
         2014,
         503.26
        ],
        [
         "Anthony Johnson",
         2016,
         400.21
        ],
        [
         "Anthony Johnson",
         2017,
         255.24
        ],
        [
         "Anthony ODonnell",
         2016,
         12.1
        ],
        [
         "Anthony Rawles",
         2014,
         10.37
        ],
        [
         "Anthony Rawles",
         2015,
         9.33
        ],
        [
         "Anthony Rawles",
         2016,
         370.3
        ],
        [
         "Anthony Rawles",
         2017,
         105.07
        ],
        [
         "Anthony Witt",
         2015,
         -13.5
        ],
        [
         "Anthony Witt",
         2017,
         79.28
        ],
        [
         "Arianne Irving",
         2014,
         288.24
        ],
        [
         "Arianne Irving",
         2015,
         17.03
        ],
        [
         "Arianne Irving",
         2016,
         485.32
        ],
        [
         "Arianne Irving",
         2017,
         77.28
        ],
        [
         "Art Ferguson",
         2015,
         2.02
        ],
        [
         "Art Ferguson",
         2016,
         390.8
        ],
        [
         "Art Ferguson",
         2017,
         -75.19
        ],
        [
         "Art Foster",
         2014,
         -258.56
        ],
        [
         "Art Foster",
         2015,
         101.18
        ],
        [
         "Art Foster",
         2016,
         -5.75
        ],
        [
         "Arthur Gainer",
         2014,
         144.46
        ],
        [
         "Arthur Gainer",
         2015,
         18.82
        ],
        [
         "Arthur Gainer",
         2016,
         252.36
        ],
        [
         "Arthur Gainer",
         2017,
         -71.97
        ],
        [
         "Arthur Prichep",
         2014,
         420.7
        ],
        [
         "Arthur Prichep",
         2016,
         338.86
        ],
        [
         "Arthur Prichep",
         2017,
         -179.86
        ],
        [
         "Arthur Wiediger",
         2014,
         -42.56
        ],
        [
         "Arthur Wiediger",
         2015,
         64.25
        ],
        [
         "Arthur Wiediger",
         2016,
         -213.35
        ],
        [
         "Arthur Wiediger",
         2017,
         87.22
        ],
        [
         "Ashley Jarboe",
         2014,
         3.4
        ],
        [
         "Ashley Jarboe",
         2015,
         316.58
        ],
        [
         "Ashley Jarboe",
         2016,
         33.22
        ],
        [
         "Ashley Jarboe",
         2017,
         167.94
        ],
        [
         "Astrea Jones",
         2014,
         57.66
        ],
        [
         "Astrea Jones",
         2017,
         2.77
        ],
        [
         "Barbara Fisher",
         2014,
         61.99
        ],
        [
         "Barbara Fisher",
         2015,
         0.96
        ],
        [
         "Barbara Fisher",
         2016,
         157.38
        ],
        [
         "Barbara Fisher",
         2017,
         6.97
        ],
        [
         "Barry Blumstein",
         2014,
         0.0
        ],
        [
         "Barry Blumstein",
         2015,
         -8.22
        ],
        [
         "Barry Blumstein",
         2016,
         12.87
        ],
        [
         "Barry Blumstein",
         2017,
         6.92
        ],
        [
         "Barry Franz",
         2014,
         2.37
        ],
        [
         "Barry Franz",
         2016,
         -365.72
        ],
        [
         "Barry Franz",
         2017,
         71.98
        ],
        [
         "Barry Franzsisch",
         2014,
         7.21
        ],
        [
         "Barry Franzsisch",
         2015,
         269.31
        ],
        [
         "Barry Franzsisch",
         2016,
         20.32
        ],
        [
         "Barry Franzsisch",
         2017,
         4.6
        ],
        [
         "Barry Gonzalez",
         2014,
         54.19
        ],
        [
         "Barry Gonzalez",
         2015,
         -998.91
        ],
        [
         "Barry Gonzalez",
         2016,
         12.24
        ],
        [
         "Barry Gonzalez",
         2017,
         221.68
        ],
        [
         "Barry Pond",
         2014,
         2.5
        ],
        [
         "Barry Pond",
         2016,
         182.98
        ],
        [
         "Barry Pond",
         2017,
         24.18
        ],
        [
         "Barry Weirich",
         2014,
         6.73
        ],
        [
         "Barry Weirich",
         2015,
         12.11
        ],
        [
         "Barry Weirich",
         2017,
         -77.13
        ],
        [
         "Bart Folk",
         2014,
         3.96
        ],
        [
         "Bart Folk",
         2017,
         107.03
        ],
        [
         "Bart Pistole",
         2014,
         131.71
        ],
        [
         "Bart Pistole",
         2015,
         53.56
        ],
        [
         "Bart Pistole",
         2016,
         19.68
        ],
        [
         "Bart Pistole",
         2017,
         228.64
        ],
        [
         "Bart Watters",
         2015,
         103.49
        ],
        [
         "Bart Watters",
         2016,
         97.06
        ],
        [
         "Bart Watters",
         2017,
         720.83
        ],
        [
         "Becky Castell",
         2014,
         38.13
        ],
        [
         "Becky Castell",
         2015,
         92.0
        ],
        [
         "Becky Castell",
         2016,
         62.26
        ],
        [
         "Becky Castell",
         2017,
         58.8
        ],
        [
         "Becky Martin",
         2014,
         -1878.79
        ],
        [
         "Becky Martin",
         2016,
         118.92
        ],
        [
         "Becky Martin",
         2017,
         99.9
        ],
        [
         "Becky Pak",
         2015,
         431.98
        ],
        [
         "Becky Pak",
         2016,
         188.78
        ],
        [
         "Becky Pak",
         2017,
         26.24
        ],
        [
         "Ben Ferrer",
         2014,
         666.39
        ],
        [
         "Ben Ferrer",
         2015,
         137.03
        ],
        [
         "Ben Ferrer",
         2016,
         697.47
        ],
        [
         "Ben Ferrer",
         2017,
         437.78
        ],
        [
         "Ben Peterman",
         2015,
         66.76
        ],
        [
         "Ben Peterman",
         2016,
         -33.89
        ],
        [
         "Ben Peterman",
         2017,
         330.74
        ],
        [
         "Ben Wallace",
         2014,
         87.45
        ],
        [
         "Ben Wallace",
         2016,
         173.66
        ],
        [
         "Ben Wallace",
         2017,
         -14.11
        ],
        [
         "Benjamin Farhat",
         2014,
         21.48
        ],
        [
         "Benjamin Farhat",
         2016,
         173.24
        ],
        [
         "Benjamin Farhat",
         2017,
         328.37
        ],
        [
         "Benjamin Patterson",
         2014,
         27.56
        ],
        [
         "Benjamin Patterson",
         2015,
         -255.74
        ],
        [
         "Benjamin Patterson",
         2016,
         10.21
        ],
        [
         "Benjamin Patterson",
         2017,
         20.58
        ],
        [
         "Benjamin Venier",
         2015,
         82.28
        ],
        [
         "Benjamin Venier",
         2016,
         127.01
        ],
        [
         "Benjamin Venier",
         2017,
         105.94
        ],
        [
         "Berenike Kampe",
         2014,
         -129.02
        ],
        [
         "Berenike Kampe",
         2015,
         42.04
        ],
        [
         "Berenike Kampe",
         2016,
         2.23
        ],
        [
         "Berenike Kampe",
         2017,
         21.45
        ],
        [
         "Beth Fritzler",
         2014,
         -12.12
        ],
        [
         "Beth Fritzler",
         2017,
         38.0
        ],
        [
         "Beth Paige",
         2014,
         -70.1
        ],
        [
         "Beth Paige",
         2016,
         -65.75
        ],
        [
         "Beth Paige",
         2017,
         -183.0
        ],
        [
         "Beth Thompson",
         2014,
         290.89
        ],
        [
         "Beth Thompson",
         2015,
         87.46
        ],
        [
         "Beth Thompson",
         2017,
         39.23
        ],
        [
         "Bil Donatelli",
         2015,
         799.49
        ],
        [
         "Bil Donatelli",
         2016,
         97.23
        ],
        [
         "Bil Donatelli",
         2017,
         197.79
        ],
        [
         "Bil Eplett",
         2016,
         47.24
        ],
        [
         "Bil Eplett",
         2017,
         1440.55
        ],
        [
         "Bil Overfelt",
         2016,
         358.03
        ],
        [
         "Bil Overfelt",
         2017,
         -79.6
        ],
        [
         "Bil Shonely",
         2014,
         210.7
        ],
        [
         "Bil Shonely",
         2016,
         2405.71
        ],
        [
         "Bil Stewart",
         2014,
         3.95
        ],
        [
         "Bil Stewart",
         2015,
         206.62
        ],
        [
         "Bil Stewart",
         2017,
         -228.1
        ],
        [
         "Bil Tyler",
         2014,
         74.81
        ],
        [
         "Bil Tyler",
         2015,
         194.73
        ],
        [
         "Bil Tyler",
         2016,
         3.35
        ],
        [
         "Bil Tyler",
         2017,
         -14.99
        ],
        [
         "Bobby Elias",
         2016,
         577.2
        ],
        [
         "Bobby Elias",
         2017,
         178.71
        ],
        [
         "Bobby Odegard",
         2015,
         2.07
        ],
        [
         "Bobby Odegard",
         2017,
         57.39
        ],
        [
         "Bobby Trafton",
         2014,
         -5.37
        ],
        [
         "Bobby Trafton",
         2016,
         -71.9
        ],
        [
         "Brad Eason",
         2015,
         120.21
        ],
        [
         "Brad Eason",
         2016,
         71.07
        ],
        [
         "Brad Eason",
         2017,
         -52.07
        ],
        [
         "Brad Norvell",
         2014,
         24.68
        ],
        [
         "Brad Norvell",
         2015,
         4.09
        ],
        [
         "Brad Norvell",
         2017,
         7.84
        ],
        [
         "Brad Thomas",
         2015,
         117.39
        ],
        [
         "Brad Thomas",
         2016,
         9.48
        ],
        [
         "Bradley Drucker",
         2014,
         309.08
        ],
        [
         "Bradley Drucker",
         2015,
         70.98
        ],
        [
         "Bradley Drucker",
         2017,
         762.06
        ],
        [
         "Bradley Nguyen",
         2014,
         185.37
        ],
        [
         "Bradley Nguyen",
         2016,
         112.78
        ],
        [
         "Bradley Nguyen",
         2017,
         42.57
        ],
        [
         "Bradley Talbott",
         2014,
         66.77
        ],
        [
         "Bradley Talbott",
         2016,
         -4.38
        ],
        [
         "Bradley Talbott",
         2017,
         347.1
        ],
        [
         "Brenda Bowman",
         2015,
         -77.85
        ],
        [
         "Brenda Bowman",
         2016,
         431.81
        ],
        [
         "Brenda Bowman",
         2017,
         660.69
        ],
        [
         "Brendan Dodson",
         2015,
         36.47
        ],
        [
         "Brendan Dodson",
         2017,
         80.24
        ],
        [
         "Brendan Murry",
         2015,
         37.33
        ],
        [
         "Brendan Murry",
         2016,
         109.44
        ],
        [
         "Brendan Murry",
         2017,
         -51.19
        ],
        [
         "Brendan Sweed",
         2014,
         97.46
        ],
        [
         "Brendan Sweed",
         2015,
         103.1
        ],
        [
         "Brendan Sweed",
         2016,
         12.36
        ],
        [
         "Brendan Sweed",
         2017,
         168.47
        ],
        [
         "Brian Dahlen",
         2014,
         342.92
        ],
        [
         "Brian Dahlen",
         2015,
         79.41
        ],
        [
         "Brian Dahlen",
         2016,
         124.51
        ],
        [
         "Brian Dahlen",
         2017,
         87.99
        ],
        [
         "Brian DeCherney",
         2014,
         108.74
        ],
        [
         "Brian DeCherney",
         2016,
         20.18
        ],
        [
         "Brian DeCherney",
         2017,
         78.1
        ],
        [
         "Brian Derr",
         2014,
         11.49
        ],
        [
         "Brian Derr",
         2015,
         102.25
        ],
        [
         "Brian Derr",
         2017,
         27.69
        ],
        [
         "Brian Moss",
         2014,
         81.65
        ],
        [
         "Brian Moss",
         2015,
         181.48
        ],
        [
         "Brian Moss",
         2016,
         -2.03
        ],
        [
         "Brian Moss",
         2017,
         1937.73
        ],
        [
         "Brian Stugart",
         2014,
         1.08
        ],
        [
         "Brian Stugart",
         2015,
         175.39
        ],
        [
         "Brian Stugart",
         2016,
         62.26
        ],
        [
         "Brian Thompson",
         2014,
         -199.77
        ],
        [
         "Brian Thompson",
         2015,
         435.64
        ],
        [
         "Brian Thompson",
         2016,
         176.51
        ],
        [
         "Brian Thompson",
         2017,
         35.43
        ],
        [
         "Brooke Gillingham",
         2014,
         9.7
        ],
        [
         "Brooke Gillingham",
         2015,
         28.31
        ],
        [
         "Brooke Gillingham",
         2016,
         57.92
        ],
        [
         "Brooke Gillingham",
         2017,
         11.66
        ],
        [
         "Brosina Hoffman",
         2014,
         235.35
        ],
        [
         "Brosina Hoffman",
         2015,
         5.84
        ],
        [
         "Brosina Hoffman",
         2016,
         428.93
        ],
        [
         "Brosina Hoffman",
         2017,
         119.51
        ],
        [
         "Bruce Degenhardt",
         2015,
         149.49
        ],
        [
         "Bruce Degenhardt",
         2016,
         18.0
        ],
        [
         "Bruce Degenhardt",
         2017,
         166.98
        ],
        [
         "Bruce Geld",
         2014,
         3.22
        ],
        [
         "Bruce Geld",
         2015,
         15.07
        ],
        [
         "Bruce Geld",
         2016,
         59.3
        ],
        [
         "Bruce Geld",
         2017,
         41.76
        ],
        [
         "Bruce Stewart",
         2014,
         -330.55
        ],
        [
         "Bruce Stewart",
         2015,
         18.45
        ],
        [
         "Bruce Stewart",
         2016,
         82.95
        ],
        [
         "Bruce Stewart",
         2017,
         115.84
        ],
        [
         "Bryan Davis",
         2016,
         110.7
        ],
        [
         "Bryan Davis",
         2017,
         30.58
        ],
        [
         "Bryan Mills",
         2014,
         114.1
        ],
        [
         "Bryan Mills",
         2015,
         -39.67
        ],
        [
         "Bryan Mills",
         2016,
         56.37
        ],
        [
         "Bryan Mills",
         2017,
         6.92
        ],
        [
         "Bryan Spruell",
         2015,
         77.11
        ],
        [
         "Bryan Spruell",
         2017,
         116.94
        ],
        [
         "Candace McMahon",
         2014,
         25.23
        ],
        [
         "Candace McMahon",
         2016,
         3.69
        ],
        [
         "Candace McMahon",
         2017,
         185.93
        ],
        [
         "Cari Sayre",
         2014,
         -13.9
        ],
        [
         "Cari Sayre",
         2015,
         -5.73
        ],
        [
         "Cari Sayre",
         2017,
         205.18
        ],
        [
         "Cari Schnelling",
         2014,
         93.74
        ],
        [
         "Cari Schnelling",
         2015,
         -2.84
        ],
        [
         "Cari Schnelling",
         2017,
         14.92
        ],
        [
         "Carl Jackson",
         2016,
         1.65
        ],
        [
         "Carl Ludwig",
         2014,
         -29.34
        ],
        [
         "Carl Ludwig",
         2016,
         4.35
        ],
        [
         "Carl Ludwig",
         2017,
         353.07
        ],
        [
         "Carl Weiss",
         2014,
         17.16
        ],
        [
         "Carl Weiss",
         2015,
         21.11
        ],
        [
         "Carl Weiss",
         2016,
         22.77
        ],
        [
         "Carl Weiss",
         2017,
         309.8
        ],
        [
         "Carlos Daly",
         2014,
         11.7
        ],
        [
         "Carlos Daly",
         2015,
         17.75
        ],
        [
         "Carlos Daly",
         2016,
         46.94
        ],
        [
         "Carlos Daly",
         2017,
         349.82
        ],
        [
         "Carlos Meador",
         2015,
         13.17
        ],
        [
         "Carlos Meador",
         2016,
         -56.9
        ],
        [
         "Carlos Soltero",
         2014,
         -88.07
        ],
        [
         "Carlos Soltero",
         2015,
         16.46
        ],
        [
         "Carlos Soltero",
         2016,
         -131.21
        ],
        [
         "Carlos Soltero",
         2017,
         76.2
        ],
        [
         "Carol Adams",
         2014,
         44.77
        ],
        [
         "Carol Adams",
         2015,
         182.16
        ],
        [
         "Carol Adams",
         2016,
         899.98
        ],
        [
         "Carol Adams",
         2017,
         16.48
        ],
        [
         "Carol Darley",
         2016,
         7.75
        ],
        [
         "Carol Darley",
         2017,
         -214.46
        ],
        [
         "Carol Triggs",
         2014,
         285.45
        ],
        [
         "Carol Triggs",
         2015,
         19.45
        ],
        [
         "Carol Triggs",
         2016,
         -303.26
        ],
        [
         "Carol Triggs",
         2017,
         159.26
        ],
        [
         "Caroline Jumper",
         2016,
         1382.97
        ],
        [
         "Caroline Jumper",
         2017,
         -524.22
        ],
        [
         "Cassandra Brandow",
         2014,
         5.27
        ],
        [
         "Cassandra Brandow",
         2015,
         223.45
        ],
        [
         "Cassandra Brandow",
         2016,
         161.25
        ],
        [
         "Cassandra Brandow",
         2017,
         -239.46
        ],
        [
         "Catherine Glotzbach",
         2015,
         5.76
        ],
        [
         "Catherine Glotzbach",
         2016,
         58.68
        ],
        [
         "Catherine Glotzbach",
         2017,
         21.87
        ],
        [
         "Cathy Hwang",
         2015,
         57.39
        ],
        [
         "Cathy Hwang",
         2016,
         126.9
        ],
        [
         "Cathy Prescott",
         2014,
         62.39
        ],
        [
         "Cathy Prescott",
         2015,
         102.44
        ],
        [
         "Cathy Prescott",
         2016,
         31.54
        ],
        [
         "Cathy Prescott",
         2017,
         230.57
        ],
        [
         "Chad Cunningham",
         2014,
         142.85
        ],
        [
         "Chad Cunningham",
         2015,
         77.45
        ],
        [
         "Chad Cunningham",
         2016,
         -11.7
        ],
        [
         "Chad McGuire",
         2015,
         8.11
        ],
        [
         "Chad McGuire",
         2017,
         400.47
        ],
        [
         "Chad Sievert",
         2014,
         84.36
        ],
        [
         "Chad Sievert",
         2015,
         45.72
        ],
        [
         "Chad Sievert",
         2016,
         13.75
        ],
        [
         "Charles Crestani",
         2014,
         78.74
        ],
        [
         "Charles Crestani",
         2015,
         297.36
        ],
        [
         "Charles Crestani",
         2016,
         7.86
        ],
        [
         "Charles Crestani",
         2017,
         8.33
        ],
        [
         "Charles McCrossin",
         2016,
         -315.75
        ],
        [
         "Charles McCrossin",
         2017,
         -78.62
        ],
        [
         "Charles Sheldon",
         2014,
         98.11
        ],
        [
         "Charles Sheldon",
         2016,
         18.35
        ],
        [
         "Charles Sheldon",
         2017,
         -3.31
        ],
        [
         "Charlotte Melton",
         2015,
         16.89
        ],
        [
         "Charlotte Melton",
         2017,
         74.32
        ],
        [
         "Chloris Kastensmidt",
         2014,
         82.99
        ],
        [
         "Chloris Kastensmidt",
         2015,
         5.53
        ],
        [
         "Chloris Kastensmidt",
         2016,
         -128.01
        ],
        [
         "Chloris Kastensmidt",
         2017,
         181.08
        ],
        [
         "Chris Cortes",
         2014,
         12.41
        ],
        [
         "Chris Cortes",
         2015,
         21.01
        ],
        [
         "Chris Cortes",
         2016,
         -33.05
        ],
        [
         "Chris Cortes",
         2017,
         393.6
        ],
        [
         "Chris McAfee",
         2016,
         365.03
        ],
        [
         "Chris Selesnick",
         2014,
         446.75
        ],
        [
         "Chris Selesnick",
         2015,
         95.26
        ],
        [
         "Chris Selesnick",
         2016,
         22.14
        ],
        [
         "Chris Selesnick",
         2017,
         174.26
        ],
        [
         "Christina Anderson",
         2014,
         16.97
        ],
        [
         "Christina Anderson",
         2015,
         118.66
        ],
        [
         "Christina Anderson",
         2016,
         24.6
        ],
        [
         "Christina Anderson",
         2017,
         119.67
        ],
        [
         "Christina DeMoss",
         2017,
         233.48
        ],
        [
         "Christina VanderZanden",
         2014,
         163.49
        ],
        [
         "Christina VanderZanden",
         2016,
         51.98
        ],
        [
         "Christina VanderZanden",
         2017,
         277.62
        ],
        [
         "Christine Abelman",
         2014,
         101.4
        ],
        [
         "Christine Abelman",
         2016,
         2.1
        ],
        [
         "Christine Abelman",
         2017,
         143.36
        ],
        [
         "Christine Kargatis",
         2014,
         326.42
        ],
        [
         "Christine Kargatis",
         2016,
         59.08
        ],
        [
         "Christine Kargatis",
         2017,
         -124.27
        ],
        [
         "Christine Phan",
         2014,
         -1031.67
        ],
        [
         "Christine Phan",
         2015,
         -1044.46
        ],
        [
         "Christine Phan",
         2016,
         242.84
        ],
        [
         "Christine Phan",
         2017,
         -17.02
        ],
        [
         "Christine Sundaresam",
         2014,
         77.03
        ],
        [
         "Christine Sundaresam",
         2015,
         288.11
        ],
        [
         "Christine Sundaresam",
         2016,
         10.32
        ],
        [
         "Christine Sundaresam",
         2017,
         456.48
        ],
        [
         "Christopher Conant",
         2016,
         2083.34
        ],
        [
         "Christopher Conant",
         2017,
         93.73
        ],
        [
         "Christopher Martinez",
         2015,
         3197.78
        ],
        [
         "Christopher Martinez",
         2017,
         702.26
        ],
        [
         "Christopher Schild",
         2014,
         80.63
        ],
        [
         "Christopher Schild",
         2015,
         75.7
        ],
        [
         "Christopher Schild",
         2016,
         -114.17
        ],
        [
         "Christopher Schild",
         2017,
         -384.96
        ],
        [
         "Christy Brittain",
         2015,
         -3.49
        ],
        [
         "Christy Brittain",
         2016,
         201.66
        ],
        [
         "Christy Brittain",
         2017,
         74.23
        ],
        [
         "Chuck Clark",
         2015,
         60.39
        ],
        [
         "Chuck Clark",
         2016,
         255.32
        ],
        [
         "Chuck Clark",
         2017,
         108.97
        ],
        [
         "Chuck Magee",
         2014,
         10.78
        ],
        [
         "Chuck Magee",
         2016,
         53.19
        ],
        [
         "Chuck Sachs",
         2017,
         156.27
        ],
        [
         "Cindy Chapman",
         2014,
         3.38
        ],
        [
         "Cindy Chapman",
         2016,
         111.12
        ],
        [
         "Cindy Chapman",
         2017,
         40.35
        ],
        [
         "Cindy Schnelling",
         2015,
         -58.13
        ],
        [
         "Cindy Schnelling",
         2016,
         -244.73
        ],
        [
         "Cindy Stewart",
         2014,
         9.0
        ],
        [
         "Cindy Stewart",
         2015,
         17.34
        ],
        [
         "Cindy Stewart",
         2016,
         -6696.29
        ],
        [
         "Cindy Stewart",
         2017,
         43.71
        ],
        [
         "Claire Gute",
         2015,
         -93.38
        ],
        [
         "Claire Gute",
         2016,
         261.49
        ],
        [
         "Claire Gute",
         2017,
         1.82
        ],
        [
         "Claudia Bergmann",
         2015,
         249.13
        ],
        [
         "Claudia Bergmann",
         2016,
         458.64
        ],
        [
         "Claudia Bergmann",
         2017,
         341.51
        ],
        [
         "Clay Cheatham",
         2017,
         34.3
        ],
        [
         "Clay Ludtke",
         2014,
         199.77
        ],
        [
         "Clay Ludtke",
         2015,
         490.37
        ],
        [
         "Clay Ludtke",
         2016,
         713.45
        ],
        [
         "Clay Ludtke",
         2017,
         529.6
        ],
        [
         "Clay Rozendal",
         2016,
         -34.4
        ],
        [
         "Clay Rozendal",
         2017,
         108.8
        ],
        [
         "Clytie Kelty",
         2014,
         1.23
        ],
        [
         "Clytie Kelty",
         2015,
         -36.93
        ],
        [
         "Clytie Kelty",
         2016,
         315.73
        ],
        [
         "Clytie Kelty",
         2017,
         211.09
        ],
        [
         "Corey Catlett",
         2014,
         481.45
        ],
        [
         "Corey Catlett",
         2015,
         18.31
        ],
        [
         "Corey Catlett",
         2016,
         -202.27
        ],
        [
         "Corey Catlett",
         2017,
         33.78
        ],
        [
         "Corey Roper",
         2014,
         114.4
        ],
        [
         "Corey Roper",
         2016,
         30.45
        ],
        [
         "CoreyLock",
         2014,
         142.68
        ],
        [
         "CoreyLock",
         2015,
         44.03
        ],
        [
         "CoreyLock",
         2016,
         19.19
        ],
        [
         "Corinna Mitchell",
         2015,
         116.62
        ],
        [
         "Corinna Mitchell",
         2016,
         599.89
        ],
        [
         "Corinna Mitchell",
         2017,
         855.93
        ],
        [
         "Craig Carreira",
         2014,
         11.3
        ],
        [
         "Craig Carreira",
         2015,
         8.57
        ],
        [
         "Craig Carreira",
         2016,
         53.66
        ],
        [
         "Craig Carreira",
         2017,
         114.35
        ],
        [
         "Craig Carroll",
         2014,
         -45.32
        ],
        [
         "Craig Carroll",
         2015,
         895.35
        ],
        [
         "Craig Leslie",
         2016,
         64.09
        ],
        [
         "Craig Leslie",
         2017,
         164.91
        ],
        [
         "Craig Molinari",
         2014,
         206.22
        ],
        [
         "Craig Molinari",
         2015,
         -29.9
        ],
        [
         "Craig Reiter",
         2014,
         -6.02
        ],
        [
         "Craig Reiter",
         2016,
         59.57
        ],
        [
         "Craig Reiter",
         2017,
         253.37
        ],
        [
         "Craig Yedwab",
         2014,
         -336.63
        ],
        [
         "Craig Yedwab",
         2015,
         107.0
        ],
        [
         "Craig Yedwab",
         2016,
         49.73
        ],
        [
         "Craig Yedwab",
         2017,
         240.54
        ],
        [
         "Cthy Armstrong",
         2015,
         -47.73
        ],
        [
         "Cthy Armstrong",
         2016,
         259.37
        ],
        [
         "Customer Name Unavailable",
         2014,
         484.65
        ],
        [
         "Customer Name Unavailable",
         2015,
         2096.23
        ],
        [
         "Customer Name Unavailable",
         2016,
         282.98
        ],
        [
         "Customer Name Unavailable",
         2017,
         262.96
        ],
        [
         "Cyma Kinney",
         2014,
         66.59
        ],
        [
         "Cyma Kinney",
         2015,
         14.5
        ],
        [
         "Cyma Kinney",
         2016,
         101.86
        ],
        [
         "Cyma Kinney",
         2017,
         -521.39
        ],
        [
         "Cynthia Arntzen",
         2014,
         111.79
        ],
        [
         "Cynthia Arntzen",
         2015,
         -101.6
        ],
        [
         "Cynthia Arntzen",
         2016,
         1.67
        ],
        [
         "Cynthia Arntzen",
         2017,
         191.87
        ],
        [
         "Cynthia Delaney",
         2014,
         40.21
        ],
        [
         "Cynthia Delaney",
         2015,
         2.53
        ],
        [
         "Cynthia Delaney",
         2016,
         346.71
        ],
        [
         "Cynthia Voltz",
         2016,
         -35.39
        ],
        [
         "Cynthia Voltz",
         2017,
         134.09
        ],
        [
         "Cyra Reiten",
         2015,
         2.13
        ],
        [
         "Cyra Reiten",
         2017,
         81.14
        ],
        [
         "Damala Kotsonis",
         2014,
         -22.36
        ],
        [
         "Damala Kotsonis",
         2015,
         369.26
        ],
        [
         "Damala Kotsonis",
         2016,
         185.34
        ],
        [
         "Damala Kotsonis",
         2017,
         349.28
        ],
        [
         "Dan Campbell",
         2014,
         -77.87
        ],
        [
         "Dan Campbell",
         2015,
         4.89
        ],
        [
         "Dan Campbell",
         2016,
         -239.55
        ],
        [
         "Dan Campbell",
         2017,
         -1128.75
        ],
        [
         "Dan Lawera",
         2014,
         7.73
        ],
        [
         "Dan Lawera",
         2015,
         9.04
        ],
        [
         "Dan Lawera",
         2016,
         311.98
        ],
        [
         "Dan Lawera",
         2017,
         -6.9
        ],
        [
         "Dan Reichenbach",
         2015,
         428.64
        ],
        [
         "Dan Reichenbach",
         2016,
         126.06
        ],
        [
         "Dan Reichenbach",
         2017,
         1086.84
        ],
        [
         "Dana Kaydos",
         2015,
         609.59
        ],
        [
         "Dana Kaydos",
         2017,
         316.38
        ],
        [
         "Daniel Byrd",
         2014,
         3.63
        ],
        [
         "Daniel Byrd",
         2016,
         146.83
        ],
        [
         "Daniel Byrd",
         2017,
         280.92
        ],
        [
         "Daniel Lacy",
         2014,
         -324.87
        ],
        [
         "Daniel Lacy",
         2015,
         304.39
        ],
        [
         "Daniel Lacy",
         2017,
         24.87
        ],
        [
         "Daniel Raglin",
         2014,
         22.68
        ],
        [
         "Daniel Raglin",
         2015,
         296.67
        ],
        [
         "Daniel Raglin",
         2016,
         2337.76
        ],
        [
         "Daniel Raglin",
         2017,
         211.97
        ],
        [
         "Dario Medina",
         2014,
         58.4
        ],
        [
         "Dario Medina",
         2015,
         42.96
        ],
        [
         "Dario Medina",
         2016,
         0.26
        ],
        [
         "Dario Medina",
         2017,
         7.14
        ],
        [
         "Darren Budd",
         2014,
         17.78
        ],
        [
         "Darren Budd",
         2015,
         45.65
        ],
        [
         "Darren Budd",
         2016,
         84.3
        ],
        [
         "Darren Budd",
         2017,
         64.81
        ],
        [
         "Darren Koutras",
         2014,
         -8.08
        ],
        [
         "Darren Koutras",
         2015,
         -76.43
        ],
        [
         "Darren Koutras",
         2017,
         -22.94
        ],
        [
         "Darren Powers",
         2014,
         24.24
        ],
        [
         "Darren Powers",
         2015,
         260.74
        ],
        [
         "Darren Powers",
         2016,
         4.88
        ],
        [
         "Darren Powers",
         2017,
         -48.17
        ],
        [
         "Darrin Martin",
         2014,
         1600.06
        ],
        [
         "Darrin Martin",
         2015,
         6.6
        ],
        [
         "Darrin Martin",
         2016,
         -35.45
        ],
        [
         "Darrin Martin",
         2017,
         106.77
        ],
        [
         "Darrin Sayre",
         2014,
         29.47
        ],
        [
         "Darrin Sayre",
         2017,
         164.31
        ],
        [
         "Darrin Van Huff",
         2016,
         17.48
        ],
        [
         "Darrin Van Huff",
         2017,
         -445.11
        ],
        [
         "Dave Brooks",
         2014,
         409.76
        ],
        [
         "Dave Brooks",
         2016,
         294.18
        ],
        [
         "Dave Brooks",
         2017,
         -231.31
        ],
        [
         "Dave Hallsten",
         2014,
         323.13
        ],
        [
         "Dave Hallsten",
         2015,
         783.24
        ],
        [
         "Dave Hallsten",
         2016,
         -19.6
        ],
        [
         "Dave Hallsten",
         2017,
         106.98
        ],
        [
         "Dave Kipp",
         2015,
         173.71
        ],
        [
         "Dave Kipp",
         2016,
         -38.31
        ],
        [
         "Dave Kipp",
         2017,
         400.99
        ],
        [
         "Dave Poirier",
         2015,
         16.29
        ],
        [
         "Dave Poirier",
         2016,
         486.12
        ],
        [
         "Dave Poirier",
         2017,
         60.54
        ],
        [
         "David Bremer",
         2015,
         -285.06
        ],
        [
         "David Bremer",
         2017,
         -1136.72
        ],
        [
         "David Flashing",
         2014,
         37.88
        ],
        [
         "David Flashing",
         2015,
         99.94
        ],
        [
         "David Flashing",
         2016,
         -397.13
        ],
        [
         "David Klendrick",
         2014,
         78.5
        ],
        [
         "David Klendrick",
         2017,
         171.77
        ],
        [
         "David Philippe",
         2014,
         -41.94
        ],
        [
         "David Philippe",
         2015,
         1.0
        ],
        [
         "David Smith",
         2014,
         57.59
        ],
        [
         "David Smith",
         2015,
         182.58
        ],
        [
         "David Smith",
         2016,
         -46.95
        ],
        [
         "David Smith",
         2017,
         -29.56
        ],
        [
         "David Wiener",
         2014,
         55.47
        ],
        [
         "David Wiener",
         2016,
         -34.16
        ],
        [
         "David Wiener",
         2017,
         -108.28
        ],
        [
         "Dean Braden",
         2015,
         -41.79
        ],
        [
         "Dean Braden",
         2016,
         -66.47
        ],
        [
         "Dean Braden",
         2017,
         277.97
        ],
        [
         "Dean Katz",
         2014,
         6.0
        ],
        [
         "Dean Katz",
         2015,
         -339.65
        ],
        [
         "Dean Katz",
         2016,
         227.45
        ],
        [
         "Dean Katz",
         2017,
         316.47
        ],
        [
         "DeanperceR",
         2014,
         100.92
        ],
        [
         "DeanperceR",
         2015,
         1145.83
        ],
        [
         "DeanperceR",
         2016,
         117.74
        ],
        [
         "DeanperceR",
         2017,
         -1031.12
        ],
        [
         "Deborah Brumfield",
         2014,
         45.1
        ],
        [
         "Deborah Brumfield",
         2015,
         1.72
        ],
        [
         "Deborah Brumfield",
         2016,
         810.57
        ],
        [
         "Deborah Brumfield",
         2017,
         -15.55
        ],
        [
         "Debra Catini",
         2014,
         54.8
        ],
        [
         "Debra Catini",
         2015,
         55.75
        ],
        [
         "Debra Catini",
         2016,
         10.47
        ],
        [
         "Debra Catini",
         2017,
         11.06
        ],
        [
         "Deirdre Greer",
         2014,
         22.07
        ],
        [
         "Deirdre Greer",
         2015,
         0.42
        ],
        [
         "Deirdre Greer",
         2016,
         9.33
        ],
        [
         "Deirdre Greer",
         2017,
         530.95
        ],
        [
         "Delfina Latchford",
         2014,
         -11.89
        ],
        [
         "Delfina Latchford",
         2016,
         206.58
        ],
        [
         "Delfina Latchford",
         2017,
         94.23
        ],
        [
         "Denise Leinenbach",
         2014,
         2.1
        ],
        [
         "Denise Leinenbach",
         2015,
         197.99
        ],
        [
         "Denise Leinenbach",
         2016,
         5.22
        ],
        [
         "Denise Leinenbach",
         2017,
         17.38
        ],
        [
         "Denise Monton",
         2014,
         3.71
        ],
        [
         "Denise Monton",
         2015,
         2.84
        ],
        [
         "Denise Monton",
         2016,
         -61.9
        ],
        [
         "Denise Monton",
         2017,
         1374.42
        ],
        [
         "Dennis Bolton",
         2014,
         79.89
        ],
        [
         "Dennis Bolton",
         2015,
         15.61
        ],
        [
         "Dennis Bolton",
         2016,
         81.97
        ],
        [
         "Dennis Bolton",
         2017,
         113.54
        ],
        [
         "Dennis Kane",
         2014,
         109.61
        ],
        [
         "Dennis Kane",
         2015,
         -95.8
        ],
        [
         "Dennis Kane",
         2016,
         360.97
        ],
        [
         "Dennis Kane",
         2017,
         2.65
        ],
        [
         "Dennis Pardue",
         2014,
         83.79
        ],
        [
         "Dennis Pardue",
         2015,
         -223.85
        ],
        [
         "Dennis Pardue",
         2016,
         1694.64
        ],
        [
         "Dennis Pardue",
         2017,
         17.25
        ],
        [
         "Denny Blanton",
         2015,
         266.33
        ],
        [
         "Denny Blanton",
         2017,
         172.59
        ],
        [
         "Denny Joy",
         2014,
         39.77
        ],
        [
         "Denny Joy",
         2015,
         64.99
        ],
        [
         "Denny Joy",
         2016,
         378.27
        ],
        [
         "Denny Ordway",
         2014,
         6.09
        ],
        [
         "Denny Ordway",
         2015,
         -136.09
        ],
        [
         "Denny Ordway",
         2016,
         8.5
        ],
        [
         "Denny Ordway",
         2017,
         83.17
        ],
        [
         "Dianna Arnett",
         2014,
         21.72
        ],
        [
         "Dianna Arnett",
         2017,
         35.07
        ],
        [
         "Dianna Vittorini",
         2014,
         9.72
        ],
        [
         "Dianna Vittorini",
         2015,
         101.77
        ],
        [
         "Dianna Vittorini",
         2016,
         89.95
        ],
        [
         "Dianna Vittorini",
         2017,
         151.65
        ],
        [
         "Dianna Wilson",
         2014,
         1154.67
        ],
        [
         "Dianna Wilson",
         2016,
         31.09
        ],
        [
         "Dianna Wilson",
         2017,
         162.99
        ],
        [
         "Dionis Lloyd",
         2015,
         50.35
        ],
        [
         "Dionis Lloyd",
         2016,
         97.84
        ],
        [
         "Dionis Lloyd",
         2017,
         -200.58
        ],
        [
         "Don Jones",
         2014,
         187.74
        ],
        [
         "Don Jones",
         2016,
         100.2
        ],
        [
         "Don Jones",
         2017,
         57.32
        ],
        [
         "Don Miller",
         2014,
         14.49
        ],
        [
         "Don Miller",
         2015,
         167.54
        ],
        [
         "Don Miller",
         2016,
         18.17
        ],
        [
         "Don Weiss",
         2016,
         16.01
        ],
        [
         "Don Weiss",
         2017,
         53.65
        ],
        [
         "Dorothy Badders",
         2014,
         8.35
        ],
        [
         "Dorothy Badders",
         2017,
         101.29
        ],
        [
         "Dorothy Dickinson",
         2014,
         -8.63
        ],
        [
         "Dorothy Dickinson",
         2016,
         -6.9
        ],
        [
         "Dorothy Dickinson",
         2017,
         51.97
        ],
        [
         "Dorothy Wardle",
         2014,
         6.63
        ],
        [
         "Dorothy Wardle",
         2015,
         -371.25
        ],
        [
         "Dorothy Wardle",
         2016,
         92.61
        ],
        [
         "Dorothy Wardle",
         2017,
         5.11
        ],
        [
         "Dorrisliebe",
         2014,
         29.17
        ],
        [
         "Dorrisliebe",
         2016,
         146.39
        ],
        [
         "Dorrisliebe",
         2017,
         -0.33
        ],
        [
         "Doug Bickford",
         2014,
         13.49
        ],
        [
         "Doug Bickford",
         2015,
         342.08
        ],
        [
         "Doug Bickford",
         2016,
         22.73
        ],
        [
         "Doug Bickford",
         2017,
         60.5
        ],
        [
         "Doug Jacobs",
         2015,
         36.0
        ],
        [
         "Doug Jacobs",
         2016,
         25.78
        ],
        [
         "Doug Jacobs",
         2017,
         669.79
        ],
        [
         "Doug OConnell",
         2015,
         26.82
        ],
        [
         "Doug OConnell",
         2017,
         267.03
        ],
        [
         "Duane Benoit",
         2014,
         31.01
        ],
        [
         "Duane Benoit",
         2015,
         -17.29
        ],
        [
         "Duane Benoit",
         2016,
         -35.22
        ],
        [
         "Duane Benoit",
         2017,
         199.44
        ],
        [
         "Duane Huffman",
         2014,
         87.79
        ],
        [
         "Duane Huffman",
         2015,
         28.89
        ],
        [
         "Duane Noonan",
         2014,
         179.72
        ],
        [
         "Duane Noonan",
         2016,
         222.39
        ],
        [
         "Duane Noonan",
         2017,
         138.42
        ],
        [
         "Ed Braxton",
         2014,
         -127.42
        ],
        [
         "Ed Braxton",
         2015,
         47.96
        ],
        [
         "Ed Braxton",
         2016,
         82.42
        ],
        [
         "Ed Braxton",
         2017,
         10.6
        ],
        [
         "Ed Jacobs",
         2014,
         -7403.61
        ],
        [
         "Ed Jacobs",
         2015,
         15.86
        ],
        [
         "Ed Jacobs",
         2017,
         423.72
        ],
        [
         "Ed Ludwig",
         2016,
         8.66
        ],
        [
         "Ed Ludwig",
         2017,
         18.45
        ],
        [
         "Edward Becker",
         2015,
         177.41
        ],
        [
         "Edward Becker",
         2016,
         139.81
        ],
        [
         "Edward Becker",
         2017,
         -397.51
        ],
        [
         "Edward Hooks",
         2014,
         4.05
        ],
        [
         "Edward Hooks",
         2015,
         224.83
        ],
        [
         "Edward Hooks",
         2016,
         758.8
        ],
        [
         "Edward Hooks",
         2017,
         405.82
        ],
        [
         "Edward Nazzal",
         2015,
         51.27
        ],
        [
         "Edward Nazzal",
         2016,
         438.4
        ],
        [
         "Edward Nazzal",
         2017,
         6.55
        ],
        [
         "Eileen Kiefer",
         2014,
         70.49
        ],
        [
         "Eileen Kiefer",
         2015,
         20.54
        ],
        [
         "Eileen Kiefer",
         2017,
         6.07
        ],
        [
         "Elizabeth Moffitt",
         2014,
         7.99
        ],
        [
         "Elizabeth Moffitt",
         2015,
         238.47
        ],
        [
         "Elizabeth Moffitt",
         2016,
         -8.32
        ],
        [
         "Elizabeth Moffitt",
         2017,
         444.42
        ],
        [
         "Ellis Ballard",
         2014,
         -36.36
        ],
        [
         "Ellis Ballard",
         2015,
         610.86
        ],
        [
         "Ellis Ballard",
         2016,
         0.0
        ],
        [
         "Ellis Ballard",
         2017,
         81.7
        ],
        [
         "Elpida Rittenbach",
         2015,
         4.57
        ],
        [
         "Elpida Rittenbach",
         2016,
         -299.9
        ],
        [
         "Emily Burns",
         2014,
         16.02
        ],
        [
         "Emily Burns",
         2015,
         242.3
        ],
        [
         "Emily Burns",
         2016,
         84.07
        ],
        [
         "Emily Burns",
         2017,
         -80.44
        ],
        [
         "Emily Grady",
         2015,
         55.0
        ],
        [
         "Emily Grady",
         2016,
         46.31
        ],
        [
         "Emily Grady",
         2017,
         2.59
        ],
        [
         "Emily Phan",
         2014,
         175.0
        ],
        [
         "Emily Phan",
         2015,
         361.2
        ],
        [
         "Emily Phan",
         2016,
         -393.66
        ],
        [
         "Emily Phan",
         2017,
         2.6
        ],
        [
         "Eric Barreto",
         2014,
         1.35
        ],
        [
         "Eric Barreto",
         2016,
         74.27
        ],
        [
         "Eric Barreto",
         2017,
         -75.19
        ],
        [
         "Eric Hoffmann",
         2014,
         22.15
        ],
        [
         "Eric Hoffmann",
         2015,
         10.62
        ],
        [
         "Eric Hoffmann",
         2016,
         -13.38
        ],
        [
         "Eric Hoffmann",
         2017,
         34.4
        ],
        [
         "Eric Murdock",
         2015,
         51.93
        ],
        [
         "Eric Murdock",
         2017,
         50.37
        ],
        [
         "Erica Bern",
         2016,
         151.89
        ],
        [
         "Erica Bern",
         2017,
         11.0
        ],
        [
         "Erica Hackney",
         2014,
         54.09
        ],
        [
         "Erica Hackney",
         2015,
         28.38
        ],
        [
         "Erica Hackney",
         2016,
         67.9
        ],
        [
         "Erica Hernandez",
         2014,
         -248.96
        ],
        [
         "Erica Hernandez",
         2016,
         9.95
        ],
        [
         "Erica Hernandez",
         2017,
         144.29
        ],
        [
         "Erica Smith",
         2014,
         15.22
        ],
        [
         "Erica Smith",
         2015,
         44.05
        ],
        [
         "Erica Smith",
         2016,
         71.99
        ],
        [
         "Erica Smith",
         2017,
         871.82
        ],
        [
         "Erin Ashbrook",
         2014,
         -53.44
        ],
        [
         "Erin Ashbrook",
         2015,
         321.74
        ],
        [
         "Erin Ashbrook",
         2016,
         -342.69
        ],
        [
         "Erin Ashbrook",
         2017,
         21.83
        ],
        [
         "Erin Creighton",
         2014,
         -4.02
        ],
        [
         "Erin Creighton",
         2016,
         43.09
        ],
        [
         "Erin Creighton",
         2017,
         57.37
        ],
        [
         "Erin Mull",
         2014,
         59.26
        ],
        [
         "Erin Mull",
         2016,
         -4.79
        ],
        [
         "Erin Mull",
         2017,
         -14.44
        ],
        [
         "Erin Smith",
         2014,
         134.03
        ],
        [
         "Erin Smith",
         2015,
         -27.16
        ],
        [
         "Erin Smith",
         2016,
         -99.22
        ],
        [
         "Erin Smith",
         2017,
         239.29
        ],
        [
         "Eudokia Martin",
         2015,
         192.67
        ],
        [
         "Eudokia Martin",
         2016,
         30.63
        ],
        [
         "Eudokia Martin",
         2017,
         16.93
        ],
        [
         "Eugene Barchas",
         2015,
         44.54
        ],
        [
         "Eugene Barchas",
         2016,
         187.62
        ],
        [
         "Eugene Barchas",
         2017,
         -47.4
        ],
        [
         "Eugene Hildebrand",
         2014,
         20.1
        ],
        [
         "Eugene Hildebrand",
         2015,
         -117.87
        ],
        [
         "Eugene Hildebrand",
         2016,
         -71.64
        ],
        [
         "Eugene Hildebrand",
         2017,
         265.62
        ],
        [
         "Eugene Moren",
         2014,
         2.21
        ],
        [
         "Eugene Moren",
         2015,
         271.41
        ],
        [
         "Eugene Moren",
         2016,
         968.57
        ],
        [
         "Eugene Moren",
         2017,
         76.76
        ],
        [
         "Eva Jacobs",
         2014,
         -23.49
        ],
        [
         "Eva Jacobs",
         2016,
         335.35
        ],
        [
         "Eva Jacobs",
         2017,
         140.02
        ],
        [
         "Evan Bailliet",
         2014,
         155.02
        ],
        [
         "Evan Bailliet",
         2015,
         119.43
        ],
        [
         "Evan Bailliet",
         2016,
         4.44
        ],
        [
         "Evan Bailliet",
         2017,
         3.52
        ],
        [
         "Evan Henry",
         2014,
         26.43
        ],
        [
         "Evan Henry",
         2016,
         209.28
        ],
        [
         "Evan Henry",
         2017,
         6.42
        ],
        [
         "Evan Minnotte",
         2015,
         4.0
        ],
        [
         "Evan Minnotte",
         2017,
         17.83
        ],
        [
         "Filia McAdams",
         2014,
         228.77
        ],
        [
         "Filia McAdams",
         2016,
         45.93
        ],
        [
         "Filia McAdams",
         2017,
         -24.75
        ],
        [
         "Frank Atkinson",
         2014,
         3.58
        ],
        [
         "Frank Atkinson",
         2015,
         224.56
        ],
        [
         "Frank Atkinson",
         2016,
         39.81
        ],
        [
         "Frank Atkinson",
         2017,
         252.38
        ],
        [
         "Frank Carlisle",
         2015,
         35.53
        ],
        [
         "Frank Carlisle",
         2016,
         972.25
        ],
        [
         "Frank Carlisle",
         2017,
         209.4
        ],
        [
         "Frank Gastineau",
         2014,
         314.52
        ],
        [
         "Frank Gastineau",
         2017,
         80.43
        ],
        [
         "Frank Hawley",
         2014,
         297.18
        ],
        [
         "Frank Hawley",
         2016,
         166.29
        ],
        [
         "Frank Hawley",
         2017,
         12936.86
        ],
        [
         "Frank Merwin",
         2014,
         22.98
        ],
        [
         "Frank Merwin",
         2015,
         1.03
        ],
        [
         "Frank Merwin",
         2016,
         -356.98
        ],
        [
         "Frank Merwin",
         2017,
         530.86
        ],
        [
         "Frank Olsen",
         2014,
         245.02
        ],
        [
         "Frank Olsen",
         2015,
         18.99
        ],
        [
         "Frank Olsen",
         2016,
         22.56
        ],
        [
         "Frank Olsen",
         2017,
         -70.98
        ],
        [
         "Frank Preis",
         2014,
         138.01
        ],
        [
         "Frank Preis",
         2015,
         -140.57
        ],
        [
         "Frank Preis",
         2016,
         359.7
        ],
        [
         "Frank Preis",
         2017,
         49.32
        ],
        [
         "Fred Chung",
         2014,
         112.57
        ],
        [
         "Fred Chung",
         2015,
         12.6
        ],
        [
         "Fred Chung",
         2016,
         86.15
        ],
        [
         "Fred Chung",
         2017,
         502.97
        ],
        [
         "Fred Harton",
         2015,
         365.68
        ],
        [
         "Fred Harton",
         2017,
         340.37
        ],
        [
         "Fred Hopkins",
         2014,
         -172.46
        ],
        [
         "Fred Hopkins",
         2015,
         2139.74
        ],
        [
         "Fred Hopkins",
         2016,
         6.91
        ],
        [
         "Fred Hopkins",
         2017,
         76.82
        ],
        [
         "Fred McMath",
         2015,
         17.48
        ],
        [
         "Fred McMath",
         2016,
         134.91
        ],
        [
         "Fred McMath",
         2017,
         38.7
        ],
        [
         "Fred Waerman",
         2015,
         5.48
        ],
        [
         "Fred Waerman",
         2016,
         12.21
        ],
        [
         "Fred Waerman",
         2017,
         5.81
        ],
        [
         "Gary Hansen",
         2014,
         53.34
        ],
        [
         "Gary Hansen",
         2015,
         38.97
        ],
        [
         "Gary Hansen",
         2016,
         -173.08
        ],
        [
         "Gary Hansen",
         2017,
         -496.24
        ],
        [
         "Gary Hwang",
         2014,
         1073.14
        ],
        [
         "Gary Hwang",
         2015,
         59.65
        ],
        [
         "Gary Hwang",
         2017,
         43.6
        ],
        [
         "Gary McGarr",
         2014,
         202.78
        ],
        [
         "Gary McGarr",
         2016,
         108.18
        ],
        [
         "Gary McGarr",
         2017,
         36.31
        ],
        [
         "Gary Mitchum",
         2014,
         316.15
        ],
        [
         "Gary Mitchum",
         2016,
         102.52
        ],
        [
         "Gary Mitchum",
         2017,
         374.62
        ],
        [
         "Gary Zandusky",
         2014,
         50.43
        ],
        [
         "Gary Zandusky",
         2015,
         126.31
        ],
        [
         "Gary Zandusky",
         2016,
         652.32
        ],
        [
         "Gary Zandusky",
         2017,
         259.1
        ],
        [
         "Gene Hale",
         2015,
         -71.0
        ],
        [
         "Gene Hale",
         2016,
         -24.49
        ],
        [
         "Gene McClure",
         2014,
         2.69
        ],
        [
         "Gene McClure",
         2015,
         359.46
        ],
        [
         "Gene McClure",
         2016,
         17.57
        ],
        [
         "Gene McClure",
         2017,
         61.6
        ],
        [
         "George Ashbrook",
         2014,
         22.41
        ],
        [
         "George Ashbrook",
         2015,
         625.85
        ],
        [
         "George Ashbrook",
         2016,
         53.56
        ],
        [
         "George Ashbrook",
         2017,
         139.07
        ],
        [
         "George Bell",
         2014,
         -33.19
        ],
        [
         "George Bell",
         2015,
         74.29
        ],
        [
         "George Bell",
         2016,
         -77.54
        ],
        [
         "George Bell",
         2017,
         44.29
        ],
        [
         "George Zrebassa",
         2014,
         12.0
        ],
        [
         "George Zrebassa",
         2017,
         816.17
        ],
        [
         "Georgia Rosenberg",
         2014,
         359.88
        ],
        [
         "Giulietta Baptist",
         2015,
         767.6
        ],
        [
         "Giulietta Baptist",
         2016,
         73.22
        ],
        [
         "Giulietta Baptist",
         2017,
         295.02
        ],
        [
         "Giulietta Dortch",
         2014,
         21.66
        ],
        [
         "Giulietta Dortch",
         2016,
         -155.3
        ],
        [
         "Giulietta Dortch",
         2017,
         364.24
        ],
        [
         "Giulietta Weimer",
         2014,
         3.63
        ],
        [
         "Giulietta Weimer",
         2015,
         134.33
        ],
        [
         "Giulietta Weimer",
         2016,
         44.58
        ],
        [
         "Giulietta Weimer",
         2017,
         -451.09
        ],
        [
         "Grace Kelly",
         2014,
         42.92
        ],
        [
         "Grace Kelly",
         2015,
         86.65
        ],
        [
         "Grace Kelly",
         2016,
         1315.57
        ],
        [
         "Grace Kelly",
         2017,
         3.45
        ],
        [
         "Grant Thornton",
         2014,
         -292.19
        ],
        [
         "Grant Thornton",
         2015,
         8.87
        ],
        [
         "Grant Thornton",
         2017,
         -3825.34
        ],
        [
         "Greg Guthrie",
         2014,
         122.55
        ],
        [
         "Greg Guthrie",
         2015,
         -115.72
        ],
        [
         "Greg Guthrie",
         2016,
         15.93
        ],
        [
         "Greg Guthrie",
         2017,
         -10.07
        ],
        [
         "Greg Hansen",
         2015,
         3.07
        ],
        [
         "Greg Hansen",
         2017,
         -8.88
        ],
        [
         "Greg Matthias",
         2014,
         214.53
        ],
        [
         "Greg Matthias",
         2016,
         -121.94
        ],
        [
         "Greg Matthias",
         2017,
         -57.12
        ],
        [
         "Greg Maxwell",
         2014,
         112.28
        ],
        [
         "Greg Maxwell",
         2016,
         175.36
        ],
        [
         "Greg Maxwell",
         2017,
         -99.18
        ],
        [
         "Greg Tran",
         2014,
         738.65
        ],
        [
         "Greg Tran",
         2015,
         974.31
        ],
        [
         "Greg Tran",
         2016,
         366.71
        ],
        [
         "Greg Tran",
         2017,
         83.62
        ],
        [
         "Guy Armstrong",
         2014,
         101.45
        ],
        [
         "Guy Armstrong",
         2015,
         11.54
        ],
        [
         "Guy Armstrong",
         2017,
         23.5
        ],
        [
         "Guy Phonely",
         2014,
         -35.93
        ],
        [
         "Guy Phonely",
         2015,
         67.77
        ],
        [
         "Guy Thornton",
         2015,
         27.2
        ],
        [
         "Guy Thornton",
         2016,
         6.3
        ],
        [
         "Guy Thornton",
         2017,
         -39.64
        ],
        [
         "Hallie Redmond",
         2014,
         1.6
        ],
        [
         "Hallie Redmond",
         2015,
         48.12
        ],
        [
         "Hallie Redmond",
         2017,
         135.68
        ],
        [
         "Harold Dahlen",
         2014,
         -167.32
        ],
        [
         "Harold Dahlen",
         2015,
         30.99
        ],
        [
         "Harold Engle",
         2016,
         112.71
        ],
        [
         "Harold Engle",
         2017,
         161.26
        ],
        [
         "Harold Pawlan",
         2014,
         101.69
        ],
        [
         "Harold Pawlan",
         2015,
         -21.7
        ],
        [
         "Harold Pawlan",
         2017,
         293.88
        ],
        [
         "Harold Ryan",
         2014,
         79.74
        ],
        [
         "Harold Ryan",
         2015,
         116.94
        ],
        [
         "Harold Ryan",
         2017,
         1000.69
        ],
        [
         "Harry Greene",
         2014,
         21.6
        ],
        [
         "Harry Greene",
         2015,
         -2.01
        ],
        [
         "Harry Greene",
         2017,
         127.42
        ],
        [
         "Harry Marie",
         2014,
         -79.13
        ],
        [
         "Harry Marie",
         2015,
         2451.01
        ],
        [
         "Harry Marie",
         2016,
         82.75
        ],
        [
         "Harry Marie",
         2017,
         -16.56
        ],
        [
         "Heather Jas",
         2015,
         28.71
        ],
        [
         "Heather Jas",
         2016,
         55.99
        ],
        [
         "Heather Jas",
         2017,
         13.97
        ],
        [
         "Heather Kirkland",
         2014,
         240.86
        ],
        [
         "Heather Kirkland",
         2015,
         300.07
        ],
        [
         "Heather Kirkland",
         2016,
         17.03
        ],
        [
         "Heather Kirkland",
         2017,
         399.01
        ],
        [
         "Helen Abelman",
         2014,
         108.8
        ],
        [
         "Helen Abelman",
         2015,
         111.29
        ],
        [
         "Helen Abelman",
         2016,
         129.77
        ],
        [
         "Helen Abelman",
         2017,
         -79.0
        ],
        [
         "Helen Andreada",
         2014,
         -57.04
        ],
        [
         "Helen Andreada",
         2015,
         197.84
        ],
        [
         "Helen Andreada",
         2016,
         -55.04
        ],
        [
         "Helen Andreada",
         2017,
         12.71
        ],
        [
         "Helen Waerman",
         2015,
         17.2
        ],
        [
         "Helen Waerman",
         2016,
         200.27
        ],
        [
         "Helen Waerman",
         2017,
         1946.7
        ],
        [
         "Henia Zydlo",
         2016,
         6.29
        ],
        [
         "Henia Zydlo",
         2017,
         -136.68
        ],
        [
         "Henry Goldwyn",
         2014,
         2.45
        ],
        [
         "Henry Goldwyn",
         2015,
         34.84
        ],
        [
         "Henry Goldwyn",
         2016,
         136.14
        ],
        [
         "Henry Goldwyn",
         2017,
         -2971.38
        ],
        [
         "Henry MacAllister",
         2015,
         73.82
        ],
        [
         "Henry MacAllister",
         2016,
         1.73
        ],
        [
         "Henry MacAllister",
         2017,
         41.23
        ],
        [
         "Herbert Flentye",
         2014,
         132.47
        ],
        [
         "Herbert Flentye",
         2016,
         -167.31
        ],
        [
         "Herbert Flentye",
         2017,
         20.49
        ],
        [
         "Hilary Holden",
         2014,
         60.27
        ],
        [
         "Hilary Holden",
         2017,
         26.46
        ],
        [
         "Hunter Glantz",
         2014,
         616.46
        ],
        [
         "Hunter Glantz",
         2015,
         55.9
        ],
        [
         "Hunter Glantz",
         2016,
         50.24
        ],
        [
         "Hunter Glantz",
         2017,
         82.02
        ],
        [
         "Hunter Lopez",
         2014,
         448.03
        ],
        [
         "Hunter Lopez",
         2016,
         128.54
        ],
        [
         "Hunter Lopez",
         2017,
         5045.86
        ],
        [
         "Ionia McGrath",
         2014,
         19.24
        ],
        [
         "Ionia McGrath",
         2016,
         956.54
        ],
        [
         "Irene Maddox",
         2014,
         240.6
        ],
        [
         "Irene Maddox",
         2015,
         -55.7
        ],
        [
         "Irene Maddox",
         2016,
         329.3
        ],
        [
         "Ivan Gibson",
         2014,
         28.35
        ],
        [
         "Ivan Gibson",
         2015,
         144.35
        ],
        [
         "Ivan Gibson",
         2016,
         54.86
        ],
        [
         "Ivan Gibson",
         2017,
         92.92
        ],
        [
         "Ivan Liston",
         2014,
         6.91
        ],
        [
         "Ivan Liston",
         2015,
         656.68
        ],
        [
         "Ivan Liston",
         2016,
         19.56
        ],
        [
         "Ivan Liston",
         2017,
         438.68
        ],
        [
         "Jack Garza",
         2014,
         734.7
        ],
        [
         "Jack Garza",
         2015,
         -50.17
        ],
        [
         "Jack Lebron",
         2014,
         9.87
        ],
        [
         "Jack Lebron",
         2016,
         1.39
        ],
        [
         "Jack Lebron",
         2017,
         -218.57
        ],
        [
         "Jack OBriant",
         2014,
         101.03
        ],
        [
         "Jack OBriant",
         2016,
         440.01
        ],
        [
         "Jack OBriant",
         2017,
         40.4
        ],
        [
         "James Galang",
         2014,
         378.39
        ],
        [
         "James Galang",
         2015,
         736.76
        ],
        [
         "James Galang",
         2016,
         230.36
        ],
        [
         "James Galang",
         2017,
         69.85
        ],
        [
         "James Lanier",
         2014,
         59.49
        ],
        [
         "James Lanier",
         2015,
         41.14
        ],
        [
         "James Lanier",
         2016,
         -2.0
        ],
        [
         "James Lanier",
         2017,
         110.48
        ],
        [
         "Jamie Frazer",
         2014,
         37.4
        ],
        [
         "Jamie Frazer",
         2015,
         17.99
        ],
        [
         "Jamie Frazer",
         2016,
         173.31
        ],
        [
         "Jamie Frazer",
         2017,
         347.08
        ],
        [
         "Jamie Kunitz",
         2014,
         47.81
        ],
        [
         "Jamie Kunitz",
         2015,
         615.03
        ],
        [
         "Jamie Kunitz",
         2016,
         1.03
        ],
        [
         "Jamie Kunitz",
         2017,
         557.69
        ],
        [
         "Jane Waco",
         2015,
         89.2
        ],
        [
         "Jane Waco",
         2016,
         131.25
        ],
        [
         "Jane Waco",
         2017,
         1953.6
        ],
        [
         "Janet Lee",
         2014,
         -190.51
        ],
        [
         "Janet Lee",
         2015,
         53.47
        ],
        [
         "Janet Lee",
         2016,
         103.36
        ],
        [
         "Janet Lee",
         2017,
         88.19
        ],
        [
         "Janet Martin",
         2016,
         155.23
        ],
        [
         "Janet Martin",
         2017,
         -135.65
        ],
        [
         "Janet Molinari",
         2014,
         59.06
        ],
        [
         "Janet Molinari",
         2015,
         -11.9
        ],
        [
         "Janet Molinari",
         2016,
         306.55
        ],
        [
         "Janet Molinari",
         2017,
         149.28
        ],
        [
         "Jas OCarroll",
         2014,
         0.97
        ],
        [
         "Jas OCarroll",
         2015,
         203.94
        ],
        [
         "Jas OCarroll",
         2016,
         51.21
        ],
        [
         "Jas OCarroll",
         2017,
         -54.88
        ],
        [
         "Jason Fortune",
         2014,
         47.35
        ],
        [
         "Jason Fortune",
         2016,
         -9.88
        ],
        [
         "Jason Fortune",
         2017,
         59.94
        ],
        [
         "Jason Gross",
         2016,
         -22.93
        ],
        [
         "Jason Gross",
         2017,
         26.52
        ],
        [
         "Jason Klamczynski",
         2014,
         17.55
        ],
        [
         "Jason Klamczynski",
         2016,
         11.68
        ],
        [
         "Jason Klamczynski",
         2017,
         26.35
        ],
        [
         "Jasper Cacioppo",
         2014,
         1.33
        ],
        [
         "Jasper Cacioppo",
         2016,
         -4.08
        ],
        [
         "Jasper Cacioppo",
         2017,
         2.4
        ],
        [
         "Jay Fein",
         2015,
         161.11
        ],
        [
         "Jay Fein",
         2016,
         40.75
        ],
        [
         "Jay Fein",
         2017,
         128.34
        ],
        [
         "Jay Kimmel",
         2014,
         129.54
        ],
        [
         "Jay Kimmel",
         2015,
         37.34
        ],
        [
         "Jay Kimmel",
         2016,
         83.5
        ],
        [
         "Jay Kimmel",
         2017,
         79.47
        ],
        [
         "Jenna Caffey",
         2017,
         502.93
        ],
        [
         "Jennifer Braxton",
         2014,
         -124.57
        ],
        [
         "Jennifer Braxton",
         2015,
         128.05
        ],
        [
         "Jennifer Braxton",
         2016,
         -98.62
        ],
        [
         "Jennifer Braxton",
         2017,
         251.19
        ],
        [
         "Jennifer Ferguson",
         2014,
         28.14
        ],
        [
         "Jennifer Ferguson",
         2015,
         56.64
        ],
        [
         "Jennifer Ferguson",
         2017,
         550.86
        ],
        [
         "Jennifer Halladay",
         2014,
         18.79
        ],
        [
         "Jennifer Halladay",
         2017,
         -42.85
        ],
        [
         "Jennifer Jackson",
         2015,
         181.85
        ],
        [
         "Jennifer Jackson",
         2016,
         18.71
        ],
        [
         "Jennifer Patt",
         2014,
         10.81
        ],
        [
         "Jennifer Patt",
         2015,
         100.93
        ],
        [
         "Jennifer Patt",
         2016,
         307.34
        ],
        [
         "Jennifer Patt",
         2017,
         10.66
        ],
        [
         "Jeremy Ellison",
         2015,
         57.22
        ],
        [
         "Jeremy Ellison",
         2016,
         185.63
        ],
        [
         "Jeremy Ellison",
         2017,
         33.6
        ],
        [
         "Jeremy Farry",
         2014,
         35.4
        ],
        [
         "Jeremy Farry",
         2015,
         -103.54
        ],
        [
         "Jeremy Farry",
         2016,
         13.11
        ],
        [
         "Jeremy Farry",
         2017,
         36.98
        ],
        [
         "Jeremy Lonsdale",
         2014,
         41.27
        ],
        [
         "Jeremy Lonsdale",
         2016,
         21.75
        ],
        [
         "Jeremy Lonsdale",
         2017,
         529.02
        ],
        [
         "Jeremy Pistek",
         2014,
         199.41
        ],
        [
         "Jeremy Pistek",
         2015,
         5.01
        ],
        [
         "Jeremy Pistek",
         2016,
         130.51
        ],
        [
         "Jeremy Pistek",
         2017,
         422.26
        ],
        [
         "Jessica Myrick",
         2014,
         58.99
        ],
        [
         "Jessica Myrick",
         2015,
         46.85
        ],
        [
         "Jessica Myrick",
         2016,
         232.13
        ],
        [
         "Jessica Myrick",
         2017,
         18.56
        ],
        [
         "Jesus Ocampo",
         2015,
         153.91
        ],
        [
         "Jesus Ocampo",
         2017,
         13.22
        ],
        [
         "Ji Stevenson",
         2014,
         -204.14
        ],
        [
         "Ji Stevenson",
         2015,
         4.53
        ],
        [
         "Ji Stevenson",
         2016,
         78.4
        ],
        [
         "Ji Stevenson",
         2017,
         -53.73
        ],
        [
         "Jill Fjeld",
         2014,
         78.55
        ],
        [
         "Jill Fjeld",
         2015,
         147.35
        ],
        [
         "Jill Fjeld",
         2016,
         849.66
        ],
        [
         "Jill Fjeld",
         2017,
         -1.49
        ],
        [
         "Jill Matthias",
         2016,
         113.72
        ],
        [
         "Jill Matthias",
         2017,
         -0.6
        ],
        [
         "Jim Epp",
         2014,
         27.19
        ],
        [
         "Jim Epp",
         2015,
         -129.89
        ],
        [
         "Jim Epp",
         2016,
         22.24
        ],
        [
         "Jim Epp",
         2017,
         1703.57
        ],
        [
         "Jim Karlsson",
         2014,
         303.87
        ],
        [
         "Jim Karlsson",
         2015,
         438.0
        ],
        [
         "Jim Karlsson",
         2017,
         8.86
        ],
        [
         "Jim Kriz",
         2014,
         10.19
        ],
        [
         "Jim Kriz",
         2015,
         181.04
        ],
        [
         "Jim Kriz",
         2017,
         981.67
        ],
        [
         "Jim Mitchum",
         2014,
         7.72
        ],
        [
         "Jim Mitchum",
         2016,
         65.9
        ],
        [
         "Jim Mitchum",
         2017,
         43.58
        ],
        [
         "Jim Radford",
         2015,
         -785.16
        ],
        [
         "Jim Radford",
         2016,
         0.0
        ],
        [
         "Jim Sink",
         2016,
         -99.99
        ],
        [
         "Jim Sink",
         2017,
         45.13
        ],
        [
         "Jocasta Rupert",
         2017,
         107.99
        ],
        [
         "Joe Elijah",
         2014,
         -59.8
        ],
        [
         "Joe Elijah",
         2015,
         50.83
        ],
        [
         "Joe Elijah",
         2016,
         1210.66
        ],
        [
         "Joe Elijah",
         2017,
         60.42
        ],
        [
         "Joe Kamberova",
         2014,
         -212.61
        ],
        [
         "Joe Kamberova",
         2015,
         42.08
        ],
        [
         "Joe Kamberova",
         2016,
         194.58
        ],
        [
         "Joe Kamberova",
         2017,
         30.95
        ],
        [
         "Joel Eaton",
         2014,
         42.09
        ],
        [
         "Joel Eaton",
         2015,
         -507.06
        ],
        [
         "Joel Eaton",
         2016,
         126.62
        ],
        [
         "Joel Eaton",
         2017,
         560.58
        ],
        [
         "Joel Jenkins",
         2015,
         34.46
        ],
        [
         "John Castell",
         2014,
         64.08
        ],
        [
         "John Castell",
         2015,
         27.63
        ],
        [
         "John Castell",
         2016,
         70.55
        ],
        [
         "John Castell",
         2017,
         117.31
        ],
        [
         "John Dryer",
         2015,
         -313.52
        ],
        [
         "John Dryer",
         2016,
         36.47
        ],
        [
         "John Dryer",
         2017,
         10.49
        ],
        [
         "John Grady",
         2014,
         28.26
        ],
        [
         "John Grady",
         2015,
         8.69
        ],
        [
         "John Grady",
         2016,
         91.13
        ],
        [
         "John Grady",
         2017,
         78.02
        ],
        [
         "John Huston",
         2014,
         26.41
        ],
        [
         "John Huston",
         2015,
         19.6
        ],
        [
         "John Huston",
         2017,
         -19.94
        ],
        [
         "John Lee",
         2014,
         -863.93
        ],
        [
         "John Lee",
         2015,
         252.43
        ],
        [
         "John Lee",
         2016,
         2.8
        ],
        [
         "John Lee",
         2017,
         837.23
        ],
        [
         "John Lucas",
         2014,
         1.33
        ],
        [
         "John Lucas",
         2015,
         816.52
        ],
        [
         "John Lucas",
         2016,
         -37.95
        ],
        [
         "John Murray",
         2014,
         1228.18
        ],
        [
         "John Murray",
         2015,
         371.88
        ],
        [
         "John Murray",
         2016,
         -49.62
        ],
        [
         "John Murray",
         2017,
         24.63
        ],
        [
         "John Stevenson",
         2014,
         -94.66
        ],
        [
         "John Stevenson",
         2015,
         392.89
        ],
        [
         "John Stevenson",
         2016,
         266.74
        ],
        [
         "Jonathan Doherty",
         2014,
         -194.2
        ],
        [
         "Jonathan Doherty",
         2015,
         64.82
        ],
        [
         "Jonathan Doherty",
         2016,
         1179.82
        ],
        [
         "Jonathan Howell",
         2015,
         48.66
        ],
        [
         "Jonathan Howell",
         2016,
         63.17
        ],
        [
         "Jonathan Howell",
         2017,
         -125.38
        ],
        [
         "Joni Blumstein",
         2014,
         72.58
        ],
        [
         "Joni Blumstein",
         2015,
         -359.56
        ],
        [
         "Joni Sundaresam",
         2014,
         2.87
        ],
        [
         "Joni Sundaresam",
         2015,
         -312.06
        ],
        [
         "Joni Sundaresam",
         2016,
         -18.74
        ],
        [
         "Joni Waerman",
         2015,
         -201.65
        ],
        [
         "Joni Waerman",
         2016,
         1.2
        ],
        [
         "Joni Waerman",
         2017,
         170.87
        ],
        [
         "Joseph Airdo",
         2014,
         96.93
        ],
        [
         "Joseph Airdo",
         2016,
         114.19
        ],
        [
         "Joseph Airdo",
         2017,
         -1031.0
        ],
        [
         "Joseph Holt",
         2014,
         644.0
        ],
        [
         "Joseph Holt",
         2015,
         -1429.38
        ],
        [
         "Joseph Holt",
         2016,
         72.03
        ],
        [
         "Joseph Holt",
         2017,
         68.87
        ],
        [
         "Joy Bell",
         2016,
         15.97
        ],
        [
         "Joy Bell",
         2017,
         111.09
        ],
        [
         "Joy Daniels",
         2014,
         -10.34
        ],
        [
         "Joy Daniels",
         2017,
         37.06
        ],
        [
         "Joy Smith",
         2014,
         3.4
        ],
        [
         "Joy Smith",
         2016,
         451.92
        ],
        [
         "Joy Smith",
         2017,
         -766.57
        ],
        [
         "Julia Barnett",
         2015,
         106.54
        ],
        [
         "Julia Barnett",
         2016,
         84.97
        ],
        [
         "Julia Barnett",
         2017,
         9.89
        ],
        [
         "Julia Dunbar",
         2014,
         8.48
        ],
        [
         "Julia Dunbar",
         2015,
         -29.25
        ],
        [
         "Julia Dunbar",
         2017,
         131.89
        ],
        [
         "Julia West",
         2015,
         133.51
        ],
        [
         "Julia West",
         2016,
         20.38
        ],
        [
         "Juliana Krohn",
         2015,
         228.9
        ],
        [
         "Juliana Krohn",
         2017,
         357.77
        ],
        [
         "Julie Creighton",
         2014,
         76.49
        ],
        [
         "Julie Creighton",
         2015,
         62.81
        ],
        [
         "Julie Creighton",
         2017,
         62.3
        ],
        [
         "Julie Kriz",
         2014,
         239.98
        ],
        [
         "Julie Kriz",
         2015,
         47.93
        ],
        [
         "Julie Kriz",
         2016,
         108.52
        ],
        [
         "Julie Kriz",
         2017,
         -273.77
        ],
        [
         "Julie Prescott",
         2014,
         6.92
        ],
        [
         "Julie Prescott",
         2015,
         7.43
        ],
        [
         "Julie Prescott",
         2016,
         275.44
        ],
        [
         "Julie Prescott",
         2017,
         19.51
        ],
        [
         "Justin Deggeller",
         2014,
         17.56
        ],
        [
         "Justin Deggeller",
         2015,
         212.64
        ],
        [
         "Justin Deggeller",
         2016,
         272.2
        ],
        [
         "Justin Deggeller",
         2017,
         1116.34
        ],
        [
         "Justin Ellison",
         2016,
         776.35
        ],
        [
         "Justin Ellison",
         2017,
         13.67
        ],
        [
         "Justin Hirsh",
         2015,
         106.41
        ],
        [
         "Justin Hirsh",
         2016,
         -203.37
        ],
        [
         "Justin MacKendrick",
         2014,
         273.4
        ],
        [
         "Justin MacKendrick",
         2015,
         221.33
        ],
        [
         "Justin MacKendrick",
         2016,
         23.86
        ],
        [
         "Justin MacKendrick",
         2017,
         235.11
        ],
        [
         "Justin Ritter",
         2015,
         152.39
        ],
        [
         "Justin Ritter",
         2016,
         44.21
        ],
        [
         "Justin Ritter",
         2017,
         255.77
        ],
        [
         "Kalyca Meade",
         2015,
         450.16
        ],
        [
         "Kalyca Meade",
         2016,
         56.34
        ],
        [
         "Kalyca Meade",
         2017,
         128.93
        ],
        [
         "Karen Bern",
         2014,
         -1.0
        ],
        [
         "Karen Bern",
         2015,
         19.85
        ],
        [
         "Karen Bern",
         2016,
         -18.18
        ],
        [
         "Karen Bern",
         2017,
         763.56
        ],
        [
         "Karen Carlisle",
         2014,
         43.06
        ],
        [
         "Karen Carlisle",
         2015,
         279.99
        ],
        [
         "Karen Carlisle",
         2016,
         523.09
        ],
        [
         "Karen Danels",
         2014,
         -1340.6
        ],
        [
         "Karen Danels",
         2015,
         129.49
        ],
        [
         "Karen Danels",
         2016,
         2318.71
        ],
        [
         "Karen Ferguson",
         2014,
         82.52
        ],
        [
         "Karen Ferguson",
         2016,
         371.05
        ],
        [
         "Karen Ferguson",
         2017,
         1206.84
        ],
        [
         "Karen Seio",
         2015,
         6.49
        ],
        [
         "Karen Seio",
         2017,
         -6.38
        ],
        [
         "Karl Braun",
         2014,
         -29.74
        ],
        [
         "Karl Braun",
         2015,
         -18.21
        ],
        [
         "Karl Braun",
         2016,
         27.53
        ],
        [
         "Karl Braun",
         2017,
         69.64
        ],
        [
         "Katharine Harms",
         2014,
         261.33
        ],
        [
         "Katharine Harms",
         2016,
         43.9
        ],
        [
         "Katharine Harms",
         2017,
         150.46
        ],
        [
         "Katherine Ducich",
         2014,
         64.7
        ],
        [
         "Katherine Ducich",
         2015,
         243.53
        ],
        [
         "Katherine Ducich",
         2017,
         20.36
        ],
        [
         "Katherine Hughes",
         2014,
         -32.05
        ],
        [
         "Katherine Hughes",
         2016,
         57.83
        ],
        [
         "Katherine Hughes",
         2017,
         502.51
        ],
        [
         "Katherine Murray",
         2014,
         955.86
        ],
        [
         "Katherine Murray",
         2015,
         29.31
        ],
        [
         "Katherine Murray",
         2016,
         128.9
        ],
        [
         "Katherine Murray",
         2017,
         -140.7
        ],
        [
         "Katherine Nockton",
         2014,
         29.95
        ],
        [
         "Katherine Nockton",
         2015,
         -191.36
        ],
        [
         "Katherine Nockton",
         2017,
         10.26
        ],
        [
         "Katrina Bavinger",
         2015,
         42.96
        ],
        [
         "Katrina Bavinger",
         2017,
         230.9
        ],
        [
         "Katrina Edelman",
         2014,
         161.63
        ],
        [
         "Katrina Edelman",
         2015,
         235.64
        ],
        [
         "Katrina Edelman",
         2016,
         19.0
        ],
        [
         "Katrina Edelman",
         2017,
         -18.38
        ],
        [
         "Katrina Willman",
         2015,
         1600.85
        ],
        [
         "Katrina Willman",
         2016,
         32.16
        ],
        [
         "Katrina Willman",
         2017,
         123.13
        ],
        [
         "Kean Nguyen",
         2014,
         119.98
        ],
        [
         "Kean Nguyen",
         2015,
         -118.58
        ],
        [
         "Kean Nguyen",
         2017,
         112.42
        ],
        [
         "Kean Takahito",
         2014,
         68.8
        ],
        [
         "Kean Takahito",
         2015,
         28.81
        ],
        [
         "Kean Takahito",
         2016,
         156.14
        ],
        [
         "Kean Thornton",
         2014,
         103.44
        ],
        [
         "Kean Thornton",
         2015,
         36.7
        ],
        [
         "Kean Thornton",
         2016,
         19.61
        ],
        [
         "Kean Thornton",
         2017,
         34.32
        ],
        [
         "Keith Dawkins",
         2014,
         35.02
        ],
        [
         "Keith Dawkins",
         2015,
         2810.35
        ],
        [
         "Keith Dawkins",
         2016,
         58.72
        ],
        [
         "Keith Dawkins",
         2017,
         134.84
        ],
        [
         "Keith Herrera",
         2014,
         -2.74
        ],
        [
         "Keith Herrera",
         2015,
         227.57
        ],
        [
         "Keith Herrera",
         2017,
         431.29
        ],
        [
         "Kelly Andreada",
         2014,
         49.01
        ],
        [
         "Kelly Andreada",
         2015,
         77.97
        ],
        [
         "Kelly Andreada",
         2016,
         67.44
        ],
        [
         "Kelly Andreada",
         2017,
         39.94
        ],
        [
         "Kelly Collister",
         2015,
         49.27
        ],
        [
         "Kelly Collister",
         2016,
         635.68
        ],
        [
         "Kelly Collister",
         2017,
         24.48
        ],
        [
         "Kelly Lampkin",
         2014,
         -69.25
        ],
        [
         "Kelly Lampkin",
         2016,
         50.12
        ],
        [
         "Kelly Lampkin",
         2017,
         -163.66
        ],
        [
         "Kelly Williams",
         2014,
         11.25
        ],
        [
         "Kelly Williams",
         2015,
         97.14
        ],
        [
         "Ken Black",
         2014,
         175.16
        ],
        [
         "Ken Black",
         2015,
         66.42
        ],
        [
         "Ken Black",
         2016,
         96.32
        ],
        [
         "Ken Black",
         2017,
         240.99
        ],
        [
         "Ken Brennan",
         2014,
         2.85
        ],
        [
         "Ken Brennan",
         2015,
         17.0
        ],
        [
         "Ken Brennan",
         2016,
         14.62
        ],
        [
         "Ken Brennan",
         2017,
         259.43
        ],
        [
         "Ken Heidel",
         2014,
         128.43
        ],
        [
         "Ken Heidel",
         2015,
         501.54
        ],
        [
         "Ken Heidel",
         2016,
         30.61
        ],
        [
         "Ken Heidel",
         2017,
         66.93
        ],
        [
         "Ken Lonsdale",
         2014,
         395.6
        ],
        [
         "Ken Lonsdale",
         2015,
         252.53
        ],
        [
         "Ken Lonsdale",
         2016,
         -3.35
        ],
        [
         "Ken Lonsdale",
         2017,
         161.72
        ],
        [
         "Khloe Miller",
         2014,
         3.0
        ],
        [
         "Khloe Miller",
         2015,
         34.35
        ],
        [
         "Khloe Miller",
         2016,
         11.83
        ],
        [
         "Khloe Miller",
         2017,
         41.49
        ],
        [
         "Kimberly Carter",
         2014,
         5.82
        ],
        [
         "Kimberly Carter",
         2016,
         -4.95
        ],
        [
         "Kimberly Carter",
         2017,
         156.37
        ],
        [
         "Kristen Hastings",
         2014,
         1038.59
        ],
        [
         "Kristen Hastings",
         2015,
         -36.13
        ],
        [
         "Kristen Hastings",
         2016,
         7.18
        ],
        [
         "Kristen Hastings",
         2017,
         217.49
        ],
        [
         "Kristina Nunn",
         2014,
         186.0
        ],
        [
         "Kristina Nunn",
         2015,
         -183.11
        ],
        [
         "Kristina Nunn",
         2016,
         25.0
        ],
        [
         "Kristina Nunn",
         2017,
         301.88
        ],
        [
         "Kunst Miller",
         2014,
         213.7
        ],
        [
         "Kunst Miller",
         2015,
         112.1
        ],
        [
         "Kunst Miller",
         2016,
         54.92
        ],
        [
         "Kunst Miller",
         2017,
         364.68
        ],
        [
         "Larry Blacks",
         2016,
         10.74
        ],
        [
         "Larry Blacks",
         2017,
         7.91
        ],
        [
         "Larry Hughes",
         2014,
         -5.04
        ],
        [
         "Larry Hughes",
         2017,
         17.67
        ],
        [
         "Larry Tron",
         2014,
         15.64
        ],
        [
         "Larry Tron",
         2015,
         20.16
        ],
        [
         "Larry Tron",
         2017,
         23.24
        ],
        [
         "Laura Armstrong",
         2014,
         482.57
        ],
        [
         "Laura Armstrong",
         2015,
         -0.12
        ],
        [
         "Laura Armstrong",
         2016,
         1526.67
        ],
        [
         "Laura Armstrong",
         2017,
         16.07
        ],
        [
         "Laurel Beltran",
         2014,
         -21.36
        ],
        [
         "Laurel Beltran",
         2016,
         -658.62
        ],
        [
         "Laurel Beltran",
         2017,
         627.99
        ],
        [
         "Laurel Elliston",
         2014,
         -12.84
        ],
        [
         "Laurel Elliston",
         2015,
         5.08
        ],
        [
         "Laurel Elliston",
         2016,
         179.75
        ],
        [
         "Laurel Elliston",
         2017,
         -10.24
        ],
        [
         "Laurel Workman",
         2014,
         423.61
        ],
        [
         "Laurel Workman",
         2016,
         -393.34
        ],
        [
         "Laurel Workman",
         2017,
         2.32
        ],
        [
         "Lauren Leatherbury",
         2014,
         110.88
        ],
        [
         "Lauren Leatherbury",
         2015,
         404.91
        ],
        [
         "Lauren Leatherbury",
         2017,
         44.72
        ],
        [
         "Lela Donovan",
         2016,
         0.46
        ],
        [
         "Lena Creighton",
         2014,
         201.07
        ],
        [
         "Lena Creighton",
         2015,
         1007.76
        ],
        [
         "Lena Creighton",
         2016,
         147.88
        ],
        [
         "Lena Creighton",
         2017,
         -67.97
        ],
        [
         "Lena Hernandez",
         2014,
         282.09
        ],
        [
         "Lena Hernandez",
         2015,
         121.11
        ],
        [
         "Lena Hernandez",
         2016,
         56.7
        ],
        [
         "Lena Hernandez",
         2017,
         65.22
        ],
        [
         "Lena Radford",
         2014,
         604.58
        ],
        [
         "Lena Radford",
         2015,
         30.79
        ],
        [
         "Lena Radford",
         2016,
         172.5
        ],
        [
         "Lena Radford",
         2017,
         -272.58
        ],
        [
         "Linda Cazamias",
         2014,
         29.34
        ],
        [
         "Linda Cazamias",
         2016,
         246.91
        ],
        [
         "Linda Cazamias",
         2017,
         12.04
        ],
        [
         "Linda Southworth",
         2015,
         9.82
        ],
        [
         "Linda Southworth",
         2016,
         21.74
        ],
        [
         "Linda Southworth",
         2017,
         -350.0
        ],
        [
         "Lindsay Castell",
         2015,
         278.2
        ],
        [
         "Lindsay Castell",
         2016,
         21.27
        ],
        [
         "Lindsay Shagiari",
         2014,
         138.16
        ],
        [
         "Lindsay Shagiari",
         2015,
         -108.2
        ],
        [
         "Lindsay Shagiari",
         2016,
         2.94
        ],
        [
         "Lindsay Shagiari",
         2017,
         229.37
        ],
        [
         "Lindsay Williams",
         2016,
         322.32
        ],
        [
         "Lindsay Williams",
         2017,
         340.51
        ],
        [
         "Lisa DeCherney",
         2014,
         445.51
        ],
        [
         "Lisa DeCherney",
         2016,
         111.26
        ],
        [
         "Lisa Hazard",
         2014,
         -79.34
        ],
        [
         "Lisa Hazard",
         2015,
         -27.0
        ],
        [
         "Lisa Hazard",
         2016,
         16.46
        ],
        [
         "Lisa Hazard",
         2017,
         -152.87
        ],
        [
         "Lisa Ryan",
         2014,
         48.13
        ],
        [
         "Lisa Ryan",
         2015,
         -142.91
        ],
        [
         "Lisa Ryan",
         2016,
         -387.68
        ],
        [
         "Lisa Ryan",
         2017,
         99.27
        ],
        [
         "Liz Carlisle",
         2014,
         -128.09
        ],
        [
         "Liz Carlisle",
         2016,
         225.26
        ],
        [
         "Liz Carlisle",
         2017,
         -10.4
        ],
        [
         "Liz MacKendrick",
         2014,
         76.1
        ],
        [
         "Liz MacKendrick",
         2015,
         -142.52
        ],
        [
         "Liz MacKendrick",
         2016,
         21.54
        ],
        [
         "Liz Pelletier",
         2014,
         0.96
        ],
        [
         "Liz Pelletier",
         2016,
         21.94
        ],
        [
         "Liz Pelletier",
         2017,
         87.89
        ],
        [
         "Liz Preis",
         2016,
         79.36
        ],
        [
         "Liz Preis",
         2017,
         259.09
        ],
        [
         "Liz Thompson",
         2014,
         238.4
        ],
        [
         "Liz Thompson",
         2015,
         76.22
        ],
        [
         "Liz Thompson",
         2016,
         28.38
        ],
        [
         "Liz Thompson",
         2017,
         -22.02
        ],
        [
         "Liz Willingham",
         2014,
         21.75
        ],
        [
         "Liz Willingham",
         2016,
         165.8
        ],
        [
         "Liz Willingham",
         2017,
         5.08
        ],
        [
         "Logan Currie",
         2014,
         -26.6
        ],
        [
         "Logan Currie",
         2015,
         19.4
        ],
        [
         "Logan Currie",
         2016,
         235.33
        ],
        [
         "Logan Currie",
         2017,
         2.4
        ],
        [
         "Logan Haushalter",
         2014,
         9.58
        ],
        [
         "Logan Haushalter",
         2015,
         94.85
        ],
        [
         "Logan Haushalter",
         2016,
         212.1
        ],
        [
         "Lori Olson",
         2015,
         34.45
        ],
        [
         "Lori Olson",
         2017,
         115.71
        ],
        [
         "Luke Foster",
         2014,
         -3802.08
        ],
        [
         "Luke Foster",
         2015,
         146.21
        ],
        [
         "Luke Foster",
         2016,
         0.72
        ],
        [
         "Luke Foster",
         2017,
         71.54
        ],
        [
         "Luke Schmidt",
         2014,
         167.72
        ],
        [
         "Luke Schmidt",
         2016,
         18.28
        ],
        [
         "Luke Schmidt",
         2017,
         57.82
        ],
        [
         "Luke Weiss",
         2014,
         420.59
        ],
        [
         "Luke Weiss",
         2016,
         350.01
        ],
        [
         "Luke Weiss",
         2017,
         67.07
        ],
        [
         "Lycoris Saunders",
         2014,
         9.33
        ],
        [
         "Lycoris Saunders",
         2015,
         55.24
        ],
        [
         "Lynn Smith",
         2014,
         230.21
        ],
        [
         "Lynn Smith",
         2015,
         4.8
        ],
        [
         "Lynn Smith",
         2016,
         60.37
        ],
        [
         "Lynn Smith",
         2017,
         52.59
        ],
        [
         "Magdelene Morse",
         2014,
         51.36
        ],
        [
         "Magdelene Morse",
         2016,
         166.51
        ],
        [
         "Magdelene Morse",
         2017,
         -39.46
        ],
        [
         "Marc Crier",
         2014,
         235.23
        ],
        [
         "Marc Crier",
         2015,
         197.66
        ],
        [
         "Marc Crier",
         2016,
         20.91
        ],
        [
         "Marc Crier",
         2017,
         7.22
        ],
        [
         "Marc Harrigan",
         2014,
         12.21
        ],
        [
         "Marc Harrigan",
         2015,
         2.18
        ],
        [
         "Marc Harrigan",
         2016,
         57.21
        ],
        [
         "Marc Harrigan",
         2017,
         -42.62
        ],
        [
         "Maria Bertelson",
         2014,
         -13.83
        ],
        [
         "Maria Bertelson",
         2015,
         77.99
        ],
        [
         "Maria Bertelson",
         2016,
         83.51
        ],
        [
         "Maria Bertelson",
         2017,
         65.67
        ],
        [
         "Maria Etezadi",
         2014,
         1343.07
        ],
        [
         "Maria Etezadi",
         2015,
         -9.56
        ],
        [
         "Maria Etezadi",
         2016,
         451.46
        ],
        [
         "Maria Etezadi",
         2017,
         74.0
        ],
        [
         "Maria Zettner",
         2015,
         69.35
        ],
        [
         "Maria Zettner",
         2016,
         0.16
        ],
        [
         "Maria Zettner",
         2017,
         15.51
        ],
        [
         "Maribeth Dona",
         2014,
         -84.11
        ],
        [
         "Maribeth Dona",
         2015,
         51.66
        ],
        [
         "Maribeth Dona",
         2016,
         -14.22
        ],
        [
         "Maribeth Dona",
         2017,
         -194.56
        ],
        [
         "Maribeth Yedwab",
         2015,
         2.65
        ],
        [
         "Maribeth Yedwab",
         2016,
         33.05
        ],
        [
         "Maribeth Yedwab",
         2017,
         283.44
        ],
        [
         "Maribethchnelling",
         2014,
         143.9
        ],
        [
         "Maribethchnelling",
         2015,
         145.51
        ],
        [
         "Maribethchnelling",
         2016,
         514.79
        ],
        [
         "Maribethchnelling",
         2017,
         40.75
        ],
        [
         "Marina Lichtenstein",
         2014,
         486.58
        ],
        [
         "Marina Lichtenstein",
         2015,
         -4.94
        ],
        [
         "Marina Lichtenstein",
         2016,
         192.19
        ],
        [
         "Marina Lichtenstein",
         2017,
         11.1
        ],
        [
         "Maris LaWare",
         2014,
         254.24
        ],
        [
         "Maris LaWare",
         2016,
         15.0
        ],
        [
         "Maris LaWare",
         2017,
         -345.71
        ],
        [
         "Mark Cousins",
         2014,
         135.0
        ],
        [
         "Mark Cousins",
         2015,
         57.2
        ],
        [
         "Mark Cousins",
         2016,
         1610.2
        ],
        [
         "Mark Haberlin",
         2014,
         48.85
        ],
        [
         "Mark Haberlin",
         2016,
         12.58
        ],
        [
         "Mark Hamilton",
         2014,
         8.49
        ],
        [
         "Mark Hamilton",
         2015,
         16.18
        ],
        [
         "Mark Hamilton",
         2016,
         375.67
        ],
        [
         "Mark Hamilton",
         2017,
         84.94
        ],
        [
         "Mark Packer",
         2014,
         279.86
        ],
        [
         "Mark Packer",
         2015,
         311.5
        ],
        [
         "Mark Packer",
         2016,
         8.94
        ],
        [
         "Mark Van Huff",
         2014,
         15.08
        ],
        [
         "Mark Van Huff",
         2015,
         -1.28
        ],
        [
         "Mark Van Huff",
         2016,
         106.42
        ],
        [
         "Mark Van Huff",
         2017,
         68.79
        ],
        [
         "Mary ORourke",
         2014,
         6.04
        ],
        [
         "Mary ORourke",
         2016,
         120.86
        ],
        [
         "Mary ORourke",
         2017,
         -67.54
        ],
        [
         "Mary Zewe",
         2014,
         786.8
        ],
        [
         "Mary Zewe",
         2015,
         8.21
        ],
        [
         "Mary Zewe",
         2016,
         -25.24
        ],
        [
         "Mary Zewe",
         2017,
         17.38
        ],
        [
         "MaryBeth Skach",
         2014,
         2.69
        ],
        [
         "MaryBeth Skach",
         2015,
         45.29
        ],
        [
         "MaryBeth Skach",
         2016,
         36.04
        ],
        [
         "Mathew Reese",
         2014,
         9.11
        ],
        [
         "Mathew Reese",
         2017,
         153.35
        ],
        [
         "Matt Abelman",
         2014,
         562.98
        ],
        [
         "Matt Abelman",
         2015,
         619.07
        ],
        [
         "Matt Abelman",
         2016,
         28.38
        ],
        [
         "Matt Abelman",
         2017,
         30.13
        ],
        [
         "Matt Collins",
         2014,
         -6.34
        ],
        [
         "Matt Collins",
         2015,
         62.77
        ],
        [
         "Matt Collins",
         2016,
         15.59
        ],
        [
         "Matt Collins",
         2017,
         138.9
        ],
        [
         "Matt Collister",
         2014,
         -137.2
        ],
        [
         "Matt Collister",
         2016,
         379.01
        ],
        [
         "Matt Collister",
         2017,
         47.18
        ],
        [
         "Matt Connell",
         2014,
         49.37
        ],
        [
         "Matt Connell",
         2015,
         13.08
        ],
        [
         "Matt Connell",
         2016,
         11.31
        ],
        [
         "Matt Connell",
         2017,
         121.69
        ],
        [
         "Matt Hagelstein",
         2015,
         14.67
        ],
        [
         "Matt Hagelstein",
         2016,
         -0.37
        ],
        [
         "Matt Hagelstein",
         2017,
         108.05
        ],
        [
         "Matthew Clasen",
         2014,
         41.89
        ],
        [
         "Matthew Clasen",
         2016,
         27.42
        ],
        [
         "Matthew Clasen",
         2017,
         -317.03
        ],
        [
         "Matthew Grinstein",
         2014,
         24.37
        ],
        [
         "Matthew Grinstein",
         2016,
         204.85
        ],
        [
         "Matthew Grinstein",
         2017,
         112.69
        ],
        [
         "Maureen Fritzler",
         2014,
         -459.99
        ],
        [
         "Maureen Fritzler",
         2016,
         118.46
        ],
        [
         "Maureen Gastineau",
         2014,
         12.91
        ],
        [
         "Maureen Gastineau",
         2015,
         -1.2
        ],
        [
         "Maureen Gastineau",
         2017,
         14.18
        ],
        [
         "Maureen Gnade",
         2014,
         -22.64
        ],
        [
         "Maureen Gnade",
         2015,
         -392.86
        ],
        [
         "Maureen Gnade",
         2016,
         16.7
        ],
        [
         "Maurice Satty",
         2014,
         40.73
        ],
        [
         "Maurice Satty",
         2015,
         299.8
        ],
        [
         "Maurice Satty",
         2016,
         -93.1
        ],
        [
         "Max Engle",
         2014,
         16.28
        ],
        [
         "Max Engle",
         2015,
         39.77
        ],
        [
         "Max Engle",
         2016,
         -1.62
        ],
        [
         "Max Engle",
         2017,
         23.16
        ],
        [
         "Max Jones",
         2015,
         -77.93
        ],
        [
         "Max Jones",
         2016,
         728.75
        ],
        [
         "Max Jones",
         2017,
         403.72
        ],
        [
         "Max Ludwig",
         2016,
         63.83
        ],
        [
         "Max Ludwig",
         2017,
         346.16
        ],
        [
         "Maxwell Schwartz",
         2014,
         -102.26
        ],
        [
         "Maxwell Schwartz",
         2015,
         209.33
        ],
        [
         "Maxwell Schwartz",
         2016,
         164.04
        ],
        [
         "Maxwell Schwartz",
         2017,
         9.7
        ],
        [
         "Maya Herman",
         2014,
         133.96
        ],
        [
         "Maya Herman",
         2015,
         94.71
        ],
        [
         "Maya Herman",
         2016,
         7.0
        ],
        [
         "Maya Herman",
         2017,
         3.35
        ],
        [
         "Meg OConnel",
         2015,
         -16.97
        ],
        [
         "Meg OConnel",
         2016,
         5.5
        ],
        [
         "Meg OConnel",
         2017,
         180.45
        ],
        [
         "Meg Tillman",
         2015,
         1.78
        ],
        [
         "Meg Tillman",
         2016,
         432.26
        ],
        [
         "Meg Tillman",
         2017,
         74.98
        ],
        [
         "Melanie Seite",
         2014,
         10.92
        ],
        [
         "Melanie Seite",
         2015,
         32.45
        ],
        [
         "Melanie Seite",
         2016,
         -23.94
        ],
        [
         "Michael Chen",
         2014,
         395.76
        ],
        [
         "Michael Chen",
         2016,
         60.54
        ],
        [
         "Michael Chen",
         2017,
         242.12
        ],
        [
         "Michael Dominguez",
         2014,
         -47.36
        ],
        [
         "Michael Dominguez",
         2017,
         43.31
        ],
        [
         "Michael Grace",
         2014,
         -4.52
        ],
        [
         "Michael Grace",
         2015,
         -499.05
        ],
        [
         "Michael Grace",
         2016,
         62.24
        ],
        [
         "Michael Grace",
         2017,
         -29.44
        ],
        [
         "Michael Granlund",
         2014,
         -4.8
        ],
        [
         "Michael Granlund",
         2015,
         112.33
        ],
        [
         "Michael Granlund",
         2016,
         25.93
        ],
        [
         "Michael Granlund",
         2017,
         37.99
        ],
        [
         "Michael Kennedy",
         2014,
         43.22
        ],
        [
         "Michael Kennedy",
         2015,
         0.6
        ],
        [
         "Michael Kennedy",
         2016,
         -456.26
        ],
        [
         "Michael Kennedy",
         2017,
         7.01
        ],
        [
         "Michael Moore",
         2014,
         55.03
        ],
        [
         "Michael Moore",
         2015,
         -373.3
        ],
        [
         "Michael Moore",
         2016,
         447.84
        ],
        [
         "Michael Moore",
         2017,
         -48.11
        ],
        [
         "Michael Nguyen",
         2014,
         31.17
        ],
        [
         "Michael Nguyen",
         2016,
         5.52
        ],
        [
         "Michael Nguyen",
         2017,
         254.13
        ],
        [
         "Michael Oakman",
         2015,
         -79.31
        ],
        [
         "Michael Oakman",
         2017,
         -2.7
        ],
        [
         "Michael Paige",
         2015,
         255.75
        ],
        [
         "Michael Paige",
         2016,
         265.54
        ],
        [
         "Michael Paige",
         2017,
         116.45
        ],
        [
         "Michael Stewart",
         2014,
         16.26
        ],
        [
         "Michael Stewart",
         2015,
         59.35
        ],
        [
         "Michael Stewart",
         2017,
         -20.38
        ],
        [
         "Michelle Arnett",
         2014,
         53.7
        ],
        [
         "Michelle Arnett",
         2015,
         3.48
        ],
        [
         "Michelle Arnett",
         2016,
         191.39
        ],
        [
         "Michelle Arnett",
         2017,
         31.94
        ],
        [
         "Michelle Ellison",
         2014,
         104.98
        ],
        [
         "Michelle Ellison",
         2015,
         8.77
        ],
        [
         "Michelle Ellison",
         2017,
         -6.4
        ],
        [
         "Michelle Huthwaite",
         2014,
         10.65
        ],
        [
         "Michelle Huthwaite",
         2015,
         91.16
        ],
        [
         "Michelle Huthwaite",
         2017,
         374.93
        ],
        [
         "Michelle Lonsdale",
         2017,
         138.71
        ],
        [
         "Michelle Moray",
         2014,
         130.68
        ],
        [
         "Michelle Moray",
         2015,
         -247.37
        ],
        [
         "Michelle Moray",
         2017,
         -403.76
        ],
        [
         "Michelle Tran",
         2014,
         -89.7
        ],
        [
         "Michelle Tran",
         2015,
         -6.29
        ],
        [
         "Michelle Tran",
         2016,
         70.49
        ],
        [
         "Michelle Tran",
         2017,
         2.05
        ],
        [
         "Mick Brown",
         2014,
         4.88
        ],
        [
         "Mick Brown",
         2016,
         45.32
        ],
        [
         "Mick Brown",
         2017,
         67.85
        ],
        [
         "Mick Crebagga",
         2014,
         -18.73
        ],
        [
         "Mick Crebagga",
         2015,
         -73.3
        ],
        [
         "Mick Crebagga",
         2016,
         0.93
        ],
        [
         "Mick Crebagga",
         2017,
         26.7
        ],
        [
         "Mick Hernandez",
         2016,
         -216.22
        ],
        [
         "Mick Hernandez",
         2017,
         387.2
        ],
        [
         "Mike Caudle",
         2014,
         24.98
        ],
        [
         "Mike Caudle",
         2015,
         9.81
        ],
        [
         "Mike Caudle",
         2016,
         86.95
        ],
        [
         "Mike Gockenbach",
         2014,
         -152.72
        ],
        [
         "Mike Gockenbach",
         2015,
         -137.49
        ],
        [
         "Mike Gockenbach",
         2017,
         196.72
        ],
        [
         "Mike Kennedy",
         2014,
         -22.69
        ],
        [
         "Mike Kennedy",
         2016,
         41.08
        ],
        [
         "Mike Kennedy",
         2017,
         209.04
        ],
        [
         "Mike Pelletier",
         2014,
         -125.29
        ],
        [
         "Mike Pelletier",
         2015,
         526.73
        ],
        [
         "Mike Pelletier",
         2016,
         -295.64
        ],
        [
         "Mike Pelletier",
         2017,
         119.69
        ],
        [
         "Mike Vittorini",
         2014,
         11.9
        ],
        [
         "Mike Vittorini",
         2015,
         15.36
        ],
        [
         "Mike Vittorini",
         2016,
         225.26
        ],
        [
         "Mike Vittorini",
         2017,
         21.47
        ],
        [
         "Mitch Gastineau",
         2017,
         -1.24
        ],
        [
         "Mitch Webber",
         2014,
         1204.43
        ],
        [
         "Mitch Webber",
         2015,
         24.5
        ],
        [
         "Mitch Webber",
         2016,
         0.5
        ],
        [
         "Mitch Webber",
         2017,
         8.49
        ],
        [
         "Mitch Willingham",
         2014,
         1449.52
        ],
        [
         "Mitch Willingham",
         2017,
         216.0
        ],
        [
         "Monica Federle",
         2014,
         16.89
        ],
        [
         "Monica Federle",
         2015,
         152.73
        ],
        [
         "Monica Federle",
         2017,
         287.24
        ],
        [
         "Muhammed Lee",
         2015,
         1.16
        ],
        [
         "Muhammed Lee",
         2017,
         41.51
        ],
        [
         "Muhammed MacIntyre",
         2014,
         -51.52
        ],
        [
         "Muhammed MacIntyre",
         2015,
         68.2
        ],
        [
         "Muhammed MacIntyre",
         2016,
         8.84
        ],
        [
         "Muhammed MacIntyre",
         2017,
         33.04
        ],
        [
         "Muhammed YeDwab",
         2014,
         -103.13
        ],
        [
         "Muhammed YeDwab",
         2016,
         -290.17
        ],
        [
         "Muhammed YeDwab",
         2017,
         21.59
        ],
        [
         "Nancy Lomonaco",
         2014,
         8.28
        ],
        [
         "Nancy Lomonaco",
         2015,
         34.59
        ],
        [
         "Nancy Lomonaco",
         2016,
         18.66
        ],
        [
         "Nancy Lomonaco",
         2017,
         282.27
        ],
        [
         "Nat Carroll",
         2014,
         11.16
        ],
        [
         "Nat Carroll",
         2015,
         326.28
        ],
        [
         "Nat Carroll",
         2016,
         26.29
        ],
        [
         "Nat Carroll",
         2017,
         216.58
        ],
        [
         "Nat Gilpin",
         2014,
         219.08
        ],
        [
         "Nat Gilpin",
         2015,
         8.05
        ],
        [
         "Nat Gilpin",
         2017,
         86.5
        ],
        [
         "Natalie DeCherney",
         2014,
         47.61
        ],
        [
         "Natalie DeCherney",
         2015,
         330.8
        ],
        [
         "Natalie DeCherney",
         2016,
         58.86
        ],
        [
         "Natalie DeCherney",
         2017,
         -84.03
        ],
        [
         "Natalie Fritzler",
         2014,
         186.74
        ],
        [
         "Natalie Fritzler",
         2015,
         -1980.38
        ],
        [
         "Natalie Fritzler",
         2016,
         -66.17
        ],
        [
         "Natalie Fritzler",
         2017,
         163.46
        ],
        [
         "Natalie Webber",
         2014,
         -387.79
        ],
        [
         "Natalie Webber",
         2015,
         1654.06
        ],
        [
         "Natalie Webber",
         2016,
         -255.46
        ],
        [
         "Natalie Webber",
         2017,
         11.82
        ],
        [
         "Nathan Cano",
         2014,
         10.04
        ],
        [
         "Nathan Cano",
         2015,
         36.23
        ],
        [
         "Nathan Cano",
         2016,
         79.19
        ],
        [
         "Nathan Cano",
         2017,
         -2330.27
        ],
        [
         "Nathan Gelder",
         2014,
         134.82
        ],
        [
         "Nathan Gelder",
         2015,
         54.0
        ],
        [
         "Nathan Gelder",
         2017,
         28.28
        ],
        [
         "Nathan Mautz",
         2014,
         2413.85
        ],
        [
         "Nathan Mautz",
         2015,
         333.5
        ],
        [
         "Nathan Mautz",
         2017,
         4.35
        ],
        [
         "Neil Ducich",
         2014,
         45.43
        ],
        [
         "Neil Ducich",
         2015,
         18.66
        ],
        [
         "Neil Ducich",
         2017,
         379.25
        ],
        [
         "Neil Franzsisch",
         2014,
         31.87
        ],
        [
         "Neil Franzsisch",
         2015,
         72.89
        ],
        [
         "Neil Franzsisch",
         2016,
         -18.84
        ],
        [
         "Neil Knudson",
         2015,
         1.79
        ],
        [
         "Neil Knudson",
         2016,
         39.41
        ],
        [
         "Neil Knudson",
         2017,
         80.03
        ],
        [
         "Neola Schneider",
         2016,
         19.55
        ],
        [
         "Neola Schneider",
         2017,
         -31.86
        ],
        [
         "Neoma Murray",
         2015,
         -26.66
        ],
        [
         "Neoma Murray",
         2016,
         812.79
        ],
        [
         "Neoma Murray",
         2017,
         2.82
        ],
        [
         "Nick Crebassa",
         2014,
         690.2
        ],
        [
         "Nick Crebassa",
         2016,
         16.79
        ],
        [
         "Nick Crebassa",
         2017,
         607.03
        ],
        [
         "Nick Radford",
         2014,
         -123.79
        ],
        [
         "Nick Radford",
         2016,
         50.59
        ],
        [
         "Nick Radford",
         2017,
         48.07
        ],
        [
         "Nick Zandusky",
         2014,
         248.03
        ],
        [
         "Nick Zandusky",
         2015,
         82.82
        ],
        [
         "Nick Zandusky",
         2016,
         -30.61
        ],
        [
         "Nick Zandusky",
         2017,
         102.32
        ],
        [
         "Nicole Brennan",
         2014,
         24.79
        ],
        [
         "Nicole Fjeld",
         2014,
         42.35
        ],
        [
         "Nicole Fjeld",
         2015,
         258.1
        ],
        [
         "Nicole Fjeld",
         2017,
         87.86
        ],
        [
         "Nicole Hansen",
         2014,
         33.2
        ],
        [
         "Nicole Hansen",
         2015,
         85.83
        ],
        [
         "Nicole Hansen",
         2016,
         5.18
        ],
        [
         "Nicole Hansen",
         2017,
         635.96
        ],
        [
         "Noah Childs",
         2014,
         36.66
        ],
        [
         "Noah Childs",
         2015,
         16.85
        ],
        [
         "Noah Childs",
         2016,
         -461.2
        ],
        [
         "Noah Childs",
         2017,
         48.78
        ],
        [
         "Noel Staavos",
         2014,
         11.2
        ],
        [
         "Noel Staavos",
         2015,
         151.68
        ],
        [
         "Noel Staavos",
         2016,
         -298.25
        ],
        [
         "Noel Staavos",
         2017,
         -99.52
        ],
        [
         "Nona Balk",
         2014,
         87.38
        ],
        [
         "Nona Balk",
         2015,
         127.06
        ],
        [
         "Nona Balk",
         2016,
         -157.96
        ],
        [
         "Nona Balk",
         2017,
         61.16
        ],
        [
         "Nora Pelletier",
         2014,
         33.64
        ],
        [
         "Nora Pelletier",
         2015,
         449.44
        ],
        [
         "Nora Pelletier",
         2016,
         31.42
        ],
        [
         "Nora Preis",
         2014,
         285.95
        ],
        [
         "Nora Preis",
         2016,
         272.92
        ],
        [
         "Nora Preis",
         2017,
         71.95
        ],
        [
         "Nra Paige",
         2015,
         80.84
        ],
        [
         "Nra Paige",
         2016,
         246.1
        ],
        [
         "Nra Paige",
         2017,
         186.21
        ],
        [
         "Odella Nelson",
         2014,
         183.11
        ],
        [
         "Odella Nelson",
         2015,
         -31.11
        ],
        [
         "Odella Nelson",
         2016,
         -157.53
        ],
        [
         "Olvera Toch",
         2015,
         81.0
        ],
        [
         "Olvera Toch",
         2016,
         -1182.11
        ],
        [
         "Olvera Toch",
         2017,
         175.55
        ],
        [
         "Pamela Coakley",
         2014,
         196.69
        ],
        [
         "Pamela Coakley",
         2016,
         76.98
        ],
        [
         "Pamela Coakley",
         2017,
         -0.99
        ],
        [
         "Pamela Stobb",
         2014,
         11.88
        ],
        [
         "Pamela Stobb",
         2015,
         -113.1
        ],
        [
         "Pamela Stobb",
         2016,
         133.3
        ],
        [
         "Pamela Stobb",
         2017,
         -166.52
        ],
        [
         "Parhena Norris",
         2015,
         6.46
        ],
        [
         "Parhena Norris",
         2016,
         137.23
        ],
        [
         "Parhena Norris",
         2017,
         48.35
        ],
        [
         "Patricia Hirasaki",
         2017,
         47.89
        ],
        [
         "Patrick Bzostek",
         2015,
         7.56
        ],
        [
         "Patrick Bzostek",
         2016,
         95.85
        ],
        [
         "Patrick Bzostek",
         2017,
         125.36
        ],
        [
         "Patrick Gardner",
         2014,
         54.45
        ],
        [
         "Patrick Gardner",
         2015,
         -564.68
        ],
        [
         "Patrick Gardner",
         2016,
         551.3
        ],
        [
         "Patrick Gardner",
         2017,
         96.42
        ],
        [
         "Patrick Jones",
         2014,
         7.95
        ],
        [
         "Patrick Jones",
         2015,
         382.38
        ],
        [
         "Patrick Jones",
         2016,
         8.2
        ],
        [
         "Patrick Jones",
         2017,
         43.61
        ],
        [
         "Patrick OBrill",
         2014,
         56.31
        ],
        [
         "Patrick OBrill",
         2015,
         7.32
        ],
        [
         "Patrick OBrill",
         2016,
         -316.63
        ],
        [
         "Patrick OBrill",
         2017,
         290.64
        ],
        [
         "Patrick ODonnell",
         2014,
         132.18
        ],
        [
         "Patrick ODonnell",
         2016,
         67.6
        ],
        [
         "Patrick ODonnell",
         2017,
         238.16
        ],
        [
         "Patrick Ryan",
         2014,
         2.0
        ],
        [
         "Patrick Ryan",
         2015,
         38.27
        ],
        [
         "Patrick Ryan",
         2017,
         5555.93
        ],
        [
         "Paul Gonzalez",
         2014,
         -70.73
        ],
        [
         "Paul Gonzalez",
         2015,
         174.73
        ],
        [
         "Paul Gonzalez",
         2016,
         10.71
        ],
        [
         "Paul Gonzalez",
         2017,
         220.26
        ],
        [
         "Paul Knutson",
         2014,
         9.07
        ],
        [
         "Paul Knutson",
         2016,
         -807.78
        ],
        [
         "Paul Lucas",
         2014,
         31.83
        ],
        [
         "Paul Lucas",
         2016,
         -13.65
        ],
        [
         "Paul Lucas",
         2017,
         -18.94
        ],
        [
         "Paul MacIntyre",
         2014,
         21.06
        ],
        [
         "Paul MacIntyre",
         2015,
         -21.71
        ],
        [
         "Paul MacIntyre",
         2016,
         158.53
        ],
        [
         "Paul Prost",
         2014,
         472.39
        ],
        [
         "Paul Prost",
         2015,
         67.56
        ],
        [
         "Paul Prost",
         2016,
         707.59
        ],
        [
         "Paul Prost",
         2017,
         247.93
        ],
        [
         "Paul Stevenson",
         2014,
         108.0
        ],
        [
         "Paul Stevenson",
         2015,
         42.15
        ],
        [
         "Paul Stevenson",
         2016,
         3.44
        ],
        [
         "Paul Stevenson",
         2017,
         44.94
        ],
        [
         "Paul Van Hugh",
         2014,
         -4.56
        ],
        [
         "Paul Van Hugh",
         2016,
         155.32
        ],
        [
         "Paul Van Hugh",
         2017,
         283.49
        ],
        [
         "Pauline Chand",
         2014,
         -11.83
        ],
        [
         "Pauline Chand",
         2015,
         -172.51
        ],
        [
         "Pauline Johnson",
         2014,
         2.78
        ],
        [
         "Pauline Johnson",
         2015,
         40.07
        ],
        [
         "Pauline Johnson",
         2016,
         30.4
        ],
        [
         "Pauline Johnson",
         2017,
         609.43
        ],
        [
         "Pauline Webber",
         2014,
         17.47
        ],
        [
         "Pauline Webber",
         2015,
         15.15
        ],
        [
         "Pauline Webber",
         2016,
         437.4
        ],
        [
         "Pauline Webber",
         2017,
         333.8
        ],
        [
         "Penelope Sewall",
         2014,
         623.2
        ],
        [
         "Penelope Sewall",
         2015,
         1493.94
        ],
        [
         "Penelope Sewall",
         2016,
         6.32
        ],
        [
         "Penelope Sewall",
         2017,
         1060.32
        ],
        [
         "Pete Armstrong",
         2014,
         45.84
        ],
        [
         "Pete Armstrong",
         2015,
         121.57
        ],
        [
         "Pete Armstrong",
         2016,
         22.56
        ],
        [
         "Pete Armstrong",
         2017,
         35.89
        ],
        [
         "Pete Kriz",
         2014,
         13.32
        ],
        [
         "Pete Kriz",
         2016,
         407.41
        ],
        [
         "Pete Kriz",
         2017,
         1617.17
        ],
        [
         "Pete Takahito",
         2014,
         -8.03
        ],
        [
         "Pete Takahito",
         2016,
         -17.52
        ],
        [
         "Pete Takahito",
         2017,
         5.5
        ],
        [
         "Peter Bhler",
         2014,
         204.07
        ],
        [
         "Peter Bhler",
         2016,
         0.9
        ],
        [
         "Peter Bhler",
         2017,
         13.19
        ],
        [
         "Peter Fuller",
         2014,
         17.68
        ],
        [
         "Peter Fuller",
         2015,
         -631.7
        ],
        [
         "Peter McVee",
         2015,
         426.81
        ],
        [
         "Peter McVee",
         2016,
         30.35
        ],
        [
         "Peter McVee",
         2017,
         69.6
        ],
        [
         "Philip Brown",
         2014,
         12.3
        ],
        [
         "Philip Brown",
         2015,
         157.66
        ],
        [
         "Philip Brown",
         2016,
         38.38
        ],
        [
         "Philip Brown",
         2017,
         71.93
        ],
        [
         "Philip Fox",
         2014,
         -407.68
        ],
        [
         "Philip Fox",
         2015,
         75.23
        ],
        [
         "Philip Fox",
         2016,
         478.68
        ],
        [
         "Philip Fox",
         2017,
         50.65
        ],
        [
         "Philisse Overcash",
         2015,
         823.24
        ],
        [
         "Philisse Overcash",
         2016,
         178.45
        ],
        [
         "Philisse Overcash",
         2017,
         153.55
        ],
        [
         "Phillina Ober",
         2014,
         -65.99
        ],
        [
         "Phillina Ober",
         2015,
         -12.5
        ],
        [
         "Phillina Ober",
         2017,
         28.8
        ],
        [
         "Phillip Breyer",
         2014,
         21.2
        ],
        [
         "Phillip Breyer",
         2016,
         0.7
        ],
        [
         "Phillip Flathmann",
         2016,
         513.27
        ],
        [
         "Phillip Flathmann",
         2017,
         78.02
        ],
        [
         "Pierre Wener",
         2014,
         -86.27
        ],
        [
         "Pierre Wener",
         2015,
         1378.01
        ],
        [
         "Pierre Wener",
         2016,
         -0.59
        ],
        [
         "Quincy Jones",
         2014,
         120.04
        ],
        [
         "Quincy Jones",
         2015,
         1014.47
        ],
        [
         "Quincy Jones",
         2016,
         168.88
        ],
        [
         "Quincy Jones",
         2017,
         -99.7
        ],
        [
         "Rachel Payne",
         2014,
         97.86
        ],
        [
         "Rachel Payne",
         2015,
         -50.04
        ],
        [
         "Rachel Payne",
         2016,
         11.7
        ],
        [
         "Ralph Arnett",
         2014,
         0.0
        ],
        [
         "Ralph Arnett",
         2015,
         234.81
        ],
        [
         "Ralph Arnett",
         2016,
         -6.57
        ],
        [
         "Ralph Arnett",
         2017,
         317.48
        ],
        [
         "Ralph Kennedy",
         2015,
         265.58
        ],
        [
         "Ralph Kennedy",
         2017,
         4.11
        ],
        [
         "Ralph Ritter",
         2016,
         3.47
        ],
        [
         "Ralph Ritter",
         2017,
         -77.3
        ],
        [
         "Randy Bradley",
         2014,
         -90.1
        ],
        [
         "Randy Bradley",
         2017,
         -74.31
        ],
        [
         "Randy Ferguson",
         2014,
         92.94
        ],
        [
         "Randy Ferguson",
         2015,
         102.01
        ],
        [
         "Randy Ferguson",
         2016,
         438.73
        ],
        [
         "Raymond Buch",
         2016,
         195.46
        ],
        [
         "Raymond Buch",
         2017,
         6780.9
        ],
        [
         "Raymond Messe",
         2014,
         13.83
        ],
        [
         "Raymond Messe",
         2015,
         19.97
        ],
        [
         "Raymond Messe",
         2016,
         162.05
        ],
        [
         "Raymond Messe",
         2017,
         196.75
        ],
        [
         "Resi Plking",
         2014,
         262.81
        ],
        [
         "Resi Plking",
         2015,
         19.71
        ],
        [
         "Resi Plking",
         2016,
         154.14
        ],
        [
         "Resi Plking",
         2017,
         28.3
        ],
        [
         "Ricardo Emerson",
         2014,
         6.05
        ],
        [
         "Ricardo Sperren",
         2014,
         318.93
        ],
        [
         "Ricardo Sperren",
         2016,
         14.42
        ],
        [
         "Ricardo Sperren",
         2017,
         300.1
        ],
        [
         "Richard Bierner",
         2014,
         65.12
        ],
        [
         "Richard Bierner",
         2015,
         49.57
        ],
        [
         "Richard Bierner",
         2017,
         362.94
        ],
        [
         "Richard Eichhorn",
         2014,
         -24.87
        ],
        [
         "Richard Eichhorn",
         2015,
         211.06
        ],
        [
         "Richard Eichhorn",
         2016,
         13.32
        ],
        [
         "Richard Eichhorn",
         2017,
         9.74
        ],
        [
         "Rick Bensley",
         2014,
         336.96
        ],
        [
         "Rick Bensley",
         2016,
         123.81
        ],
        [
         "Rick Bensley",
         2017,
         179.78
        ],
        [
         "Rick Duston",
         2014,
         109.52
        ],
        [
         "Rick Duston",
         2015,
         25.41
        ],
        [
         "Rick Duston",
         2016,
         69.39
        ],
        [
         "Rick Duston",
         2017,
         276.27
        ],
        [
         "Rick Hansen",
         2014,
         34.94
        ],
        [
         "Rick Hansen",
         2015,
         480.63
        ],
        [
         "Rick Hansen",
         2017,
         48.21
        ],
        [
         "Rick Huthwaite",
         2014,
         10.96
        ],
        [
         "Rick Huthwaite",
         2015,
         125.67
        ],
        [
         "Rick Huthwaite",
         2016,
         1152.82
        ],
        [
         "Rick Reed",
         2014,
         543.57
        ],
        [
         "Rick Reed",
         2015,
         32.5
        ],
        [
         "Rick Reed",
         2016,
         45.68
        ],
        [
         "Rick Reed",
         2017,
         99.94
        ],
        [
         "Rick Wilson",
         2015,
         -74.62
        ],
        [
         "Rick Wilson",
         2017,
         1660.85
        ],
        [
         "Ritsa Hightower",
         2015,
         -6.03
        ],
        [
         "Ritsa Hightower",
         2016,
         6.34
        ],
        [
         "Rob Beeghly",
         2016,
         -5.98
        ],
        [
         "Rob Beeghly",
         2017,
         82.88
        ],
        [
         "Rob Dowd",
         2014,
         341.38
        ],
        [
         "Rob Dowd",
         2015,
         302.64
        ],
        [
         "Rob Dowd",
         2016,
         24.23
        ],
        [
         "Rob Dowd",
         2017,
         66.27
        ],
        [
         "Rob Haberlin",
         2015,
         165.38
        ],
        [
         "Rob Haberlin",
         2016,
         7.25
        ],
        [
         "Rob Lucas",
         2014,
         42.29
        ],
        [
         "Rob Lucas",
         2015,
         110.11
        ],
        [
         "Rob Lucas",
         2016,
         -6.57
        ],
        [
         "Rob Lucas",
         2017,
         68.15
        ],
        [
         "Rob Williams",
         2014,
         30.78
        ],
        [
         "Rob Williams",
         2016,
         346.37
        ],
        [
         "Rob Williams",
         2017,
         321.91
        ],
        [
         "Robert Barroso",
         2014,
         24.92
        ],
        [
         "Robert Barroso",
         2015,
         28.43
        ],
        [
         "Robert Barroso",
         2016,
         19.33
        ],
        [
         "Robert Dilbeck",
         2015,
         -73.41
        ],
        [
         "Robert Dilbeck",
         2016,
         151.77
        ],
        [
         "Robert Dilbeck",
         2017,
         757.41
        ],
        [
         "Robert Marley",
         2014,
         200.12
        ],
        [
         "Robert Marley",
         2015,
         660.52
        ],
        [
         "Robert Marley",
         2017,
         1041.91
        ],
        [
         "Robert Waldorf",
         2016,
         -2.63
        ],
        [
         "Robert Waldorf",
         2017,
         710.18
        ],
        [
         "Roger Barcio",
         2015,
         -82.78
        ],
        [
         "Roger Barcio",
         2017,
         325.86
        ],
        [
         "Roger Demir",
         2014,
         73.68
        ],
        [
         "Roger Demir",
         2015,
         23.85
        ],
        [
         "Roger Demir",
         2016,
         31.2
        ],
        [
         "Roger Demir",
         2017,
         78.99
        ],
        [
         "Roland Fjeld",
         2014,
         22.65
        ],
        [
         "Roland Fjeld",
         2015,
         187.1
        ],
        [
         "Roland Fjeld",
         2016,
         110.62
        ],
        [
         "Roland Fjeld",
         2017,
         391.47
        ],
        [
         "Roland Murray",
         2017,
         28.68
        ],
        [
         "Roland Schwarz",
         2014,
         552.0
        ],
        [
         "Roland Schwarz",
         2015,
         5.01
        ],
        [
         "Roland Schwarz",
         2017,
         649.38
        ],
        [
         "Rose OBrian",
         2015,
         -998.0
        ],
        [
         "Rose OBrian",
         2016,
         -90.48
        ],
        [
         "Rose OBrian",
         2017,
         -174.32
        ],
        [
         "Ross Baird",
         2014,
         7.49
        ],
        [
         "Ross Baird",
         2015,
         -18.46
        ],
        [
         "Ross Baird",
         2016,
         51.79
        ],
        [
         "Ross Baird",
         2017,
         -502.56
        ],
        [
         "Ross DeVincentis",
         2014,
         7.66
        ],
        [
         "Ross DeVincentis",
         2016,
         115.76
        ],
        [
         "Ross DeVincentis",
         2017,
         195.03
        ],
        [
         "Roy Collins",
         2014,
         6.88
        ],
        [
         "Roy Collins",
         2016,
         56.69
        ],
        [
         "Roy Franzsisch",
         2014,
         16.17
        ],
        [
         "Roy Franzsisch",
         2015,
         0.06
        ],
        [
         "Roy Franzsisch",
         2016,
         264.16
        ],
        [
         "Roy Franzsisch",
         2017,
         -0.3
        ],
        [
         "Roy Phan",
         2014,
         56.53
        ],
        [
         "Roy Phan",
         2015,
         375.38
        ],
        [
         "Roy Phan",
         2016,
         143.06
        ],
        [
         "Roy Phan",
         2017,
         19.81
        ],
        [
         "Roy Skaria",
         2016,
         3.5
        ],
        [
         "Roy Skaria",
         2017,
         6.08
        ],
        [
         "Ruben Ausman",
         2014,
         776.48
        ],
        [
         "Ruben Ausman",
         2015,
         1.67
        ],
        [
         "Ruben Ausman",
         2016,
         3.89
        ],
        [
         "Ruben Ausman",
         2017,
         510.77
        ],
        [
         "Ruben Dartt",
         2014,
         186.49
        ],
        [
         "Ruben Dartt",
         2015,
         9.09
        ],
        [
         "Ruben Dartt",
         2016,
         177.1
        ],
        [
         "Ruben Dartt",
         2017,
         82.84
        ],
        [
         "Russell Applegate",
         2014,
         278.43
        ],
        [
         "Russell Applegate",
         2015,
         -118.15
        ],
        [
         "Russell Applegate",
         2016,
         115.46
        ],
        [
         "Russell Applegate",
         2017,
         29.55
        ],
        [
         "Russell DAscenzo",
         2014,
         -23.29
        ],
        [
         "Russell DAscenzo",
         2015,
         39.0
        ],
        [
         "Russell DAscenzo",
         2017,
         19.33
        ],
        [
         "Ryan Akin",
         2014,
         -436.73
        ],
        [
         "Ryan Akin",
         2015,
         96.54
        ],
        [
         "Ryan Akin",
         2017,
         -105.5
        ],
        [
         "Ryan Crowe",
         2014,
         -98.43
        ],
        [
         "Ryan Crowe",
         2016,
         102.93
        ],
        [
         "Ryan Crowe",
         2017,
         6.04
        ],
        [
         "Sally Knutson",
         2016,
         3.44
        ],
        [
         "Sally Knutson",
         2017,
         165.35
        ],
        [
         "Sally Matthias",
         2014,
         51.25
        ],
        [
         "Sally Matthias",
         2016,
         -77.84
        ],
        [
         "Sam Craven",
         2014,
         -360.83
        ],
        [
         "Sam Craven",
         2015,
         43.32
        ],
        [
         "Sam Zeldin",
         2014,
         6.49
        ],
        [
         "Sam Zeldin",
         2015,
         260.19
        ],
        [
         "Sam Zeldin",
         2016,
         49.32
        ],
        [
         "Sam Zeldin",
         2017,
         50.42
        ],
        [
         "Sample Company A",
         2014,
         764.53
        ],
        [
         "Sample Company A",
         2015,
         9.1
        ],
        [
         "Sample Company A",
         2016,
         146.65
        ],
        [
         "Sample Company A",
         2017,
         91.45
        ],
        [
         "Sandra Flanagan",
         2014,
         98.59
        ],
        [
         "Sandra Flanagan",
         2015,
         15.98
        ],
        [
         "Sandra Flanagan",
         2016,
         3.06
        ],
        [
         "Sandra Flanagan",
         2017,
         110.13
        ],
        [
         "Sandra Glassco",
         2015,
         352.2
        ],
        [
         "Sandra Glassco",
         2017,
         218.25
        ],
        [
         "Sanjit Chand",
         2014,
         5462.59
        ],
        [
         "Sanjit Chand",
         2015,
         92.68
        ],
        [
         "Sanjit Chand",
         2016,
         196.19
        ],
        [
         "Sanjit Chand",
         2017,
         5.84
        ],
        [
         "Sanjit Engle",
         2014,
         54.41
        ],
        [
         "Sanjit Engle",
         2015,
         159.32
        ],
        [
         "Sanjit Engle",
         2016,
         2673.77
        ],
        [
         "Sanjit Engle",
         2017,
         -236.83
        ],
        [
         "Sanjit Jacobs",
         2015,
         -65.82
        ],
        [
         "Sanjit Jacobs",
         2016,
         266.13
        ],
        [
         "Sanjit Jacobs",
         2017,
         -56.58
        ],
        [
         "Saphhira Shifley",
         2014,
         -88.04
        ],
        [
         "Saphhira Shifley",
         2015,
         25.79
        ],
        [
         "Saphhira Shifley",
         2016,
         6.55
        ],
        [
         "Saphhira Shifley",
         2017,
         387.73
        ],
        [
         "Sara Luxemburg",
         2014,
         22.25
        ],
        [
         "Sara Luxemburg",
         2015,
         64.77
        ],
        [
         "Sara Luxemburg",
         2016,
         3.11
        ],
        [
         "Sara Luxemburg",
         2017,
         437.91
        ],
        [
         "Sarah Bern",
         2014,
         -33.39
        ],
        [
         "Sarah Bern",
         2017,
         191.07
        ],
        [
         "Sarah Brown",
         2014,
         -66.52
        ],
        [
         "Sarah Brown",
         2015,
         939.16
        ],
        [
         "Sarah Brown",
         2017,
         13.32
        ],
        [
         "Sarah Foster",
         2014,
         58.03
        ],
        [
         "Sarah Foster",
         2015,
         -87.01
        ],
        [
         "Sarah Foster",
         2016,
         21.14
        ],
        [
         "Sarah Foster",
         2017,
         294.84
        ],
        [
         "Sarah Jordon",
         2015,
         5.9
        ],
        [
         "Sarah Jordon",
         2016,
         -3.24
        ],
        [
         "Sarah Jordon",
         2017,
         -26.04
        ],
        [
         "Scot Coram",
         2016,
         435.65
        ],
        [
         "Scot Coram",
         2017,
         4.18
        ],
        [
         "Scot Wooten",
         2014,
         -27.2
        ],
        [
         "Scot Wooten",
         2015,
         -10.84
        ],
        [
         "Scot Wooten",
         2016,
         82.53
        ],
        [
         "Scot Wooten",
         2017,
         -64.07
        ],
        [
         "Scott Cohen",
         2014,
         96.77
        ],
        [
         "Scott Cohen",
         2015,
         373.95
        ],
        [
         "Scott Cohen",
         2017,
         200.26
        ],
        [
         "Scott Williamson",
         2014,
         11.0
        ],
        [
         "Scott Williamson",
         2016,
         221.48
        ],
        [
         "Scott Williamson",
         2017,
         100.28
        ],
        [
         "Sean Braxton",
         2014,
         -1272.35
        ],
        [
         "Sean Braxton",
         2015,
         79.76
        ],
        [
         "Sean Braxton",
         2016,
         16.89
        ],
        [
         "Sean Braxton",
         2017,
         -907.05
        ],
        [
         "Sean Christensen",
         2014,
         93.4
        ],
        [
         "Sean Christensen",
         2015,
         0.0
        ],
        [
         "Sean Christensen",
         2016,
         37.46
        ],
        [
         "Sean Christensen",
         2017,
         98.25
        ],
        [
         "Sean Miller",
         2014,
         -1789.74
        ],
        [
         "Sean Miller",
         2015,
         -225.52
        ],
        [
         "Sean Miller",
         2017,
         34.28
        ],
        [
         "Sean ODonnell",
         2015,
         -282.31
        ],
        [
         "Sean ODonnell",
         2017,
         200.89
        ],
        [
         "Sean Wendt",
         2016,
         146.09
        ],
        [
         "Sean Wendt",
         2017,
         -50.25
        ],
        [
         "Seth Vernon",
         2014,
         -218.93
        ],
        [
         "Seth Vernon",
         2015,
         -191.64
        ],
        [
         "Seth Vernon",
         2016,
         39.77
        ],
        [
         "Seth Vernon",
         2017,
         1570.94
        ],
        [
         "Shahi Collister",
         2014,
         -3462.2
        ],
        [
         "Shahi Collister",
         2015,
         52.91
        ],
        [
         "Shahi Collister",
         2016,
         -25.0
        ],
        [
         "Shahi Collister",
         2017,
         270.29
        ],
        [
         "Shahi Hopkins",
         2014,
         -252.19
        ],
        [
         "Shahi Hopkins",
         2015,
         2.24
        ],
        [
         "Shahi Hopkins",
         2016,
         -1.48
        ],
        [
         "Shahi Hopkins",
         2017,
         106.91
        ],
        [
         "Shahi Shariari",
         2014,
         -565.75
        ],
        [
         "Shahi Shariari",
         2015,
         -504.24
        ],
        [
         "Shahi Shariari",
         2017,
         58.91
        ],
        [
         "Sharelle Roach",
         2014,
         57.49
        ],
        [
         "Sharelle Roach",
         2017,
         -3391.66
        ],
        [
         "Shaun Chance",
         2015,
         375.28
        ],
        [
         "Shaun Chance",
         2017,
         4.29
        ],
        [
         "Shaun Weien",
         2015,
         618.44
        ],
        [
         "Shaun Weien",
         2016,
         125.2
        ],
        [
         "Shaun Weien",
         2017,
         50.0
        ],
        [
         "Sheri Gordon",
         2014,
         150.92
        ],
        [
         "Sheri Gordon",
         2015,
         44.5
        ],
        [
         "Sheri Gordon",
         2016,
         -18.45
        ],
        [
         "Sheri Gordon",
         2017,
         -295.98
        ],
        [
         "Shirley Daniels",
         2014,
         122.77
        ],
        [
         "Shirley Daniels",
         2015,
         1954.8
        ],
        [
         "Shirley Daniels",
         2016,
         20.82
        ],
        [
         "Shirley Daniels",
         2017,
         -113.2
        ],
        [
         "Shirley Jackson",
         2014,
         57.93
        ],
        [
         "Shirley Jackson",
         2016,
         253.82
        ],
        [
         "Shirley Jackson",
         2017,
         -243.16
        ],
        [
         "Shirley Schmidt",
         2014,
         11.05
        ],
        [
         "Shirley Schmidt",
         2015,
         174.01
        ],
        [
         "Shirley Schmidt",
         2016,
         14.87
        ],
        [
         "Shui Tom",
         2014,
         45.32
        ],
        [
         "Shui Tom",
         2015,
         27.01
        ],
        [
         "Shui Tom",
         2017,
         12.79
        ],
        [
         "Sibella Parks",
         2014,
         2.81
        ],
        [
         "Sibella Parks",
         2016,
         -203.15
        ],
        [
         "Sibella Parks",
         2017,
         81.96
        ],
        [
         "Skye Norling",
         2015,
         184.58
        ],
        [
         "Skye Norling",
         2016,
         229.01
        ],
        [
         "Skye Norling",
         2017,
         -1130.43
        ],
        [
         "Sonia Cooley",
         2014,
         32.39
        ],
        [
         "Sonia Cooley",
         2015,
         -2.43
        ],
        [
         "Sonia Cooley",
         2017,
         70.27
        ],
        [
         "Sonia Sunley",
         2014,
         15.51
        ],
        [
         "Sonia Sunley",
         2015,
         8.02
        ],
        [
         "Sonia Sunley",
         2016,
         112.38
        ],
        [
         "Speros Goranitis",
         2014,
         274.85
        ],
        [
         "Speros Goranitis",
         2015,
         162.96
        ],
        [
         "Speros Goranitis",
         2017,
         25.46
        ],
        [
         "Stefania Perrino",
         2014,
         67.46
        ],
        [
         "Stefania Perrino",
         2015,
         -0.62
        ],
        [
         "Stefania Perrino",
         2016,
         -171.23
        ],
        [
         "Stefania Perrino",
         2017,
         -165.8
        ],
        [
         "Stefanie Holloman",
         2014,
         70.2
        ],
        [
         "Stefanie Holloman",
         2015,
         190.43
        ],
        [
         "Stephanie Phelps",
         2014,
         72.4
        ],
        [
         "Stephanie Phelps",
         2015,
         95.84
        ],
        [
         "Stephanie Phelps",
         2016,
         100.23
        ],
        [
         "Stephanie Ulpright",
         2015,
         76.4
        ],
        [
         "Stephanie Ulpright",
         2016,
         64.19
        ],
        [
         "Stephanie Ulpright",
         2017,
         623.11
        ],
        [
         "Steve Carroll",
         2014,
         31.53
        ],
        [
         "Steve Carroll",
         2015,
         213.7
        ],
        [
         "Steve Carroll",
         2016,
         109.82
        ],
        [
         "Steve Carroll",
         2017,
         15.12
        ],
        [
         "Steve Chapman",
         2014,
         52.53
        ],
        [
         "Steve Chapman",
         2015,
         222.93
        ],
        [
         "Steve Chapman",
         2016,
         347.96
        ],
        [
         "Steve Chapman",
         2017,
         -11.6
        ],
        [
         "Steve Nguyen",
         2014,
         32.94
        ],
        [
         "Steve Nguyen",
         2015,
         91.22
        ],
        [
         "Steve Nguyen",
         2016,
         375.78
        ],
        [
         "Steve Nguyen",
         2017,
         -18.19
        ],
        [
         "Steven Cartwright",
         2014,
         114.84
        ],
        [
         "Steven Cartwright",
         2015,
         404.63
        ],
        [
         "Steven Cartwright",
         2016,
         273.18
        ],
        [
         "Steven Cartwright",
         2017,
         483.77
        ],
        [
         "Steven Roelle",
         2014,
         130.18
        ],
        [
         "Steven Roelle",
         2015,
         2.4
        ],
        [
         "Steven Roelle",
         2016,
         181.53
        ],
        [
         "Steven Roelle",
         2017,
         1676.32
        ],
        [
         "Steven Ward",
         2014,
         19.72
        ],
        [
         "Steven Ward",
         2016,
         48.52
        ],
        [
         "Stewart Carmichael",
         2015,
         147.72
        ],
        [
         "Stewart Carmichael",
         2016,
         -734.27
        ],
        [
         "Stewart Carmichael",
         2017,
         -84.83
        ],
        [
         "Stewart Visinsky",
         2014,
         189.13
        ],
        [
         "Stewart Visinsky",
         2015,
         209.66
        ],
        [
         "Stewart Visinsky",
         2016,
         76.77
        ],
        [
         "Stewart Visinsky",
         2017,
         9.29
        ],
        [
         "Stuart Calhoun",
         2015,
         40.63
        ],
        [
         "Stuart Calhoun",
         2016,
         9.0
        ],
        [
         "Stuart Calhoun",
         2017,
         2.58
        ],
        [
         "Stuart Van",
         2015,
         184.2
        ],
        [
         "Stuart Van",
         2016,
         11.24
        ],
        [
         "Stuart Van",
         2017,
         4.2
        ],
        [
         "Sue Ann Reed",
         2014,
         351.32
        ],
        [
         "Sue Ann Reed",
         2015,
         98.08
        ],
        [
         "Sue Ann Reed",
         2016,
         -17.11
        ],
        [
         "Sue Ann Reed",
         2017,
         177.85
        ],
        [
         "Sung Chung",
         2016,
         1.23
        ],
        [
         "Sung Chung",
         2017,
         29.95
        ],
        [
         "Sung Pak",
         2014,
         1.19
        ],
        [
         "Sung Pak",
         2015,
         -65.06
        ],
        [
         "Sung Pak",
         2016,
         619.14
        ],
        [
         "Sung Pak",
         2017,
         11.85
        ],
        [
         "Sung Shariari",
         2014,
         -9.15
        ],
        [
         "Sung Shariari",
         2015,
         -79.33
        ],
        [
         "Sung Shariari",
         2016,
         -1.91
        ],
        [
         "Sung Shariari",
         2017,
         14.82
        ],
        [
         "Susan Gilcrest",
         2014,
         2.94
        ],
        [
         "Susan Gilcrest",
         2016,
         6.63
        ],
        [
         "Susan Gilcrest",
         2017,
         -13.27
        ],
        [
         "Susan MacKendrick",
         2016,
         -16510.34
        ],
        [
         "Susan Pistek",
         2014,
         24.22
        ],
        [
         "Susan Pistek",
         2016,
         8.7
        ],
        [
         "Susan Pistek",
         2017,
         -18.55
        ],
        [
         "Susan Vittorini",
         2016,
         -30.2
        ],
        [
         "Susan Vittorini",
         2017,
         136.82
        ],
        [
         "Suzanne McNair",
         2014,
         -372.11
        ],
        [
         "Suzanne McNair",
         2015,
         468.4
        ],
        [
         "Suzanne McNair",
         2016,
         43.0
        ],
        [
         "Suzanne McNair",
         2017,
         442.28
        ],
        [
         "Sylvia Foulston",
         2014,
         12.27
        ],
        [
         "Sylvia Foulston",
         2015,
         448.98
        ],
        [
         "Sylvia Foulston",
         2016,
         70.2
        ],
        [
         "Sylvia Foulston",
         2017,
         8.49
        ],
        [
         "Tamara Chand",
         2014,
         178.65
        ],
        [
         "Tamara Chand",
         2015,
         37.72
        ],
        [
         "Tamara Chand",
         2016,
         8764.95
        ],
        [
         "Tamara Dahlen",
         2014,
         9.23
        ],
        [
         "Tamara Dahlen",
         2015,
         -4.52
        ],
        [
         "Tamara Dahlen",
         2016,
         70.25
        ],
        [
         "Tamara Dahlen",
         2017,
         13.68
        ],
        [
         "Tamara Manning",
         2014,
         112.58
        ],
        [
         "Tamara Manning",
         2015,
         255.04
        ],
        [
         "Tamara Manning",
         2017,
         205.84
        ],
        [
         "Tamara Willingham",
         2014,
         100.14
        ],
        [
         "Tamara Willingham",
         2015,
         610.3
        ],
        [
         "Tamara Willingham",
         2016,
         33.01
        ],
        [
         "Tamara Willingham",
         2017,
         -6.06
        ],
        [
         "Tanja Norvell",
         2014,
         21.25
        ],
        [
         "Tanja Norvell",
         2015,
         167.98
        ],
        [
         "Tanja Norvell",
         2016,
         -903.28
        ],
        [
         "Tanja Norvell",
         2017,
         22.0
        ],
        [
         "Ted Butterfield",
         2016,
         267.71
        ],
        [
         "Ted Butterfield",
         2017,
         122.05
        ],
        [
         "Ted Trevino",
         2014,
         121.4
        ],
        [
         "Ted Trevino",
         2015,
         205.15
        ],
        [
         "Ted Trevino",
         2016,
         2.69
        ],
        [
         "Ted Trevino",
         2017,
         422.93
        ],
        [
         "Thais Sissman",
         2015,
         -1.35
        ],
        [
         "Thais Sissman",
         2017,
         -1.97
        ],
        [
         "Thea Hendricks",
         2014,
         -155.27
        ],
        [
         "Thea Hendricks",
         2015,
         0.81
        ],
        [
         "Thea Hendricks",
         2016,
         9.19
        ],
        [
         "Thea Hendricks",
         2017,
         10.05
        ],
        [
         "Thea Hudgings",
         2014,
         5.45
        ],
        [
         "Thea Hudgings",
         2016,
         -76.64
        ],
        [
         "Thea Hudgings",
         2017,
         -181.36
        ],
        [
         "Theone Pippenger",
         2015,
         -1.85
        ],
        [
         "Theone Pippenger",
         2016,
         376.74
        ],
        [
         "Theone Pippenger",
         2017,
         753.76
        ],
        [
         "Theresa Coyne",
         2017,
         265.59
        ],
        [
         "Theresa Swint",
         2014,
         -2.0
        ],
        [
         "Theresa Swint",
         2015,
         311.54
        ],
        [
         "Theresa Swint",
         2016,
         -48.91
        ],
        [
         "Thomas Boland",
         2014,
         6.04
        ],
        [
         "Thomas Boland",
         2016,
         -6.98
        ],
        [
         "Thomas Boland",
         2017,
         829.65
        ],
        [
         "Thomas Brumley",
         2014,
         161.97
        ],
        [
         "Thomas Brumley",
         2015,
         3.06
        ],
        [
         "Thomas Brumley",
         2017,
         13.98
        ],
        [
         "Thomas Seio",
         2014,
         471.81
        ],
        [
         "Thomas Seio",
         2016,
         104.77
        ],
        [
         "Thomas Seio",
         2017,
         286.36
        ],
        [
         "Thomas Thornton",
         2014,
         18.38
        ],
        [
         "Thomas Thornton",
         2015,
         52.51
        ],
        [
         "Thomas Thornton",
         2016,
         60.39
        ],
        [
         "Thomas Thornton",
         2017,
         147.47
        ],
        [
         "Tiffany House",
         2014,
         -2.93
        ],
        [
         "Tiffany House",
         2016,
         70.78
        ],
        [
         "Tiffany House",
         2017,
         24.7
        ],
        [
         "Tim Brockman",
         2014,
         13.81
        ],
        [
         "Tim Brockman",
         2015,
         318.53
        ],
        [
         "Tim Brockman",
         2016,
         -40.36
        ],
        [
         "Tim Brockman",
         2017,
         -31.68
        ],
        [
         "Tim Taslimi",
         2015,
         61.39
        ],
        [
         "Tim Taslimi",
         2016,
         32.53
        ],
        [
         "Toby Braunhardt",
         2014,
         200.15
        ],
        [
         "Toby Braunhardt",
         2016,
         290.98
        ],
        [
         "Toby Carlisle",
         2014,
         402.54
        ],
        [
         "Toby Carlisle",
         2016,
         -27.83
        ],
        [
         "Toby Carlisle",
         2017,
         231.66
        ],
        [
         "Toby Gnade",
         2015,
         -198.33
        ],
        [
         "Toby Gnade",
         2016,
         844.64
        ],
        [
         "Toby Gnade",
         2017,
         35.86
        ],
        [
         "Toby Ritter",
         2014,
         28.52
        ],
        [
         "Toby Ritter",
         2016,
         115.04
        ],
        [
         "Toby Ritter",
         2017,
         76.8
        ],
        [
         "Toby Swindell",
         2014,
         -285.0
        ],
        [
         "Toby Swindell",
         2015,
         92.71
        ],
        [
         "Toby Swindell",
         2017,
         7.29
        ],
        [
         "Todd Boyes",
         2016,
         62.39
        ],
        [
         "Todd Boyes",
         2017,
         206.57
        ],
        [
         "Todd Sumrall",
         2014,
         18.62
        ],
        [
         "Todd Sumrall",
         2015,
         1135.1
        ],
        [
         "Todd Sumrall",
         2017,
         1218.01
        ],
        [
         "Tom Ashbrook",
         2014,
         180.52
        ],
        [
         "Tom Ashbrook",
         2016,
         -76.0
        ],
        [
         "Tom Ashbrook",
         2017,
         4599.21
        ],
        [
         "Tom Boeckenhauer",
         2014,
         2567.33
        ],
        [
         "Tom Boeckenhauer",
         2016,
         12.18
        ],
        [
         "Tom Boeckenhauer",
         2017,
         218.55
        ],
        [
         "Tom Prescott",
         2015,
         64.52
        ],
        [
         "Tom Prescott",
         2016,
         -91.11
        ],
        [
         "Tom Prescott",
         2017,
         -1060.79
        ],
        [
         "Tom Stivers",
         2014,
         17.14
        ],
        [
         "Tom Stivers",
         2016,
         17.05
        ],
        [
         "Tom Stivers",
         2017,
         14.71
        ],
        [
         "Tonja Turnell",
         2015,
         281.0
        ],
        [
         "Tonja Turnell",
         2016,
         2.4
        ],
        [
         "Tonja Turnell",
         2017,
         840.98
        ],
        [
         "Tony Chapman",
         2014,
         -16.47
        ],
        [
         "Tony Chapman",
         2015,
         27.0
        ],
        [
         "Tony Chapman",
         2016,
         32.39
        ],
        [
         "Tony Chapman",
         2017,
         76.21
        ],
        [
         "Tony Molinari",
         2017,
         292.53
        ],
        [
         "Tracy Blumstein",
         2014,
         -125.24
        ],
        [
         "Tracy Blumstein",
         2015,
         -1524.02
        ],
        [
         "Tracy Blumstein",
         2016,
         3.95
        ],
        [
         "Tracy Blumstein",
         2017,
         42.26
        ],
        [
         "Tracy Collins",
         2014,
         3.36
        ],
        [
         "Tracy Collins",
         2015,
         30.65
        ],
        [
         "Tracy Collins",
         2016,
         161.53
        ],
        [
         "Tracy Collins",
         2017,
         22.41
        ],
        [
         "Tracy Hopkins",
         2014,
         26.63
        ],
        [
         "Tracy Hopkins",
         2015,
         391.56
        ],
        [
         "Tracy Hopkins",
         2017,
         -990.17
        ],
        [
         "Tracy Poddar",
         2015,
         34.74
        ],
        [
         "Tracy Poddar",
         2016,
         104.74
        ],
        [
         "Tracy Poddar",
         2017,
         -0.04
        ],
        [
         "Tracy Zic",
         2014,
         132.3
        ],
        [
         "Tracy Zic",
         2015,
         15.28
        ],
        [
         "Tracy Zic",
         2016,
         75.98
        ],
        [
         "Tracy Zic",
         2017,
         1.34
        ],
        [
         "Troy Blackwell",
         2014,
         6.75
        ],
        [
         "Troy Blackwell",
         2016,
         -144.59
        ],
        [
         "Troy Blackwell",
         2017,
         1.37
        ],
        [
         "Troy Staebel",
         2014,
         -227.49
        ],
        [
         "Troy Staebel",
         2016,
         -57.29
        ],
        [
         "Troy Staebel",
         2017,
         -10.11
        ],
        [
         "Trudy Brown",
         2014,
         83.99
        ],
        [
         "Trudy Brown",
         2015,
         -8.47
        ],
        [
         "Trudy Brown",
         2016,
         70.93
        ],
        [
         "Trudy Brown",
         2017,
         233.36
        ],
        [
         "Trudy Glocke",
         2014,
         89.42
        ],
        [
         "Trudy Glocke",
         2015,
         191.28
        ],
        [
         "Trudy Glocke",
         2017,
         84.42
        ],
        [
         "Trudy Schmidt",
         2015,
         -34.09
        ],
        [
         "Trudy Schmidt",
         2016,
         364.87
        ],
        [
         "Trudy Schmidt",
         2017,
         -110.05
        ],
        [
         "Valerie Dominguez",
         2014,
         576.56
        ],
        [
         "Valerie Dominguez",
         2015,
         990.86
        ],
        [
         "Valerie Dominguez",
         2016,
         50.19
        ],
        [
         "Valerie Mitchum",
         2014,
         78.23
        ],
        [
         "Valerie Mitchum",
         2015,
         -3.71
        ],
        [
         "Valerie Mitchum",
         2016,
         371.7
        ],
        [
         "Valerie Mitchum",
         2017,
         67.41
        ],
        [
         "Valerie Takahito",
         2014,
         33.0
        ],
        [
         "Valerie Takahito",
         2015,
         -257.93
        ],
        [
         "Vicky Freymann",
         2014,
         -158.76
        ],
        [
         "Vicky Freymann",
         2017,
         62.48
        ],
        [
         "Victor Preis",
         2015,
         8.93
        ],
        [
         "Victor Preis",
         2017,
         196.46
        ],
        [
         "Victoria Brennan",
         2015,
         84.62
        ],
        [
         "Victoria Brennan",
         2016,
         105.42
        ],
        [
         "Victoria Brennan",
         2017,
         181.21
        ],
        [
         "Victoria Pisteka",
         2014,
         118.07
        ],
        [
         "Victoria Pisteka",
         2015,
         -204.15
        ],
        [
         "Victoria Pisteka",
         2016,
         31.65
        ],
        [
         "Victoria Pisteka",
         2017,
         -964.48
        ],
        [
         "Victoria Wilson",
         2014,
         -65.32
        ],
        [
         "Victoria Wilson",
         2015,
         -1186.41
        ],
        [
         "Victoria Wilson",
         2016,
         -188.81
        ],
        [
         "Victoria Wilson",
         2017,
         565.88
        ],
        [
         "Vivek Gonzalez",
         2014,
         19.54
        ],
        [
         "Vivek Gonzalez",
         2016,
         18.48
        ],
        [
         "Vivek Gonzalez",
         2017,
         106.1
        ],
        [
         "Vivek Grady",
         2014,
         -82.88
        ],
        [
         "Vivek Grady",
         2016,
         28.14
        ],
        [
         "Vivek Grady",
         2017,
         2.41
        ],
        [
         "Vivek Sundaresam",
         2014,
         -72.25
        ],
        [
         "Vivek Sundaresam",
         2015,
         -176.6
        ],
        [
         "Vivek Sundaresam",
         2016,
         -7.81
        ],
        [
         "Vivek Sundaresam",
         2017,
         -6.42
        ],
        [
         "Vivian Mathis",
         2014,
         6.51
        ],
        [
         "Vivian Mathis",
         2016,
         103.16
        ],
        [
         "Vivian Mathis",
         2017,
         6.97
        ],
        [
         "William Brown",
         2014,
         106.42
        ],
        [
         "William Brown",
         2015,
         -87.06
        ],
        [
         "William Brown",
         2016,
         293.65
        ],
        [
         "William Brown",
         2017,
         401.51
        ],
        [
         "Xylona Preis",
         2014,
         202.31
        ],
        [
         "Xylona Preis",
         2015,
         24.85
        ],
        [
         "Xylona Preis",
         2016,
         314.09
        ],
        [
         "Xylona Preis",
         2017,
         80.12
        ],
        [
         "Yana Sorensen",
         2015,
         254.18
        ],
        [
         "Yana Sorensen",
         2017,
         1524.13
        ],
        [
         "Yoseph Carroll",
         2014,
         833.77
        ],
        [
         "Yoseph Carroll",
         2015,
         7.07
        ],
        [
         "Yoseph Carroll",
         2016,
         427.27
        ],
        [
         "Yoseph Carroll",
         2017,
         37.53
        ],
        [
         "Zuschuss Carroll",
         2014,
         328.83
        ],
        [
         "Zuschuss Carroll",
         2015,
         307.48
        ],
        [
         "Zuschuss Carroll",
         2016,
         -1731.01
        ],
        [
         "Zuschuss Carroll",
         2017,
         62.34
        ],
        [
         "Zuschuss Donatelli",
         2014,
         25.49
        ],
        [
         "Zuschuss Donatelli",
         2016,
         206.67
        ],
        [
         "Zuschuss Donatelli",
         2017,
         16.59
        ]
       ],
       "datasetInfos": [],
       "dbfsResultPath": null,
       "isJsonSchema": true,
       "metadata": {},
       "overflow": false,
       "plotOptions": {
        "customPlotOptions": {},
        "displayType": "table",
        "pivotAggregation": null,
        "pivotColumns": null,
        "xColumns": null,
        "yColumns": null
       },
       "removedWidgets": [],
       "schema": [
        {
         "metadata": "{}",
         "name": "customer_name",
         "type": "\"string\""
        },
        {
         "metadata": "{}",
         "name": "year",
         "type": "\"integer\""
        },
        {
         "metadata": "{}",
         "name": "profit",
         "type": "\"double\""
        }
       ],
       "type": "table"
      }
     },
     "output_type": "display_data"
    }
   ],
   "source": [
    "from pyspark.sql import SparkSession"
   ]
  },
  {
   "cell_type": "code",
   "execution_count": 0,
   "metadata": {
    "application/vnd.databricks.v1+cell": {
     "cellMetadata": {
      "byteLimit": 2048000,
      "rowLimit": 10000
     },
     "inputWidgets": {},
     "nuid": "d916dcdd-580e-4c09-b400-69aa4e7c960a",
     "showTitle": false,
     "title": ""
    }
   },
   "outputs": [],
   "source": [
    "    spark = SparkSession.builder \\\n",
    "            .appName(\"testSession\") \\\n",
    "            .getOrCreate()"
   ]
  },
  {
   "cell_type": "code",
   "execution_count": 0,
   "metadata": {
    "application/vnd.databricks.v1+cell": {
     "cellMetadata": {
      "byteLimit": 2048000,
      "rowLimit": 10000
     },
     "inputWidgets": {},
     "nuid": "78b39973-db93-4b7f-ac41-77d836438da7",
     "showTitle": false,
     "title": ""
    }
   },
   "outputs": [],
   "source": [
    "### Validate Product Schema\n",
    "schema = StructType([\n",
    "    StructField(\"Product ID\", StringType(), True),\n",
    "    StructField(\"Category\", StringType(), True),\n",
    "    StructField(\"Sub-Category\", StringType(), True),\n",
    "    StructField(\"Product Name\", StringType(), True),\n",
    "    StructField(\"State\", StringType(), True),\n",
    "    StructField(\"Price per product\", DoubleType(), True),\n",
    "])\n",
    "\n",
    "productData = [(\"P001\", \"Electronics\", \"Mobile\", \"Samsung S23\", \"New York\", 299.99),\n",
    "            (\"P002\", \"Furniture\", \"Chair\", \"Featherlite\", \"California\", 99.99)]\n",
    "\n",
    "df = spark.createDataFrame(productData, schema)"
   ]
  },
  {
   "cell_type": "code",
   "execution_count": 0,
   "metadata": {
    "application/vnd.databricks.v1+cell": {
     "cellMetadata": {
      "byteLimit": 2048000,
      "rowLimit": 10000
     },
     "inputWidgets": {},
     "nuid": "b5ac551f-774b-4f07-89ae-e83bfff10791",
     "showTitle": false,
     "title": ""
    }
   },
   "outputs": [],
   "source": [
    "### Validate Product bronze table\n",
    "\n",
    "schemaName = \"raw\"\n",
    "test_product_raw_df = fetchTableData(schemaName, \"raw_product\")\n",
    "\n",
    "assert test_product_raw_df.count() == product_df.count(), \"Not all records have been loaded in raw table for product file\""
   ]
  },
  {
   "cell_type": "code",
   "execution_count": 0,
   "metadata": {
    "application/vnd.databricks.v1+cell": {
     "cellMetadata": {
      "byteLimit": 2048000,
      "rowLimit": 10000
     },
     "inputWidgets": {},
     "nuid": "2088bee8-a237-4a0d-a288-ad9cce75a35a",
     "showTitle": false,
     "title": ""
    }
   },
   "outputs": [],
   "source": [
    "### Validate Product silver table\n",
    "\n",
    "schemaName = \"enriched\"\n",
    "test_product_enriched_df = fetchTableData(schemaName, \"enriched_product\")\n",
    "\n",
    "assert test_product_enriched_df.count() == product_df.count(), \"Not all records have been loaded in enriched table for product file\""
   ]
  },
  {
   "cell_type": "code",
   "execution_count": 0,
   "metadata": {
    "application/vnd.databricks.v1+cell": {
     "cellMetadata": {
      "byteLimit": 2048000,
      "rowLimit": 10000
     },
     "inputWidgets": {},
     "nuid": "81e4b49e-5234-4992-b9ce-95c1dcba3f7c",
     "showTitle": false,
     "title": ""
    }
   },
   "outputs": [],
   "source": [
    "### Validate Customer Schema\n",
    "\n",
    "expectedCustomerSchema = StructType([\n",
    "    StructField(\"Customer ID\", StringType(), True),\n",
    "    StructField(\"Customer Name\", StringType(), True),\n",
    "    StructField(\"email\", StringType(), True),\n",
    "    StructField(\"phone\", StringType(), True),\n",
    "    StructField(\"address\", StringType(), True),\n",
    "    StructField(\"Segment\", StringType(), True),\n",
    "    StructField(\"Country\", StringType(), True),\n",
    "    StructField(\"City\", StringType(), True),\n",
    "    StructField(\"State\", StringType(), True),\n",
    "   StructField(\"Postal Code\", DoubleType(), True),\n",
    "    StructField(\"Region\", StringType(), True)\n",
    "])\n",
    "\n",
    "data = [(\"C001\", \"Ross Specter\", \"abc@def.com\", \"+91 89876765\", \"5th Street\", \"Consumer\", \"India\",\"Mumbai\", \"Maharashtra\", 12345.0, \"West\"),\n",
    "            (\"C002\", \"Daniel Pinto\", \"ghi@jkl.com\", \"+91 6543567\", \"7th Main\", \"Home Office\", \"India\", \"Bengaluru\", \"Karnataka\", 10034.0, \"South\")]\n",
    "\n",
    "df = spark.createDataFrame(data, expectedCustomerSchema)\n",
    "\n",
    "assert df.schema == customer_df.schema, \"customer schema mismatch\""
   ]
  },
  {
   "cell_type": "code",
   "execution_count": 0,
   "metadata": {
    "application/vnd.databricks.v1+cell": {
     "cellMetadata": {
      "byteLimit": 2048000,
      "rowLimit": 10000
     },
     "inputWidgets": {},
     "nuid": "46435bb6-53e2-42da-843f-2fae959db70a",
     "showTitle": false,
     "title": ""
    }
   },
   "outputs": [],
   "source": [
    "### Validate Customer Table\n",
    "schemaName = \"raw\"\n",
    "customer_raw_df = fetchTableData(schemaName, \"raw_customer\")\n",
    "\n",
    "assert customer_raw_df.count() == customer_df.count(), \"Not all records have been loaded in raw table for customer file\""
   ]
  },
  {
   "cell_type": "code",
   "execution_count": 0,
   "metadata": {
    "application/vnd.databricks.v1+cell": {
     "cellMetadata": {
      "byteLimit": 2048000,
      "rowLimit": 10000
     },
     "inputWidgets": {},
     "nuid": "5062e9a1-078a-4ab5-b8dd-b8763fa087ac",
     "showTitle": false,
     "title": ""
    }
   },
   "outputs": [],
   "source": [
    "### Validate Customer enriched table count\n",
    "\n",
    "schemaName = \"enriched\"\n",
    "test_customer_enriched_df = fetchTableData(schemaName, \"enriched_customer\")\n",
    "assert customer_df.count() == test_customer_enriched_df.count(), \"Not all records have been loaded in enriched table for customer file\""
   ]
  },
  {
   "cell_type": "code",
   "execution_count": 0,
   "metadata": {
    "application/vnd.databricks.v1+cell": {
     "cellMetadata": {
      "byteLimit": 2048000,
      "rowLimit": 10000
     },
     "inputWidgets": {},
     "nuid": "60251c2f-adeb-4571-a0eb-4124bcf3c908",
     "showTitle": false,
     "title": ""
    }
   },
   "outputs": [],
   "source": [
    "expectedOrderSchema = StructType([\n",
    "    StructField(\"Row ID\", IntegerType(), True),\n",
    "    StructField(\"Order ID\", StringType(), True),\n",
    "    StructField(\"Order Date\", StringType(), True),\n",
    "    StructField(\"Ship Date\", StringType(), True),\n",
    "    StructField(\"Ship Mode\", StringType(), True),\n",
    "    StructField(\"Customer ID\", StringType(), True),\n",
    "    StructField(\"Product ID\", StringType(), True),\n",
    "    StructField(\"Quantity\", IntegerType(), True),\n",
    "    StructField(\"Price\", StringType(), True),\n",
    "    StructField(\"Discount\", DoubleType(), True),\n",
    "    StructField(\"Profit\", DoubleType(), True)\n",
    "])\n",
    "\n",
    "data = [(9992,\"CA-2014-140662\",\"17/11/2014\",\"19/11/2014\",\"First Class\",\"TS-21205\",\"OFF-AP-10001242\",3,241.44,0.0,72.432)]\n",
    "\n",
    "df = spark.createDataFrame(data, expectedOrderSchema)\n",
    "\n",
    "assert df.schema == orders_df.schema, \"Orders Schema mismatch\""
   ]
  },
  {
   "cell_type": "code",
   "execution_count": 0,
   "metadata": {
    "application/vnd.databricks.v1+cell": {
     "cellMetadata": {
      "byteLimit": 2048000,
      "rowLimit": 10000
     },
     "inputWidgets": {},
     "nuid": "127577a6-8ea0-4d42-a3bf-a5142bf8ff9a",
     "showTitle": false,
     "title": ""
    }
   },
   "outputs": [],
   "source": [
    "### Validate orders table record count\n",
    "\n",
    "schemaName = \"raw\"\n",
    "orders_raw_df = fetchTableData(schemaName, \"raw_orders\")\n",
    "\n",
    "assert orders_raw_df.count() == orders_df.count(), \"Not all records have been loaded in raw table for orders file\""
   ]
  },
  {
   "cell_type": "code",
   "execution_count": 0,
   "metadata": {
    "application/vnd.databricks.v1+cell": {
     "cellMetadata": {
      "byteLimit": 2048000,
      "rowLimit": 10000
     },
     "inputWidgets": {},
     "nuid": "6db80577-c802-412e-aef5-d76921f850e6",
     "showTitle": false,
     "title": ""
    }
   },
   "outputs": [],
   "source": [
    "### Validate orders table record count in enriched table\n",
    "\n",
    "schemaName = \"enriched\"\n",
    "test_orders_enriched_table_df = fetchTableData(schemaName, \"enriched_orders\")\n",
    "\n",
    "assert orders_df.count() == test_orders_enriched_table_df.count(), \"Not all records have been loaded in enriched table for orders file\""
   ]
  },
  {
   "cell_type": "code",
   "execution_count": 0,
   "metadata": {
    "application/vnd.databricks.v1+cell": {
     "cellMetadata": {
      "byteLimit": 2048000,
      "rowLimit": 10000
     },
     "inputWidgets": {},
     "nuid": "9dad1f47-f35e-4d46-921b-159fefab4949",
     "showTitle": false,
     "title": ""
    }
   },
   "outputs": [],
   "source": [
    "### Validate Profit columns' precision\n",
    "schemaName = \"enriched\"\n",
    "test_orders_enriched_table_df = fetchTableData(schemaName, \"enriched_orders\")\n",
    "\n",
    "rounded_df = test_orders_enriched_table_df.withColumn(\"rounded_profit\", F.round(F.col(\"profit\"), 2))\n",
    "\n",
    "for row in rounded_df.collect():\n",
    "        assert row[\"profit\"] == row[\"rounded_profit\"], f\"Profit value {row['profit']} is not rounded to 2 decimal places.\"\n",
    "\n",
    "rounded_to_one_df = test_orders_enriched_table_df.withColumn(\"rounded_to_one_profit\", F.round(F.col(\"profit\"), 1))\n",
    "\n",
    "incorrectly_rounded = rounded_to_one_df.filter(F.col(\"profit\") != F.col(\"rounded_to_one_profit\"))\n",
    "\n",
    "assert incorrectly_rounded.count() > 0, \"All 'profit' values are rounded\""
   ]
  },
  {
   "cell_type": "code",
   "execution_count": 0,
   "metadata": {
    "application/vnd.databricks.v1+cell": {
     "cellMetadata": {
      "byteLimit": 2048000,
      "rowLimit": 10000
     },
     "inputWidgets": {},
     "nuid": "148bd109-62c3-4ad4-b8f4-6104d1418411",
     "showTitle": false,
     "title": ""
    }
   },
   "outputs": [],
   "source": [
    "### Validate if required customer and product columns exist in the orders enriched table\n",
    "\n",
    "schemaName = \"enriched\"\n",
    "test_orders_enriched_table_df = fetchTableData(schemaName, \"enriched_orders\")\n",
    "\n",
    "required_columns = {\"customer_name\", \"country\", \"category\", \"sub_category\"}\n",
    "\n",
    "assert required_columns.issubset(set(test_orders_enriched_table_df.columns)), f\"Some required columns are missing: {required_columns.difference(test_orders_enriched_table_df.columns)}\""
   ]
  },
  {
   "cell_type": "code",
   "execution_count": 0,
   "metadata": {
    "application/vnd.databricks.v1+cell": {
     "cellMetadata": {
      "byteLimit": 2048000,
      "rowLimit": 10000
     },
     "inputWidgets": {},
     "nuid": "5fb37bb2-9498-42da-b01c-b872183f3984",
     "showTitle": false,
     "title": ""
    }
   },
   "outputs": [],
   "source": [
    "### Validate the aggregation after enrichment layer\n",
    "\n",
    "test_profit_gold_table_df = fetchTableData(\"presentation\", \"gold_profit\")\n",
    "\n",
    "test_orders_enriched_table_df = fetchTableData(\"enriched\", \"enriched_orders\")\n",
    "\n",
    "assert test_orders_enriched_table_df.groupBy(\"customer_id\", \"customer_name\", year(col(\"order_date\")), \"category\", \"sub_category\").sum(\"profit\").count() == test_profit_gold_table_df.count(), \"aggregation mismatch between enriched and presentation tables\"\n",
    "\n"
   ]
  }
 ],
 "metadata": {
  "application/vnd.databricks.v1+notebook": {
   "dashboards": [],
   "environmentMetadata": null,
   "language": "python",
   "notebookMetadata": {
    "mostRecentlyExecutedCommandWithImplicitDF": {
     "commandId": 4014474801937558,
     "dataframes": [
      "_sqldf"
     ]
    },
    "pythonIndentUnit": 4
   },
   "notebookName": "Assignment - Tests",
   "widgets": {}
  }
 },
 "nbformat": 4,
 "nbformat_minor": 0
}
